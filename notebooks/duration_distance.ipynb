{
 "cells": [
  {
   "cell_type": "code",
   "execution_count": 1,
   "metadata": {},
   "outputs": [],
   "source": [
    "import openrouteservice as ors\n",
    "import folium\n",
    "from pandas import DataFrame\n",
    "import pandas as pd\n",
    "import math\n",
    "import time"
   ]
  },
  {
   "cell_type": "code",
   "execution_count": 2,
   "metadata": {},
   "outputs": [],
   "source": [
    "client = ors.Client(key='5b3ce3597851110001cf6248e87222039de944878943e770cf957d7d')"
   ]
  },
  {
   "cell_type": "code",
   "execution_count": 3,
   "metadata": {},
   "outputs": [],
   "source": [
    "raw_dir = '../data/raw/'\n",
    "cur_dir = '../data/curated/'"
   ]
  },
  {
   "cell_type": "code",
   "execution_count": 5,
   "metadata": {},
   "outputs": [],
   "source": [
    "rent = pd.read_csv(\"../rent_data/renew(15)\")\n",
    "rent = rent[:10].reset_index()\n",
    "school = pd.read_csv(f\"{cur_dir}school_df_21_preprocessed.csv\")"
   ]
  },
  {
   "cell_type": "code",
   "execution_count": 6,
   "metadata": {},
   "outputs": [],
   "source": [
    "# type the coordinates u need\n",
    "# coordinates = \n",
    "\"\"\"\n",
    "function: draw route map, return route\n",
    "param datas : map, route\n",
    "\"\"\"\n",
    "def mapping(coordinates, client):\n",
    "    map = folium.Map(location=[37.50, 144.58], tiles='cartodbpositron', zoom_start=13)\n",
    "    route = client.directions(\n",
    "        coordinates=coordinates,\n",
    "        profile='driving-car',\n",
    "        format='geojson',\n",
    "        validate=False,\n",
    "        )\n",
    "    folium.PolyLine(locations=[list(reversed(coord)) for coord in route['features'][0]['geometry']['coordinates']]).add_to(map)\n",
    "    return route, map\n"
   ]
  },
  {
   "cell_type": "code",
   "execution_count": 7,
   "metadata": {},
   "outputs": [],
   "source": [
    "\n",
    "\"\"\"\n",
    "function: calculate coordinates' distance\n",
    "param datas : durations, distances\n",
    "\"\"\"\n",
    "def cal_distance(coordinates, client):\n",
    "    matrix = client.distance_matrix(\n",
    "    locations=coordinates,\n",
    "    profile='driving-car',\n",
    "    metrics=['distance', 'duration'],\n",
    "    validate=False,\n",
    "    )\n",
    "    #time.sleep(2)\n",
    "    return matrix['durations'], matrix['distances']\n",
    "# the unit of distance is m, the unit of durations is seconds\n"
   ]
  },
  {
   "cell_type": "code",
   "execution_count": 23,
   "metadata": {},
   "outputs": [],
   "source": [
    "\n",
    "\"\"\"\n",
    "function: The number of times the code needs to run to the one house and all train stations.\n",
    "param datas : times_i(corresponding i which is in function), times_function\n",
    "\"\"\"\n",
    "#as api only apply 3500 times each time\n",
    "def times(len):\n",
    "    times_i = int(math.sqrt(4))-1\n",
    "    times = math.ceil(len/times_i)\n",
    "    times_function = math.ceil((len+times)/times_i)\n",
    "    return times_i, times_function\n",
    "\n"
   ]
  },
  {
   "cell_type": "code",
   "execution_count": 24,
   "metadata": {},
   "outputs": [
    {
     "name": "stdout",
     "output_type": "stream",
     "text": [
      "([[0.0, 20555.47, 17492.99, 15107.9, 10006.96, 13609.3, 12354.87, 14617.95, 20620.65, 7867.51], [20530.59, 0.0, 9058.34, 14925.26, 12978.31, 7625.33, 10110.5, 7807.89, 22130.72, 13085.37], [17464.36, 9050.9, 0.0, 9655.45, 9650.76, 8124.4, 5506.29, 3578.14, 16860.92, 10019.14], [15278.62, 15087.0, 9724.8, 0.0, 5623.9, 8140.83, 6543.62, 8806.7, 7422.77, 7833.4], [10062.78, 13011.73, 9726.46, 5613.33, 0.0, 6065.56, 4588.34, 6851.42, 12818.8, 2617.56], [13642.54, 7683.17, 8141.32, 8037.21, 6090.26, 0.0, 3222.45, 4842.28, 15242.67, 6197.32], [12427.92, 10187.66, 5482.58, 6455.46, 4614.32, 3241.49, 0.0, 2607.54, 13660.92, 4982.7], [14650.66, 7811.68, 3498.83, 8678.19, 6837.06, 4852.18, 2692.59, 0.0, 15883.66, 7205.44], [20649.11, 22230.75, 16868.55, 7390.88, 12767.65, 15284.58, 13687.37, 15950.45, 0.0, 14977.15], [8000.58, 13209.22, 10146.74, 7761.64, 2660.71, 6263.05, 5008.62, 7271.7, 14967.11, 0.0]], [[0.0, 461953.0, 396237.13, 339189.84, 213709.8, 293650.16, 269775.84, 328039.09, 453876.34, 170822.73], [467189.0, 0.0, 201519.41, 364352.28, 280153.91, 170028.38, 230369.44, 173242.98, 558429.69, 293838.06], [401161.0, 201510.08, 0.0, 214986.58, 216152.34, 163731.23, 127442.16, 71392.74, 409063.97, 227810.06], [343697.0, 364371.81, 214911.33, 0.0, 122544.68, 196068.95, 162734.91, 220998.16, 196258.33, 170346.08], [218728.34, 279873.75, 216591.73, 123194.77, 0.0, 111570.9, 90130.46, 148393.72, 317272.16, 45377.4], [298947.94, 169996.3, 163851.28, 196111.23, 111912.84, 0.0, 62128.38, 88767.84, 390188.63, 125597.0], [277081.13, 230563.33, 127286.74, 164885.88, 92072.45, 62260.48, 0.0, 59088.73, 358963.25, 103730.17], [333274.66, 172574.25, 71070.68, 221079.42, 148266.0, 88769.48, 59555.81, 0.0, 415156.81, 159923.72], [453811.63, 558417.44, 408956.97, 195899.56, 316590.34, 390114.63, 356780.56, 415043.81, 0.0, 364391.72], [171441.31, 293960.78, 228244.91, 171197.63, 45717.57, 125657.92, 101783.63, 160046.89, 365275.0, 0.0]])\n"
     ]
    },
    {
     "ename": "ApiError",
     "evalue": "400 ({'error': {'code': 6003, 'message': \"Parameter 'locations' has incorrect value or format.\"}, 'info': {'engine': {'version': '6.7.0', 'build_date': '2022-02-18T19:37:41Z'}, 'timestamp': 1663471280270}})",
     "output_type": "error",
     "traceback": [
      "\u001b[0;31m---------------------------------------------------------------------------\u001b[0m",
      "\u001b[0;31mApiError\u001b[0m                                  Traceback (most recent call last)",
      "\u001b[1;32m/home/jnniu/Group55/generic-real-estate-consulting-project-group-55/notebooks/duration_distance.ipynb Cell 8\u001b[0m in \u001b[0;36m<cell line: 8>\u001b[0;34m()\u001b[0m\n\u001b[1;32m      <a href='vscode-notebook-cell://wsl%2Bubuntu/home/jnniu/Group55/generic-real-estate-consulting-project-group-55/notebooks/duration_distance.ipynb#X12sdnNjb2RlLXJlbW90ZQ%3D%3D?line=7'>8</a>\u001b[0m \u001b[39mfor\u001b[39;00m k \u001b[39min\u001b[39;00m \u001b[39mrange\u001b[39m(\u001b[39m5\u001b[39m):\n\u001b[1;32m      <a href='vscode-notebook-cell://wsl%2Bubuntu/home/jnniu/Group55/generic-real-estate-consulting-project-group-55/notebooks/duration_distance.ipynb#X12sdnNjb2RlLXJlbW90ZQ%3D%3D?line=8'>9</a>\u001b[0m     coor\u001b[39m.\u001b[39mextend(coordinates[k\u001b[39m*\u001b[39mtimes(\u001b[39mlen\u001b[39m(coordinates))[\u001b[39m0\u001b[39m]:(k\u001b[39m+\u001b[39m\u001b[39m1\u001b[39m)\u001b[39m*\u001b[39mtimes(\u001b[39mlen\u001b[39m(coordinates))[\u001b[39m0\u001b[39m]])\n\u001b[0;32m---> <a href='vscode-notebook-cell://wsl%2Bubuntu/home/jnniu/Group55/generic-real-estate-consulting-project-group-55/notebooks/duration_distance.ipynb#X12sdnNjb2RlLXJlbW90ZQ%3D%3D?line=9'>10</a>\u001b[0m     \u001b[39mprint\u001b[39m(cal_distance(coor, client))\n",
      "\u001b[1;32m/home/jnniu/Group55/generic-real-estate-consulting-project-group-55/notebooks/duration_distance.ipynb Cell 8\u001b[0m in \u001b[0;36mcal_distance\u001b[0;34m(coordinates, client)\u001b[0m\n\u001b[1;32m      <a href='vscode-notebook-cell://wsl%2Bubuntu/home/jnniu/Group55/generic-real-estate-consulting-project-group-55/notebooks/duration_distance.ipynb#X12sdnNjb2RlLXJlbW90ZQ%3D%3D?line=4'>5</a>\u001b[0m \u001b[39mdef\u001b[39;00m \u001b[39mcal_distance\u001b[39m(coordinates, client):\n\u001b[0;32m----> <a href='vscode-notebook-cell://wsl%2Bubuntu/home/jnniu/Group55/generic-real-estate-consulting-project-group-55/notebooks/duration_distance.ipynb#X12sdnNjb2RlLXJlbW90ZQ%3D%3D?line=5'>6</a>\u001b[0m     matrix \u001b[39m=\u001b[39m client\u001b[39m.\u001b[39;49mdistance_matrix(\n\u001b[1;32m      <a href='vscode-notebook-cell://wsl%2Bubuntu/home/jnniu/Group55/generic-real-estate-consulting-project-group-55/notebooks/duration_distance.ipynb#X12sdnNjb2RlLXJlbW90ZQ%3D%3D?line=6'>7</a>\u001b[0m     locations\u001b[39m=\u001b[39;49mcoordinates,\n\u001b[1;32m      <a href='vscode-notebook-cell://wsl%2Bubuntu/home/jnniu/Group55/generic-real-estate-consulting-project-group-55/notebooks/duration_distance.ipynb#X12sdnNjb2RlLXJlbW90ZQ%3D%3D?line=7'>8</a>\u001b[0m     profile\u001b[39m=\u001b[39;49m\u001b[39m'\u001b[39;49m\u001b[39mdriving-car\u001b[39;49m\u001b[39m'\u001b[39;49m,\n\u001b[1;32m      <a href='vscode-notebook-cell://wsl%2Bubuntu/home/jnniu/Group55/generic-real-estate-consulting-project-group-55/notebooks/duration_distance.ipynb#X12sdnNjb2RlLXJlbW90ZQ%3D%3D?line=8'>9</a>\u001b[0m     metrics\u001b[39m=\u001b[39;49m[\u001b[39m'\u001b[39;49m\u001b[39mdistance\u001b[39;49m\u001b[39m'\u001b[39;49m, \u001b[39m'\u001b[39;49m\u001b[39mduration\u001b[39;49m\u001b[39m'\u001b[39;49m],\n\u001b[1;32m     <a href='vscode-notebook-cell://wsl%2Bubuntu/home/jnniu/Group55/generic-real-estate-consulting-project-group-55/notebooks/duration_distance.ipynb#X12sdnNjb2RlLXJlbW90ZQ%3D%3D?line=9'>10</a>\u001b[0m     validate\u001b[39m=\u001b[39;49m\u001b[39mFalse\u001b[39;49;00m,\n\u001b[1;32m     <a href='vscode-notebook-cell://wsl%2Bubuntu/home/jnniu/Group55/generic-real-estate-consulting-project-group-55/notebooks/duration_distance.ipynb#X12sdnNjb2RlLXJlbW90ZQ%3D%3D?line=10'>11</a>\u001b[0m     )\n\u001b[1;32m     <a href='vscode-notebook-cell://wsl%2Bubuntu/home/jnniu/Group55/generic-real-estate-consulting-project-group-55/notebooks/duration_distance.ipynb#X12sdnNjb2RlLXJlbW90ZQ%3D%3D?line=11'>12</a>\u001b[0m     \u001b[39m#time.sleep(2)\u001b[39;00m\n\u001b[1;32m     <a href='vscode-notebook-cell://wsl%2Bubuntu/home/jnniu/Group55/generic-real-estate-consulting-project-group-55/notebooks/duration_distance.ipynb#X12sdnNjb2RlLXJlbW90ZQ%3D%3D?line=12'>13</a>\u001b[0m     \u001b[39mreturn\u001b[39;00m matrix[\u001b[39m'\u001b[39m\u001b[39mdurations\u001b[39m\u001b[39m'\u001b[39m], matrix[\u001b[39m'\u001b[39m\u001b[39mdistances\u001b[39m\u001b[39m'\u001b[39m]\n",
      "File \u001b[0;32m~/miniconda3/envs/group55/lib/python3.8/site-packages/openrouteservice/client.py:299\u001b[0m, in \u001b[0;36m_make_api_method.<locals>.wrapper\u001b[0;34m(*args, **kwargs)\u001b[0m\n\u001b[1;32m    296\u001b[0m \u001b[39m@functools\u001b[39m\u001b[39m.\u001b[39mwraps(func)\n\u001b[1;32m    297\u001b[0m \u001b[39mdef\u001b[39;00m \u001b[39mwrapper\u001b[39m(\u001b[39m*\u001b[39margs, \u001b[39m*\u001b[39m\u001b[39m*\u001b[39mkwargs):\n\u001b[1;32m    298\u001b[0m     args[\u001b[39m0\u001b[39m]\u001b[39m.\u001b[39m_extra_params \u001b[39m=\u001b[39m kwargs\u001b[39m.\u001b[39mpop(\u001b[39m\"\u001b[39m\u001b[39mextra_params\u001b[39m\u001b[39m\"\u001b[39m, \u001b[39mNone\u001b[39;00m)\n\u001b[0;32m--> 299\u001b[0m     result \u001b[39m=\u001b[39m func(\u001b[39m*\u001b[39;49margs, \u001b[39m*\u001b[39;49m\u001b[39m*\u001b[39;49mkwargs)\n\u001b[1;32m    300\u001b[0m     \u001b[39mtry\u001b[39;00m:\n\u001b[1;32m    301\u001b[0m         \u001b[39mdel\u001b[39;00m args[\u001b[39m0\u001b[39m]\u001b[39m.\u001b[39m_extra_params\n",
      "File \u001b[0;32m~/miniconda3/envs/group55/lib/python3.8/site-packages/openrouteservice/distance_matrix.py:116\u001b[0m, in \u001b[0;36mdistance_matrix\u001b[0;34m(client, locations, profile, sources, destinations, metrics, resolve_locations, units, optimized, validate, dry_run)\u001b[0m\n\u001b[1;32m    113\u001b[0m \u001b[39mif\u001b[39;00m optimized \u001b[39mis\u001b[39;00m \u001b[39mnot\u001b[39;00m \u001b[39mNone\u001b[39;00m:\n\u001b[1;32m    114\u001b[0m     params[\u001b[39m\"\u001b[39m\u001b[39moptimized\u001b[39m\u001b[39m\"\u001b[39m] \u001b[39m=\u001b[39m optimized\n\u001b[0;32m--> 116\u001b[0m \u001b[39mreturn\u001b[39;00m client\u001b[39m.\u001b[39;49mrequest(\u001b[39m\"\u001b[39;49m\u001b[39m/v2/matrix/\u001b[39;49m\u001b[39m\"\u001b[39;49m \u001b[39m+\u001b[39;49m profile \u001b[39m+\u001b[39;49m \u001b[39m'\u001b[39;49m\u001b[39m/json\u001b[39;49m\u001b[39m'\u001b[39;49m, {}, post_json\u001b[39m=\u001b[39;49mparams, dry_run\u001b[39m=\u001b[39;49mdry_run)\n",
      "File \u001b[0;32m~/miniconda3/envs/group55/lib/python3.8/site-packages/openrouteservice/client.py:204\u001b[0m, in \u001b[0;36mClient.request\u001b[0;34m(self, url, get_params, first_request_time, retry_counter, requests_kwargs, post_json, dry_run)\u001b[0m\n\u001b[1;32m    200\u001b[0m     \u001b[39mreturn\u001b[39;00m \u001b[39mself\u001b[39m\u001b[39m.\u001b[39mrequest(url, get_params, first_request_time,\n\u001b[1;32m    201\u001b[0m                         retry_counter \u001b[39m+\u001b[39m \u001b[39m1\u001b[39m, requests_kwargs, post_json)\n\u001b[1;32m    203\u001b[0m \u001b[39mtry\u001b[39;00m:\n\u001b[0;32m--> 204\u001b[0m     result \u001b[39m=\u001b[39m \u001b[39mself\u001b[39;49m\u001b[39m.\u001b[39;49m_get_body(response)\n\u001b[1;32m    206\u001b[0m     \u001b[39mreturn\u001b[39;00m result\n\u001b[1;32m    207\u001b[0m \u001b[39mexcept\u001b[39;00m exceptions\u001b[39m.\u001b[39m_RetriableRequest \u001b[39mas\u001b[39;00m e:\n",
      "File \u001b[0;32m~/miniconda3/envs/group55/lib/python3.8/site-packages/openrouteservice/client.py:242\u001b[0m, in \u001b[0;36mClient._get_body\u001b[0;34m(response)\u001b[0m\n\u001b[1;32m    237\u001b[0m     \u001b[39mraise\u001b[39;00m exceptions\u001b[39m.\u001b[39m_OverQueryLimit(\n\u001b[1;32m    238\u001b[0m         status_code,\n\u001b[1;32m    239\u001b[0m         body\n\u001b[1;32m    240\u001b[0m     )\n\u001b[1;32m    241\u001b[0m \u001b[39mif\u001b[39;00m status_code \u001b[39m!=\u001b[39m \u001b[39m200\u001b[39m:\n\u001b[0;32m--> 242\u001b[0m     \u001b[39mraise\u001b[39;00m exceptions\u001b[39m.\u001b[39mApiError(\n\u001b[1;32m    243\u001b[0m         status_code,\n\u001b[1;32m    244\u001b[0m         body\n\u001b[1;32m    245\u001b[0m     )\n\u001b[1;32m    247\u001b[0m \u001b[39mreturn\u001b[39;00m body\n",
      "\u001b[0;31mApiError\u001b[0m: 400 ({'error': {'code': 6003, 'message': \"Parameter 'locations' has incorrect value or format.\"}, 'info': {'engine': {'version': '6.7.0', 'build_date': '2022-02-18T19:37:41Z'}, 'timestamp': 1663471280270}})"
     ]
    }
   ],
   "source": [
    "coordinates = []\n",
    "coor = []\n",
    "for j in range(10):\n",
    "    coordinates.append([school[\"X\"][j], school[\"Y\"][j]])\n",
    "\n",
    "print(cal_distance(coordinates, client))\n",
    "#print(coordinates)\n",
    "for k in range(5):\n",
    "    coor.extend(coordinates[k*times(len(coordinates))[0]:(k+1)*times(len(coordinates))[0]])\n",
    "    print(cal_distance(coor, client))\n",
    "    #print(coordinates[k*times(len(coordinates))[0]:(k+1)*times(len(coordinates))[0]])\n"
   ]
  },
  {
   "cell_type": "code",
   "execution_count": 23,
   "metadata": {},
   "outputs": [],
   "source": [
    "\"\"\"\n",
    "function: Find the nearest site to rent \n",
    "param datas : rent_address, stop_name, min_distance, min_duration\n",
    "\"\"\"\n",
    "def get_coordinates(rent, school):\n",
    "    rent_address = []\n",
    "    school_name = []\n",
    "    min_distance = []\n",
    "    min_duration = []\n",
    "    for i in range(len(rent)):\n",
    "        coordinates = []\n",
    "        distances = []\n",
    "        durations = []\n",
    "        for j in range(len(school)):\n",
    "            coordinates.append([school[\"X\"][j], school[\"Y\"][j]])\n",
    "        for k in range(times(len(school))[1]):\n",
    "            coor_part = []\n",
    "            coor_part.append([rent[\"longitude\"][i], rent[\"latitude\"][i]])\n",
    "            coor_part.extend(coordinates[k*times(len(coordinates))[0]:(k+1)*times(len(coordinates))[0]])\n",
    "            #matrix = cal_distance(coor_part, client)\n",
    "            distances = cal_distance(coor_part, client)[1]\n",
    "            durations = cal_distance(coor_part, client)[0]\n",
    "        index = distances.index(min(distances))\n",
    "        rent_address.append(rent['listingSlug'][i])\n",
    "        school_name.append(school['School_Name'][index])\n",
    "        min_distance.append(distances[index])\n",
    "        min_duration.append(durations[index])\n",
    "    return rent_address, school_name, min_distance, min_duration\n"
   ]
  },
  {
   "cell_type": "code",
   "execution_count": 31,
   "metadata": {},
   "outputs": [
    {
     "name": "stderr",
     "output_type": "stream",
     "text": [
      "/home/jnniu/miniconda3/envs/group55/lib/python3.8/site-packages/openrouteservice/client.py:211: UserWarning: Rate limit exceeded. Retrying for the 1st time.\n",
      "  warnings.warn('Rate limit exceeded. Retrying for the {0}{1} time.'.format(retry_counter + 1,\n",
      "/home/jnniu/miniconda3/envs/group55/lib/python3.8/site-packages/openrouteservice/client.py:211: UserWarning: Rate limit exceeded. Retrying for the 2nd time.\n",
      "  warnings.warn('Rate limit exceeded. Retrying for the {0}{1} time.'.format(retry_counter + 1,\n",
      "/home/jnniu/miniconda3/envs/group55/lib/python3.8/site-packages/openrouteservice/client.py:211: UserWarning: Rate limit exceeded. Retrying for the 3rd time.\n",
      "  warnings.warn('Rate limit exceeded. Retrying for the {0}{1} time.'.format(retry_counter + 1,\n",
      "/home/jnniu/miniconda3/envs/group55/lib/python3.8/site-packages/openrouteservice/client.py:211: UserWarning: Rate limit exceeded. Retrying for the 4th time.\n",
      "  warnings.warn('Rate limit exceeded. Retrying for the {0}{1} time.'.format(retry_counter + 1,\n",
      "/home/jnniu/miniconda3/envs/group55/lib/python3.8/site-packages/openrouteservice/client.py:211: UserWarning: Rate limit exceeded. Retrying for the 5th time.\n",
      "  warnings.warn('Rate limit exceeded. Retrying for the {0}{1} time.'.format(retry_counter + 1,\n",
      "/home/jnniu/miniconda3/envs/group55/lib/python3.8/site-packages/openrouteservice/client.py:211: UserWarning: Rate limit exceeded. Retrying for the 6th time.\n",
      "  warnings.warn('Rate limit exceeded. Retrying for the {0}{1} time.'.format(retry_counter + 1,\n",
      "/home/jnniu/miniconda3/envs/group55/lib/python3.8/site-packages/openrouteservice/client.py:211: UserWarning: Rate limit exceeded. Retrying for the 7th time.\n",
      "  warnings.warn('Rate limit exceeded. Retrying for the {0}{1} time.'.format(retry_counter + 1,\n",
      "/home/jnniu/miniconda3/envs/group55/lib/python3.8/site-packages/openrouteservice/client.py:211: UserWarning: Rate limit exceeded. Retrying for the 8th time.\n",
      "  warnings.warn('Rate limit exceeded. Retrying for the {0}{1} time.'.format(retry_counter + 1,\n"
     ]
    },
    {
     "ename": "Timeout",
     "evalue": "",
     "output_type": "error",
     "traceback": [
      "\u001b[0;31m---------------------------------------------------------------------------\u001b[0m",
      "\u001b[0;31mtimeout\u001b[0m                                   Traceback (most recent call last)",
      "File \u001b[0;32m~/miniconda3/envs/group55/lib/python3.8/site-packages/urllib3/connectionpool.py:449\u001b[0m, in \u001b[0;36mHTTPConnectionPool._make_request\u001b[0;34m(self, conn, method, url, timeout, chunked, **httplib_request_kw)\u001b[0m\n\u001b[1;32m    445\u001b[0m         \u001b[39mexcept\u001b[39;00m \u001b[39mBaseException\u001b[39;00m \u001b[39mas\u001b[39;00m e:\n\u001b[1;32m    446\u001b[0m             \u001b[39m# Remove the TypeError from the exception chain in\u001b[39;00m\n\u001b[1;32m    447\u001b[0m             \u001b[39m# Python 3 (including for exceptions like SystemExit).\u001b[39;00m\n\u001b[1;32m    448\u001b[0m             \u001b[39m# Otherwise it looks like a bug in the code.\u001b[39;00m\n\u001b[0;32m--> 449\u001b[0m             six\u001b[39m.\u001b[39;49mraise_from(e, \u001b[39mNone\u001b[39;49;00m)\n\u001b[1;32m    450\u001b[0m \u001b[39mexcept\u001b[39;00m (SocketTimeout, BaseSSLError, SocketError) \u001b[39mas\u001b[39;00m e:\n",
      "File \u001b[0;32m<string>:3\u001b[0m, in \u001b[0;36mraise_from\u001b[0;34m(value, from_value)\u001b[0m\n",
      "File \u001b[0;32m~/miniconda3/envs/group55/lib/python3.8/site-packages/urllib3/connectionpool.py:444\u001b[0m, in \u001b[0;36mHTTPConnectionPool._make_request\u001b[0;34m(self, conn, method, url, timeout, chunked, **httplib_request_kw)\u001b[0m\n\u001b[1;32m    443\u001b[0m \u001b[39mtry\u001b[39;00m:\n\u001b[0;32m--> 444\u001b[0m     httplib_response \u001b[39m=\u001b[39m conn\u001b[39m.\u001b[39;49mgetresponse()\n\u001b[1;32m    445\u001b[0m \u001b[39mexcept\u001b[39;00m \u001b[39mBaseException\u001b[39;00m \u001b[39mas\u001b[39;00m e:\n\u001b[1;32m    446\u001b[0m     \u001b[39m# Remove the TypeError from the exception chain in\u001b[39;00m\n\u001b[1;32m    447\u001b[0m     \u001b[39m# Python 3 (including for exceptions like SystemExit).\u001b[39;00m\n\u001b[1;32m    448\u001b[0m     \u001b[39m# Otherwise it looks like a bug in the code.\u001b[39;00m\n",
      "File \u001b[0;32m~/miniconda3/envs/group55/lib/python3.8/http/client.py:1348\u001b[0m, in \u001b[0;36mHTTPConnection.getresponse\u001b[0;34m(self)\u001b[0m\n\u001b[1;32m   1347\u001b[0m \u001b[39mtry\u001b[39;00m:\n\u001b[0;32m-> 1348\u001b[0m     response\u001b[39m.\u001b[39;49mbegin()\n\u001b[1;32m   1349\u001b[0m \u001b[39mexcept\u001b[39;00m \u001b[39mConnectionError\u001b[39;00m:\n",
      "File \u001b[0;32m~/miniconda3/envs/group55/lib/python3.8/http/client.py:316\u001b[0m, in \u001b[0;36mHTTPResponse.begin\u001b[0;34m(self)\u001b[0m\n\u001b[1;32m    315\u001b[0m \u001b[39mwhile\u001b[39;00m \u001b[39mTrue\u001b[39;00m:\n\u001b[0;32m--> 316\u001b[0m     version, status, reason \u001b[39m=\u001b[39m \u001b[39mself\u001b[39;49m\u001b[39m.\u001b[39;49m_read_status()\n\u001b[1;32m    317\u001b[0m     \u001b[39mif\u001b[39;00m status \u001b[39m!=\u001b[39m CONTINUE:\n",
      "File \u001b[0;32m~/miniconda3/envs/group55/lib/python3.8/http/client.py:277\u001b[0m, in \u001b[0;36mHTTPResponse._read_status\u001b[0;34m(self)\u001b[0m\n\u001b[1;32m    276\u001b[0m \u001b[39mdef\u001b[39;00m \u001b[39m_read_status\u001b[39m(\u001b[39mself\u001b[39m):\n\u001b[0;32m--> 277\u001b[0m     line \u001b[39m=\u001b[39m \u001b[39mstr\u001b[39m(\u001b[39mself\u001b[39;49m\u001b[39m.\u001b[39;49mfp\u001b[39m.\u001b[39;49mreadline(_MAXLINE \u001b[39m+\u001b[39;49m \u001b[39m1\u001b[39;49m), \u001b[39m\"\u001b[39m\u001b[39miso-8859-1\u001b[39m\u001b[39m\"\u001b[39m)\n\u001b[1;32m    278\u001b[0m     \u001b[39mif\u001b[39;00m \u001b[39mlen\u001b[39m(line) \u001b[39m>\u001b[39m _MAXLINE:\n",
      "File \u001b[0;32m~/miniconda3/envs/group55/lib/python3.8/socket.py:669\u001b[0m, in \u001b[0;36mSocketIO.readinto\u001b[0;34m(self, b)\u001b[0m\n\u001b[1;32m    668\u001b[0m \u001b[39mtry\u001b[39;00m:\n\u001b[0;32m--> 669\u001b[0m     \u001b[39mreturn\u001b[39;00m \u001b[39mself\u001b[39;49m\u001b[39m.\u001b[39;49m_sock\u001b[39m.\u001b[39;49mrecv_into(b)\n\u001b[1;32m    670\u001b[0m \u001b[39mexcept\u001b[39;00m timeout:\n",
      "File \u001b[0;32m~/miniconda3/envs/group55/lib/python3.8/ssl.py:1241\u001b[0m, in \u001b[0;36mSSLSocket.recv_into\u001b[0;34m(self, buffer, nbytes, flags)\u001b[0m\n\u001b[1;32m   1238\u001b[0m         \u001b[39mraise\u001b[39;00m \u001b[39mValueError\u001b[39;00m(\n\u001b[1;32m   1239\u001b[0m           \u001b[39m\"\u001b[39m\u001b[39mnon-zero flags not allowed in calls to recv_into() on \u001b[39m\u001b[39m%s\u001b[39;00m\u001b[39m\"\u001b[39m \u001b[39m%\u001b[39m\n\u001b[1;32m   1240\u001b[0m           \u001b[39mself\u001b[39m\u001b[39m.\u001b[39m\u001b[39m__class__\u001b[39m)\n\u001b[0;32m-> 1241\u001b[0m     \u001b[39mreturn\u001b[39;00m \u001b[39mself\u001b[39;49m\u001b[39m.\u001b[39;49mread(nbytes, buffer)\n\u001b[1;32m   1242\u001b[0m \u001b[39melse\u001b[39;00m:\n",
      "File \u001b[0;32m~/miniconda3/envs/group55/lib/python3.8/ssl.py:1099\u001b[0m, in \u001b[0;36mSSLSocket.read\u001b[0;34m(self, len, buffer)\u001b[0m\n\u001b[1;32m   1098\u001b[0m \u001b[39mif\u001b[39;00m buffer \u001b[39mis\u001b[39;00m \u001b[39mnot\u001b[39;00m \u001b[39mNone\u001b[39;00m:\n\u001b[0;32m-> 1099\u001b[0m     \u001b[39mreturn\u001b[39;00m \u001b[39mself\u001b[39;49m\u001b[39m.\u001b[39;49m_sslobj\u001b[39m.\u001b[39;49mread(\u001b[39mlen\u001b[39;49m, buffer)\n\u001b[1;32m   1100\u001b[0m \u001b[39melse\u001b[39;00m:\n",
      "\u001b[0;31mtimeout\u001b[0m: The read operation timed out",
      "\nDuring handling of the above exception, another exception occurred:\n",
      "\u001b[0;31mReadTimeoutError\u001b[0m                          Traceback (most recent call last)",
      "File \u001b[0;32m~/miniconda3/envs/group55/lib/python3.8/site-packages/requests/adapters.py:489\u001b[0m, in \u001b[0;36mHTTPAdapter.send\u001b[0;34m(self, request, stream, timeout, verify, cert, proxies)\u001b[0m\n\u001b[1;32m    488\u001b[0m \u001b[39mif\u001b[39;00m \u001b[39mnot\u001b[39;00m chunked:\n\u001b[0;32m--> 489\u001b[0m     resp \u001b[39m=\u001b[39m conn\u001b[39m.\u001b[39;49murlopen(\n\u001b[1;32m    490\u001b[0m         method\u001b[39m=\u001b[39;49mrequest\u001b[39m.\u001b[39;49mmethod,\n\u001b[1;32m    491\u001b[0m         url\u001b[39m=\u001b[39;49murl,\n\u001b[1;32m    492\u001b[0m         body\u001b[39m=\u001b[39;49mrequest\u001b[39m.\u001b[39;49mbody,\n\u001b[1;32m    493\u001b[0m         headers\u001b[39m=\u001b[39;49mrequest\u001b[39m.\u001b[39;49mheaders,\n\u001b[1;32m    494\u001b[0m         redirect\u001b[39m=\u001b[39;49m\u001b[39mFalse\u001b[39;49;00m,\n\u001b[1;32m    495\u001b[0m         assert_same_host\u001b[39m=\u001b[39;49m\u001b[39mFalse\u001b[39;49;00m,\n\u001b[1;32m    496\u001b[0m         preload_content\u001b[39m=\u001b[39;49m\u001b[39mFalse\u001b[39;49;00m,\n\u001b[1;32m    497\u001b[0m         decode_content\u001b[39m=\u001b[39;49m\u001b[39mFalse\u001b[39;49;00m,\n\u001b[1;32m    498\u001b[0m         retries\u001b[39m=\u001b[39;49m\u001b[39mself\u001b[39;49m\u001b[39m.\u001b[39;49mmax_retries,\n\u001b[1;32m    499\u001b[0m         timeout\u001b[39m=\u001b[39;49mtimeout,\n\u001b[1;32m    500\u001b[0m     )\n\u001b[1;32m    502\u001b[0m \u001b[39m# Send the request.\u001b[39;00m\n\u001b[1;32m    503\u001b[0m \u001b[39melse\u001b[39;00m:\n",
      "File \u001b[0;32m~/miniconda3/envs/group55/lib/python3.8/site-packages/urllib3/connectionpool.py:787\u001b[0m, in \u001b[0;36mHTTPConnectionPool.urlopen\u001b[0;34m(self, method, url, body, headers, retries, redirect, assert_same_host, timeout, pool_timeout, release_conn, chunked, body_pos, **response_kw)\u001b[0m\n\u001b[1;32m    785\u001b[0m     e \u001b[39m=\u001b[39m ProtocolError(\u001b[39m\"\u001b[39m\u001b[39mConnection aborted.\u001b[39m\u001b[39m\"\u001b[39m, e)\n\u001b[0;32m--> 787\u001b[0m retries \u001b[39m=\u001b[39m retries\u001b[39m.\u001b[39;49mincrement(\n\u001b[1;32m    788\u001b[0m     method, url, error\u001b[39m=\u001b[39;49me, _pool\u001b[39m=\u001b[39;49m\u001b[39mself\u001b[39;49m, _stacktrace\u001b[39m=\u001b[39;49msys\u001b[39m.\u001b[39;49mexc_info()[\u001b[39m2\u001b[39;49m]\n\u001b[1;32m    789\u001b[0m )\n\u001b[1;32m    790\u001b[0m retries\u001b[39m.\u001b[39msleep()\n",
      "File \u001b[0;32m~/miniconda3/envs/group55/lib/python3.8/site-packages/urllib3/util/retry.py:550\u001b[0m, in \u001b[0;36mRetry.increment\u001b[0;34m(self, method, url, response, error, _pool, _stacktrace)\u001b[0m\n\u001b[1;32m    549\u001b[0m \u001b[39mif\u001b[39;00m read \u001b[39mis\u001b[39;00m \u001b[39mFalse\u001b[39;00m \u001b[39mor\u001b[39;00m \u001b[39mnot\u001b[39;00m \u001b[39mself\u001b[39m\u001b[39m.\u001b[39m_is_method_retryable(method):\n\u001b[0;32m--> 550\u001b[0m     \u001b[39mraise\u001b[39;00m six\u001b[39m.\u001b[39;49mreraise(\u001b[39mtype\u001b[39;49m(error), error, _stacktrace)\n\u001b[1;32m    551\u001b[0m \u001b[39melif\u001b[39;00m read \u001b[39mis\u001b[39;00m \u001b[39mnot\u001b[39;00m \u001b[39mNone\u001b[39;00m:\n",
      "File \u001b[0;32m~/miniconda3/envs/group55/lib/python3.8/site-packages/urllib3/packages/six.py:770\u001b[0m, in \u001b[0;36mreraise\u001b[0;34m(tp, value, tb)\u001b[0m\n\u001b[1;32m    769\u001b[0m         \u001b[39mraise\u001b[39;00m value\u001b[39m.\u001b[39mwith_traceback(tb)\n\u001b[0;32m--> 770\u001b[0m     \u001b[39mraise\u001b[39;00m value\n\u001b[1;32m    771\u001b[0m \u001b[39mfinally\u001b[39;00m:\n",
      "File \u001b[0;32m~/miniconda3/envs/group55/lib/python3.8/site-packages/urllib3/connectionpool.py:703\u001b[0m, in \u001b[0;36mHTTPConnectionPool.urlopen\u001b[0;34m(self, method, url, body, headers, retries, redirect, assert_same_host, timeout, pool_timeout, release_conn, chunked, body_pos, **response_kw)\u001b[0m\n\u001b[1;32m    702\u001b[0m \u001b[39m# Make the request on the httplib connection object.\u001b[39;00m\n\u001b[0;32m--> 703\u001b[0m httplib_response \u001b[39m=\u001b[39m \u001b[39mself\u001b[39;49m\u001b[39m.\u001b[39;49m_make_request(\n\u001b[1;32m    704\u001b[0m     conn,\n\u001b[1;32m    705\u001b[0m     method,\n\u001b[1;32m    706\u001b[0m     url,\n\u001b[1;32m    707\u001b[0m     timeout\u001b[39m=\u001b[39;49mtimeout_obj,\n\u001b[1;32m    708\u001b[0m     body\u001b[39m=\u001b[39;49mbody,\n\u001b[1;32m    709\u001b[0m     headers\u001b[39m=\u001b[39;49mheaders,\n\u001b[1;32m    710\u001b[0m     chunked\u001b[39m=\u001b[39;49mchunked,\n\u001b[1;32m    711\u001b[0m )\n\u001b[1;32m    713\u001b[0m \u001b[39m# If we're going to release the connection in ``finally:``, then\u001b[39;00m\n\u001b[1;32m    714\u001b[0m \u001b[39m# the response doesn't need to know about the connection. Otherwise\u001b[39;00m\n\u001b[1;32m    715\u001b[0m \u001b[39m# it will also try to release it and we'll have a double-release\u001b[39;00m\n\u001b[1;32m    716\u001b[0m \u001b[39m# mess.\u001b[39;00m\n",
      "File \u001b[0;32m~/miniconda3/envs/group55/lib/python3.8/site-packages/urllib3/connectionpool.py:451\u001b[0m, in \u001b[0;36mHTTPConnectionPool._make_request\u001b[0;34m(self, conn, method, url, timeout, chunked, **httplib_request_kw)\u001b[0m\n\u001b[1;32m    450\u001b[0m \u001b[39mexcept\u001b[39;00m (SocketTimeout, BaseSSLError, SocketError) \u001b[39mas\u001b[39;00m e:\n\u001b[0;32m--> 451\u001b[0m     \u001b[39mself\u001b[39;49m\u001b[39m.\u001b[39;49m_raise_timeout(err\u001b[39m=\u001b[39;49me, url\u001b[39m=\u001b[39;49murl, timeout_value\u001b[39m=\u001b[39;49mread_timeout)\n\u001b[1;32m    452\u001b[0m     \u001b[39mraise\u001b[39;00m\n",
      "File \u001b[0;32m~/miniconda3/envs/group55/lib/python3.8/site-packages/urllib3/connectionpool.py:340\u001b[0m, in \u001b[0;36mHTTPConnectionPool._raise_timeout\u001b[0;34m(self, err, url, timeout_value)\u001b[0m\n\u001b[1;32m    339\u001b[0m \u001b[39mif\u001b[39;00m \u001b[39misinstance\u001b[39m(err, SocketTimeout):\n\u001b[0;32m--> 340\u001b[0m     \u001b[39mraise\u001b[39;00m ReadTimeoutError(\n\u001b[1;32m    341\u001b[0m         \u001b[39mself\u001b[39m, url, \u001b[39m\"\u001b[39m\u001b[39mRead timed out. (read timeout=\u001b[39m\u001b[39m%s\u001b[39;00m\u001b[39m)\u001b[39m\u001b[39m\"\u001b[39m \u001b[39m%\u001b[39m timeout_value\n\u001b[1;32m    342\u001b[0m     )\n\u001b[1;32m    344\u001b[0m \u001b[39m# See the above comment about EAGAIN in Python 3. In Python 2 we have\u001b[39;00m\n\u001b[1;32m    345\u001b[0m \u001b[39m# to specifically catch it and throw the timeout error\u001b[39;00m\n",
      "\u001b[0;31mReadTimeoutError\u001b[0m: HTTPSConnectionPool(host='api.openrouteservice.org', port=443): Read timed out. (read timeout=60)",
      "\nDuring handling of the above exception, another exception occurred:\n",
      "\u001b[0;31mReadTimeout\u001b[0m                               Traceback (most recent call last)",
      "File \u001b[0;32m~/miniconda3/envs/group55/lib/python3.8/site-packages/openrouteservice/client.py:186\u001b[0m, in \u001b[0;36mClient.request\u001b[0;34m(self, url, get_params, first_request_time, retry_counter, requests_kwargs, post_json, dry_run)\u001b[0m\n\u001b[1;32m    185\u001b[0m \u001b[39mtry\u001b[39;00m:\n\u001b[0;32m--> 186\u001b[0m     response \u001b[39m=\u001b[39m requests_method(\u001b[39mself\u001b[39;49m\u001b[39m.\u001b[39;49m_base_url \u001b[39m+\u001b[39;49m authed_url,\n\u001b[1;32m    187\u001b[0m                                \u001b[39m*\u001b[39;49m\u001b[39m*\u001b[39;49mfinal_requests_kwargs)\n\u001b[1;32m    188\u001b[0m     \u001b[39mself\u001b[39m\u001b[39m.\u001b[39m_req \u001b[39m=\u001b[39m response\u001b[39m.\u001b[39mrequest\n",
      "File \u001b[0;32m~/miniconda3/envs/group55/lib/python3.8/site-packages/requests/sessions.py:635\u001b[0m, in \u001b[0;36mSession.post\u001b[0;34m(self, url, data, json, **kwargs)\u001b[0m\n\u001b[1;32m    625\u001b[0m \u001b[39mr\u001b[39m\u001b[39m\"\"\"Sends a POST request. Returns :class:`Response` object.\u001b[39;00m\n\u001b[1;32m    626\u001b[0m \n\u001b[1;32m    627\u001b[0m \u001b[39m:param url: URL for the new :class:`Request` object.\u001b[39;00m\n\u001b[0;32m   (...)\u001b[0m\n\u001b[1;32m    632\u001b[0m \u001b[39m:rtype: requests.Response\u001b[39;00m\n\u001b[1;32m    633\u001b[0m \u001b[39m\"\"\"\u001b[39;00m\n\u001b[0;32m--> 635\u001b[0m \u001b[39mreturn\u001b[39;00m \u001b[39mself\u001b[39;49m\u001b[39m.\u001b[39;49mrequest(\u001b[39m\"\u001b[39;49m\u001b[39mPOST\u001b[39;49m\u001b[39m\"\u001b[39;49m, url, data\u001b[39m=\u001b[39;49mdata, json\u001b[39m=\u001b[39;49mjson, \u001b[39m*\u001b[39;49m\u001b[39m*\u001b[39;49mkwargs)\n",
      "File \u001b[0;32m~/miniconda3/envs/group55/lib/python3.8/site-packages/requests/sessions.py:587\u001b[0m, in \u001b[0;36mSession.request\u001b[0;34m(self, method, url, params, data, headers, cookies, files, auth, timeout, allow_redirects, proxies, hooks, stream, verify, cert, json)\u001b[0m\n\u001b[1;32m    586\u001b[0m send_kwargs\u001b[39m.\u001b[39mupdate(settings)\n\u001b[0;32m--> 587\u001b[0m resp \u001b[39m=\u001b[39m \u001b[39mself\u001b[39;49m\u001b[39m.\u001b[39;49msend(prep, \u001b[39m*\u001b[39;49m\u001b[39m*\u001b[39;49msend_kwargs)\n\u001b[1;32m    589\u001b[0m \u001b[39mreturn\u001b[39;00m resp\n",
      "File \u001b[0;32m~/miniconda3/envs/group55/lib/python3.8/site-packages/requests/sessions.py:701\u001b[0m, in \u001b[0;36mSession.send\u001b[0;34m(self, request, **kwargs)\u001b[0m\n\u001b[1;32m    700\u001b[0m \u001b[39m# Send the request\u001b[39;00m\n\u001b[0;32m--> 701\u001b[0m r \u001b[39m=\u001b[39m adapter\u001b[39m.\u001b[39;49msend(request, \u001b[39m*\u001b[39;49m\u001b[39m*\u001b[39;49mkwargs)\n\u001b[1;32m    703\u001b[0m \u001b[39m# Total elapsed time of the request (approximately)\u001b[39;00m\n",
      "File \u001b[0;32m~/miniconda3/envs/group55/lib/python3.8/site-packages/requests/adapters.py:578\u001b[0m, in \u001b[0;36mHTTPAdapter.send\u001b[0;34m(self, request, stream, timeout, verify, cert, proxies)\u001b[0m\n\u001b[1;32m    577\u001b[0m \u001b[39melif\u001b[39;00m \u001b[39misinstance\u001b[39m(e, ReadTimeoutError):\n\u001b[0;32m--> 578\u001b[0m     \u001b[39mraise\u001b[39;00m ReadTimeout(e, request\u001b[39m=\u001b[39mrequest)\n\u001b[1;32m    579\u001b[0m \u001b[39melif\u001b[39;00m \u001b[39misinstance\u001b[39m(e, _InvalidHeader):\n",
      "\u001b[0;31mReadTimeout\u001b[0m: HTTPSConnectionPool(host='api.openrouteservice.org', port=443): Read timed out. (read timeout=60)",
      "\nDuring handling of the above exception, another exception occurred:\n",
      "\u001b[0;31mTimeout\u001b[0m                                   Traceback (most recent call last)",
      "\u001b[1;32m/home/jnniu/Group55/generic-real-estate-consulting-project-group-55/notebooks/duration_distance.ipynb Cell 9\u001b[0m in \u001b[0;36m<cell line: 7>\u001b[0;34m()\u001b[0m\n\u001b[1;32m      <a href='vscode-notebook-cell://wsl%2Bubuntu/home/jnniu/Group55/generic-real-estate-consulting-project-group-55/notebooks/duration_distance.ipynb#W6sdnNjb2RlLXJlbW90ZQ%3D%3D?line=0'>1</a>\u001b[0m \u001b[39m\"\"\"\u001b[39;00m\n\u001b[1;32m      <a href='vscode-notebook-cell://wsl%2Bubuntu/home/jnniu/Group55/generic-real-estate-consulting-project-group-55/notebooks/duration_distance.ipynb#W6sdnNjb2RlLXJlbW90ZQ%3D%3D?line=1'>2</a>\u001b[0m \u001b[39mfunction: put the required columns into a dataframe\u001b[39;00m\n\u001b[1;32m      <a href='vscode-notebook-cell://wsl%2Bubuntu/home/jnniu/Group55/generic-real-estate-consulting-project-group-55/notebooks/duration_distance.ipynb#W6sdnNjb2RlLXJlbW90ZQ%3D%3D?line=2'>3</a>\u001b[0m \u001b[39mparam datas: dataframe\u001b[39;00m\n\u001b[1;32m      <a href='vscode-notebook-cell://wsl%2Bubuntu/home/jnniu/Group55/generic-real-estate-consulting-project-group-55/notebooks/duration_distance.ipynb#W6sdnNjb2RlLXJlbW90ZQ%3D%3D?line=3'>4</a>\u001b[0m \u001b[39m\"\"\"\u001b[39;00m\n\u001b[0;32m----> <a href='vscode-notebook-cell://wsl%2Bubuntu/home/jnniu/Group55/generic-real-estate-consulting-project-group-55/notebooks/duration_distance.ipynb#W6sdnNjb2RlLXJlbW90ZQ%3D%3D?line=6'>7</a>\u001b[0m data \u001b[39m=\u001b[39m {\u001b[39m'\u001b[39m\u001b[39mrent_address\u001b[39m\u001b[39m'\u001b[39m: get_coordinates(rent, school)[\u001b[39m0\u001b[39m], \u001b[39m'\u001b[39m\u001b[39mschool_name\u001b[39m\u001b[39m'\u001b[39m: get_coordinates(rent, school)[\u001b[39m1\u001b[39m], \u001b[39m'\u001b[39m\u001b[39mmin_distance\u001b[39m\u001b[39m'\u001b[39m: get_coordinates(rent, school)[\u001b[39m2\u001b[39m], \u001b[39m'\u001b[39m\u001b[39mmin_duration\u001b[39m\u001b[39m'\u001b[39m: get_coordinates(rent, school)[\u001b[39m3\u001b[39m]}\n\u001b[1;32m      <a href='vscode-notebook-cell://wsl%2Bubuntu/home/jnniu/Group55/generic-real-estate-consulting-project-group-55/notebooks/duration_distance.ipynb#W6sdnNjb2RlLXJlbW90ZQ%3D%3D?line=7'>8</a>\u001b[0m df \u001b[39m=\u001b[39m pd\u001b[39m.\u001b[39mDataFrame(data)\n\u001b[1;32m     <a href='vscode-notebook-cell://wsl%2Bubuntu/home/jnniu/Group55/generic-real-estate-consulting-project-group-55/notebooks/duration_distance.ipynb#W6sdnNjb2RlLXJlbW90ZQ%3D%3D?line=9'>10</a>\u001b[0m df\u001b[39m.\u001b[39mto_csv(\u001b[39mf\u001b[39m\u001b[39m\"\u001b[39m\u001b[39m{\u001b[39;00mcur_dir\u001b[39m}\u001b[39;00m\u001b[39m/distances_durations_school21.csv\u001b[39m\u001b[39m\"\u001b[39m, index\u001b[39m=\u001b[39m\u001b[39mFalse\u001b[39;00m)\n",
      "\u001b[1;32m/home/jnniu/Group55/generic-real-estate-consulting-project-group-55/notebooks/duration_distance.ipynb Cell 9\u001b[0m in \u001b[0;36mget_coordinates\u001b[0;34m(rent, school)\u001b[0m\n\u001b[1;32m     <a href='vscode-notebook-cell://wsl%2Bubuntu/home/jnniu/Group55/generic-real-estate-consulting-project-group-55/notebooks/duration_distance.ipynb#W6sdnNjb2RlLXJlbW90ZQ%3D%3D?line=18'>19</a>\u001b[0m     coor_part\u001b[39m.\u001b[39mextend(coordinates[k\u001b[39m*\u001b[39mtimes(\u001b[39mlen\u001b[39m(coordinates))[\u001b[39m0\u001b[39m]:(k\u001b[39m+\u001b[39m\u001b[39m1\u001b[39m)\u001b[39m*\u001b[39mtimes(\u001b[39mlen\u001b[39m(coordinates))[\u001b[39m0\u001b[39m]])\n\u001b[1;32m     <a href='vscode-notebook-cell://wsl%2Bubuntu/home/jnniu/Group55/generic-real-estate-consulting-project-group-55/notebooks/duration_distance.ipynb#W6sdnNjb2RlLXJlbW90ZQ%3D%3D?line=19'>20</a>\u001b[0m     \u001b[39m#matrix = cal_distance(coor_part, client)\u001b[39;00m\n\u001b[0;32m---> <a href='vscode-notebook-cell://wsl%2Bubuntu/home/jnniu/Group55/generic-real-estate-consulting-project-group-55/notebooks/duration_distance.ipynb#W6sdnNjb2RlLXJlbW90ZQ%3D%3D?line=20'>21</a>\u001b[0m     distances \u001b[39m=\u001b[39m cal_distance(coor_part, client)[\u001b[39m1\u001b[39m]\n\u001b[1;32m     <a href='vscode-notebook-cell://wsl%2Bubuntu/home/jnniu/Group55/generic-real-estate-consulting-project-group-55/notebooks/duration_distance.ipynb#W6sdnNjb2RlLXJlbW90ZQ%3D%3D?line=21'>22</a>\u001b[0m     durations \u001b[39m=\u001b[39m cal_distance(coor_part, client)[\u001b[39m0\u001b[39m]\n\u001b[1;32m     <a href='vscode-notebook-cell://wsl%2Bubuntu/home/jnniu/Group55/generic-real-estate-consulting-project-group-55/notebooks/duration_distance.ipynb#W6sdnNjb2RlLXJlbW90ZQ%3D%3D?line=22'>23</a>\u001b[0m index \u001b[39m=\u001b[39m distances\u001b[39m.\u001b[39mindex(\u001b[39mmin\u001b[39m(distances))\n",
      "\u001b[1;32m/home/jnniu/Group55/generic-real-estate-consulting-project-group-55/notebooks/duration_distance.ipynb Cell 9\u001b[0m in \u001b[0;36mcal_distance\u001b[0;34m(coordinates, client)\u001b[0m\n\u001b[1;32m      <a href='vscode-notebook-cell://wsl%2Bubuntu/home/jnniu/Group55/generic-real-estate-consulting-project-group-55/notebooks/duration_distance.ipynb#W6sdnNjb2RlLXJlbW90ZQ%3D%3D?line=4'>5</a>\u001b[0m \u001b[39mdef\u001b[39;00m \u001b[39mcal_distance\u001b[39m(coordinates, client):\n\u001b[0;32m----> <a href='vscode-notebook-cell://wsl%2Bubuntu/home/jnniu/Group55/generic-real-estate-consulting-project-group-55/notebooks/duration_distance.ipynb#W6sdnNjb2RlLXJlbW90ZQ%3D%3D?line=5'>6</a>\u001b[0m     matrix \u001b[39m=\u001b[39m client\u001b[39m.\u001b[39;49mdistance_matrix(\n\u001b[1;32m      <a href='vscode-notebook-cell://wsl%2Bubuntu/home/jnniu/Group55/generic-real-estate-consulting-project-group-55/notebooks/duration_distance.ipynb#W6sdnNjb2RlLXJlbW90ZQ%3D%3D?line=6'>7</a>\u001b[0m     locations\u001b[39m=\u001b[39;49mcoordinates,\n\u001b[1;32m      <a href='vscode-notebook-cell://wsl%2Bubuntu/home/jnniu/Group55/generic-real-estate-consulting-project-group-55/notebooks/duration_distance.ipynb#W6sdnNjb2RlLXJlbW90ZQ%3D%3D?line=7'>8</a>\u001b[0m     profile\u001b[39m=\u001b[39;49m\u001b[39m'\u001b[39;49m\u001b[39mdriving-car\u001b[39;49m\u001b[39m'\u001b[39;49m,\n\u001b[1;32m      <a href='vscode-notebook-cell://wsl%2Bubuntu/home/jnniu/Group55/generic-real-estate-consulting-project-group-55/notebooks/duration_distance.ipynb#W6sdnNjb2RlLXJlbW90ZQ%3D%3D?line=8'>9</a>\u001b[0m     metrics\u001b[39m=\u001b[39;49m[\u001b[39m'\u001b[39;49m\u001b[39mdistance\u001b[39;49m\u001b[39m'\u001b[39;49m, \u001b[39m'\u001b[39;49m\u001b[39mduration\u001b[39;49m\u001b[39m'\u001b[39;49m],\n\u001b[1;32m     <a href='vscode-notebook-cell://wsl%2Bubuntu/home/jnniu/Group55/generic-real-estate-consulting-project-group-55/notebooks/duration_distance.ipynb#W6sdnNjb2RlLXJlbW90ZQ%3D%3D?line=9'>10</a>\u001b[0m     validate\u001b[39m=\u001b[39;49m\u001b[39mFalse\u001b[39;49;00m,\n\u001b[1;32m     <a href='vscode-notebook-cell://wsl%2Bubuntu/home/jnniu/Group55/generic-real-estate-consulting-project-group-55/notebooks/duration_distance.ipynb#W6sdnNjb2RlLXJlbW90ZQ%3D%3D?line=10'>11</a>\u001b[0m     )\n\u001b[1;32m     <a href='vscode-notebook-cell://wsl%2Bubuntu/home/jnniu/Group55/generic-real-estate-consulting-project-group-55/notebooks/duration_distance.ipynb#W6sdnNjb2RlLXJlbW90ZQ%3D%3D?line=11'>12</a>\u001b[0m     \u001b[39m#time.sleep(2)\u001b[39;00m\n\u001b[1;32m     <a href='vscode-notebook-cell://wsl%2Bubuntu/home/jnniu/Group55/generic-real-estate-consulting-project-group-55/notebooks/duration_distance.ipynb#W6sdnNjb2RlLXJlbW90ZQ%3D%3D?line=12'>13</a>\u001b[0m     \u001b[39mreturn\u001b[39;00m matrix[\u001b[39m'\u001b[39m\u001b[39mdurations\u001b[39m\u001b[39m'\u001b[39m], matrix[\u001b[39m'\u001b[39m\u001b[39mdistances\u001b[39m\u001b[39m'\u001b[39m]\n",
      "File \u001b[0;32m~/miniconda3/envs/group55/lib/python3.8/site-packages/openrouteservice/client.py:299\u001b[0m, in \u001b[0;36m_make_api_method.<locals>.wrapper\u001b[0;34m(*args, **kwargs)\u001b[0m\n\u001b[1;32m    296\u001b[0m \u001b[39m@functools\u001b[39m\u001b[39m.\u001b[39mwraps(func)\n\u001b[1;32m    297\u001b[0m \u001b[39mdef\u001b[39;00m \u001b[39mwrapper\u001b[39m(\u001b[39m*\u001b[39margs, \u001b[39m*\u001b[39m\u001b[39m*\u001b[39mkwargs):\n\u001b[1;32m    298\u001b[0m     args[\u001b[39m0\u001b[39m]\u001b[39m.\u001b[39m_extra_params \u001b[39m=\u001b[39m kwargs\u001b[39m.\u001b[39mpop(\u001b[39m\"\u001b[39m\u001b[39mextra_params\u001b[39m\u001b[39m\"\u001b[39m, \u001b[39mNone\u001b[39;00m)\n\u001b[0;32m--> 299\u001b[0m     result \u001b[39m=\u001b[39m func(\u001b[39m*\u001b[39;49margs, \u001b[39m*\u001b[39;49m\u001b[39m*\u001b[39;49mkwargs)\n\u001b[1;32m    300\u001b[0m     \u001b[39mtry\u001b[39;00m:\n\u001b[1;32m    301\u001b[0m         \u001b[39mdel\u001b[39;00m args[\u001b[39m0\u001b[39m]\u001b[39m.\u001b[39m_extra_params\n",
      "File \u001b[0;32m~/miniconda3/envs/group55/lib/python3.8/site-packages/openrouteservice/distance_matrix.py:116\u001b[0m, in \u001b[0;36mdistance_matrix\u001b[0;34m(client, locations, profile, sources, destinations, metrics, resolve_locations, units, optimized, validate, dry_run)\u001b[0m\n\u001b[1;32m    113\u001b[0m \u001b[39mif\u001b[39;00m optimized \u001b[39mis\u001b[39;00m \u001b[39mnot\u001b[39;00m \u001b[39mNone\u001b[39;00m:\n\u001b[1;32m    114\u001b[0m     params[\u001b[39m\"\u001b[39m\u001b[39moptimized\u001b[39m\u001b[39m\"\u001b[39m] \u001b[39m=\u001b[39m optimized\n\u001b[0;32m--> 116\u001b[0m \u001b[39mreturn\u001b[39;00m client\u001b[39m.\u001b[39;49mrequest(\u001b[39m\"\u001b[39;49m\u001b[39m/v2/matrix/\u001b[39;49m\u001b[39m\"\u001b[39;49m \u001b[39m+\u001b[39;49m profile \u001b[39m+\u001b[39;49m \u001b[39m'\u001b[39;49m\u001b[39m/json\u001b[39;49m\u001b[39m'\u001b[39;49m, {}, post_json\u001b[39m=\u001b[39;49mparams, dry_run\u001b[39m=\u001b[39;49mdry_run)\n",
      "File \u001b[0;32m~/miniconda3/envs/group55/lib/python3.8/site-packages/openrouteservice/client.py:216\u001b[0m, in \u001b[0;36mClient.request\u001b[0;34m(self, url, get_params, first_request_time, retry_counter, requests_kwargs, post_json, dry_run)\u001b[0m\n\u001b[1;32m    211\u001b[0m warnings\u001b[39m.\u001b[39mwarn(\u001b[39m'\u001b[39m\u001b[39mRate limit exceeded. Retrying for the \u001b[39m\u001b[39m{0}\u001b[39;00m\u001b[39m{1}\u001b[39;00m\u001b[39m time.\u001b[39m\u001b[39m'\u001b[39m\u001b[39m.\u001b[39mformat(retry_counter \u001b[39m+\u001b[39m \u001b[39m1\u001b[39m,\n\u001b[1;32m    212\u001b[0m                                                                           get_ordinal(retry_counter \u001b[39m+\u001b[39m \u001b[39m1\u001b[39m)),\n\u001b[1;32m    213\u001b[0m               \u001b[39mUserWarning\u001b[39;00m,\n\u001b[1;32m    214\u001b[0m               stacklevel\u001b[39m=\u001b[39m\u001b[39m1\u001b[39m)\n\u001b[1;32m    215\u001b[0m \u001b[39m# Retry request.\u001b[39;00m\n\u001b[0;32m--> 216\u001b[0m \u001b[39mreturn\u001b[39;00m \u001b[39mself\u001b[39;49m\u001b[39m.\u001b[39;49mrequest(url, get_params, first_request_time,\n\u001b[1;32m    217\u001b[0m                     retry_counter \u001b[39m+\u001b[39;49m \u001b[39m1\u001b[39;49m, requests_kwargs,\n\u001b[1;32m    218\u001b[0m                     post_json)\n",
      "File \u001b[0;32m~/miniconda3/envs/group55/lib/python3.8/site-packages/openrouteservice/client.py:216\u001b[0m, in \u001b[0;36mClient.request\u001b[0;34m(self, url, get_params, first_request_time, retry_counter, requests_kwargs, post_json, dry_run)\u001b[0m\n\u001b[1;32m    211\u001b[0m warnings\u001b[39m.\u001b[39mwarn(\u001b[39m'\u001b[39m\u001b[39mRate limit exceeded. Retrying for the \u001b[39m\u001b[39m{0}\u001b[39;00m\u001b[39m{1}\u001b[39;00m\u001b[39m time.\u001b[39m\u001b[39m'\u001b[39m\u001b[39m.\u001b[39mformat(retry_counter \u001b[39m+\u001b[39m \u001b[39m1\u001b[39m,\n\u001b[1;32m    212\u001b[0m                                                                           get_ordinal(retry_counter \u001b[39m+\u001b[39m \u001b[39m1\u001b[39m)),\n\u001b[1;32m    213\u001b[0m               \u001b[39mUserWarning\u001b[39;00m,\n\u001b[1;32m    214\u001b[0m               stacklevel\u001b[39m=\u001b[39m\u001b[39m1\u001b[39m)\n\u001b[1;32m    215\u001b[0m \u001b[39m# Retry request.\u001b[39;00m\n\u001b[0;32m--> 216\u001b[0m \u001b[39mreturn\u001b[39;00m \u001b[39mself\u001b[39;49m\u001b[39m.\u001b[39;49mrequest(url, get_params, first_request_time,\n\u001b[1;32m    217\u001b[0m                     retry_counter \u001b[39m+\u001b[39;49m \u001b[39m1\u001b[39;49m, requests_kwargs,\n\u001b[1;32m    218\u001b[0m                     post_json)\n",
      "    \u001b[0;31m[... skipping similar frames: Client.request at line 216 (5 times)]\u001b[0m\n",
      "File \u001b[0;32m~/miniconda3/envs/group55/lib/python3.8/site-packages/openrouteservice/client.py:216\u001b[0m, in \u001b[0;36mClient.request\u001b[0;34m(self, url, get_params, first_request_time, retry_counter, requests_kwargs, post_json, dry_run)\u001b[0m\n\u001b[1;32m    211\u001b[0m warnings\u001b[39m.\u001b[39mwarn(\u001b[39m'\u001b[39m\u001b[39mRate limit exceeded. Retrying for the \u001b[39m\u001b[39m{0}\u001b[39;00m\u001b[39m{1}\u001b[39;00m\u001b[39m time.\u001b[39m\u001b[39m'\u001b[39m\u001b[39m.\u001b[39mformat(retry_counter \u001b[39m+\u001b[39m \u001b[39m1\u001b[39m,\n\u001b[1;32m    212\u001b[0m                                                                           get_ordinal(retry_counter \u001b[39m+\u001b[39m \u001b[39m1\u001b[39m)),\n\u001b[1;32m    213\u001b[0m               \u001b[39mUserWarning\u001b[39;00m,\n\u001b[1;32m    214\u001b[0m               stacklevel\u001b[39m=\u001b[39m\u001b[39m1\u001b[39m)\n\u001b[1;32m    215\u001b[0m \u001b[39m# Retry request.\u001b[39;00m\n\u001b[0;32m--> 216\u001b[0m \u001b[39mreturn\u001b[39;00m \u001b[39mself\u001b[39;49m\u001b[39m.\u001b[39;49mrequest(url, get_params, first_request_time,\n\u001b[1;32m    217\u001b[0m                     retry_counter \u001b[39m+\u001b[39;49m \u001b[39m1\u001b[39;49m, requests_kwargs,\n\u001b[1;32m    218\u001b[0m                     post_json)\n",
      "File \u001b[0;32m~/miniconda3/envs/group55/lib/python3.8/site-packages/openrouteservice/client.py:191\u001b[0m, in \u001b[0;36mClient.request\u001b[0;34m(self, url, get_params, first_request_time, retry_counter, requests_kwargs, post_json, dry_run)\u001b[0m\n\u001b[1;32m    188\u001b[0m     \u001b[39mself\u001b[39m\u001b[39m.\u001b[39m_req \u001b[39m=\u001b[39m response\u001b[39m.\u001b[39mrequest\n\u001b[1;32m    190\u001b[0m \u001b[39mexcept\u001b[39;00m requests\u001b[39m.\u001b[39mexceptions\u001b[39m.\u001b[39mTimeout:\n\u001b[0;32m--> 191\u001b[0m     \u001b[39mraise\u001b[39;00m exceptions\u001b[39m.\u001b[39mTimeout()\n\u001b[1;32m    193\u001b[0m \u001b[39mif\u001b[39;00m response\u001b[39m.\u001b[39mstatus_code \u001b[39min\u001b[39;00m _RETRIABLE_STATUSES:\n\u001b[1;32m    194\u001b[0m     \u001b[39m# Retry request.\u001b[39;00m\n\u001b[1;32m    195\u001b[0m     warnings\u001b[39m.\u001b[39mwarn(\u001b[39m'\u001b[39m\u001b[39mServer down.\u001b[39m\u001b[39m\\n\u001b[39;00m\u001b[39mRetrying for the \u001b[39m\u001b[39m{0}\u001b[39;00m\u001b[39m{1}\u001b[39;00m\u001b[39m time.\u001b[39m\u001b[39m'\u001b[39m\u001b[39m.\u001b[39mformat(retry_counter \u001b[39m+\u001b[39m \u001b[39m1\u001b[39m,\n\u001b[1;32m    196\u001b[0m                                                                        get_ordinal(retry_counter \u001b[39m+\u001b[39m \u001b[39m1\u001b[39m)),\n\u001b[1;32m    197\u001b[0m                   \u001b[39mUserWarning\u001b[39;00m,\n\u001b[1;32m    198\u001b[0m                   stacklevel\u001b[39m=\u001b[39m\u001b[39m1\u001b[39m)\n",
      "\u001b[0;31mTimeout\u001b[0m: "
     ]
    }
   ],
   "source": [
    "\n",
    "\"\"\"\n",
    "function: put the required columns into a dataframe\n",
    "param datas: dataframe\n",
    "\"\"\"\n",
    "\n",
    "\n",
    "data = {'rent_address': get_coordinates(rent, school)[0], 'school_name': get_coordinates(rent, school)[1], 'min_distance': get_coordinates(rent, school)[2], 'min_duration': get_coordinates(rent, school)[3]}\n",
    "df = pd.DataFrame(data)\n",
    "\n",
    "df.to_csv(f\"{cur_dir}/distances_durations_school21.csv\", index=False)"
   ]
  }
 ],
 "metadata": {
  "kernelspec": {
   "display_name": "Python 3.9.12 ('base')",
   "language": "python",
   "name": "python3"
  },
  "language_info": {
   "codemirror_mode": {
    "name": "ipython",
    "version": 3
   },
   "file_extension": ".py",
   "mimetype": "text/x-python",
   "name": "python",
   "nbconvert_exporter": "python",
   "pygments_lexer": "ipython3",
   "version": "3.9.12"
  },
  "orig_nbformat": 4,
  "vscode": {
   "interpreter": {
    "hash": "16ba01c6dc83e74a81594ca9f568b8be03ffe318c420d81a059c196fad4add22"
   }
  }
 },
 "nbformat": 4,
 "nbformat_minor": 2
}
