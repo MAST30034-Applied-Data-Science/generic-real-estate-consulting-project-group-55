{
 "cells": [
  {
   "cell_type": "code",
   "execution_count": 1,
   "metadata": {},
   "outputs": [],
   "source": [
    "import openrouteservice as ors\n",
    "import folium\n",
    "from pandas import DataFrame\n",
    "import pandas as pd\n",
    "import math\n",
    "import time"
   ]
  },
  {
   "cell_type": "code",
   "execution_count": 2,
   "metadata": {},
   "outputs": [],
   "source": [
    "client = ors.Client(key='5b3ce3597851110001cf6248e87222039de944878943e770cf957d7d')"
   ]
  },
  {
   "cell_type": "code",
   "execution_count": 3,
   "metadata": {},
   "outputs": [],
   "source": [
    "raw_dir = '../data/raw/'\n",
    "cur_dir = '../data/curated/'"
   ]
  },
  {
   "cell_type": "code",
   "execution_count": 4,
   "metadata": {},
   "outputs": [],
   "source": [
    "rent = pd.read_csv(\"../rent_data/renew(15)\")\n",
    "rent = rent[:5].reset_index()\n",
    "school = pd.read_csv(f\"{cur_dir}school_df_21_preprocessed.csv\")"
   ]
  },
  {
   "cell_type": "code",
   "execution_count": 5,
   "metadata": {},
   "outputs": [],
   "source": [
    "# type the coordinates u need\n",
    "# coordinates = \n",
    "\"\"\"\n",
    "function: draw route map, return route\n",
    "param datas : map, route\n",
    "\"\"\"\n",
    "def mapping(coordinates, client):\n",
    "    map = folium.Map(location=[37.50, 144.58], tiles='cartodbpositron', zoom_start=13)\n",
    "    route = client.directions(\n",
    "        coordinates=coordinates,\n",
    "        profile='driving-car',\n",
    "        format='geojson',\n",
    "        validate=False,\n",
    "        )\n",
    "    folium.PolyLine(locations=[list(reversed(coord)) for coord in route['features'][0]['geometry']['coordinates']]).add_to(map)\n",
    "    return route, map\n"
   ]
  },
  {
   "cell_type": "code",
   "execution_count": 6,
   "metadata": {},
   "outputs": [],
   "source": [
    "\n",
    "\"\"\"\n",
    "function: calculate coordinates' distance\n",
    "param datas : durations, distances\n",
    "\"\"\"\n",
    "def cal_distance(coordinates, client):\n",
    "    matrix = client.distance_matrix(\n",
    "    locations=coordinates,\n",
    "    profile='driving-car',\n",
    "    metrics=['distance', 'duration'],\n",
    "    validate=False,\n",
    "    )\n",
    "    time.sleep(2.5)\n",
    "    return matrix['durations'], matrix['distances']\n",
    "# the unit of distance is m, the unit of durations is seconds\n"
   ]
  },
  {
   "cell_type": "code",
   "execution_count": 7,
   "metadata": {},
   "outputs": [],
   "source": [
    "\n",
    "\"\"\"\n",
    "function: The number of times the code needs to run to the one house and all train stations.\n",
    "param datas : times_i(corresponding i which is in function), times_function\n",
    "\"\"\"\n",
    "#as api only apply 3500 times each time\n",
    "def times(len):\n",
    "    times_i = int(math.sqrt(3500))-1\n",
    "    times = math.ceil(len/times_i)\n",
    "    times_function = math.ceil((len+times)/times_i)\n",
    "    return times_i, times_function\n",
    "\n"
   ]
  },
  {
   "cell_type": "code",
   "execution_count": 36,
   "metadata": {},
   "outputs": [
    {
     "name": "stdout",
     "output_type": "stream",
     "text": [
      "55.8780487804878\n"
     ]
    },
    {
     "ename": "TypeError",
     "evalue": "'list' object is not callable",
     "output_type": "error",
     "traceback": [
      "\u001b[0;31m---------------------------------------------------------------------------\u001b[0m",
      "\u001b[0;31mTypeError\u001b[0m                                 Traceback (most recent call last)",
      "\u001b[1;32m/home/jnniu/Group55/generic-real-estate-consulting-project-group-55/notebooks/duration_distance.ipynb Cell 8\u001b[0m in \u001b[0;36m<cell line: 11>\u001b[0;34m()\u001b[0m\n\u001b[1;32m     <a href='vscode-notebook-cell://wsl%2Bubuntu/home/jnniu/Group55/generic-real-estate-consulting-project-group-55/notebooks/duration_distance.ipynb#X10sdnNjb2RlLXJlbW90ZQ%3D%3D?line=13'>14</a>\u001b[0m         coor_part\u001b[39m.\u001b[39mappend(coordinates[i\u001b[39m+\u001b[39mj])\n\u001b[1;32m     <a href='vscode-notebook-cell://wsl%2Bubuntu/home/jnniu/Group55/generic-real-estate-consulting-project-group-55/notebooks/duration_distance.ipynb#X10sdnNjb2RlLXJlbW90ZQ%3D%3D?line=15'>16</a>\u001b[0m     distance \u001b[39m=\u001b[39m cal_distance(coor_part, client)[\u001b[39m1\u001b[39m]\n\u001b[0;32m---> <a href='vscode-notebook-cell://wsl%2Bubuntu/home/jnniu/Group55/generic-real-estate-consulting-project-group-55/notebooks/duration_distance.ipynb#X10sdnNjb2RlLXJlbW90ZQ%3D%3D?line=16'>17</a>\u001b[0m     distances\u001b[39m.\u001b[39mappend(\u001b[39mmin\u001b[39;49m(distance))\n\u001b[1;32m     <a href='vscode-notebook-cell://wsl%2Bubuntu/home/jnniu/Group55/generic-real-estate-consulting-project-group-55/notebooks/duration_distance.ipynb#X10sdnNjb2RlLXJlbW90ZQ%3D%3D?line=18'>19</a>\u001b[0m     i\u001b[39m+\u001b[39m\u001b[39m=\u001b[39m\u001b[39m1\u001b[39m\n\u001b[1;32m     <a href='vscode-notebook-cell://wsl%2Bubuntu/home/jnniu/Group55/generic-real-estate-consulting-project-group-55/notebooks/duration_distance.ipynb#X10sdnNjb2RlLXJlbW90ZQ%3D%3D?line=19'>20</a>\u001b[0m \u001b[39mprint\u001b[39m(distances)\n",
      "\u001b[0;31mTypeError\u001b[0m: 'list' object is not callable"
     ]
    }
   ],
   "source": [
    "coordinates = []\n",
    "distances = []\n",
    "for j in range(len(school)):\n",
    "    coordinates.append([school[\"X\"][j], school[\"Y\"][j]])\n",
    "\n",
    "#print(coordinates)\n",
    "\n",
    "print(len(school)/(times(len(school))[1]))\n",
    "\n",
    "i=0\n",
    "while i < int(len(school)/(times(len(school))[1])):\n",
    "    coor_part = []\n",
    "    for j in range(times(len(school))[1]):\n",
    "        coor_part.append(coordinates[i+j])\n",
    "        \n",
    "    distance = cal_distance(coor_part, client)[1]\n",
    "    distances.append(min(distance))\n",
    "    \n",
    "    i+=1\n",
    "print(distances)\n",
    "        \n",
    "#print(cal_distance(coor_part, client)[0][0])\n"
   ]
  },
  {
   "cell_type": "code",
   "execution_count": 34,
   "metadata": {},
   "outputs": [
    {
     "ename": "TypeError",
     "evalue": "'list' object is not callable",
     "output_type": "error",
     "traceback": [
      "\u001b[0;31m---------------------------------------------------------------------------\u001b[0m",
      "\u001b[0;31mTypeError\u001b[0m                                 Traceback (most recent call last)",
      "\u001b[1;32m/home/jnniu/Group55/generic-real-estate-consulting-project-group-55/notebooks/duration_distance.ipynb Cell 9\u001b[0m in \u001b[0;36m<cell line: 4>\u001b[0;34m()\u001b[0m\n\u001b[1;32m      <a href='vscode-notebook-cell://wsl%2Bubuntu/home/jnniu/Group55/generic-real-estate-consulting-project-group-55/notebooks/duration_distance.ipynb#X14sdnNjb2RlLXJlbW90ZQ%3D%3D?line=0'>1</a>\u001b[0m \u001b[39mfor\u001b[39;00m i \u001b[39min\u001b[39;00m distances:\n\u001b[1;32m      <a href='vscode-notebook-cell://wsl%2Bubuntu/home/jnniu/Group55/generic-real-estate-consulting-project-group-55/notebooks/duration_distance.ipynb#X14sdnNjb2RlLXJlbW90ZQ%3D%3D?line=1'>2</a>\u001b[0m     i\u001b[39m.\u001b[39mpop(\u001b[39m0\u001b[39m)\n\u001b[0;32m----> <a href='vscode-notebook-cell://wsl%2Bubuntu/home/jnniu/Group55/generic-real-estate-consulting-project-group-55/notebooks/duration_distance.ipynb#X14sdnNjb2RlLXJlbW90ZQ%3D%3D?line=3'>4</a>\u001b[0m index \u001b[39m=\u001b[39m distances\u001b[39m.\u001b[39mindex(\u001b[39mmin\u001b[39;49m(distances))\n\u001b[1;32m      <a href='vscode-notebook-cell://wsl%2Bubuntu/home/jnniu/Group55/generic-real-estate-consulting-project-group-55/notebooks/duration_distance.ipynb#X14sdnNjb2RlLXJlbW90ZQ%3D%3D?line=4'>5</a>\u001b[0m index\n",
      "\u001b[0;31mTypeError\u001b[0m: 'list' object is not callable"
     ]
    }
   ],
   "source": [
    "\n",
    "for i in distances:\n",
    "    i.pop(0)\n",
    "\n",
    "index = distances.index(min(distances))\n",
    "index"
   ]
  },
  {
   "cell_type": "code",
   "execution_count": 21,
   "metadata": {},
   "outputs": [
    {
     "name": "stdout",
     "output_type": "stream",
     "text": [
      "[[144.572217, -37.703362], [144.65063, -37.729258], [144.772307, -37.77776], [144.802193, -37.783063], [146.924518, -36.084263], [142.936912, -37.282202], [145.229517, -36.893644], [144.436857, -37.687517], [147.627615, -37.828717], [144.225443, -37.6043], [143.859452, -37.55879], [143.382233, -37.427875], [145.983914, -36.544549], [144.283012, -36.765673], [143.78362, -38.328807], [145.043009, -37.207202], [145.720762, -38.09911], [143.150932, -38.2289], [144.213801, -37.062836], [146.61138, -36.155634], [144.745368, -37.483497], [143.586658, -38.343378], [144.37977, -38.072835], [144.23112, -36.369235], [144.96955, -37.542571], [145.855943, -38.136453], [144.248382, -36.718528], [144.753463, -36.130985], [144.607753, -36.495017], [145.568086, -36.749135], [145.67422, -38.09103], [144.354992, -38.144241], [144.598718, -37.458825], [145.028202, -37.371709], [144.248993, -36.794838], [143.92443, -35.733123], [144.983565, -37.293208], [144.450602, -37.258277], [144.414402, -38.022428], [144.498485, -37.962928], [145.76686, -38.110992], [144.561397, -37.423577], [144.375325, -37.189744], [144.355055, -38.19855], [146.260574, -38.176907], [145.358217, -36.399127], [146.396752, -38.236723], [145.24064, -36.61315], [145.160358, -36.78546], [145.57167, -38.08159], [144.352277, -38.122836], [144.365323, -38.098373], [144.11313, -36.053113], [144.679828, -37.465127], [144.698683, -36.362363], [146.786965, -38.156403], [147.054802, -38.103105], [145.137733, -37.024725], [145.4065, -36.383795], [144.358987, -38.15866], [146.470421, -36.185894], [147.081468, -37.967047], [143.562347, -35.341113], [145.103002, -37.092332], [142.911467, -38.236215], [146.15477, -38.207239], [146.537884, -38.198889], [145.628231, -38.084994], [145.715926, -36.638817], [145.005354, -37.416534], [145.026414, -37.354676], [146.317041, -36.355102], [145.932675, -38.165227], [142.475547, -38.385015], [143.984137, -38.240133], [146.871267, -36.105829], [144.525893, -37.358803], [146.063065, -38.203155], [142.538873, -38.386396], [143.820062, -37.539713], [143.888122, -37.424605], [143.781574, -37.303143], [143.742399, -37.050912], [143.705635, -37.172902], [144.30682, -38.21581], [144.321036, -36.706343], [144.608734, -37.872884], [144.694716, -37.832169], [144.604103, -37.712542], [144.735748, -37.766144], [144.951691, -37.818245]]\n"
     ]
    }
   ],
   "source": [
    "train = pd.read_excel('../data/raw/train_station_19to20.xlsx')\n",
    "coordinates = []\n",
    "\n",
    "for j in range(len(train)):\n",
    "            coordinates.append([train[\"Stop_long\"][j], train[\"Stop_lat\"][j]])\n",
    "            \n",
    "print(coordinates)"
   ]
  },
  {
   "cell_type": "code",
   "execution_count": 37,
   "metadata": {},
   "outputs": [],
   "source": [
    "\"\"\"\n",
    "function: Find the nearest site to rent \n",
    "param datas : rent_address, stop_name, min_distance, min_duration\n",
    "\"\"\"\n",
    "def get_coordinates(rent, school):\n",
    "    rent_address = []\n",
    "    school_name = []\n",
    "    min_distance = []\n",
    "    min_duration = []\n",
    "    for i in range(len(rent)):\n",
    "        coordinates = []\n",
    "        distances = []\n",
    "        durations = []\n",
    "        for j in range(len(school)):\n",
    "            coordinates.append([school[\"X\"][j], school[\"Y\"][j]])\n",
    "        for k in range(times(len(school))[1]):\n",
    "            coor_part = []\n",
    "            coor_part.append([rent[\"longitude\"][i], rent[\"latitude\"][i]])\n",
    "            coor_part.extend(coordinates[k*times(len(coordinates))[0]:(k+1)*times(len(coordinates))[0]])\n",
    "            #matrix = cal_distance(coor_part, client)\n",
    "            distances = cal_distance(coor_part, client)[1]\n",
    "            durations = cal_distance(coor_part, client)[0]\n",
    "        index = distances.index(min(distances))\n",
    "        rent_address.append(rent['listingSlug'][i])\n",
    "        school_name.append(school['School_Name'][index])\n",
    "        min_distance.append(distances[index])\n",
    "        min_duration.append(durations[index])\n",
    "    return rent_address, school_name, min_distance, min_duration\n"
   ]
  },
  {
   "cell_type": "code",
   "execution_count": 38,
   "metadata": {},
   "outputs": [
    {
     "name": "stderr",
     "output_type": "stream",
     "text": [
      "/home/jnniu/miniconda3/envs/group55/lib/python3.8/site-packages/openrouteservice/client.py:211: UserWarning: Rate limit exceeded. Retrying for the 1st time.\n",
      "  warnings.warn('Rate limit exceeded. Retrying for the {0}{1} time.'.format(retry_counter + 1,\n",
      "/home/jnniu/miniconda3/envs/group55/lib/python3.8/site-packages/openrouteservice/client.py:211: UserWarning: Rate limit exceeded. Retrying for the 2nd time.\n",
      "  warnings.warn('Rate limit exceeded. Retrying for the {0}{1} time.'.format(retry_counter + 1,\n",
      "/home/jnniu/miniconda3/envs/group55/lib/python3.8/site-packages/openrouteservice/client.py:211: UserWarning: Rate limit exceeded. Retrying for the 3rd time.\n",
      "  warnings.warn('Rate limit exceeded. Retrying for the {0}{1} time.'.format(retry_counter + 1,\n",
      "/home/jnniu/miniconda3/envs/group55/lib/python3.8/site-packages/openrouteservice/client.py:211: UserWarning: Rate limit exceeded. Retrying for the 4th time.\n",
      "  warnings.warn('Rate limit exceeded. Retrying for the {0}{1} time.'.format(retry_counter + 1,\n",
      "/home/jnniu/miniconda3/envs/group55/lib/python3.8/site-packages/openrouteservice/client.py:211: UserWarning: Rate limit exceeded. Retrying for the 5th time.\n",
      "  warnings.warn('Rate limit exceeded. Retrying for the {0}{1} time.'.format(retry_counter + 1,\n",
      "/home/jnniu/miniconda3/envs/group55/lib/python3.8/site-packages/openrouteservice/client.py:211: UserWarning: Rate limit exceeded. Retrying for the 6th time.\n",
      "  warnings.warn('Rate limit exceeded. Retrying for the {0}{1} time.'.format(retry_counter + 1,\n",
      "/home/jnniu/miniconda3/envs/group55/lib/python3.8/site-packages/openrouteservice/client.py:211: UserWarning: Rate limit exceeded. Retrying for the 7th time.\n",
      "  warnings.warn('Rate limit exceeded. Retrying for the {0}{1} time.'.format(retry_counter + 1,\n",
      "/home/jnniu/miniconda3/envs/group55/lib/python3.8/site-packages/openrouteservice/client.py:211: UserWarning: Rate limit exceeded. Retrying for the 8th time.\n",
      "  warnings.warn('Rate limit exceeded. Retrying for the {0}{1} time.'.format(retry_counter + 1,\n",
      "/home/jnniu/miniconda3/envs/group55/lib/python3.8/site-packages/openrouteservice/client.py:211: UserWarning: Rate limit exceeded. Retrying for the 9th time.\n",
      "  warnings.warn('Rate limit exceeded. Retrying for the {0}{1} time.'.format(retry_counter + 1,\n",
      "/home/jnniu/miniconda3/envs/group55/lib/python3.8/site-packages/openrouteservice/client.py:211: UserWarning: Rate limit exceeded. Retrying for the 10th time.\n",
      "  warnings.warn('Rate limit exceeded. Retrying for the {0}{1} time.'.format(retry_counter + 1,\n"
     ]
    },
    {
     "ename": "Timeout",
     "evalue": "",
     "output_type": "error",
     "traceback": [
      "\u001b[0;31m---------------------------------------------------------------------------\u001b[0m",
      "\u001b[0;31m_OverQueryLimit\u001b[0m                           Traceback (most recent call last)",
      "File \u001b[0;32m~/miniconda3/envs/group55/lib/python3.8/site-packages/openrouteservice/client.py:204\u001b[0m, in \u001b[0;36mClient.request\u001b[0;34m(self, url, get_params, first_request_time, retry_counter, requests_kwargs, post_json, dry_run)\u001b[0m\n\u001b[1;32m    203\u001b[0m \u001b[39mtry\u001b[39;00m:\n\u001b[0;32m--> 204\u001b[0m     result \u001b[39m=\u001b[39m \u001b[39mself\u001b[39;49m\u001b[39m.\u001b[39;49m_get_body(response)\n\u001b[1;32m    206\u001b[0m     \u001b[39mreturn\u001b[39;00m result\n",
      "File \u001b[0;32m~/miniconda3/envs/group55/lib/python3.8/site-packages/openrouteservice/client.py:237\u001b[0m, in \u001b[0;36mClient._get_body\u001b[0;34m(response)\u001b[0m\n\u001b[1;32m    236\u001b[0m \u001b[39mif\u001b[39;00m status_code \u001b[39m==\u001b[39m \u001b[39m429\u001b[39m:\n\u001b[0;32m--> 237\u001b[0m     \u001b[39mraise\u001b[39;00m exceptions\u001b[39m.\u001b[39m_OverQueryLimit(\n\u001b[1;32m    238\u001b[0m         status_code,\n\u001b[1;32m    239\u001b[0m         body\n\u001b[1;32m    240\u001b[0m     )\n\u001b[1;32m    241\u001b[0m \u001b[39mif\u001b[39;00m status_code \u001b[39m!=\u001b[39m \u001b[39m200\u001b[39m:\n",
      "\u001b[0;31m_OverQueryLimit\u001b[0m: 429 ({'error': 'Rate limit exceeded'})",
      "\nDuring handling of the above exception, another exception occurred:\n",
      "\u001b[0;31m_OverQueryLimit\u001b[0m                           Traceback (most recent call last)",
      "File \u001b[0;32m~/miniconda3/envs/group55/lib/python3.8/site-packages/openrouteservice/client.py:204\u001b[0m, in \u001b[0;36mClient.request\u001b[0;34m(self, url, get_params, first_request_time, retry_counter, requests_kwargs, post_json, dry_run)\u001b[0m\n\u001b[1;32m    203\u001b[0m \u001b[39mtry\u001b[39;00m:\n\u001b[0;32m--> 204\u001b[0m     result \u001b[39m=\u001b[39m \u001b[39mself\u001b[39;49m\u001b[39m.\u001b[39;49m_get_body(response)\n\u001b[1;32m    206\u001b[0m     \u001b[39mreturn\u001b[39;00m result\n",
      "File \u001b[0;32m~/miniconda3/envs/group55/lib/python3.8/site-packages/openrouteservice/client.py:237\u001b[0m, in \u001b[0;36mClient._get_body\u001b[0;34m(response)\u001b[0m\n\u001b[1;32m    236\u001b[0m \u001b[39mif\u001b[39;00m status_code \u001b[39m==\u001b[39m \u001b[39m429\u001b[39m:\n\u001b[0;32m--> 237\u001b[0m     \u001b[39mraise\u001b[39;00m exceptions\u001b[39m.\u001b[39m_OverQueryLimit(\n\u001b[1;32m    238\u001b[0m         status_code,\n\u001b[1;32m    239\u001b[0m         body\n\u001b[1;32m    240\u001b[0m     )\n\u001b[1;32m    241\u001b[0m \u001b[39mif\u001b[39;00m status_code \u001b[39m!=\u001b[39m \u001b[39m200\u001b[39m:\n",
      "\u001b[0;31m_OverQueryLimit\u001b[0m: 429 ({'error': 'Rate limit exceeded'})",
      "\nDuring handling of the above exception, another exception occurred:\n",
      "\u001b[0;31m_OverQueryLimit\u001b[0m                           Traceback (most recent call last)",
      "File \u001b[0;32m~/miniconda3/envs/group55/lib/python3.8/site-packages/openrouteservice/client.py:204\u001b[0m, in \u001b[0;36mClient.request\u001b[0;34m(self, url, get_params, first_request_time, retry_counter, requests_kwargs, post_json, dry_run)\u001b[0m\n\u001b[1;32m    203\u001b[0m \u001b[39mtry\u001b[39;00m:\n\u001b[0;32m--> 204\u001b[0m     result \u001b[39m=\u001b[39m \u001b[39mself\u001b[39;49m\u001b[39m.\u001b[39;49m_get_body(response)\n\u001b[1;32m    206\u001b[0m     \u001b[39mreturn\u001b[39;00m result\n",
      "File \u001b[0;32m~/miniconda3/envs/group55/lib/python3.8/site-packages/openrouteservice/client.py:237\u001b[0m, in \u001b[0;36mClient._get_body\u001b[0;34m(response)\u001b[0m\n\u001b[1;32m    236\u001b[0m \u001b[39mif\u001b[39;00m status_code \u001b[39m==\u001b[39m \u001b[39m429\u001b[39m:\n\u001b[0;32m--> 237\u001b[0m     \u001b[39mraise\u001b[39;00m exceptions\u001b[39m.\u001b[39m_OverQueryLimit(\n\u001b[1;32m    238\u001b[0m         status_code,\n\u001b[1;32m    239\u001b[0m         body\n\u001b[1;32m    240\u001b[0m     )\n\u001b[1;32m    241\u001b[0m \u001b[39mif\u001b[39;00m status_code \u001b[39m!=\u001b[39m \u001b[39m200\u001b[39m:\n",
      "\u001b[0;31m_OverQueryLimit\u001b[0m: 429 ({'error': 'Rate limit exceeded'})",
      "\nDuring handling of the above exception, another exception occurred:\n",
      "\u001b[0;31m_OverQueryLimit\u001b[0m                           Traceback (most recent call last)",
      "File \u001b[0;32m~/miniconda3/envs/group55/lib/python3.8/site-packages/openrouteservice/client.py:204\u001b[0m, in \u001b[0;36mClient.request\u001b[0;34m(self, url, get_params, first_request_time, retry_counter, requests_kwargs, post_json, dry_run)\u001b[0m\n\u001b[1;32m    203\u001b[0m \u001b[39mtry\u001b[39;00m:\n\u001b[0;32m--> 204\u001b[0m     result \u001b[39m=\u001b[39m \u001b[39mself\u001b[39;49m\u001b[39m.\u001b[39;49m_get_body(response)\n\u001b[1;32m    206\u001b[0m     \u001b[39mreturn\u001b[39;00m result\n",
      "File \u001b[0;32m~/miniconda3/envs/group55/lib/python3.8/site-packages/openrouteservice/client.py:237\u001b[0m, in \u001b[0;36mClient._get_body\u001b[0;34m(response)\u001b[0m\n\u001b[1;32m    236\u001b[0m \u001b[39mif\u001b[39;00m status_code \u001b[39m==\u001b[39m \u001b[39m429\u001b[39m:\n\u001b[0;32m--> 237\u001b[0m     \u001b[39mraise\u001b[39;00m exceptions\u001b[39m.\u001b[39m_OverQueryLimit(\n\u001b[1;32m    238\u001b[0m         status_code,\n\u001b[1;32m    239\u001b[0m         body\n\u001b[1;32m    240\u001b[0m     )\n\u001b[1;32m    241\u001b[0m \u001b[39mif\u001b[39;00m status_code \u001b[39m!=\u001b[39m \u001b[39m200\u001b[39m:\n",
      "\u001b[0;31m_OverQueryLimit\u001b[0m: 429 ({'error': 'Rate limit exceeded'})",
      "\nDuring handling of the above exception, another exception occurred:\n",
      "\u001b[0;31m_OverQueryLimit\u001b[0m                           Traceback (most recent call last)",
      "File \u001b[0;32m~/miniconda3/envs/group55/lib/python3.8/site-packages/openrouteservice/client.py:204\u001b[0m, in \u001b[0;36mClient.request\u001b[0;34m(self, url, get_params, first_request_time, retry_counter, requests_kwargs, post_json, dry_run)\u001b[0m\n\u001b[1;32m    203\u001b[0m \u001b[39mtry\u001b[39;00m:\n\u001b[0;32m--> 204\u001b[0m     result \u001b[39m=\u001b[39m \u001b[39mself\u001b[39;49m\u001b[39m.\u001b[39;49m_get_body(response)\n\u001b[1;32m    206\u001b[0m     \u001b[39mreturn\u001b[39;00m result\n",
      "File \u001b[0;32m~/miniconda3/envs/group55/lib/python3.8/site-packages/openrouteservice/client.py:237\u001b[0m, in \u001b[0;36mClient._get_body\u001b[0;34m(response)\u001b[0m\n\u001b[1;32m    236\u001b[0m \u001b[39mif\u001b[39;00m status_code \u001b[39m==\u001b[39m \u001b[39m429\u001b[39m:\n\u001b[0;32m--> 237\u001b[0m     \u001b[39mraise\u001b[39;00m exceptions\u001b[39m.\u001b[39m_OverQueryLimit(\n\u001b[1;32m    238\u001b[0m         status_code,\n\u001b[1;32m    239\u001b[0m         body\n\u001b[1;32m    240\u001b[0m     )\n\u001b[1;32m    241\u001b[0m \u001b[39mif\u001b[39;00m status_code \u001b[39m!=\u001b[39m \u001b[39m200\u001b[39m:\n",
      "\u001b[0;31m_OverQueryLimit\u001b[0m: 429 ({'error': 'Rate limit exceeded'})",
      "\nDuring handling of the above exception, another exception occurred:\n",
      "\u001b[0;31m_OverQueryLimit\u001b[0m                           Traceback (most recent call last)",
      "File \u001b[0;32m~/miniconda3/envs/group55/lib/python3.8/site-packages/openrouteservice/client.py:204\u001b[0m, in \u001b[0;36mClient.request\u001b[0;34m(self, url, get_params, first_request_time, retry_counter, requests_kwargs, post_json, dry_run)\u001b[0m\n\u001b[1;32m    203\u001b[0m \u001b[39mtry\u001b[39;00m:\n\u001b[0;32m--> 204\u001b[0m     result \u001b[39m=\u001b[39m \u001b[39mself\u001b[39;49m\u001b[39m.\u001b[39;49m_get_body(response)\n\u001b[1;32m    206\u001b[0m     \u001b[39mreturn\u001b[39;00m result\n",
      "File \u001b[0;32m~/miniconda3/envs/group55/lib/python3.8/site-packages/openrouteservice/client.py:237\u001b[0m, in \u001b[0;36mClient._get_body\u001b[0;34m(response)\u001b[0m\n\u001b[1;32m    236\u001b[0m \u001b[39mif\u001b[39;00m status_code \u001b[39m==\u001b[39m \u001b[39m429\u001b[39m:\n\u001b[0;32m--> 237\u001b[0m     \u001b[39mraise\u001b[39;00m exceptions\u001b[39m.\u001b[39m_OverQueryLimit(\n\u001b[1;32m    238\u001b[0m         status_code,\n\u001b[1;32m    239\u001b[0m         body\n\u001b[1;32m    240\u001b[0m     )\n\u001b[1;32m    241\u001b[0m \u001b[39mif\u001b[39;00m status_code \u001b[39m!=\u001b[39m \u001b[39m200\u001b[39m:\n",
      "\u001b[0;31m_OverQueryLimit\u001b[0m: 429 ({'error': 'Rate limit exceeded'})",
      "\nDuring handling of the above exception, another exception occurred:\n",
      "\u001b[0;31m_OverQueryLimit\u001b[0m                           Traceback (most recent call last)",
      "File \u001b[0;32m~/miniconda3/envs/group55/lib/python3.8/site-packages/openrouteservice/client.py:204\u001b[0m, in \u001b[0;36mClient.request\u001b[0;34m(self, url, get_params, first_request_time, retry_counter, requests_kwargs, post_json, dry_run)\u001b[0m\n\u001b[1;32m    203\u001b[0m \u001b[39mtry\u001b[39;00m:\n\u001b[0;32m--> 204\u001b[0m     result \u001b[39m=\u001b[39m \u001b[39mself\u001b[39;49m\u001b[39m.\u001b[39;49m_get_body(response)\n\u001b[1;32m    206\u001b[0m     \u001b[39mreturn\u001b[39;00m result\n",
      "File \u001b[0;32m~/miniconda3/envs/group55/lib/python3.8/site-packages/openrouteservice/client.py:237\u001b[0m, in \u001b[0;36mClient._get_body\u001b[0;34m(response)\u001b[0m\n\u001b[1;32m    236\u001b[0m \u001b[39mif\u001b[39;00m status_code \u001b[39m==\u001b[39m \u001b[39m429\u001b[39m:\n\u001b[0;32m--> 237\u001b[0m     \u001b[39mraise\u001b[39;00m exceptions\u001b[39m.\u001b[39m_OverQueryLimit(\n\u001b[1;32m    238\u001b[0m         status_code,\n\u001b[1;32m    239\u001b[0m         body\n\u001b[1;32m    240\u001b[0m     )\n\u001b[1;32m    241\u001b[0m \u001b[39mif\u001b[39;00m status_code \u001b[39m!=\u001b[39m \u001b[39m200\u001b[39m:\n",
      "\u001b[0;31m_OverQueryLimit\u001b[0m: 429 ({'error': 'Rate limit exceeded'})",
      "\nDuring handling of the above exception, another exception occurred:\n",
      "\u001b[0;31m_OverQueryLimit\u001b[0m                           Traceback (most recent call last)",
      "File \u001b[0;32m~/miniconda3/envs/group55/lib/python3.8/site-packages/openrouteservice/client.py:204\u001b[0m, in \u001b[0;36mClient.request\u001b[0;34m(self, url, get_params, first_request_time, retry_counter, requests_kwargs, post_json, dry_run)\u001b[0m\n\u001b[1;32m    203\u001b[0m \u001b[39mtry\u001b[39;00m:\n\u001b[0;32m--> 204\u001b[0m     result \u001b[39m=\u001b[39m \u001b[39mself\u001b[39;49m\u001b[39m.\u001b[39;49m_get_body(response)\n\u001b[1;32m    206\u001b[0m     \u001b[39mreturn\u001b[39;00m result\n",
      "File \u001b[0;32m~/miniconda3/envs/group55/lib/python3.8/site-packages/openrouteservice/client.py:237\u001b[0m, in \u001b[0;36mClient._get_body\u001b[0;34m(response)\u001b[0m\n\u001b[1;32m    236\u001b[0m \u001b[39mif\u001b[39;00m status_code \u001b[39m==\u001b[39m \u001b[39m429\u001b[39m:\n\u001b[0;32m--> 237\u001b[0m     \u001b[39mraise\u001b[39;00m exceptions\u001b[39m.\u001b[39m_OverQueryLimit(\n\u001b[1;32m    238\u001b[0m         status_code,\n\u001b[1;32m    239\u001b[0m         body\n\u001b[1;32m    240\u001b[0m     )\n\u001b[1;32m    241\u001b[0m \u001b[39mif\u001b[39;00m status_code \u001b[39m!=\u001b[39m \u001b[39m200\u001b[39m:\n",
      "\u001b[0;31m_OverQueryLimit\u001b[0m: 429 ({'error': 'Rate limit exceeded'})",
      "\nDuring handling of the above exception, another exception occurred:\n",
      "\u001b[0;31m_OverQueryLimit\u001b[0m                           Traceback (most recent call last)",
      "File \u001b[0;32m~/miniconda3/envs/group55/lib/python3.8/site-packages/openrouteservice/client.py:204\u001b[0m, in \u001b[0;36mClient.request\u001b[0;34m(self, url, get_params, first_request_time, retry_counter, requests_kwargs, post_json, dry_run)\u001b[0m\n\u001b[1;32m    203\u001b[0m \u001b[39mtry\u001b[39;00m:\n\u001b[0;32m--> 204\u001b[0m     result \u001b[39m=\u001b[39m \u001b[39mself\u001b[39;49m\u001b[39m.\u001b[39;49m_get_body(response)\n\u001b[1;32m    206\u001b[0m     \u001b[39mreturn\u001b[39;00m result\n",
      "File \u001b[0;32m~/miniconda3/envs/group55/lib/python3.8/site-packages/openrouteservice/client.py:237\u001b[0m, in \u001b[0;36mClient._get_body\u001b[0;34m(response)\u001b[0m\n\u001b[1;32m    236\u001b[0m \u001b[39mif\u001b[39;00m status_code \u001b[39m==\u001b[39m \u001b[39m429\u001b[39m:\n\u001b[0;32m--> 237\u001b[0m     \u001b[39mraise\u001b[39;00m exceptions\u001b[39m.\u001b[39m_OverQueryLimit(\n\u001b[1;32m    238\u001b[0m         status_code,\n\u001b[1;32m    239\u001b[0m         body\n\u001b[1;32m    240\u001b[0m     )\n\u001b[1;32m    241\u001b[0m \u001b[39mif\u001b[39;00m status_code \u001b[39m!=\u001b[39m \u001b[39m200\u001b[39m:\n",
      "\u001b[0;31m_OverQueryLimit\u001b[0m: 429 ({'error': 'Rate limit exceeded'})",
      "\nDuring handling of the above exception, another exception occurred:\n",
      "\u001b[0;31m_OverQueryLimit\u001b[0m                           Traceback (most recent call last)",
      "File \u001b[0;32m~/miniconda3/envs/group55/lib/python3.8/site-packages/openrouteservice/client.py:204\u001b[0m, in \u001b[0;36mClient.request\u001b[0;34m(self, url, get_params, first_request_time, retry_counter, requests_kwargs, post_json, dry_run)\u001b[0m\n\u001b[1;32m    203\u001b[0m \u001b[39mtry\u001b[39;00m:\n\u001b[0;32m--> 204\u001b[0m     result \u001b[39m=\u001b[39m \u001b[39mself\u001b[39;49m\u001b[39m.\u001b[39;49m_get_body(response)\n\u001b[1;32m    206\u001b[0m     \u001b[39mreturn\u001b[39;00m result\n",
      "File \u001b[0;32m~/miniconda3/envs/group55/lib/python3.8/site-packages/openrouteservice/client.py:237\u001b[0m, in \u001b[0;36mClient._get_body\u001b[0;34m(response)\u001b[0m\n\u001b[1;32m    236\u001b[0m \u001b[39mif\u001b[39;00m status_code \u001b[39m==\u001b[39m \u001b[39m429\u001b[39m:\n\u001b[0;32m--> 237\u001b[0m     \u001b[39mraise\u001b[39;00m exceptions\u001b[39m.\u001b[39m_OverQueryLimit(\n\u001b[1;32m    238\u001b[0m         status_code,\n\u001b[1;32m    239\u001b[0m         body\n\u001b[1;32m    240\u001b[0m     )\n\u001b[1;32m    241\u001b[0m \u001b[39mif\u001b[39;00m status_code \u001b[39m!=\u001b[39m \u001b[39m200\u001b[39m:\n",
      "\u001b[0;31m_OverQueryLimit\u001b[0m: 429 ({'error': 'Rate limit exceeded'})",
      "\nDuring handling of the above exception, another exception occurred:\n",
      "\u001b[0;31mTimeout\u001b[0m                                   Traceback (most recent call last)",
      "\u001b[1;32m/home/jnniu/Group55/generic-real-estate-consulting-project-group-55/notebooks/duration_distance.ipynb Cell 12\u001b[0m in \u001b[0;36m<cell line: 11>\u001b[0;34m()\u001b[0m\n\u001b[1;32m      <a href='vscode-notebook-cell://wsl%2Bubuntu/home/jnniu/Group55/generic-real-estate-consulting-project-group-55/notebooks/duration_distance.ipynb#X12sdnNjb2RlLXJlbW90ZQ%3D%3D?line=7'>8</a>\u001b[0m     df \u001b[39m=\u001b[39m pd\u001b[39m.\u001b[39mDataFrame(data)\n\u001b[1;32m      <a href='vscode-notebook-cell://wsl%2Bubuntu/home/jnniu/Group55/generic-real-estate-consulting-project-group-55/notebooks/duration_distance.ipynb#X12sdnNjb2RlLXJlbW90ZQ%3D%3D?line=8'>9</a>\u001b[0m     \u001b[39mreturn\u001b[39;00m df\n\u001b[0;32m---> <a href='vscode-notebook-cell://wsl%2Bubuntu/home/jnniu/Group55/generic-real-estate-consulting-project-group-55/notebooks/duration_distance.ipynb#X12sdnNjb2RlLXJlbW90ZQ%3D%3D?line=10'>11</a>\u001b[0m df \u001b[39m=\u001b[39m data_frame(rent, school)\n\u001b[1;32m     <a href='vscode-notebook-cell://wsl%2Bubuntu/home/jnniu/Group55/generic-real-estate-consulting-project-group-55/notebooks/duration_distance.ipynb#X12sdnNjb2RlLXJlbW90ZQ%3D%3D?line=11'>12</a>\u001b[0m df\u001b[39m.\u001b[39mto_csv(\u001b[39mf\u001b[39m\u001b[39m\"\u001b[39m\u001b[39m{\u001b[39;00mcur_dir\u001b[39m}\u001b[39;00m\u001b[39m/distances_durations_school21.csv\u001b[39m\u001b[39m\"\u001b[39m, index\u001b[39m=\u001b[39m\u001b[39mFalse\u001b[39;00m)\n",
      "\u001b[1;32m/home/jnniu/Group55/generic-real-estate-consulting-project-group-55/notebooks/duration_distance.ipynb Cell 12\u001b[0m in \u001b[0;36mdata_frame\u001b[0;34m(rent, school)\u001b[0m\n\u001b[1;32m      <a href='vscode-notebook-cell://wsl%2Bubuntu/home/jnniu/Group55/generic-real-estate-consulting-project-group-55/notebooks/duration_distance.ipynb#X12sdnNjb2RlLXJlbW90ZQ%3D%3D?line=5'>6</a>\u001b[0m \u001b[39mdef\u001b[39;00m \u001b[39mdata_frame\u001b[39m(rent, school):\n\u001b[0;32m----> <a href='vscode-notebook-cell://wsl%2Bubuntu/home/jnniu/Group55/generic-real-estate-consulting-project-group-55/notebooks/duration_distance.ipynb#X12sdnNjb2RlLXJlbW90ZQ%3D%3D?line=6'>7</a>\u001b[0m     data \u001b[39m=\u001b[39m {\u001b[39m'\u001b[39m\u001b[39mrent_address\u001b[39m\u001b[39m'\u001b[39m: get_coordinates(rent, school)[\u001b[39m0\u001b[39m], \u001b[39m'\u001b[39m\u001b[39mschool_name\u001b[39m\u001b[39m'\u001b[39m: get_coordinates(rent, school)[\u001b[39m1\u001b[39m], \u001b[39m'\u001b[39m\u001b[39mmin_distance\u001b[39m\u001b[39m'\u001b[39m: get_coordinates(rent, school)[\u001b[39m2\u001b[39m], \u001b[39m'\u001b[39m\u001b[39mmin_duration\u001b[39m\u001b[39m'\u001b[39m: get_coordinates(rent, school)[\u001b[39m3\u001b[39m]}\n\u001b[1;32m      <a href='vscode-notebook-cell://wsl%2Bubuntu/home/jnniu/Group55/generic-real-estate-consulting-project-group-55/notebooks/duration_distance.ipynb#X12sdnNjb2RlLXJlbW90ZQ%3D%3D?line=7'>8</a>\u001b[0m     df \u001b[39m=\u001b[39m pd\u001b[39m.\u001b[39mDataFrame(data)\n\u001b[1;32m      <a href='vscode-notebook-cell://wsl%2Bubuntu/home/jnniu/Group55/generic-real-estate-consulting-project-group-55/notebooks/duration_distance.ipynb#X12sdnNjb2RlLXJlbW90ZQ%3D%3D?line=8'>9</a>\u001b[0m     \u001b[39mreturn\u001b[39;00m df\n",
      "\u001b[1;32m/home/jnniu/Group55/generic-real-estate-consulting-project-group-55/notebooks/duration_distance.ipynb Cell 12\u001b[0m in \u001b[0;36mget_coordinates\u001b[0;34m(rent, school)\u001b[0m\n\u001b[1;32m     <a href='vscode-notebook-cell://wsl%2Bubuntu/home/jnniu/Group55/generic-real-estate-consulting-project-group-55/notebooks/duration_distance.ipynb#X12sdnNjb2RlLXJlbW90ZQ%3D%3D?line=18'>19</a>\u001b[0m     coor_part\u001b[39m.\u001b[39mextend(coordinates[k\u001b[39m*\u001b[39mtimes(\u001b[39mlen\u001b[39m(coordinates))[\u001b[39m0\u001b[39m]:(k\u001b[39m+\u001b[39m\u001b[39m1\u001b[39m)\u001b[39m*\u001b[39mtimes(\u001b[39mlen\u001b[39m(coordinates))[\u001b[39m0\u001b[39m]])\n\u001b[1;32m     <a href='vscode-notebook-cell://wsl%2Bubuntu/home/jnniu/Group55/generic-real-estate-consulting-project-group-55/notebooks/duration_distance.ipynb#X12sdnNjb2RlLXJlbW90ZQ%3D%3D?line=19'>20</a>\u001b[0m     \u001b[39m#matrix = cal_distance(coor_part, client)\u001b[39;00m\n\u001b[0;32m---> <a href='vscode-notebook-cell://wsl%2Bubuntu/home/jnniu/Group55/generic-real-estate-consulting-project-group-55/notebooks/duration_distance.ipynb#X12sdnNjb2RlLXJlbW90ZQ%3D%3D?line=20'>21</a>\u001b[0m     distances \u001b[39m=\u001b[39m cal_distance(coor_part, client)[\u001b[39m1\u001b[39m]\n\u001b[1;32m     <a href='vscode-notebook-cell://wsl%2Bubuntu/home/jnniu/Group55/generic-real-estate-consulting-project-group-55/notebooks/duration_distance.ipynb#X12sdnNjb2RlLXJlbW90ZQ%3D%3D?line=21'>22</a>\u001b[0m     durations \u001b[39m=\u001b[39m cal_distance(coor_part, client)[\u001b[39m0\u001b[39m]\n\u001b[1;32m     <a href='vscode-notebook-cell://wsl%2Bubuntu/home/jnniu/Group55/generic-real-estate-consulting-project-group-55/notebooks/duration_distance.ipynb#X12sdnNjb2RlLXJlbW90ZQ%3D%3D?line=22'>23</a>\u001b[0m index \u001b[39m=\u001b[39m distances\u001b[39m.\u001b[39mindex(\u001b[39mmin\u001b[39m(distances))\n",
      "\u001b[1;32m/home/jnniu/Group55/generic-real-estate-consulting-project-group-55/notebooks/duration_distance.ipynb Cell 12\u001b[0m in \u001b[0;36mcal_distance\u001b[0;34m(coordinates, client)\u001b[0m\n\u001b[1;32m      <a href='vscode-notebook-cell://wsl%2Bubuntu/home/jnniu/Group55/generic-real-estate-consulting-project-group-55/notebooks/duration_distance.ipynb#X12sdnNjb2RlLXJlbW90ZQ%3D%3D?line=4'>5</a>\u001b[0m \u001b[39mdef\u001b[39;00m \u001b[39mcal_distance\u001b[39m(coordinates, client):\n\u001b[0;32m----> <a href='vscode-notebook-cell://wsl%2Bubuntu/home/jnniu/Group55/generic-real-estate-consulting-project-group-55/notebooks/duration_distance.ipynb#X12sdnNjb2RlLXJlbW90ZQ%3D%3D?line=5'>6</a>\u001b[0m     matrix \u001b[39m=\u001b[39m client\u001b[39m.\u001b[39;49mdistance_matrix(\n\u001b[1;32m      <a href='vscode-notebook-cell://wsl%2Bubuntu/home/jnniu/Group55/generic-real-estate-consulting-project-group-55/notebooks/duration_distance.ipynb#X12sdnNjb2RlLXJlbW90ZQ%3D%3D?line=6'>7</a>\u001b[0m     locations\u001b[39m=\u001b[39;49mcoordinates,\n\u001b[1;32m      <a href='vscode-notebook-cell://wsl%2Bubuntu/home/jnniu/Group55/generic-real-estate-consulting-project-group-55/notebooks/duration_distance.ipynb#X12sdnNjb2RlLXJlbW90ZQ%3D%3D?line=7'>8</a>\u001b[0m     profile\u001b[39m=\u001b[39;49m\u001b[39m'\u001b[39;49m\u001b[39mdriving-car\u001b[39;49m\u001b[39m'\u001b[39;49m,\n\u001b[1;32m      <a href='vscode-notebook-cell://wsl%2Bubuntu/home/jnniu/Group55/generic-real-estate-consulting-project-group-55/notebooks/duration_distance.ipynb#X12sdnNjb2RlLXJlbW90ZQ%3D%3D?line=8'>9</a>\u001b[0m     metrics\u001b[39m=\u001b[39;49m[\u001b[39m'\u001b[39;49m\u001b[39mdistance\u001b[39;49m\u001b[39m'\u001b[39;49m, \u001b[39m'\u001b[39;49m\u001b[39mduration\u001b[39;49m\u001b[39m'\u001b[39;49m],\n\u001b[1;32m     <a href='vscode-notebook-cell://wsl%2Bubuntu/home/jnniu/Group55/generic-real-estate-consulting-project-group-55/notebooks/duration_distance.ipynb#X12sdnNjb2RlLXJlbW90ZQ%3D%3D?line=9'>10</a>\u001b[0m     validate\u001b[39m=\u001b[39;49m\u001b[39mFalse\u001b[39;49;00m,\n\u001b[1;32m     <a href='vscode-notebook-cell://wsl%2Bubuntu/home/jnniu/Group55/generic-real-estate-consulting-project-group-55/notebooks/duration_distance.ipynb#X12sdnNjb2RlLXJlbW90ZQ%3D%3D?line=10'>11</a>\u001b[0m     )\n\u001b[1;32m     <a href='vscode-notebook-cell://wsl%2Bubuntu/home/jnniu/Group55/generic-real-estate-consulting-project-group-55/notebooks/duration_distance.ipynb#X12sdnNjb2RlLXJlbW90ZQ%3D%3D?line=11'>12</a>\u001b[0m     time\u001b[39m.\u001b[39msleep(\u001b[39m2.5\u001b[39m)\n\u001b[1;32m     <a href='vscode-notebook-cell://wsl%2Bubuntu/home/jnniu/Group55/generic-real-estate-consulting-project-group-55/notebooks/duration_distance.ipynb#X12sdnNjb2RlLXJlbW90ZQ%3D%3D?line=12'>13</a>\u001b[0m     \u001b[39mreturn\u001b[39;00m matrix[\u001b[39m'\u001b[39m\u001b[39mdurations\u001b[39m\u001b[39m'\u001b[39m], matrix[\u001b[39m'\u001b[39m\u001b[39mdistances\u001b[39m\u001b[39m'\u001b[39m]\n",
      "File \u001b[0;32m~/miniconda3/envs/group55/lib/python3.8/site-packages/openrouteservice/client.py:299\u001b[0m, in \u001b[0;36m_make_api_method.<locals>.wrapper\u001b[0;34m(*args, **kwargs)\u001b[0m\n\u001b[1;32m    296\u001b[0m \u001b[39m@functools\u001b[39m\u001b[39m.\u001b[39mwraps(func)\n\u001b[1;32m    297\u001b[0m \u001b[39mdef\u001b[39;00m \u001b[39mwrapper\u001b[39m(\u001b[39m*\u001b[39margs, \u001b[39m*\u001b[39m\u001b[39m*\u001b[39mkwargs):\n\u001b[1;32m    298\u001b[0m     args[\u001b[39m0\u001b[39m]\u001b[39m.\u001b[39m_extra_params \u001b[39m=\u001b[39m kwargs\u001b[39m.\u001b[39mpop(\u001b[39m\"\u001b[39m\u001b[39mextra_params\u001b[39m\u001b[39m\"\u001b[39m, \u001b[39mNone\u001b[39;00m)\n\u001b[0;32m--> 299\u001b[0m     result \u001b[39m=\u001b[39m func(\u001b[39m*\u001b[39;49margs, \u001b[39m*\u001b[39;49m\u001b[39m*\u001b[39;49mkwargs)\n\u001b[1;32m    300\u001b[0m     \u001b[39mtry\u001b[39;00m:\n\u001b[1;32m    301\u001b[0m         \u001b[39mdel\u001b[39;00m args[\u001b[39m0\u001b[39m]\u001b[39m.\u001b[39m_extra_params\n",
      "File \u001b[0;32m~/miniconda3/envs/group55/lib/python3.8/site-packages/openrouteservice/distance_matrix.py:116\u001b[0m, in \u001b[0;36mdistance_matrix\u001b[0;34m(client, locations, profile, sources, destinations, metrics, resolve_locations, units, optimized, validate, dry_run)\u001b[0m\n\u001b[1;32m    113\u001b[0m \u001b[39mif\u001b[39;00m optimized \u001b[39mis\u001b[39;00m \u001b[39mnot\u001b[39;00m \u001b[39mNone\u001b[39;00m:\n\u001b[1;32m    114\u001b[0m     params[\u001b[39m\"\u001b[39m\u001b[39moptimized\u001b[39m\u001b[39m\"\u001b[39m] \u001b[39m=\u001b[39m optimized\n\u001b[0;32m--> 116\u001b[0m \u001b[39mreturn\u001b[39;00m client\u001b[39m.\u001b[39;49mrequest(\u001b[39m\"\u001b[39;49m\u001b[39m/v2/matrix/\u001b[39;49m\u001b[39m\"\u001b[39;49m \u001b[39m+\u001b[39;49m profile \u001b[39m+\u001b[39;49m \u001b[39m'\u001b[39;49m\u001b[39m/json\u001b[39;49m\u001b[39m'\u001b[39;49m, {}, post_json\u001b[39m=\u001b[39;49mparams, dry_run\u001b[39m=\u001b[39;49mdry_run)\n",
      "File \u001b[0;32m~/miniconda3/envs/group55/lib/python3.8/site-packages/openrouteservice/client.py:216\u001b[0m, in \u001b[0;36mClient.request\u001b[0;34m(self, url, get_params, first_request_time, retry_counter, requests_kwargs, post_json, dry_run)\u001b[0m\n\u001b[1;32m    211\u001b[0m warnings\u001b[39m.\u001b[39mwarn(\u001b[39m'\u001b[39m\u001b[39mRate limit exceeded. Retrying for the \u001b[39m\u001b[39m{0}\u001b[39;00m\u001b[39m{1}\u001b[39;00m\u001b[39m time.\u001b[39m\u001b[39m'\u001b[39m\u001b[39m.\u001b[39mformat(retry_counter \u001b[39m+\u001b[39m \u001b[39m1\u001b[39m,\n\u001b[1;32m    212\u001b[0m                                                                           get_ordinal(retry_counter \u001b[39m+\u001b[39m \u001b[39m1\u001b[39m)),\n\u001b[1;32m    213\u001b[0m               \u001b[39mUserWarning\u001b[39;00m,\n\u001b[1;32m    214\u001b[0m               stacklevel\u001b[39m=\u001b[39m\u001b[39m1\u001b[39m)\n\u001b[1;32m    215\u001b[0m \u001b[39m# Retry request.\u001b[39;00m\n\u001b[0;32m--> 216\u001b[0m \u001b[39mreturn\u001b[39;00m \u001b[39mself\u001b[39;49m\u001b[39m.\u001b[39;49mrequest(url, get_params, first_request_time,\n\u001b[1;32m    217\u001b[0m                     retry_counter \u001b[39m+\u001b[39;49m \u001b[39m1\u001b[39;49m, requests_kwargs,\n\u001b[1;32m    218\u001b[0m                     post_json)\n",
      "File \u001b[0;32m~/miniconda3/envs/group55/lib/python3.8/site-packages/openrouteservice/client.py:216\u001b[0m, in \u001b[0;36mClient.request\u001b[0;34m(self, url, get_params, first_request_time, retry_counter, requests_kwargs, post_json, dry_run)\u001b[0m\n\u001b[1;32m    211\u001b[0m warnings\u001b[39m.\u001b[39mwarn(\u001b[39m'\u001b[39m\u001b[39mRate limit exceeded. Retrying for the \u001b[39m\u001b[39m{0}\u001b[39;00m\u001b[39m{1}\u001b[39;00m\u001b[39m time.\u001b[39m\u001b[39m'\u001b[39m\u001b[39m.\u001b[39mformat(retry_counter \u001b[39m+\u001b[39m \u001b[39m1\u001b[39m,\n\u001b[1;32m    212\u001b[0m                                                                           get_ordinal(retry_counter \u001b[39m+\u001b[39m \u001b[39m1\u001b[39m)),\n\u001b[1;32m    213\u001b[0m               \u001b[39mUserWarning\u001b[39;00m,\n\u001b[1;32m    214\u001b[0m               stacklevel\u001b[39m=\u001b[39m\u001b[39m1\u001b[39m)\n\u001b[1;32m    215\u001b[0m \u001b[39m# Retry request.\u001b[39;00m\n\u001b[0;32m--> 216\u001b[0m \u001b[39mreturn\u001b[39;00m \u001b[39mself\u001b[39;49m\u001b[39m.\u001b[39;49mrequest(url, get_params, first_request_time,\n\u001b[1;32m    217\u001b[0m                     retry_counter \u001b[39m+\u001b[39;49m \u001b[39m1\u001b[39;49m, requests_kwargs,\n\u001b[1;32m    218\u001b[0m                     post_json)\n",
      "    \u001b[0;31m[... skipping similar frames: Client.request at line 216 (7 times)]\u001b[0m\n",
      "File \u001b[0;32m~/miniconda3/envs/group55/lib/python3.8/site-packages/openrouteservice/client.py:216\u001b[0m, in \u001b[0;36mClient.request\u001b[0;34m(self, url, get_params, first_request_time, retry_counter, requests_kwargs, post_json, dry_run)\u001b[0m\n\u001b[1;32m    211\u001b[0m warnings\u001b[39m.\u001b[39mwarn(\u001b[39m'\u001b[39m\u001b[39mRate limit exceeded. Retrying for the \u001b[39m\u001b[39m{0}\u001b[39;00m\u001b[39m{1}\u001b[39;00m\u001b[39m time.\u001b[39m\u001b[39m'\u001b[39m\u001b[39m.\u001b[39mformat(retry_counter \u001b[39m+\u001b[39m \u001b[39m1\u001b[39m,\n\u001b[1;32m    212\u001b[0m                                                                           get_ordinal(retry_counter \u001b[39m+\u001b[39m \u001b[39m1\u001b[39m)),\n\u001b[1;32m    213\u001b[0m               \u001b[39mUserWarning\u001b[39;00m,\n\u001b[1;32m    214\u001b[0m               stacklevel\u001b[39m=\u001b[39m\u001b[39m1\u001b[39m)\n\u001b[1;32m    215\u001b[0m \u001b[39m# Retry request.\u001b[39;00m\n\u001b[0;32m--> 216\u001b[0m \u001b[39mreturn\u001b[39;00m \u001b[39mself\u001b[39;49m\u001b[39m.\u001b[39;49mrequest(url, get_params, first_request_time,\n\u001b[1;32m    217\u001b[0m                     retry_counter \u001b[39m+\u001b[39;49m \u001b[39m1\u001b[39;49m, requests_kwargs,\n\u001b[1;32m    218\u001b[0m                     post_json)\n",
      "File \u001b[0;32m~/miniconda3/envs/group55/lib/python3.8/site-packages/openrouteservice/client.py:152\u001b[0m, in \u001b[0;36mClient.request\u001b[0;34m(self, url, get_params, first_request_time, retry_counter, requests_kwargs, post_json, dry_run)\u001b[0m\n\u001b[1;32m    150\u001b[0m elapsed \u001b[39m=\u001b[39m datetime\u001b[39m.\u001b[39mnow() \u001b[39m-\u001b[39m first_request_time\n\u001b[1;32m    151\u001b[0m \u001b[39mif\u001b[39;00m elapsed \u001b[39m>\u001b[39m \u001b[39mself\u001b[39m\u001b[39m.\u001b[39m_retry_timeout:\n\u001b[0;32m--> 152\u001b[0m     \u001b[39mraise\u001b[39;00m exceptions\u001b[39m.\u001b[39mTimeout()\n\u001b[1;32m    154\u001b[0m \u001b[39mif\u001b[39;00m retry_counter \u001b[39m>\u001b[39m \u001b[39m0\u001b[39m:\n\u001b[1;32m    155\u001b[0m     \u001b[39m# 0.5 * (1.5 ^ i) is an increased sleep time of 1.5x per iteration,\u001b[39;00m\n\u001b[1;32m    156\u001b[0m     \u001b[39m# starting at 0.5s when retry_counter=1. The first retry will occur\u001b[39;00m\n\u001b[1;32m    157\u001b[0m     \u001b[39m# at 1, so subtract that first.\u001b[39;00m\n\u001b[1;32m    158\u001b[0m     delay_seconds \u001b[39m=\u001b[39m \u001b[39m1.5\u001b[39m \u001b[39m*\u001b[39m\u001b[39m*\u001b[39m (retry_counter \u001b[39m-\u001b[39m \u001b[39m1\u001b[39m)\n",
      "\u001b[0;31mTimeout\u001b[0m: "
     ]
    }
   ],
   "source": [
    "\n",
    "\"\"\"\n",
    "function: put the required columns into a dataframe\n",
    "param datas: dataframe\n",
    "\"\"\"\n",
    "\n",
    "def data_frame(rent, school):\n",
    "    data = {'rent_address': get_coordinates(rent, school)[0], 'school_name': get_coordinates(rent, school)[1], 'min_distance': get_coordinates(rent, school)[2], 'min_duration': get_coordinates(rent, school)[3]}\n",
    "    df = pd.DataFrame(data)\n",
    "    return df\n",
    "\n",
    "df = data_frame(rent, school)\n",
    "df.to_csv(f\"{cur_dir}/distances_durations_school21.csv\", index=False)"
   ]
  }
 ],
 "metadata": {
  "kernelspec": {
   "display_name": "Python 3.9.12 ('base')",
   "language": "python",
   "name": "python3"
  },
  "language_info": {
   "codemirror_mode": {
    "name": "ipython",
    "version": 3
   },
   "file_extension": ".py",
   "mimetype": "text/x-python",
   "name": "python",
   "nbconvert_exporter": "python",
   "pygments_lexer": "ipython3",
   "version": "3.9.12"
  },
  "orig_nbformat": 4,
  "vscode": {
   "interpreter": {
    "hash": "16ba01c6dc83e74a81594ca9f568b8be03ffe318c420d81a059c196fad4add22"
   }
  }
 },
 "nbformat": 4,
 "nbformat_minor": 2
}
