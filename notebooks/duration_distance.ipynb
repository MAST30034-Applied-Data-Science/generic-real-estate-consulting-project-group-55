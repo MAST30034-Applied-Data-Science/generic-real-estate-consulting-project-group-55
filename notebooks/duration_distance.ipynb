{
 "cells": [
  {
   "cell_type": "code",
   "execution_count": null,
   "metadata": {},
   "outputs": [],
   "source": []
  }
 ],
 "metadata": {
  "kernelspec": {
   "display_name": "Python 3.9.12 ('base')",
   "language": "python",
   "name": "python3"
  },
  "language_info": {
   "name": "python",
   "version": "3.9.12"
  },
  "orig_nbformat": 4,
  "vscode": {
   "interpreter": {
    "hash": "16ba01c6dc83e74a81594ca9f568b8be03ffe318c420d81a059c196fad4add22"
   }
  }
 },
 "nbformat": 4,
 "nbformat_minor": 2
}
