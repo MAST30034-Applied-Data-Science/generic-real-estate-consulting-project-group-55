{
 "cells": [
  {
   "cell_type": "code",
   "execution_count": 3,
   "metadata": {},
   "outputs": [],
   "source": [
    "import openrouteservice as ors\n",
    "import folium\n",
    "from pandas import DataFrame\n",
    "import pandas as pd\n",
    "import math\n",
    "import time"
   ]
  },
  {
   "cell_type": "code",
   "execution_count": 24,
   "metadata": {},
   "outputs": [],
   "source": [
    "client = ors.Client(key='5b3ce3597851110001cf6248e87222039de944878943e770cf957d7d')"
   ]
  },
  {
   "cell_type": "code",
   "execution_count": 9,
   "metadata": {},
   "outputs": [],
   "source": [
    "cur_dir = '../data/curated/'\n",
    "raw_dir = '../data/raw/'"
   ]
  },
  {
   "cell_type": "code",
   "execution_count": 10,
   "metadata": {},
   "outputs": [],
   "source": [
    "\n",
    "rent = pd.read_csv(\"../rent_data/renew(15)\")\n",
    "school = pd.read_csv(f\"{cur_dir}school_df_21_preprocessed.csv\")\n",
    "mall =  pd.read_csv(f'{raw_dir}mall_info.csv')"
   ]
  },
  {
   "cell_type": "code",
   "execution_count": 11,
   "metadata": {},
   "outputs": [],
   "source": [
    "def mapping(coordinates, client):\n",
    "    map = folium.Map(location=[37.50, 144.58], tiles='cartodbpositron', zoom_start=13)\n",
    "    route = client.directions(\n",
    "        coordinates=coordinates,\n",
    "        profile='driving-car',\n",
    "        format='geojson',\n",
    "        validate=False,\n",
    "        )\n",
    "    folium.PolyLine(locations=[list(reversed(coord)) for coord in route['features'][0]['geometry']['coordinates']]).add_to(map)\n",
    "    return route, map"
   ]
  },
  {
   "cell_type": "code",
   "execution_count": 100,
   "metadata": {},
   "outputs": [],
   "source": [
    "def cal_distance(coordinates, client):\n",
    "    matrix = client.distance_matrix(\n",
    "    locations=coordinates,\n",
    "    profile='driving-car',\n",
    "    metrics=['distance', 'duration'],\n",
    "    validate=False,\n",
    "    )\n",
    "    time.sleep(2)\n",
    "    return matrix['durations'], matrix['distances']\n",
    "# the unit of distance is m, the unit of durations is seconds\n",
    "\n"
   ]
  },
  {
   "cell_type": "code",
   "execution_count": 99,
   "metadata": {},
   "outputs": [
    {
     "ename": "TypeError",
     "evalue": "unhashable type: 'list'",
     "output_type": "error",
     "traceback": [
      "\u001b[0;31m---------------------------------------------------------------------------\u001b[0m",
      "\u001b[0;31mTypeError\u001b[0m                                 Traceback (most recent call last)",
      "\u001b[1;32m/home/jnniu/Group55/generic-real-estate-consulting-project-group-55/notebooks/distance_durations.ipynb Cell 7\u001b[0m in \u001b[0;36m<cell line: 5>\u001b[0;34m()\u001b[0m\n\u001b[1;32m      <a href='vscode-notebook-cell://wsl%2Bubuntu/home/jnniu/Group55/generic-real-estate-consulting-project-group-55/notebooks/distance_durations.ipynb#X31sdnNjb2RlLXJlbW90ZQ%3D%3D?line=1'>2</a>\u001b[0m \u001b[39mfor\u001b[39;00m j \u001b[39min\u001b[39;00m \u001b[39mrange\u001b[39m(\u001b[39m10\u001b[39m):\n\u001b[1;32m      <a href='vscode-notebook-cell://wsl%2Bubuntu/home/jnniu/Group55/generic-real-estate-consulting-project-group-55/notebooks/distance_durations.ipynb#X31sdnNjb2RlLXJlbW90ZQ%3D%3D?line=2'>3</a>\u001b[0m         coordinates\u001b[39m.\u001b[39mappend([school[\u001b[39m\"\u001b[39m\u001b[39mX\u001b[39m\u001b[39m\"\u001b[39m][j], school[\u001b[39m\"\u001b[39m\u001b[39mY\u001b[39m\u001b[39m\"\u001b[39m][j]])\n\u001b[0;32m----> <a href='vscode-notebook-cell://wsl%2Bubuntu/home/jnniu/Group55/generic-real-estate-consulting-project-group-55/notebooks/distance_durations.ipynb#X31sdnNjb2RlLXJlbW90ZQ%3D%3D?line=4'>5</a>\u001b[0m a \u001b[39m=\u001b[39m cal_distance(coordinates, client)[\u001b[39m2\u001b[39m]\n\u001b[1;32m      <a href='vscode-notebook-cell://wsl%2Bubuntu/home/jnniu/Group55/generic-real-estate-consulting-project-group-55/notebooks/distance_durations.ipynb#X31sdnNjb2RlLXJlbW90ZQ%3D%3D?line=5'>6</a>\u001b[0m a\n",
      "\u001b[1;32m/home/jnniu/Group55/generic-real-estate-consulting-project-group-55/notebooks/distance_durations.ipynb Cell 7\u001b[0m in \u001b[0;36mcal_distance\u001b[0;34m(coordinates, client)\u001b[0m\n\u001b[1;32m      <a href='vscode-notebook-cell://wsl%2Bubuntu/home/jnniu/Group55/generic-real-estate-consulting-project-group-55/notebooks/distance_durations.ipynb#X31sdnNjb2RlLXJlbW90ZQ%3D%3D?line=1'>2</a>\u001b[0m matrix \u001b[39m=\u001b[39m client\u001b[39m.\u001b[39mdistance_matrix(\n\u001b[1;32m      <a href='vscode-notebook-cell://wsl%2Bubuntu/home/jnniu/Group55/generic-real-estate-consulting-project-group-55/notebooks/distance_durations.ipynb#X31sdnNjb2RlLXJlbW90ZQ%3D%3D?line=2'>3</a>\u001b[0m locations\u001b[39m=\u001b[39mcoordinates,\n\u001b[1;32m      <a href='vscode-notebook-cell://wsl%2Bubuntu/home/jnniu/Group55/generic-real-estate-consulting-project-group-55/notebooks/distance_durations.ipynb#X31sdnNjb2RlLXJlbW90ZQ%3D%3D?line=3'>4</a>\u001b[0m profile\u001b[39m=\u001b[39m\u001b[39m'\u001b[39m\u001b[39mdriving-car\u001b[39m\u001b[39m'\u001b[39m,\n\u001b[1;32m      <a href='vscode-notebook-cell://wsl%2Bubuntu/home/jnniu/Group55/generic-real-estate-consulting-project-group-55/notebooks/distance_durations.ipynb#X31sdnNjb2RlLXJlbW90ZQ%3D%3D?line=4'>5</a>\u001b[0m metrics\u001b[39m=\u001b[39m[\u001b[39m'\u001b[39m\u001b[39mdistance\u001b[39m\u001b[39m'\u001b[39m, \u001b[39m'\u001b[39m\u001b[39mduration\u001b[39m\u001b[39m'\u001b[39m],\n\u001b[1;32m      <a href='vscode-notebook-cell://wsl%2Bubuntu/home/jnniu/Group55/generic-real-estate-consulting-project-group-55/notebooks/distance_durations.ipynb#X31sdnNjb2RlLXJlbW90ZQ%3D%3D?line=5'>6</a>\u001b[0m validate\u001b[39m=\u001b[39m\u001b[39mFalse\u001b[39;00m,\n\u001b[1;32m      <a href='vscode-notebook-cell://wsl%2Bubuntu/home/jnniu/Group55/generic-real-estate-consulting-project-group-55/notebooks/distance_durations.ipynb#X31sdnNjb2RlLXJlbW90ZQ%3D%3D?line=6'>7</a>\u001b[0m )\n\u001b[1;32m      <a href='vscode-notebook-cell://wsl%2Bubuntu/home/jnniu/Group55/generic-real-estate-consulting-project-group-55/notebooks/distance_durations.ipynb#X31sdnNjb2RlLXJlbW90ZQ%3D%3D?line=7'>8</a>\u001b[0m time\u001b[39m.\u001b[39msleep(\u001b[39m2\u001b[39m)\n\u001b[0;32m----> <a href='vscode-notebook-cell://wsl%2Bubuntu/home/jnniu/Group55/generic-real-estate-consulting-project-group-55/notebooks/distance_durations.ipynb#X31sdnNjb2RlLXJlbW90ZQ%3D%3D?line=8'>9</a>\u001b[0m \u001b[39mreturn\u001b[39;00m matrix[\u001b[39m'\u001b[39m\u001b[39mdurations\u001b[39m\u001b[39m'\u001b[39m], matrix[\u001b[39m'\u001b[39m\u001b[39mdistances\u001b[39m\u001b[39m'\u001b[39m], matrix[coordinates]\n",
      "\u001b[0;31mTypeError\u001b[0m: unhashable type: 'list'"
     ]
    }
   ],
   "source": [
    "coordinates = []\n",
    "for j in range(10):\n",
    "        coordinates.append([school[\"X\"][j], school[\"Y\"][j]])\n",
    "\n",
    "a = cal_distance(coordinates, client)[2]\n",
    "a"
   ]
  },
  {
   "cell_type": "code",
   "execution_count": 13,
   "metadata": {},
   "outputs": [],
   "source": [
    "def times(len):\n",
    "    times_i = int(math.sqrt(3500))-1\n",
    "    times = math.ceil(len/times_i)\n",
    "    times_function = math.ceil((len+times)/times_i)\n",
    "    return times_i, times_function"
   ]
  },
  {
   "cell_type": "code",
   "execution_count": 108,
   "metadata": {},
   "outputs": [],
   "source": [
    "def get_coordinate(rent, school):\n",
    "    rent_address = []\n",
    "    school_name = []\n",
    "    min_distance = []\n",
    "    min_duration = []\n",
    "    for i in range(len(rent)):\n",
    "        coordinates = []\n",
    "        distances = []\n",
    "        durations = []\n",
    "        for j in range(10):\n",
    "            coordinates.append([school[\"X\"][j], school[\"Y\"][j]])\n",
    "        print(coordinates)\n",
    "        for k in range(times(len(school))[1]):\n",
    "            coor_part = []\n",
    "            coor_part.append([rent[\"longitude\"][i], rent[\"latitude\"][i]])\n",
    "            coor_part.extend(coordinates[k*times(len(coordinates))[0]:(k+1)*times(len(coordinates))[0]])\n",
    "            matrix = cal_distance(coor_part, client)\n",
    "            distances = distances + matrix[1][0][1:]\n",
    "            durations = durations + matrix[0][0][1:]\n",
    "            \n",
    "        index = distances.index(min(distances))\n",
    "        rent_address.append(rent['listingSlug'][i])\n",
    "        school_name.append(school['Stop_name'][index])\n",
    "        min_distance.append(distances[index])\n",
    "        min_duration.append(durations[index])\n",
    "    return rent_address, school_name, min_distance, min_duration"
   ]
  },
  {
   "cell_type": "code",
   "execution_count": 109,
   "metadata": {},
   "outputs": [
    {
     "name": "stdout",
     "output_type": "stream",
     "text": [
      "[[146.666601, -38.617713], [142.590393, -38.386281], [143.475649, -37.084502], [145.234722, -36.901368], [145.21398, -37.742675], [144.342099, -38.170672], [144.4431207, -37.67302961], [143.853936, -37.56401278], [146.88982, -36.129214], [145.354417, -38.044094]]\n"
     ]
    },
    {
     "ename": "ApiError",
     "evalue": "400 ({'error': {'code': 6003, 'message': \"Parameter 'locations' has incorrect value or format.\"}, 'info': {'engine': {'version': '6.7.0', 'build_date': '2022-02-18T19:37:41Z'}, 'timestamp': 1663313511548}})",
     "output_type": "error",
     "traceback": [
      "\u001b[0;31m---------------------------------------------------------------------------\u001b[0m",
      "\u001b[0;31mApiError\u001b[0m                                  Traceback (most recent call last)",
      "\u001b[1;32m/home/jnniu/Group55/generic-real-estate-consulting-project-group-55/notebooks/distance_durations.ipynb Cell 10\u001b[0m in \u001b[0;36m<cell line: 1>\u001b[0;34m()\u001b[0m\n\u001b[0;32m----> <a href='vscode-notebook-cell://wsl%2Bubuntu/home/jnniu/Group55/generic-real-estate-consulting-project-group-55/notebooks/distance_durations.ipynb#X32sdnNjb2RlLXJlbW90ZQ%3D%3D?line=0'>1</a>\u001b[0m get_coordinate(rent, school)[\u001b[39m0\u001b[39m]\n",
      "\u001b[1;32m/home/jnniu/Group55/generic-real-estate-consulting-project-group-55/notebooks/distance_durations.ipynb Cell 10\u001b[0m in \u001b[0;36mget_coordinate\u001b[0;34m(rent, school)\u001b[0m\n\u001b[1;32m     <a href='vscode-notebook-cell://wsl%2Bubuntu/home/jnniu/Group55/generic-real-estate-consulting-project-group-55/notebooks/distance_durations.ipynb#X32sdnNjb2RlLXJlbW90ZQ%3D%3D?line=14'>15</a>\u001b[0m coor_part\u001b[39m.\u001b[39mappend([rent[\u001b[39m\"\u001b[39m\u001b[39mlongitude\u001b[39m\u001b[39m\"\u001b[39m][i], rent[\u001b[39m\"\u001b[39m\u001b[39mlatitude\u001b[39m\u001b[39m\"\u001b[39m][i]])\n\u001b[1;32m     <a href='vscode-notebook-cell://wsl%2Bubuntu/home/jnniu/Group55/generic-real-estate-consulting-project-group-55/notebooks/distance_durations.ipynb#X32sdnNjb2RlLXJlbW90ZQ%3D%3D?line=15'>16</a>\u001b[0m coor_part\u001b[39m.\u001b[39mextend(coordinates[k\u001b[39m*\u001b[39mtimes(\u001b[39mlen\u001b[39m(coordinates))[\u001b[39m0\u001b[39m]:(k\u001b[39m+\u001b[39m\u001b[39m1\u001b[39m)\u001b[39m*\u001b[39mtimes(\u001b[39mlen\u001b[39m(coordinates))[\u001b[39m0\u001b[39m]])\n\u001b[0;32m---> <a href='vscode-notebook-cell://wsl%2Bubuntu/home/jnniu/Group55/generic-real-estate-consulting-project-group-55/notebooks/distance_durations.ipynb#X32sdnNjb2RlLXJlbW90ZQ%3D%3D?line=16'>17</a>\u001b[0m matrix \u001b[39m=\u001b[39m cal_distance(coor_part, client)\n\u001b[1;32m     <a href='vscode-notebook-cell://wsl%2Bubuntu/home/jnniu/Group55/generic-real-estate-consulting-project-group-55/notebooks/distance_durations.ipynb#X32sdnNjb2RlLXJlbW90ZQ%3D%3D?line=17'>18</a>\u001b[0m distances \u001b[39m=\u001b[39m distances \u001b[39m+\u001b[39m matrix[\u001b[39m1\u001b[39m][\u001b[39m0\u001b[39m][\u001b[39m1\u001b[39m:]\n\u001b[1;32m     <a href='vscode-notebook-cell://wsl%2Bubuntu/home/jnniu/Group55/generic-real-estate-consulting-project-group-55/notebooks/distance_durations.ipynb#X32sdnNjb2RlLXJlbW90ZQ%3D%3D?line=18'>19</a>\u001b[0m durations \u001b[39m=\u001b[39m durations \u001b[39m+\u001b[39m matrix[\u001b[39m0\u001b[39m][\u001b[39m0\u001b[39m][\u001b[39m1\u001b[39m:]\n",
      "\u001b[1;32m/home/jnniu/Group55/generic-real-estate-consulting-project-group-55/notebooks/distance_durations.ipynb Cell 10\u001b[0m in \u001b[0;36mcal_distance\u001b[0;34m(coordinates, client)\u001b[0m\n\u001b[1;32m      <a href='vscode-notebook-cell://wsl%2Bubuntu/home/jnniu/Group55/generic-real-estate-consulting-project-group-55/notebooks/distance_durations.ipynb#X32sdnNjb2RlLXJlbW90ZQ%3D%3D?line=0'>1</a>\u001b[0m \u001b[39mdef\u001b[39;00m \u001b[39mcal_distance\u001b[39m(coordinates, client):\n\u001b[0;32m----> <a href='vscode-notebook-cell://wsl%2Bubuntu/home/jnniu/Group55/generic-real-estate-consulting-project-group-55/notebooks/distance_durations.ipynb#X32sdnNjb2RlLXJlbW90ZQ%3D%3D?line=1'>2</a>\u001b[0m     matrix \u001b[39m=\u001b[39m client\u001b[39m.\u001b[39;49mdistance_matrix(\n\u001b[1;32m      <a href='vscode-notebook-cell://wsl%2Bubuntu/home/jnniu/Group55/generic-real-estate-consulting-project-group-55/notebooks/distance_durations.ipynb#X32sdnNjb2RlLXJlbW90ZQ%3D%3D?line=2'>3</a>\u001b[0m     locations\u001b[39m=\u001b[39;49mcoordinates,\n\u001b[1;32m      <a href='vscode-notebook-cell://wsl%2Bubuntu/home/jnniu/Group55/generic-real-estate-consulting-project-group-55/notebooks/distance_durations.ipynb#X32sdnNjb2RlLXJlbW90ZQ%3D%3D?line=3'>4</a>\u001b[0m     profile\u001b[39m=\u001b[39;49m\u001b[39m'\u001b[39;49m\u001b[39mdriving-car\u001b[39;49m\u001b[39m'\u001b[39;49m,\n\u001b[1;32m      <a href='vscode-notebook-cell://wsl%2Bubuntu/home/jnniu/Group55/generic-real-estate-consulting-project-group-55/notebooks/distance_durations.ipynb#X32sdnNjb2RlLXJlbW90ZQ%3D%3D?line=4'>5</a>\u001b[0m     metrics\u001b[39m=\u001b[39;49m[\u001b[39m'\u001b[39;49m\u001b[39mdistance\u001b[39;49m\u001b[39m'\u001b[39;49m, \u001b[39m'\u001b[39;49m\u001b[39mduration\u001b[39;49m\u001b[39m'\u001b[39;49m],\n\u001b[1;32m      <a href='vscode-notebook-cell://wsl%2Bubuntu/home/jnniu/Group55/generic-real-estate-consulting-project-group-55/notebooks/distance_durations.ipynb#X32sdnNjb2RlLXJlbW90ZQ%3D%3D?line=5'>6</a>\u001b[0m     validate\u001b[39m=\u001b[39;49m\u001b[39mFalse\u001b[39;49;00m,\n\u001b[1;32m      <a href='vscode-notebook-cell://wsl%2Bubuntu/home/jnniu/Group55/generic-real-estate-consulting-project-group-55/notebooks/distance_durations.ipynb#X32sdnNjb2RlLXJlbW90ZQ%3D%3D?line=6'>7</a>\u001b[0m     )\n\u001b[1;32m      <a href='vscode-notebook-cell://wsl%2Bubuntu/home/jnniu/Group55/generic-real-estate-consulting-project-group-55/notebooks/distance_durations.ipynb#X32sdnNjb2RlLXJlbW90ZQ%3D%3D?line=7'>8</a>\u001b[0m     time\u001b[39m.\u001b[39msleep(\u001b[39m2\u001b[39m)\n\u001b[1;32m      <a href='vscode-notebook-cell://wsl%2Bubuntu/home/jnniu/Group55/generic-real-estate-consulting-project-group-55/notebooks/distance_durations.ipynb#X32sdnNjb2RlLXJlbW90ZQ%3D%3D?line=8'>9</a>\u001b[0m     \u001b[39mreturn\u001b[39;00m matrix[\u001b[39m'\u001b[39m\u001b[39mdurations\u001b[39m\u001b[39m'\u001b[39m], matrix[\u001b[39m'\u001b[39m\u001b[39mdistances\u001b[39m\u001b[39m'\u001b[39m]\n",
      "File \u001b[0;32m~/miniconda3/envs/group55/lib/python3.8/site-packages/openrouteservice/client.py:299\u001b[0m, in \u001b[0;36m_make_api_method.<locals>.wrapper\u001b[0;34m(*args, **kwargs)\u001b[0m\n\u001b[1;32m    296\u001b[0m \u001b[39m@functools\u001b[39m\u001b[39m.\u001b[39mwraps(func)\n\u001b[1;32m    297\u001b[0m \u001b[39mdef\u001b[39;00m \u001b[39mwrapper\u001b[39m(\u001b[39m*\u001b[39margs, \u001b[39m*\u001b[39m\u001b[39m*\u001b[39mkwargs):\n\u001b[1;32m    298\u001b[0m     args[\u001b[39m0\u001b[39m]\u001b[39m.\u001b[39m_extra_params \u001b[39m=\u001b[39m kwargs\u001b[39m.\u001b[39mpop(\u001b[39m\"\u001b[39m\u001b[39mextra_params\u001b[39m\u001b[39m\"\u001b[39m, \u001b[39mNone\u001b[39;00m)\n\u001b[0;32m--> 299\u001b[0m     result \u001b[39m=\u001b[39m func(\u001b[39m*\u001b[39;49margs, \u001b[39m*\u001b[39;49m\u001b[39m*\u001b[39;49mkwargs)\n\u001b[1;32m    300\u001b[0m     \u001b[39mtry\u001b[39;00m:\n\u001b[1;32m    301\u001b[0m         \u001b[39mdel\u001b[39;00m args[\u001b[39m0\u001b[39m]\u001b[39m.\u001b[39m_extra_params\n",
      "File \u001b[0;32m~/miniconda3/envs/group55/lib/python3.8/site-packages/openrouteservice/distance_matrix.py:116\u001b[0m, in \u001b[0;36mdistance_matrix\u001b[0;34m(client, locations, profile, sources, destinations, metrics, resolve_locations, units, optimized, validate, dry_run)\u001b[0m\n\u001b[1;32m    113\u001b[0m \u001b[39mif\u001b[39;00m optimized \u001b[39mis\u001b[39;00m \u001b[39mnot\u001b[39;00m \u001b[39mNone\u001b[39;00m:\n\u001b[1;32m    114\u001b[0m     params[\u001b[39m\"\u001b[39m\u001b[39moptimized\u001b[39m\u001b[39m\"\u001b[39m] \u001b[39m=\u001b[39m optimized\n\u001b[0;32m--> 116\u001b[0m \u001b[39mreturn\u001b[39;00m client\u001b[39m.\u001b[39;49mrequest(\u001b[39m\"\u001b[39;49m\u001b[39m/v2/matrix/\u001b[39;49m\u001b[39m\"\u001b[39;49m \u001b[39m+\u001b[39;49m profile \u001b[39m+\u001b[39;49m \u001b[39m'\u001b[39;49m\u001b[39m/json\u001b[39;49m\u001b[39m'\u001b[39;49m, {}, post_json\u001b[39m=\u001b[39;49mparams, dry_run\u001b[39m=\u001b[39;49mdry_run)\n",
      "File \u001b[0;32m~/miniconda3/envs/group55/lib/python3.8/site-packages/openrouteservice/client.py:204\u001b[0m, in \u001b[0;36mClient.request\u001b[0;34m(self, url, get_params, first_request_time, retry_counter, requests_kwargs, post_json, dry_run)\u001b[0m\n\u001b[1;32m    200\u001b[0m     \u001b[39mreturn\u001b[39;00m \u001b[39mself\u001b[39m\u001b[39m.\u001b[39mrequest(url, get_params, first_request_time,\n\u001b[1;32m    201\u001b[0m                         retry_counter \u001b[39m+\u001b[39m \u001b[39m1\u001b[39m, requests_kwargs, post_json)\n\u001b[1;32m    203\u001b[0m \u001b[39mtry\u001b[39;00m:\n\u001b[0;32m--> 204\u001b[0m     result \u001b[39m=\u001b[39m \u001b[39mself\u001b[39;49m\u001b[39m.\u001b[39;49m_get_body(response)\n\u001b[1;32m    206\u001b[0m     \u001b[39mreturn\u001b[39;00m result\n\u001b[1;32m    207\u001b[0m \u001b[39mexcept\u001b[39;00m exceptions\u001b[39m.\u001b[39m_RetriableRequest \u001b[39mas\u001b[39;00m e:\n",
      "File \u001b[0;32m~/miniconda3/envs/group55/lib/python3.8/site-packages/openrouteservice/client.py:242\u001b[0m, in \u001b[0;36mClient._get_body\u001b[0;34m(response)\u001b[0m\n\u001b[1;32m    237\u001b[0m     \u001b[39mraise\u001b[39;00m exceptions\u001b[39m.\u001b[39m_OverQueryLimit(\n\u001b[1;32m    238\u001b[0m         status_code,\n\u001b[1;32m    239\u001b[0m         body\n\u001b[1;32m    240\u001b[0m     )\n\u001b[1;32m    241\u001b[0m \u001b[39mif\u001b[39;00m status_code \u001b[39m!=\u001b[39m \u001b[39m200\u001b[39m:\n\u001b[0;32m--> 242\u001b[0m     \u001b[39mraise\u001b[39;00m exceptions\u001b[39m.\u001b[39mApiError(\n\u001b[1;32m    243\u001b[0m         status_code,\n\u001b[1;32m    244\u001b[0m         body\n\u001b[1;32m    245\u001b[0m     )\n\u001b[1;32m    247\u001b[0m \u001b[39mreturn\u001b[39;00m body\n",
      "\u001b[0;31mApiError\u001b[0m: 400 ({'error': {'code': 6003, 'message': \"Parameter 'locations' has incorrect value or format.\"}, 'info': {'engine': {'version': '6.7.0', 'build_date': '2022-02-18T19:37:41Z'}, 'timestamp': 1663313511548}})"
     ]
    }
   ],
   "source": [
    "get_coordinate(rent, school)[0]"
   ]
  },
  {
   "cell_type": "code",
   "execution_count": 93,
   "metadata": {},
   "outputs": [
    {
     "ename": "ApiError",
     "evalue": "400 ({'error': {'code': 6003, 'message': \"Parameter 'locations' has incorrect value or format.\"}, 'info': {'engine': {'version': '6.7.0', 'build_date': '2022-02-18T19:37:41Z'}, 'timestamp': 1663312834439}})",
     "output_type": "error",
     "traceback": [
      "\u001b[0;31m---------------------------------------------------------------------------\u001b[0m",
      "\u001b[0;31mApiError\u001b[0m                                  Traceback (most recent call last)",
      "\u001b[1;32m/home/jnniu/Group55/generic-real-estate-consulting-project-group-55/notebooks/distance_durations.ipynb Cell 10\u001b[0m in \u001b[0;36m<cell line: 1>\u001b[0;34m()\u001b[0m\n\u001b[0;32m----> <a href='vscode-notebook-cell://wsl%2Bubuntu/home/jnniu/Group55/generic-real-estate-consulting-project-group-55/notebooks/distance_durations.ipynb#W6sdnNjb2RlLXJlbW90ZQ%3D%3D?line=0'>1</a>\u001b[0m data \u001b[39m=\u001b[39m {\u001b[39m'\u001b[39m\u001b[39mrent_address\u001b[39m\u001b[39m'\u001b[39m: get_coordinate(rent, school)[\u001b[39m0\u001b[39m], \u001b[39m'\u001b[39m\u001b[39mstop_name\u001b[39m\u001b[39m'\u001b[39m: get_coordinate(rent, school)[\u001b[39m1\u001b[39m], \u001b[39m'\u001b[39m\u001b[39mmin_distance\u001b[39m\u001b[39m'\u001b[39m: get_coordinate(rent, school)[\u001b[39m2\u001b[39m], \u001b[39m'\u001b[39m\u001b[39mmin_duration\u001b[39m\u001b[39m'\u001b[39m: get_coordinate(rent, school)[\u001b[39m3\u001b[39m]}\n\u001b[1;32m      <a href='vscode-notebook-cell://wsl%2Bubuntu/home/jnniu/Group55/generic-real-estate-consulting-project-group-55/notebooks/distance_durations.ipynb#W6sdnNjb2RlLXJlbW90ZQ%3D%3D?line=1'>2</a>\u001b[0m df \u001b[39m=\u001b[39m pd\u001b[39m.\u001b[39mDataFrame(data)\n\u001b[1;32m      <a href='vscode-notebook-cell://wsl%2Bubuntu/home/jnniu/Group55/generic-real-estate-consulting-project-group-55/notebooks/distance_durations.ipynb#W6sdnNjb2RlLXJlbW90ZQ%3D%3D?line=3'>4</a>\u001b[0m df\u001b[39m.\u001b[39mto_csv(\u001b[39m\"\u001b[39m\u001b[39m../data/curated/distances_durations_school21.csv\u001b[39m\u001b[39m\"\u001b[39m, index\u001b[39m=\u001b[39m\u001b[39mFalse\u001b[39;00m)\n",
      "\u001b[1;32m/home/jnniu/Group55/generic-real-estate-consulting-project-group-55/notebooks/distance_durations.ipynb Cell 10\u001b[0m in \u001b[0;36mget_coordinate\u001b[0;34m(rent, school)\u001b[0m\n\u001b[1;32m     <a href='vscode-notebook-cell://wsl%2Bubuntu/home/jnniu/Group55/generic-real-estate-consulting-project-group-55/notebooks/distance_durations.ipynb#W6sdnNjb2RlLXJlbW90ZQ%3D%3D?line=13'>14</a>\u001b[0m coor_part\u001b[39m.\u001b[39mappend([rent[\u001b[39m\"\u001b[39m\u001b[39mlongitude\u001b[39m\u001b[39m\"\u001b[39m][i], rent[\u001b[39m\"\u001b[39m\u001b[39mlatitude\u001b[39m\u001b[39m\"\u001b[39m][i]])\n\u001b[1;32m     <a href='vscode-notebook-cell://wsl%2Bubuntu/home/jnniu/Group55/generic-real-estate-consulting-project-group-55/notebooks/distance_durations.ipynb#W6sdnNjb2RlLXJlbW90ZQ%3D%3D?line=14'>15</a>\u001b[0m coor_part\u001b[39m.\u001b[39mextend(coordinates[k\u001b[39m*\u001b[39mtimes(\u001b[39mlen\u001b[39m(coordinates))[\u001b[39m0\u001b[39m]:(k\u001b[39m+\u001b[39m\u001b[39m1\u001b[39m)\u001b[39m*\u001b[39mtimes(\u001b[39mlen\u001b[39m(coordinates))[\u001b[39m0\u001b[39m]])\n\u001b[0;32m---> <a href='vscode-notebook-cell://wsl%2Bubuntu/home/jnniu/Group55/generic-real-estate-consulting-project-group-55/notebooks/distance_durations.ipynb#W6sdnNjb2RlLXJlbW90ZQ%3D%3D?line=15'>16</a>\u001b[0m matrix \u001b[39m=\u001b[39m cal_distance(coor_part, client)\n\u001b[1;32m     <a href='vscode-notebook-cell://wsl%2Bubuntu/home/jnniu/Group55/generic-real-estate-consulting-project-group-55/notebooks/distance_durations.ipynb#W6sdnNjb2RlLXJlbW90ZQ%3D%3D?line=16'>17</a>\u001b[0m distances \u001b[39m=\u001b[39m distances \u001b[39m+\u001b[39m matrix[\u001b[39m1\u001b[39m][\u001b[39m0\u001b[39m][\u001b[39m1\u001b[39m:]\n\u001b[1;32m     <a href='vscode-notebook-cell://wsl%2Bubuntu/home/jnniu/Group55/generic-real-estate-consulting-project-group-55/notebooks/distance_durations.ipynb#W6sdnNjb2RlLXJlbW90ZQ%3D%3D?line=17'>18</a>\u001b[0m durations \u001b[39m=\u001b[39m durations \u001b[39m+\u001b[39m matrix[\u001b[39m0\u001b[39m][\u001b[39m0\u001b[39m][\u001b[39m1\u001b[39m:]\n",
      "\u001b[1;32m/home/jnniu/Group55/generic-real-estate-consulting-project-group-55/notebooks/distance_durations.ipynb Cell 10\u001b[0m in \u001b[0;36mcal_distance\u001b[0;34m(coordinates, client)\u001b[0m\n\u001b[1;32m      <a href='vscode-notebook-cell://wsl%2Bubuntu/home/jnniu/Group55/generic-real-estate-consulting-project-group-55/notebooks/distance_durations.ipynb#W6sdnNjb2RlLXJlbW90ZQ%3D%3D?line=0'>1</a>\u001b[0m \u001b[39mdef\u001b[39;00m \u001b[39mcal_distance\u001b[39m(coordinates, client):\n\u001b[0;32m----> <a href='vscode-notebook-cell://wsl%2Bubuntu/home/jnniu/Group55/generic-real-estate-consulting-project-group-55/notebooks/distance_durations.ipynb#W6sdnNjb2RlLXJlbW90ZQ%3D%3D?line=1'>2</a>\u001b[0m     matrix \u001b[39m=\u001b[39m client\u001b[39m.\u001b[39;49mdistance_matrix(\n\u001b[1;32m      <a href='vscode-notebook-cell://wsl%2Bubuntu/home/jnniu/Group55/generic-real-estate-consulting-project-group-55/notebooks/distance_durations.ipynb#W6sdnNjb2RlLXJlbW90ZQ%3D%3D?line=2'>3</a>\u001b[0m     locations\u001b[39m=\u001b[39;49mcoordinates,\n\u001b[1;32m      <a href='vscode-notebook-cell://wsl%2Bubuntu/home/jnniu/Group55/generic-real-estate-consulting-project-group-55/notebooks/distance_durations.ipynb#W6sdnNjb2RlLXJlbW90ZQ%3D%3D?line=3'>4</a>\u001b[0m     profile\u001b[39m=\u001b[39;49m\u001b[39m'\u001b[39;49m\u001b[39mdriving-car\u001b[39;49m\u001b[39m'\u001b[39;49m,\n\u001b[1;32m      <a href='vscode-notebook-cell://wsl%2Bubuntu/home/jnniu/Group55/generic-real-estate-consulting-project-group-55/notebooks/distance_durations.ipynb#W6sdnNjb2RlLXJlbW90ZQ%3D%3D?line=4'>5</a>\u001b[0m     metrics\u001b[39m=\u001b[39;49m[\u001b[39m'\u001b[39;49m\u001b[39mdistance\u001b[39;49m\u001b[39m'\u001b[39;49m, \u001b[39m'\u001b[39;49m\u001b[39mduration\u001b[39;49m\u001b[39m'\u001b[39;49m],\n\u001b[1;32m      <a href='vscode-notebook-cell://wsl%2Bubuntu/home/jnniu/Group55/generic-real-estate-consulting-project-group-55/notebooks/distance_durations.ipynb#W6sdnNjb2RlLXJlbW90ZQ%3D%3D?line=5'>6</a>\u001b[0m     validate\u001b[39m=\u001b[39;49m\u001b[39mFalse\u001b[39;49;00m,\n\u001b[1;32m      <a href='vscode-notebook-cell://wsl%2Bubuntu/home/jnniu/Group55/generic-real-estate-consulting-project-group-55/notebooks/distance_durations.ipynb#W6sdnNjb2RlLXJlbW90ZQ%3D%3D?line=6'>7</a>\u001b[0m     )\n\u001b[1;32m      <a href='vscode-notebook-cell://wsl%2Bubuntu/home/jnniu/Group55/generic-real-estate-consulting-project-group-55/notebooks/distance_durations.ipynb#W6sdnNjb2RlLXJlbW90ZQ%3D%3D?line=7'>8</a>\u001b[0m     time\u001b[39m.\u001b[39msleep(\u001b[39m2\u001b[39m)\n\u001b[1;32m      <a href='vscode-notebook-cell://wsl%2Bubuntu/home/jnniu/Group55/generic-real-estate-consulting-project-group-55/notebooks/distance_durations.ipynb#W6sdnNjb2RlLXJlbW90ZQ%3D%3D?line=8'>9</a>\u001b[0m     \u001b[39mreturn\u001b[39;00m matrix[\u001b[39m'\u001b[39m\u001b[39mdurations\u001b[39m\u001b[39m'\u001b[39m], matrix[\u001b[39m'\u001b[39m\u001b[39mdistances\u001b[39m\u001b[39m'\u001b[39m]\n",
      "File \u001b[0;32m~/miniconda3/envs/group55/lib/python3.8/site-packages/openrouteservice/client.py:299\u001b[0m, in \u001b[0;36m_make_api_method.<locals>.wrapper\u001b[0;34m(*args, **kwargs)\u001b[0m\n\u001b[1;32m    296\u001b[0m \u001b[39m@functools\u001b[39m\u001b[39m.\u001b[39mwraps(func)\n\u001b[1;32m    297\u001b[0m \u001b[39mdef\u001b[39;00m \u001b[39mwrapper\u001b[39m(\u001b[39m*\u001b[39margs, \u001b[39m*\u001b[39m\u001b[39m*\u001b[39mkwargs):\n\u001b[1;32m    298\u001b[0m     args[\u001b[39m0\u001b[39m]\u001b[39m.\u001b[39m_extra_params \u001b[39m=\u001b[39m kwargs\u001b[39m.\u001b[39mpop(\u001b[39m\"\u001b[39m\u001b[39mextra_params\u001b[39m\u001b[39m\"\u001b[39m, \u001b[39mNone\u001b[39;00m)\n\u001b[0;32m--> 299\u001b[0m     result \u001b[39m=\u001b[39m func(\u001b[39m*\u001b[39;49margs, \u001b[39m*\u001b[39;49m\u001b[39m*\u001b[39;49mkwargs)\n\u001b[1;32m    300\u001b[0m     \u001b[39mtry\u001b[39;00m:\n\u001b[1;32m    301\u001b[0m         \u001b[39mdel\u001b[39;00m args[\u001b[39m0\u001b[39m]\u001b[39m.\u001b[39m_extra_params\n",
      "File \u001b[0;32m~/miniconda3/envs/group55/lib/python3.8/site-packages/openrouteservice/distance_matrix.py:116\u001b[0m, in \u001b[0;36mdistance_matrix\u001b[0;34m(client, locations, profile, sources, destinations, metrics, resolve_locations, units, optimized, validate, dry_run)\u001b[0m\n\u001b[1;32m    113\u001b[0m \u001b[39mif\u001b[39;00m optimized \u001b[39mis\u001b[39;00m \u001b[39mnot\u001b[39;00m \u001b[39mNone\u001b[39;00m:\n\u001b[1;32m    114\u001b[0m     params[\u001b[39m\"\u001b[39m\u001b[39moptimized\u001b[39m\u001b[39m\"\u001b[39m] \u001b[39m=\u001b[39m optimized\n\u001b[0;32m--> 116\u001b[0m \u001b[39mreturn\u001b[39;00m client\u001b[39m.\u001b[39;49mrequest(\u001b[39m\"\u001b[39;49m\u001b[39m/v2/matrix/\u001b[39;49m\u001b[39m\"\u001b[39;49m \u001b[39m+\u001b[39;49m profile \u001b[39m+\u001b[39;49m \u001b[39m'\u001b[39;49m\u001b[39m/json\u001b[39;49m\u001b[39m'\u001b[39;49m, {}, post_json\u001b[39m=\u001b[39;49mparams, dry_run\u001b[39m=\u001b[39;49mdry_run)\n",
      "File \u001b[0;32m~/miniconda3/envs/group55/lib/python3.8/site-packages/openrouteservice/client.py:204\u001b[0m, in \u001b[0;36mClient.request\u001b[0;34m(self, url, get_params, first_request_time, retry_counter, requests_kwargs, post_json, dry_run)\u001b[0m\n\u001b[1;32m    200\u001b[0m     \u001b[39mreturn\u001b[39;00m \u001b[39mself\u001b[39m\u001b[39m.\u001b[39mrequest(url, get_params, first_request_time,\n\u001b[1;32m    201\u001b[0m                         retry_counter \u001b[39m+\u001b[39m \u001b[39m1\u001b[39m, requests_kwargs, post_json)\n\u001b[1;32m    203\u001b[0m \u001b[39mtry\u001b[39;00m:\n\u001b[0;32m--> 204\u001b[0m     result \u001b[39m=\u001b[39m \u001b[39mself\u001b[39;49m\u001b[39m.\u001b[39;49m_get_body(response)\n\u001b[1;32m    206\u001b[0m     \u001b[39mreturn\u001b[39;00m result\n\u001b[1;32m    207\u001b[0m \u001b[39mexcept\u001b[39;00m exceptions\u001b[39m.\u001b[39m_RetriableRequest \u001b[39mas\u001b[39;00m e:\n",
      "File \u001b[0;32m~/miniconda3/envs/group55/lib/python3.8/site-packages/openrouteservice/client.py:242\u001b[0m, in \u001b[0;36mClient._get_body\u001b[0;34m(response)\u001b[0m\n\u001b[1;32m    237\u001b[0m     \u001b[39mraise\u001b[39;00m exceptions\u001b[39m.\u001b[39m_OverQueryLimit(\n\u001b[1;32m    238\u001b[0m         status_code,\n\u001b[1;32m    239\u001b[0m         body\n\u001b[1;32m    240\u001b[0m     )\n\u001b[1;32m    241\u001b[0m \u001b[39mif\u001b[39;00m status_code \u001b[39m!=\u001b[39m \u001b[39m200\u001b[39m:\n\u001b[0;32m--> 242\u001b[0m     \u001b[39mraise\u001b[39;00m exceptions\u001b[39m.\u001b[39mApiError(\n\u001b[1;32m    243\u001b[0m         status_code,\n\u001b[1;32m    244\u001b[0m         body\n\u001b[1;32m    245\u001b[0m     )\n\u001b[1;32m    247\u001b[0m \u001b[39mreturn\u001b[39;00m body\n",
      "\u001b[0;31mApiError\u001b[0m: 400 ({'error': {'code': 6003, 'message': \"Parameter 'locations' has incorrect value or format.\"}, 'info': {'engine': {'version': '6.7.0', 'build_date': '2022-02-18T19:37:41Z'}, 'timestamp': 1663312834439}})"
     ]
    }
   ],
   "source": [
    "data = {'rent_address': get_coordinate(rent, school)[0], 'stop_name': get_coordinate(rent, school)[1], 'min_distance': get_coordinate(rent, school)[2], 'min_duration': get_coordinate(rent, school)[3]}\n",
    "df = pd.DataFrame(data)\n",
    "\n",
    "df.to_csv(\"../data/curated/distances_durations_school21.csv\", index=False)"
   ]
  },
  {
   "cell_type": "code",
   "execution_count": 46,
   "metadata": {},
   "outputs": [
    {
     "data": {
      "text/html": [
       "<div>\n",
       "<style scoped>\n",
       "    .dataframe tbody tr th:only-of-type {\n",
       "        vertical-align: middle;\n",
       "    }\n",
       "\n",
       "    .dataframe tbody tr th {\n",
       "        vertical-align: top;\n",
       "    }\n",
       "\n",
       "    .dataframe thead th {\n",
       "        text-align: right;\n",
       "    }\n",
       "</style>\n",
       "<table border=\"1\" class=\"dataframe\">\n",
       "  <thead>\n",
       "    <tr style=\"text-align: right;\">\n",
       "      <th></th>\n",
       "      <th>Fin_year</th>\n",
       "      <th>Stop_ID</th>\n",
       "      <th>Stop_name</th>\n",
       "      <th>Stop_lat</th>\n",
       "      <th>Stop_long</th>\n",
       "      <th>Pax_annual</th>\n",
       "    </tr>\n",
       "  </thead>\n",
       "  <tbody>\n",
       "    <tr>\n",
       "      <th>0</th>\n",
       "      <td>FY19-20</td>\n",
       "      <td>19980</td>\n",
       "      <td>Melton Railway Station (Melton South)</td>\n",
       "      <td>-37.703362</td>\n",
       "      <td>144.572217</td>\n",
       "      <td>653450</td>\n",
       "    </tr>\n",
       "    <tr>\n",
       "      <th>1</th>\n",
       "      <td>FY19-20</td>\n",
       "      <td>19981</td>\n",
       "      <td>Rockbank Railway Station (Rockbank)</td>\n",
       "      <td>-37.729258</td>\n",
       "      <td>144.650630</td>\n",
       "      <td>57650</td>\n",
       "    </tr>\n",
       "    <tr>\n",
       "      <th>2</th>\n",
       "      <td>FY19-20</td>\n",
       "      <td>19982</td>\n",
       "      <td>Deer Park Railway Station (Deer Park)</td>\n",
       "      <td>-37.777760</td>\n",
       "      <td>144.772307</td>\n",
       "      <td>395900</td>\n",
       "    </tr>\n",
       "    <tr>\n",
       "      <th>3</th>\n",
       "      <td>FY19-20</td>\n",
       "      <td>20020</td>\n",
       "      <td>Ardeer Railway Station (Ardeer)</td>\n",
       "      <td>-37.783063</td>\n",
       "      <td>144.802193</td>\n",
       "      <td>46100</td>\n",
       "    </tr>\n",
       "    <tr>\n",
       "      <th>4</th>\n",
       "      <td>FY19-20</td>\n",
       "      <td>20287</td>\n",
       "      <td>Albury Railway Station (Albury (NSW))</td>\n",
       "      <td>-36.084263</td>\n",
       "      <td>146.924518</td>\n",
       "      <td>26300</td>\n",
       "    </tr>\n",
       "  </tbody>\n",
       "</table>\n",
       "</div>"
      ],
      "text/plain": [
       "  Fin_year  Stop_ID                              Stop_name   Stop_lat  \\\n",
       "0  FY19-20    19980  Melton Railway Station (Melton South) -37.703362   \n",
       "1  FY19-20    19981    Rockbank Railway Station (Rockbank) -37.729258   \n",
       "2  FY19-20    19982  Deer Park Railway Station (Deer Park) -37.777760   \n",
       "3  FY19-20    20020        Ardeer Railway Station (Ardeer) -37.783063   \n",
       "4  FY19-20    20287  Albury Railway Station (Albury (NSW)) -36.084263   \n",
       "\n",
       "    Stop_long  Pax_annual  \n",
       "0  144.572217      653450  \n",
       "1  144.650630       57650  \n",
       "2  144.772307      395900  \n",
       "3  144.802193       46100  \n",
       "4  146.924518       26300  "
      ]
     },
     "execution_count": 46,
     "metadata": {},
     "output_type": "execute_result"
    }
   ],
   "source": [
    "train = pd.read_excel(f'{raw_dir}train_station_19to20.xlsx')\n",
    "train.head()"
   ]
  },
  {
   "cell_type": "code",
   "execution_count": 40,
   "metadata": {},
   "outputs": [
    {
     "ename": "ApiError",
     "evalue": "400 ({'error': {'code': 6003, 'message': \"Parameter 'locations' has incorrect value or format.\"}, 'info': {'engine': {'version': '6.7.0', 'build_date': '2022-02-18T19:37:41Z'}, 'timestamp': 1663305368433}})",
     "output_type": "error",
     "traceback": [
      "\u001b[0;31m---------------------------------------------------------------------------\u001b[0m",
      "\u001b[0;31mApiError\u001b[0m                                  Traceback (most recent call last)",
      "\u001b[1;32m/home/jnniu/Group55/generic-real-estate-consulting-project-group-55/notebooks/distance_durations.ipynb Cell 12\u001b[0m in \u001b[0;36m<cell line: 38>\u001b[0;34m()\u001b[0m\n\u001b[1;32m     <a href='vscode-notebook-cell://wsl%2Bubuntu/home/jnniu/Group55/generic-real-estate-consulting-project-group-55/notebooks/distance_durations.ipynb#X16sdnNjb2RlLXJlbW90ZQ%3D%3D?line=34'>35</a>\u001b[0m     df \u001b[39m=\u001b[39m DataFrame(data)\n\u001b[1;32m     <a href='vscode-notebook-cell://wsl%2Bubuntu/home/jnniu/Group55/generic-real-estate-consulting-project-group-55/notebooks/distance_durations.ipynb#X16sdnNjb2RlLXJlbW90ZQ%3D%3D?line=35'>36</a>\u001b[0m     \u001b[39mreturn\u001b[39;00m df\n\u001b[0;32m---> <a href='vscode-notebook-cell://wsl%2Bubuntu/home/jnniu/Group55/generic-real-estate-consulting-project-group-55/notebooks/distance_durations.ipynb#X16sdnNjb2RlLXJlbW90ZQ%3D%3D?line=37'>38</a>\u001b[0m df \u001b[39m=\u001b[39m data_frame(rent, train)\n",
      "\u001b[1;32m/home/jnniu/Group55/generic-real-estate-consulting-project-group-55/notebooks/distance_durations.ipynb Cell 12\u001b[0m in \u001b[0;36mdata_frame\u001b[0;34m(rent, train)\u001b[0m\n\u001b[1;32m     <a href='vscode-notebook-cell://wsl%2Bubuntu/home/jnniu/Group55/generic-real-estate-consulting-project-group-55/notebooks/distance_durations.ipynb#X16sdnNjb2RlLXJlbW90ZQ%3D%3D?line=31'>32</a>\u001b[0m \u001b[39mdef\u001b[39;00m \u001b[39mdata_frame\u001b[39m(rent, train):\n\u001b[1;32m     <a href='vscode-notebook-cell://wsl%2Bubuntu/home/jnniu/Group55/generic-real-estate-consulting-project-group-55/notebooks/distance_durations.ipynb#X16sdnNjb2RlLXJlbW90ZQ%3D%3D?line=32'>33</a>\u001b[0m     \u001b[39m#get dataframe\u001b[39;00m\n\u001b[0;32m---> <a href='vscode-notebook-cell://wsl%2Bubuntu/home/jnniu/Group55/generic-real-estate-consulting-project-group-55/notebooks/distance_durations.ipynb#X16sdnNjb2RlLXJlbW90ZQ%3D%3D?line=33'>34</a>\u001b[0m     data \u001b[39m=\u001b[39m {\u001b[39m'\u001b[39m\u001b[39mrent_address\u001b[39m\u001b[39m'\u001b[39m: get_coor(rent, train)[\u001b[39m0\u001b[39m], \u001b[39m'\u001b[39m\u001b[39mstop_name\u001b[39m\u001b[39m'\u001b[39m: get_coor(rent, train)[\u001b[39m1\u001b[39m], \u001b[39m'\u001b[39m\u001b[39mmin_distance\u001b[39m\u001b[39m'\u001b[39m: get_coor(rent, train)[\u001b[39m2\u001b[39m], \u001b[39m'\u001b[39m\u001b[39mmin_duration\u001b[39m\u001b[39m'\u001b[39m: get_coor(rent, train)[\u001b[39m3\u001b[39m]}\n\u001b[1;32m     <a href='vscode-notebook-cell://wsl%2Bubuntu/home/jnniu/Group55/generic-real-estate-consulting-project-group-55/notebooks/distance_durations.ipynb#X16sdnNjb2RlLXJlbW90ZQ%3D%3D?line=34'>35</a>\u001b[0m     df \u001b[39m=\u001b[39m DataFrame(data)\n\u001b[1;32m     <a href='vscode-notebook-cell://wsl%2Bubuntu/home/jnniu/Group55/generic-real-estate-consulting-project-group-55/notebooks/distance_durations.ipynb#X16sdnNjb2RlLXJlbW90ZQ%3D%3D?line=35'>36</a>\u001b[0m     \u001b[39mreturn\u001b[39;00m df\n",
      "\u001b[1;32m/home/jnniu/Group55/generic-real-estate-consulting-project-group-55/notebooks/distance_durations.ipynb Cell 12\u001b[0m in \u001b[0;36mget_coor\u001b[0;34m(rent, train)\u001b[0m\n\u001b[1;32m     <a href='vscode-notebook-cell://wsl%2Bubuntu/home/jnniu/Group55/generic-real-estate-consulting-project-group-55/notebooks/distance_durations.ipynb#X16sdnNjb2RlLXJlbW90ZQ%3D%3D?line=13'>14</a>\u001b[0m coor_part\u001b[39m.\u001b[39mappend([rent[\u001b[39m\"\u001b[39m\u001b[39mlongitude\u001b[39m\u001b[39m\"\u001b[39m][i], rent[\u001b[39m\"\u001b[39m\u001b[39mlatitude\u001b[39m\u001b[39m\"\u001b[39m][i]])\n\u001b[1;32m     <a href='vscode-notebook-cell://wsl%2Bubuntu/home/jnniu/Group55/generic-real-estate-consulting-project-group-55/notebooks/distance_durations.ipynb#X16sdnNjb2RlLXJlbW90ZQ%3D%3D?line=14'>15</a>\u001b[0m coor_part\u001b[39m.\u001b[39mextend(coordinates[k\u001b[39m*\u001b[39mtimes(\u001b[39mlen\u001b[39m(coordinates))[\u001b[39m0\u001b[39m]:(k\u001b[39m+\u001b[39m\u001b[39m1\u001b[39m)\u001b[39m*\u001b[39mtimes(\u001b[39mlen\u001b[39m(coordinates))[\u001b[39m0\u001b[39m]])\n\u001b[0;32m---> <a href='vscode-notebook-cell://wsl%2Bubuntu/home/jnniu/Group55/generic-real-estate-consulting-project-group-55/notebooks/distance_durations.ipynb#X16sdnNjb2RlLXJlbW90ZQ%3D%3D?line=15'>16</a>\u001b[0m matrix \u001b[39m=\u001b[39m cal_distance(coor_part, client)\n\u001b[1;32m     <a href='vscode-notebook-cell://wsl%2Bubuntu/home/jnniu/Group55/generic-real-estate-consulting-project-group-55/notebooks/distance_durations.ipynb#X16sdnNjb2RlLXJlbW90ZQ%3D%3D?line=16'>17</a>\u001b[0m time\u001b[39m.\u001b[39msleep(\u001b[39m4\u001b[39m)\n\u001b[1;32m     <a href='vscode-notebook-cell://wsl%2Bubuntu/home/jnniu/Group55/generic-real-estate-consulting-project-group-55/notebooks/distance_durations.ipynb#X16sdnNjb2RlLXJlbW90ZQ%3D%3D?line=17'>18</a>\u001b[0m distances \u001b[39m=\u001b[39m distances \u001b[39m+\u001b[39m matrix[\u001b[39m1\u001b[39m][\u001b[39m0\u001b[39m][\u001b[39m1\u001b[39m:]\n",
      "\u001b[1;32m/home/jnniu/Group55/generic-real-estate-consulting-project-group-55/notebooks/distance_durations.ipynb Cell 12\u001b[0m in \u001b[0;36mcal_distance\u001b[0;34m(coordinates, client)\u001b[0m\n\u001b[1;32m     <a href='vscode-notebook-cell://wsl%2Bubuntu/home/jnniu/Group55/generic-real-estate-consulting-project-group-55/notebooks/distance_durations.ipynb#X16sdnNjb2RlLXJlbW90ZQ%3D%3D?line=30'>31</a>\u001b[0m \u001b[39mdef\u001b[39;00m \u001b[39mcal_distance\u001b[39m(coordinates, client):\n\u001b[0;32m---> <a href='vscode-notebook-cell://wsl%2Bubuntu/home/jnniu/Group55/generic-real-estate-consulting-project-group-55/notebooks/distance_durations.ipynb#X16sdnNjb2RlLXJlbW90ZQ%3D%3D?line=31'>32</a>\u001b[0m     matrix \u001b[39m=\u001b[39m client\u001b[39m.\u001b[39;49mdistance_matrix(\n\u001b[1;32m     <a href='vscode-notebook-cell://wsl%2Bubuntu/home/jnniu/Group55/generic-real-estate-consulting-project-group-55/notebooks/distance_durations.ipynb#X16sdnNjb2RlLXJlbW90ZQ%3D%3D?line=32'>33</a>\u001b[0m     locations\u001b[39m=\u001b[39;49mcoordinates,\n\u001b[1;32m     <a href='vscode-notebook-cell://wsl%2Bubuntu/home/jnniu/Group55/generic-real-estate-consulting-project-group-55/notebooks/distance_durations.ipynb#X16sdnNjb2RlLXJlbW90ZQ%3D%3D?line=33'>34</a>\u001b[0m     profile\u001b[39m=\u001b[39;49m\u001b[39m'\u001b[39;49m\u001b[39mdriving-car\u001b[39;49m\u001b[39m'\u001b[39;49m,\n\u001b[1;32m     <a href='vscode-notebook-cell://wsl%2Bubuntu/home/jnniu/Group55/generic-real-estate-consulting-project-group-55/notebooks/distance_durations.ipynb#X16sdnNjb2RlLXJlbW90ZQ%3D%3D?line=34'>35</a>\u001b[0m     metrics\u001b[39m=\u001b[39;49m[\u001b[39m'\u001b[39;49m\u001b[39mdistance\u001b[39;49m\u001b[39m'\u001b[39;49m, \u001b[39m'\u001b[39;49m\u001b[39mduration\u001b[39;49m\u001b[39m'\u001b[39;49m],\n\u001b[1;32m     <a href='vscode-notebook-cell://wsl%2Bubuntu/home/jnniu/Group55/generic-real-estate-consulting-project-group-55/notebooks/distance_durations.ipynb#X16sdnNjb2RlLXJlbW90ZQ%3D%3D?line=35'>36</a>\u001b[0m     validate\u001b[39m=\u001b[39;49m\u001b[39mFalse\u001b[39;49;00m,\n\u001b[1;32m     <a href='vscode-notebook-cell://wsl%2Bubuntu/home/jnniu/Group55/generic-real-estate-consulting-project-group-55/notebooks/distance_durations.ipynb#X16sdnNjb2RlLXJlbW90ZQ%3D%3D?line=36'>37</a>\u001b[0m     )\n\u001b[1;32m     <a href='vscode-notebook-cell://wsl%2Bubuntu/home/jnniu/Group55/generic-real-estate-consulting-project-group-55/notebooks/distance_durations.ipynb#X16sdnNjb2RlLXJlbW90ZQ%3D%3D?line=37'>38</a>\u001b[0m     \u001b[39mreturn\u001b[39;00m matrix[\u001b[39m'\u001b[39m\u001b[39mdurations\u001b[39m\u001b[39m'\u001b[39m], matrix[\u001b[39m'\u001b[39m\u001b[39mdistances\u001b[39m\u001b[39m'\u001b[39m]\n",
      "File \u001b[0;32m~/miniconda3/envs/group55/lib/python3.8/site-packages/openrouteservice/client.py:299\u001b[0m, in \u001b[0;36m_make_api_method.<locals>.wrapper\u001b[0;34m(*args, **kwargs)\u001b[0m\n\u001b[1;32m    296\u001b[0m \u001b[39m@functools\u001b[39m\u001b[39m.\u001b[39mwraps(func)\n\u001b[1;32m    297\u001b[0m \u001b[39mdef\u001b[39;00m \u001b[39mwrapper\u001b[39m(\u001b[39m*\u001b[39margs, \u001b[39m*\u001b[39m\u001b[39m*\u001b[39mkwargs):\n\u001b[1;32m    298\u001b[0m     args[\u001b[39m0\u001b[39m]\u001b[39m.\u001b[39m_extra_params \u001b[39m=\u001b[39m kwargs\u001b[39m.\u001b[39mpop(\u001b[39m\"\u001b[39m\u001b[39mextra_params\u001b[39m\u001b[39m\"\u001b[39m, \u001b[39mNone\u001b[39;00m)\n\u001b[0;32m--> 299\u001b[0m     result \u001b[39m=\u001b[39m func(\u001b[39m*\u001b[39;49margs, \u001b[39m*\u001b[39;49m\u001b[39m*\u001b[39;49mkwargs)\n\u001b[1;32m    300\u001b[0m     \u001b[39mtry\u001b[39;00m:\n\u001b[1;32m    301\u001b[0m         \u001b[39mdel\u001b[39;00m args[\u001b[39m0\u001b[39m]\u001b[39m.\u001b[39m_extra_params\n",
      "File \u001b[0;32m~/miniconda3/envs/group55/lib/python3.8/site-packages/openrouteservice/distance_matrix.py:116\u001b[0m, in \u001b[0;36mdistance_matrix\u001b[0;34m(client, locations, profile, sources, destinations, metrics, resolve_locations, units, optimized, validate, dry_run)\u001b[0m\n\u001b[1;32m    113\u001b[0m \u001b[39mif\u001b[39;00m optimized \u001b[39mis\u001b[39;00m \u001b[39mnot\u001b[39;00m \u001b[39mNone\u001b[39;00m:\n\u001b[1;32m    114\u001b[0m     params[\u001b[39m\"\u001b[39m\u001b[39moptimized\u001b[39m\u001b[39m\"\u001b[39m] \u001b[39m=\u001b[39m optimized\n\u001b[0;32m--> 116\u001b[0m \u001b[39mreturn\u001b[39;00m client\u001b[39m.\u001b[39;49mrequest(\u001b[39m\"\u001b[39;49m\u001b[39m/v2/matrix/\u001b[39;49m\u001b[39m\"\u001b[39;49m \u001b[39m+\u001b[39;49m profile \u001b[39m+\u001b[39;49m \u001b[39m'\u001b[39;49m\u001b[39m/json\u001b[39;49m\u001b[39m'\u001b[39;49m, {}, post_json\u001b[39m=\u001b[39;49mparams, dry_run\u001b[39m=\u001b[39;49mdry_run)\n",
      "File \u001b[0;32m~/miniconda3/envs/group55/lib/python3.8/site-packages/openrouteservice/client.py:204\u001b[0m, in \u001b[0;36mClient.request\u001b[0;34m(self, url, get_params, first_request_time, retry_counter, requests_kwargs, post_json, dry_run)\u001b[0m\n\u001b[1;32m    200\u001b[0m     \u001b[39mreturn\u001b[39;00m \u001b[39mself\u001b[39m\u001b[39m.\u001b[39mrequest(url, get_params, first_request_time,\n\u001b[1;32m    201\u001b[0m                         retry_counter \u001b[39m+\u001b[39m \u001b[39m1\u001b[39m, requests_kwargs, post_json)\n\u001b[1;32m    203\u001b[0m \u001b[39mtry\u001b[39;00m:\n\u001b[0;32m--> 204\u001b[0m     result \u001b[39m=\u001b[39m \u001b[39mself\u001b[39;49m\u001b[39m.\u001b[39;49m_get_body(response)\n\u001b[1;32m    206\u001b[0m     \u001b[39mreturn\u001b[39;00m result\n\u001b[1;32m    207\u001b[0m \u001b[39mexcept\u001b[39;00m exceptions\u001b[39m.\u001b[39m_RetriableRequest \u001b[39mas\u001b[39;00m e:\n",
      "File \u001b[0;32m~/miniconda3/envs/group55/lib/python3.8/site-packages/openrouteservice/client.py:242\u001b[0m, in \u001b[0;36mClient._get_body\u001b[0;34m(response)\u001b[0m\n\u001b[1;32m    237\u001b[0m     \u001b[39mraise\u001b[39;00m exceptions\u001b[39m.\u001b[39m_OverQueryLimit(\n\u001b[1;32m    238\u001b[0m         status_code,\n\u001b[1;32m    239\u001b[0m         body\n\u001b[1;32m    240\u001b[0m     )\n\u001b[1;32m    241\u001b[0m \u001b[39mif\u001b[39;00m status_code \u001b[39m!=\u001b[39m \u001b[39m200\u001b[39m:\n\u001b[0;32m--> 242\u001b[0m     \u001b[39mraise\u001b[39;00m exceptions\u001b[39m.\u001b[39mApiError(\n\u001b[1;32m    243\u001b[0m         status_code,\n\u001b[1;32m    244\u001b[0m         body\n\u001b[1;32m    245\u001b[0m     )\n\u001b[1;32m    247\u001b[0m \u001b[39mreturn\u001b[39;00m body\n",
      "\u001b[0;31mApiError\u001b[0m: 400 ({'error': {'code': 6003, 'message': \"Parameter 'locations' has incorrect value or format.\"}, 'info': {'engine': {'version': '6.7.0', 'build_date': '2022-02-18T19:37:41Z'}, 'timestamp': 1663305368433}})"
     ]
    }
   ],
   "source": [
    "def get_coor(rent, train):\n",
    "    rent_address = []\n",
    "    stop_name = []\n",
    "    min_distance = []\n",
    "    min_duration = []\n",
    "    for i in range(10):\n",
    "        coordinates = []\n",
    "        distances = []\n",
    "        durations = []\n",
    "        for j in range(10):\n",
    "            coordinates.append([train[\"Stop_long\"][j], train[\"Stop_lat\"][j]])\n",
    "        for k in range(times(len(train))[1]):\n",
    "            coor_part = []\n",
    "            coor_part.append([rent[\"longitude\"][i], rent[\"latitude\"][i]])\n",
    "            coor_part.extend(coordinates[k*times(len(coordinates))[0]:(k+1)*times(len(coordinates))[0]])\n",
    "            matrix = cal_distance(coor_part, client)\n",
    "            time.sleep(4)\n",
    "            distances = distances + matrix[1][0][1:]\n",
    "            durations = durations + matrix[0][0][1:]\n",
    "        index = distances.index(min(distances))\n",
    "        rent_address.append(rent['listingSlug'][i])\n",
    "        stop_name.append(train['Stop_name'][index])\n",
    "        min_distance.append(distances[index])\n",
    "        min_duration.append(durations[index])\n",
    "    return rent_address, stop_name, min_distance, min_duration\n",
    "\n",
    "\n",
    "\"\"\"\n",
    "function: put the required columns into a dataframe\n",
    "param datas: dataframe\n",
    "\"\"\"\n",
    "def data_frame(rent, train):\n",
    "    #get dataframe\n",
    "    data = {'rent_address': get_coor(rent, train)[0], 'stop_name': get_coor(rent, train)[1], 'min_distance': get_coor(rent, train)[2], 'min_duration': get_coor(rent, train)[3]}\n",
    "    df = DataFrame(data)\n",
    "    return df\n",
    "\n",
    "df = data_frame(rent, train)"
   ]
  }
 ],
 "metadata": {
  "kernelspec": {
   "display_name": "Python 3.8.13 ('group55': conda)",
   "language": "python",
   "name": "python3"
  },
  "language_info": {
   "codemirror_mode": {
    "name": "ipython",
    "version": 3
   },
   "file_extension": ".py",
   "mimetype": "text/x-python",
   "name": "python",
   "nbconvert_exporter": "python",
   "pygments_lexer": "ipython3",
   "version": "3.8.13"
  },
  "orig_nbformat": 4,
  "vscode": {
   "interpreter": {
    "hash": "01565cdae83eab34070454284fb32efcb2a9d911033d96507891961ca605f636"
   }
  }
 },
 "nbformat": 4,
 "nbformat_minor": 2
}
