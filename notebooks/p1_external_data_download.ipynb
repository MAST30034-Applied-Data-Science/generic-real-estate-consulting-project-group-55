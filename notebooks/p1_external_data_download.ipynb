{
 "cells": [
  {
   "cell_type": "markdown",
   "id": "b260a046",
   "metadata": {},
   "source": [
    "# External Data Downloader"
   ]
  },
  {
   "cell_type": "markdown",
   "id": "56e813f6",
   "metadata": {},
   "source": [
    "This notebook helps to download all needed the external data sets."
   ]
  },
  {
   "cell_type": "code",
   "execution_count": 2,
   "id": "202c10e2",
   "metadata": {},
   "outputs": [],
   "source": [
    "import os\n",
    "import urllib\n",
    "from urllib.request import urlretrieve\n",
    "import zipfile\n",
    "import requests\n",
    "import tempfile"
   ]
  },
  {
   "cell_type": "code",
   "execution_count": 3,
   "id": "0b2974a2",
   "metadata": {},
   "outputs": [],
   "source": [
    "# Set the working directory\n",
    "output_dir = f\"../data/raw/\""
   ]
  },
  {
   "cell_type": "markdown",
   "id": "3bd0e995",
   "metadata": {},
   "source": [
    "### 1 - School Location"
   ]
  },
  {
   "cell_type": "code",
   "execution_count": 4,
   "id": "aa551ae2",
   "metadata": {},
   "outputs": [
    {
     "data": {
      "text/plain": [
       "('../data/raw/school_location_18_19.csv',\n",
       " <http.client.HTTPMessage at 0x2c2499c7550>)"
      ]
     },
     "execution_count": 4,
     "metadata": {},
     "output_type": "execute_result"
    }
   ],
   "source": [
    "# URL for the school data\n",
    "URL_school = \"http://www.education.vic.gov.au/Documents/about/research/datavic/\"\n",
    "\n",
    "# 2018-2019 school data\n",
    "URL_school_18_19 = f\"{URL_school}dv279-schoollocations2019\"\n",
    "\n",
    "# Generate output location and filename\n",
    "output = f\"{output_dir}school_location_18_19.csv\"\n",
    "\n",
    "# Urlretrieve the file\n",
    "urlretrieve(f'{URL_school_18_19}.csv', output) "
   ]
  },
  {
   "cell_type": "code",
   "execution_count": 5,
   "id": "0d0bf957",
   "metadata": {},
   "outputs": [
    {
     "data": {
      "text/plain": [
       "('../data/raw/school_location_20.csv',\n",
       " <http.client.HTTPMessage at 0x2c2499c7820>)"
      ]
     },
     "execution_count": 5,
     "metadata": {},
     "output_type": "execute_result"
    }
   ],
   "source": [
    "# 2020 school data\n",
    "URL_school_20 = f\"{URL_school}dv296-schoollocations2020\"\n",
    "\n",
    "# generate output location and filename\n",
    "output = f\"{output_dir}school_location_20.csv\"\n",
    "\n",
    "# Urlretrieve the file\n",
    "urlretrieve(f'{URL_school_20}.csv', output) "
   ]
  },
  {
   "cell_type": "code",
   "execution_count": 6,
   "id": "674a17d1",
   "metadata": {},
   "outputs": [
    {
     "data": {
      "text/plain": [
       "('../data/raw/school_location_21.csv',\n",
       " <http.client.HTTPMessage at 0x2c2499c7460>)"
      ]
     },
     "execution_count": 6,
     "metadata": {},
     "output_type": "execute_result"
    }
   ],
   "source": [
    "# 2021 school data\n",
    "URL_school_21 = f\"{URL_school}dv309_schoollocations2021\"\n",
    "\n",
    "# Generate output location and filename\n",
    "output = f\"{output_dir}school_location_21.csv\"\n",
    "\n",
    "# Urlretrieve the file\n",
    "urlretrieve(f'{URL_school_21}.csv', output) "
   ]
  },
  {
   "cell_type": "code",
   "execution_count": 7,
   "id": "dd3dbc31",
   "metadata": {},
   "outputs": [
    {
     "data": {
      "text/plain": [
       "('../data/raw/school_location_22.csv',\n",
       " <http.client.HTTPMessage at 0x2c2499c4160>)"
      ]
     },
     "execution_count": 7,
     "metadata": {},
     "output_type": "execute_result"
    }
   ],
   "source": [
    "# 2022 school data\n",
    "URL_school_22 = f\"{URL_school}dv331_schoollocations2022\"\n",
    "\n",
    "# Generate output location and filename\n",
    "output = f\"{output_dir}school_location_22.csv\"\n",
    "\n",
    "# download\n",
    "urlretrieve(f'{URL_school_22}.csv', output) "
   ]
  },
  {
   "cell_type": "markdown",
   "id": "174e98e4",
   "metadata": {},
   "source": [
    "### 2 - Population data"
   ]
  },
  {
   "cell_type": "code",
   "execution_count": 8,
   "id": "855867e6",
   "metadata": {},
   "outputs": [
    {
     "data": {
      "text/plain": [
       "('../data/raw/population.xlsx', <http.client.HTTPMessage at 0x2c2499c77f0>)"
      ]
     },
     "execution_count": 8,
     "metadata": {},
     "output_type": "execute_result"
    }
   ],
   "source": [
    "# URL of data of population\n",
    "URL_population = \"https://www.abs.gov.au/statistics/people/population/regional-population/2021/32180DS0001_2001-21\"\n",
    "\n",
    "# Generate output location and filename\n",
    "output = f\"{output_dir}population.xlsx\"\n",
    "\n",
    "# Urlretrieve the file\n",
    "urlretrieve(f'{URL_population}.xlsx', output) "
   ]
  },
  {
   "cell_type": "markdown",
   "id": "1ed2c5fc",
   "metadata": {},
   "source": [
    "### 3 - Train station"
   ]
  },
  {
   "cell_type": "code",
   "execution_count": 9,
   "id": "d99db6ac",
   "metadata": {},
   "outputs": [
    {
     "data": {
      "text/plain": [
       "('../data/raw/train_station_18to19.xlsx',\n",
       " <http.client.HTTPMessage at 0x2c24a161540>)"
      ]
     },
     "execution_count": 9,
     "metadata": {},
     "output_type": "execute_result"
    }
   ],
   "source": [
    "# URL\n",
    "URL_train = \"https://vicroadsopendatastorehouse.vicroads.vic.gov.au/opendata/Public_Transport/Patronage/\"\n",
    "\n",
    "# 2018-2019 train data\n",
    "URL_train_18_19 = f\"{URL_train}Annual%20regional%20train%20station%20entries%202018-19\"\n",
    "\n",
    "# Generate output location and filename\n",
    "output = f\"{output_dir}train_station_18to19.xlsx\"\n",
    "\n",
    "# urllib request\n",
    "opener=urllib.request.build_opener()\n",
    "opener.addheaders=[('User-Agent','Mozilla/5.0 (Windows NT 6.1; WOW64) AppleWebKit/537.36 \\\n",
    "    (KHTML, like Gecko) Chrome/36.0.1941.0 Safari/537.36')]\n",
    "urllib.request.install_opener(opener)\n",
    "\n",
    "# Urlretrieve the file\n",
    "urllib.request.urlretrieve(f'{URL_train_18_19}.xlsx', output)"
   ]
  },
  {
   "cell_type": "code",
   "execution_count": 10,
   "id": "33534b18",
   "metadata": {},
   "outputs": [
    {
     "data": {
      "text/plain": [
       "('../data/raw/train_station_19to20.xlsx',\n",
       " <http.client.HTTPMessage at 0x2c249a4c280>)"
      ]
     },
     "execution_count": 10,
     "metadata": {},
     "output_type": "execute_result"
    }
   ],
   "source": [
    "# 2019-2020 train data\n",
    "URL_train_19_20 = f\"{URL_train}Annual%20regional%20train%20station%20entries%202019-20\"\n",
    "\n",
    "# Generate output location and filename\n",
    "output = f\"{output_dir}train_station_19to20.xlsx\"\n",
    "\n",
    "# urllib request\n",
    "opener=urllib.request.build_opener()\n",
    "opener.addheaders=[('User-Agent','Mozilla/5.0 (Windows NT 6.1; WOW64) AppleWebKit/537.36 \\\n",
    "    (KHTML, like Gecko) Chrome/36.0.1941.0 Safari/537.36')]\n",
    "urllib.request.install_opener(opener)\n",
    "\n",
    "# Urlretrieve the file\n",
    "urllib.request.urlretrieve(f'{URL_train_19_20}.xlsx', output)\n"
   ]
  },
  {
   "cell_type": "code",
   "execution_count": 11,
   "id": "5de3321a",
   "metadata": {},
   "outputs": [
    {
     "data": {
      "text/plain": [
       "('../data/raw/train_station_20to21.xlsx',\n",
       " <http.client.HTTPMessage at 0x2c249a4c550>)"
      ]
     },
     "execution_count": 11,
     "metadata": {},
     "output_type": "execute_result"
    }
   ],
   "source": [
    "# 2020-2021 train data\n",
    "URL_train_20_21 = f\"{URL_train}Annual%20regional%20train%20station%20entries%202020-21\"\n",
    "\n",
    "# Generate output location and filename\n",
    "output = f\"{output_dir}train_station_20to21.xlsx\"\n",
    "\n",
    "# urllib request\n",
    "opener=urllib.request.build_opener()\n",
    "opener.addheaders=[('User-Agent','Mozilla/5.0 (Windows NT 6.1; WOW64) AppleWebKit/537.36 \\\n",
    "    (KHTML, like Gecko) Chrome/36.0.1941.0 Safari/537.36')]\n",
    "urllib.request.install_opener(opener)\n",
    "\n",
    "# Urlretrieve the file\n",
    "urllib.request.urlretrieve(f'{URL_train_20_21}.xlsx', output)"
   ]
  },
  {
   "cell_type": "markdown",
   "id": "65557676",
   "metadata": {},
   "source": [
    "### 4 - Census Data"
   ]
  },
  {
   "cell_type": "code",
   "execution_count": 12,
   "id": "000b8dc5",
   "metadata": {},
   "outputs": [
    {
     "data": {
      "text/plain": [
       "('../data/raw/census_2021.zip', <http.client.HTTPMessage at 0x2c2499c7d60>)"
      ]
     },
     "execution_count": 12,
     "metadata": {},
     "output_type": "execute_result"
    }
   ],
   "source": [
    "# URL for Census data in Victoria 2021\n",
    "URL_census_2021 = 'https://www.abs.gov.au/census/find-census-data/datapacks/download/2021_GCP_all_for_VIC_short-header.zip'\n",
    "filename = f'{output_dir}census_2021.zip'\n",
    "\n",
    "# Download the zip file\n",
    "urlretrieve(URL_census_2021, filename) "
   ]
  },
  {
   "cell_type": "code",
   "execution_count": 13,
   "id": "0785c236",
   "metadata": {},
   "outputs": [],
   "source": [
    "census2021 = zipfile.ZipFile(f'{output_dir}census_2021.zip')\n",
    "\n",
    "for file in census2021.namelist():\n",
    "    if file.startswith(\"2021 Census GCP All Geographies for VIC/POA/\"):\n",
    "        census2021.extract(file, f'{output_dir}/POA')"
   ]
  },
  {
   "cell_type": "markdown",
   "id": "789b10cd",
   "metadata": {},
   "source": [
    "### 5 - Suburb Past Rental data (2000-2022)"
   ]
  },
  {
   "cell_type": "code",
   "execution_count": 14,
   "id": "d9446ccc",
   "metadata": {},
   "outputs": [
    {
     "data": {
      "text/plain": [
       "('../data/raw/past_rental00_22.xlsx',\n",
       " <http.client.HTTPMessage at 0x2c2499c76a0>)"
      ]
     },
     "execution_count": 14,
     "metadata": {},
     "output_type": "execute_result"
    }
   ],
   "source": [
    "# URl of rental data (2002-2020)\n",
    "URL_rental = \"https://www.dffh.vic.gov.au/sites/default/files/documents/202209/Moving%20annual%20rent%20by%20suburb%20-%20June%20quarter%202022.xlsx\"\n",
    "\n",
    "# Generate output location and filename\n",
    "output = f\"{output_dir}past_rental00_22.xlsx\"\n",
    "\n",
    "# Urlretrieve the file\n",
    "urlretrieve(f'{URL_rental}', output) "
   ]
  },
  {
   "cell_type": "markdown",
   "id": "ac60930b",
   "metadata": {},
   "source": [
    "### 6 - Parks"
   ]
  },
  {
   "cell_type": "code",
   "execution_count": 15,
   "id": "4f1545e3",
   "metadata": {},
   "outputs": [
    {
     "name": "stdout",
     "output_type": "stream",
     "text": [
      "<tempfile._TemporaryFileWrapper object at 0x000002C2499C7CA0>\n",
      "..\\data\\raw\\ANZVI0803004883.html\n",
      "..\\data\\raw\\Creative Commons Licence.html\n",
      "..\\data\\raw\\ll_gda2020\\esrishape\\whole_of_dataset\\victoria\\CROWNLAND\\PARKRES.cpg\n",
      "..\\data\\raw\\ll_gda2020\\esrishape\\whole_of_dataset\\victoria\\CROWNLAND\\PARKRES.dbf\n",
      "..\\data\\raw\\ll_gda2020\\esrishape\\whole_of_dataset\\victoria\\CROWNLAND\\PARKRES.prj\n",
      "..\\data\\raw\\ll_gda2020\\esrishape\\whole_of_dataset\\victoria\\CROWNLAND\\PARKRES.shp\n",
      "..\\data\\raw\\ll_gda2020\\esrishape\\whole_of_dataset\\victoria\\CROWNLAND\\PARKRES.shx\n",
      "..\\data\\raw\\ll_gda2020\\esrishape\\whole_of_dataset\\victoria\\CROWNLAND\\PARKRES_column_names.txt\n"
     ]
    }
   ],
   "source": [
    "def get_data():\n",
    "    url = \"https://s3-ap-southeast-2.amazonaws.com/cl-isd-prd-datashare-s3-delivery/Order_AEHQI8.zip\"\n",
    "    response = requests.get(url)\n",
    "    return url, response.content\n",
    " \n",
    " \n",
    "if __name__ == '__main__':\n",
    "    url, data = get_data()\n",
    " \n",
    "    _tmp_file = tempfile.TemporaryFile()\n",
    "    print(_tmp_file)\n",
    " \n",
    "    _tmp_file.write(data)\n",
    "    # _tmp_file.seek(0)\n",
    " \n",
    "    zf = zipfile.ZipFile(_tmp_file, mode='r')\n",
    "    for names in zf.namelist():\n",
    "        f = zf.extract(names, '../data/raw')\n",
    "        print(f)\n",
    " \n",
    "    zf.close()"
   ]
  },
  {
   "cell_type": "markdown",
   "id": "4684ff26",
   "metadata": {},
   "source": [
    "### 7 - Yearly Income"
   ]
  },
  {
   "cell_type": "code",
   "execution_count": 16,
   "id": "be028e9c",
   "metadata": {},
   "outputs": [
    {
     "data": {
      "text/plain": [
       "('../data/raw/Total_income.xlsx', <http.client.HTTPMessage at 0x2c249351270>)"
      ]
     },
     "execution_count": 16,
     "metadata": {},
     "output_type": "execute_result"
    }
   ],
   "source": [
    "# URl of yearly income in AUS (2014-2019)\n",
    "URL_yearly_income = 'https://www.abs.gov.au/statistics/labour/earnings-and-working-conditions/personal-income-australia/2014-15-2018-19/6524055002_DO001.xlsx'\n",
    "\n",
    "# Generate output location and filename\n",
    "output = f\"{output_dir}Total_income.xlsx\"\n",
    "\n",
    "# Urlretrieve the file\n",
    "urlretrieve(f'{URL_yearly_income}', output) "
   ]
  },
  {
   "cell_type": "markdown",
   "id": "b3e4a713",
   "metadata": {},
   "source": [
    "### 8 - LGA Past Rental data (2000-2021)"
   ]
  },
  {
   "cell_type": "code",
   "execution_count": 17,
   "id": "4244454a",
   "metadata": {},
   "outputs": [
    {
     "data": {
      "text/plain": [
       "('../data/raw/external_rent.xlsx', <http.client.HTTPMessage at 0x2c24a161360>)"
      ]
     },
     "execution_count": 17,
     "metadata": {},
     "output_type": "execute_result"
    }
   ],
   "source": [
    "# URl of past rental dataset (2000-2021)\n",
    "URL_rent = 'https://www.dhhs.vic.gov.au/quarterly-median-rents-local-government-area-march-quarter-2021-excel'\n",
    "\n",
    "# Generate output location and filename\n",
    "output = f\"{output_dir}external_rent.xlsx\"\n",
    "\n",
    "# Urlretrieve the file\n",
    "urlretrieve(f'{URL_rent}', output) "
   ]
  },
  {
   "cell_type": "markdown",
   "id": "d479eb01",
   "metadata": {},
   "source": [
    "### 9 - VIC map\n",
    "\n",
    "If you meet problem about downloading these zip, try \"chmod 700 filename\"."
   ]
  },
  {
   "cell_type": "code",
   "execution_count": 18,
   "id": "bace0774",
   "metadata": {},
   "outputs": [],
   "source": [
    "# download suburb map\n",
    "import urllib.request\n",
    "import zipfile\n",
    "filename='../data/raw/suburb_map.zip'\n",
    "urllib.request.urlretrieve(\"https://www.abs.gov.au/statistics/standards/australian-statistical-geography-standard-asgs-edition-3/jul2021-jun2026/access-and-downloads/digital-boundary-files/SAL_2021_AUST_GDA2020_SHP.zip\", filename)\n",
    "\n",
    "# unzip the file\n",
    "with zipfile.ZipFile(filename,'r') as zip_ref:\n",
    "    zip_ref.extractall(\"../data/raw/\")"
   ]
  },
  {
   "cell_type": "code",
   "execution_count": 19,
   "id": "d685fd5b",
   "metadata": {},
   "outputs": [],
   "source": [
    "# download postcode map\n",
    "import urllib.request\n",
    "import zipfile\n",
    "filename='../data/raw/population_map.zip'\n",
    "urllib.request.urlretrieve(\"https://www.abs.gov.au/statistics/standards/australian-statistical-geography-standard-asgs-edition-3/jul2021-jun2026/access-and-downloads/digital-boundary-files/POA_2021_AUST_GDA2020_SHP.zip\", filename)\n",
    "\n",
    "# unzip the file\n",
    "with zipfile.ZipFile(filename,'r') as zip_ref:\n",
    "    zip_ref.extractall(\"../data/raw/\")"
   ]
  },
  {
   "cell_type": "code",
   "execution_count": 20,
   "id": "b8eed7a6",
   "metadata": {},
   "outputs": [],
   "source": [
    "# download SA2 map\n",
    "import urllib.request\n",
    "import zipfile\n",
    "filename='../data/raw/SA2_map.zip'\n",
    "urllib.request.urlretrieve(\"https://www.abs.gov.au/statistics/standards/australian-statistical-geography-standard-asgs-edition-3/jul2021-jun2026/access-and-downloads/digital-boundary-files/SA2_2021_AUST_SHP_GDA2020.zip\", filename)\n",
    "\n",
    "# unzip the file\n",
    "with zipfile.ZipFile(filename,'r') as zip_ref:\n",
    "    zip_ref.extractall(\"../data/raw/\")"
   ]
  }
 ],
 "metadata": {
  "kernelspec": {
   "display_name": "Python 3.8.13 ('group55': conda)",
   "language": "python",
   "name": "python3"
  },
  "language_info": {
   "codemirror_mode": {
    "name": "ipython",
    "version": 3
   },
   "file_extension": ".py",
   "mimetype": "text/x-python",
   "name": "python",
   "nbconvert_exporter": "python",
   "pygments_lexer": "ipython3",
   "version": "3.8.13"
  },
  "vscode": {
   "interpreter": {
    "hash": "01565cdae83eab34070454284fb32efcb2a9d911033d96507891961ca605f636"
   }
  }
 },
 "nbformat": 4,
 "nbformat_minor": 5
}
