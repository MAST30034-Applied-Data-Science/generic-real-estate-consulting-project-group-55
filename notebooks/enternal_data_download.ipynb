{
 "cells": [
  {
   "cell_type": "code",
   "execution_count": 1,
   "id": "202c10e2",
   "metadata": {},
   "outputs": [],
   "source": [
    "import os\n",
    "import urllib\n",
    "from urllib.request import urlretrieve\n",
    "import zipfile"
   ]
  },
  {
   "cell_type": "code",
   "execution_count": 2,
   "id": "0b2974a2",
   "metadata": {},
   "outputs": [],
   "source": [
    "output_dir = f\"../data/raw/\""
   ]
  },
  {
   "cell_type": "markdown",
   "id": "3bd0e995",
   "metadata": {},
   "source": [
    "<font size=5>School Location"
   ]
  },
  {
   "cell_type": "code",
   "execution_count": 3,
   "id": "9e687118",
   "metadata": {},
   "outputs": [],
   "source": [
    "URL_school = \"http://www.education.vic.gov.au/Documents/about/research/datavic/\""
   ]
  },
  {
   "cell_type": "code",
   "execution_count": 4,
   "id": "aa551ae2",
   "metadata": {},
   "outputs": [
    {
     "data": {
      "text/plain": [
       "('../data/raw/school_location_18_19.csv',\n",
       " <http.client.HTTPMessage at 0x7f8f2e36cd30>)"
      ]
     },
     "execution_count": 4,
     "metadata": {},
     "output_type": "execute_result"
    }
   ],
   "source": [
    "# URl of school for 2018-2019\n",
    "\n",
    "URL_school_18_19 = f\"{URL_school}dv279-schoollocations2019\"\n",
    "\n",
    "# generate output location and filename\n",
    "output = f\"{output_dir}school_location_18_19.csv\"\n",
    "# download\n",
    "urlretrieve(f'{URL_school_18_19}.csv', output) "
   ]
  },
  {
   "cell_type": "code",
   "execution_count": 5,
   "id": "0d0bf957",
   "metadata": {},
   "outputs": [
    {
     "data": {
      "text/plain": [
       "('../data/raw/school_location_20.csv',\n",
       " <http.client.HTTPMessage at 0x7f8f2d88d730>)"
      ]
     },
     "execution_count": 5,
     "metadata": {},
     "output_type": "execute_result"
    }
   ],
   "source": [
    "# URl of school for 2020\n",
    "URL_school_20 = f\"{URL_school}dv296-schoollocations2020\"\n",
    "\n",
    "# generate output location and filename\n",
    "output = f\"{output_dir}school_location_20.csv\"\n",
    "# download\n",
    "urlretrieve(f'{URL_school_20}.csv', output) "
   ]
  },
  {
   "cell_type": "code",
   "execution_count": 6,
   "id": "674a17d1",
   "metadata": {},
   "outputs": [
    {
     "data": {
      "text/plain": [
       "('../data/raw/school_location_21.csv',\n",
       " <http.client.HTTPMessage at 0x7f8f2d88d670>)"
      ]
     },
     "execution_count": 6,
     "metadata": {},
     "output_type": "execute_result"
    }
   ],
   "source": [
    "# URl of school for 2021\n",
    "URL_school_21 = f\"{URL_school}dv309_schoollocations2021\"\n",
    "\n",
    "# generate output location and filename\n",
    "output = f\"{output_dir}school_location_21.csv\"\n",
    "# download\n",
    "urlretrieve(f'{URL_school_21}.csv', output) "
   ]
  },
  {
   "cell_type": "code",
   "execution_count": 7,
   "id": "dd3dbc31",
   "metadata": {},
   "outputs": [
    {
     "data": {
      "text/plain": [
       "('../data/raw/school_location_22.csv',\n",
       " <http.client.HTTPMessage at 0x7f8f2e36cb50>)"
      ]
     },
     "execution_count": 7,
     "metadata": {},
     "output_type": "execute_result"
    }
   ],
   "source": [
    "# URl of school for 2022\n",
    "URL_school_22 = f\"{URL_school}dv331_schoollocations2022\"\n",
    "\n",
    "# generate output location and filename\n",
    "output = f\"{output_dir}school_location_22.csv\"\n",
    "# download\n",
    "urlretrieve(f'{URL_school_22}.csv', output) "
   ]
  },
  {
   "cell_type": "markdown",
   "id": "684eaad0",
   "metadata": {},
   "source": [
    "<font size=5>Hospital Location"
   ]
  },
  {
   "cell_type": "code",
   "execution_count": 8,
   "id": "ca3fecc8",
   "metadata": {},
   "outputs": [
    {
     "data": {
      "text/plain": [
       "('../data/raw/hospital_location.csv',\n",
       " <http.client.HTTPMessage at 0x7f8f2d88dcd0>)"
      ]
     },
     "execution_count": 8,
     "metadata": {},
     "output_type": "execute_result"
    }
   ],
   "source": [
    "# URl of hospital location\n",
    "URL_hospital = \"https://www.healthcollect.vic.gov.au/HospitalLists/ExportList.aspx?List=MainHospitalList\"\n",
    "\n",
    "# generate output location and filename\n",
    "output = f\"{output_dir}hospital_location.csv\"\n",
    "# download\n",
    "urlretrieve(f'{URL_hospital}', output) "
   ]
  },
  {
   "cell_type": "markdown",
   "id": "56e3306d",
   "metadata": {},
   "source": [
    "Download Crime statistics"
   ]
  },
  {
   "cell_type": "code",
   "execution_count": 9,
   "id": "2712c3c3",
   "metadata": {},
   "outputs": [
    {
     "data": {
      "text/plain": [
       "('../data/raw/crime_statistics_2012to2021.xlsx',\n",
       " <http.client.HTTPMessage at 0x7f8f2e36c6d0>)"
      ]
     },
     "execution_count": 9,
     "metadata": {},
     "output_type": "execute_result"
    }
   ],
   "source": [
    "# URl of Crime 2012-2021\n",
    "URL_crime_2012to2021 = \"https://files.crimestatistics.vic.gov.au/2022-03/Data_Tables_LGA_Criminal_Incidents_Year_Ending_December_2021\"\n",
    "\n",
    "# generate output location and filename\n",
    "output = f\"{output_dir}crime_statistics_2012to2021.xlsx\"\n",
    "# download\n",
    "urlretrieve(f'{URL_crime_2012to2021}.xlsx', output) "
   ]
  },
  {
   "cell_type": "code",
   "execution_count": 10,
   "id": "da7d382d",
   "metadata": {},
   "outputs": [
    {
     "data": {
      "text/plain": [
       "('../data/raw/crime_statistics_2022.xlsx',\n",
       " <http.client.HTTPMessage at 0x7f8f2d88d070>)"
      ]
     },
     "execution_count": 10,
     "metadata": {},
     "output_type": "execute_result"
    }
   ],
   "source": [
    "# URl of Crime 2022\n",
    "URL_crime_2022 = \"https://files.crimestatistics.vic.gov.au/2022-06/Data_Tables_LGA_Criminal_Incidents_Year_Ending_March_2022\"\n",
    "\n",
    "# generate output location and filename\n",
    "output = f\"{output_dir}crime_statistics_2022.xlsx\"\n",
    "# download\n",
    "urlretrieve(f'{URL_crime_2022}.xlsx', output) "
   ]
  },
  {
   "cell_type": "markdown",
   "id": "174e98e4",
   "metadata": {},
   "source": [
    "Download population data"
   ]
  },
  {
   "cell_type": "code",
   "execution_count": 11,
   "id": "855867e6",
   "metadata": {},
   "outputs": [
    {
     "data": {
      "text/plain": [
       "('../data/raw/population.xlsx', <http.client.HTTPMessage at 0x7f8f2d557f40>)"
      ]
     },
     "execution_count": 11,
     "metadata": {},
     "output_type": "execute_result"
    }
   ],
   "source": [
    "# URl of data of population\n",
    "URL_population = \"https://www.abs.gov.au/statistics/people/population/regional-population/2021/32180DS0001_2001-21\"\n",
    "\n",
    "# generate output location and filename\n",
    "output = f\"{output_dir}population.xlsx\"\n",
    "# download\n",
    "urlretrieve(f'{URL_population}.xlsx', output) "
   ]
  },
  {
   "cell_type": "markdown",
   "id": "ab166220",
   "metadata": {},
   "source": [
    "Download population_map zip file"
   ]
  },
  {
   "cell_type": "code",
   "execution_count": 12,
   "id": "c62d9bc6",
   "metadata": {},
   "outputs": [],
   "source": [
    "# URL of taxi shape file\n",
    "URL_population_zip = 'https://www.abs.gov.au/statistics/people/population/regional-population-age-and-sex/2021/ERP_Age_Sex_SA2_2021_gpkg.zip'\n",
    "filename = '../data/population_map/population_map.zip'\n",
    "\n",
    "# download the zip file\n",
    "urlretrieve(URL_population_zip, filename) \n",
    "\n",
    "# open zip in taxi_zones file\n",
    "with zipfile.ZipFile(filename, 'r') as zip_ref:\n",
    "    zip_ref.extractall('../data/population_map/')"
   ]
  },
  {
   "cell_type": "markdown",
   "id": "1ed2c5fc",
   "metadata": {},
   "source": [
    "Download train station"
   ]
  },
  {
   "cell_type": "code",
   "execution_count": 13,
   "id": "c1db0a93",
   "metadata": {},
   "outputs": [],
   "source": [
    "URL_train = \"https://vicroadsopendatastorehouse.vicroads.vic.gov.au/opendata/Public_Transport/Patronage/\""
   ]
  },
  {
   "cell_type": "code",
   "execution_count": 14,
   "id": "d99db6ac",
   "metadata": {},
   "outputs": [
    {
     "data": {
      "text/plain": [
       "('../data/raw/train_station_18to19.xlsx',\n",
       " <http.client.HTTPMessage at 0x7f8f2e36cac0>)"
      ]
     },
     "execution_count": 14,
     "metadata": {},
     "output_type": "execute_result"
    }
   ],
   "source": [
    "# URl of train station for 2018-2019\n",
    "URL_train_18_19 = f\"{URL_train}Annual%20regional%20train%20station%20entries%202018-19\"\n",
    "\n",
    "# generate output location and filename\n",
    "output = f\"{output_dir}train_station_18to19.xlsx\"\n",
    "\n",
    "opener=urllib.request.build_opener()\n",
    "opener.addheaders=[('User-Agent','Mozilla/5.0 (Windows NT 6.1; WOW64) AppleWebKit/537.36 \\\n",
    "    (KHTML, like Gecko) Chrome/36.0.1941.0 Safari/537.36')]\n",
    "urllib.request.install_opener(opener)\n",
    "\n",
    "# download\n",
    "urllib.request.urlretrieve(f'{URL_train_18_19}.xlsx', output)\n",
    "\n"
   ]
  },
  {
   "cell_type": "code",
   "execution_count": 15,
   "id": "33534b18",
   "metadata": {},
   "outputs": [
    {
     "data": {
      "text/plain": [
       "('../data/raw/train_station_19to20.xlsx',\n",
       " <http.client.HTTPMessage at 0x7f8f2dca0ca0>)"
      ]
     },
     "execution_count": 15,
     "metadata": {},
     "output_type": "execute_result"
    }
   ],
   "source": [
    "# URl of train station for 2019-2020\n",
    "URL_train_19_20 = f\"{URL_train}Annual%20regional%20train%20station%20entries%202019-20\"\n",
    "\n",
    "# generate output location and filename\n",
    "output = f\"{output_dir}train_station_19to20.xlsx\"\n",
    "\n",
    "opener=urllib.request.build_opener()\n",
    "opener.addheaders=[('User-Agent','Mozilla/5.0 (Windows NT 6.1; WOW64) AppleWebKit/537.36 \\\n",
    "    (KHTML, like Gecko) Chrome/36.0.1941.0 Safari/537.36')]\n",
    "urllib.request.install_opener(opener)\n",
    "\n",
    "# download\n",
    "urllib.request.urlretrieve(f'{URL_train_19_20}.xlsx', output)\n"
   ]
  },
  {
   "cell_type": "code",
   "execution_count": 16,
   "id": "5de3321a",
   "metadata": {},
   "outputs": [
    {
     "data": {
      "text/plain": [
       "('../data/raw/train_station_20to21.xlsx',\n",
       " <http.client.HTTPMessage at 0x7f8f2d57d2e0>)"
      ]
     },
     "execution_count": 16,
     "metadata": {},
     "output_type": "execute_result"
    }
   ],
   "source": [
    "# URl of train station for 2020-2021\n",
    "URL_train_20_21 = f\"{URL_train}Annual%20regional%20train%20station%20entries%202020-21\"\n",
    "\n",
    "# generate output location and filename\n",
    "output = f\"{output_dir}train_station_20to21.xlsx\"\n",
    "\n",
    "opener=urllib.request.build_opener()\n",
    "opener.addheaders=[('User-Agent','Mozilla/5.0 (Windows NT 6.1; WOW64) AppleWebKit/537.36 \\\n",
    "    (KHTML, like Gecko) Chrome/36.0.1941.0 Safari/537.36')]\n",
    "urllib.request.install_opener(opener)\n",
    "\n",
    "# download\n",
    "urllib.request.urlretrieve(f'{URL_train_20_21}.xlsx', output)"
   ]
  },
  {
   "cell_type": "markdown",
   "id": "1af7835e",
   "metadata": {},
   "source": [
    "Restaurant and Coffee' information in Melbourne"
   ]
  },
  {
   "cell_type": "code",
   "execution_count": 17,
   "id": "d979c56a",
   "metadata": {},
   "outputs": [
    {
     "ename": "HTTPError",
     "evalue": "HTTP Error 503: Service Temporarily Unavailable",
     "output_type": "error",
     "traceback": [
      "\u001b[0;31m---------------------------------------------------------------------------\u001b[0m",
      "\u001b[0;31mHTTPError\u001b[0m                                 Traceback (most recent call last)",
      "\u001b[1;32m/Users/liuyiqun/Desktop/generic-real-estate-consulting-project-group-55/notebooks/enternal_data_download.ipynb Cell 24\u001b[0m in \u001b[0;36m<cell line: 7>\u001b[0;34m()\u001b[0m\n\u001b[1;32m      <a href='vscode-notebook-cell:/Users/liuyiqun/Desktop/generic-real-estate-consulting-project-group-55/notebooks/enternal_data_download.ipynb#X32sZmlsZQ%3D%3D?line=4'>5</a>\u001b[0m output \u001b[39m=\u001b[39m \u001b[39mf\u001b[39m\u001b[39m\"\u001b[39m\u001b[39m{\u001b[39;00moutput_dir\u001b[39m}\u001b[39;00m\u001b[39mrestaruant_coffee.csv\u001b[39m\u001b[39m\"\u001b[39m\n\u001b[1;32m      <a href='vscode-notebook-cell:/Users/liuyiqun/Desktop/generic-real-estate-consulting-project-group-55/notebooks/enternal_data_download.ipynb#X32sZmlsZQ%3D%3D?line=5'>6</a>\u001b[0m \u001b[39m# download\u001b[39;00m\n\u001b[0;32m----> <a href='vscode-notebook-cell:/Users/liuyiqun/Desktop/generic-real-estate-consulting-project-group-55/notebooks/enternal_data_download.ipynb#X32sZmlsZQ%3D%3D?line=6'>7</a>\u001b[0m urlretrieve(\u001b[39mf\u001b[39;49m\u001b[39m'\u001b[39;49m\u001b[39m{\u001b[39;49;00mURL_rest_coffee\u001b[39m}\u001b[39;49;00m\u001b[39m'\u001b[39;49m, output)\n",
      "File \u001b[0;32m~/opt/anaconda3/lib/python3.9/urllib/request.py:239\u001b[0m, in \u001b[0;36murlretrieve\u001b[0;34m(url, filename, reporthook, data)\u001b[0m\n\u001b[1;32m    222\u001b[0m \u001b[39m\"\"\"\u001b[39;00m\n\u001b[1;32m    223\u001b[0m \u001b[39mRetrieve a URL into a temporary location on disk.\u001b[39;00m\n\u001b[1;32m    224\u001b[0m \n\u001b[0;32m   (...)\u001b[0m\n\u001b[1;32m    235\u001b[0m \u001b[39mdata file as well as the resulting HTTPMessage object.\u001b[39;00m\n\u001b[1;32m    236\u001b[0m \u001b[39m\"\"\"\u001b[39;00m\n\u001b[1;32m    237\u001b[0m url_type, path \u001b[39m=\u001b[39m _splittype(url)\n\u001b[0;32m--> 239\u001b[0m \u001b[39mwith\u001b[39;00m contextlib\u001b[39m.\u001b[39mclosing(urlopen(url, data)) \u001b[39mas\u001b[39;00m fp:\n\u001b[1;32m    240\u001b[0m     headers \u001b[39m=\u001b[39m fp\u001b[39m.\u001b[39minfo()\n\u001b[1;32m    242\u001b[0m     \u001b[39m# Just return the local path and the \"headers\" for file://\u001b[39;00m\n\u001b[1;32m    243\u001b[0m     \u001b[39m# URLs. No sense in performing a copy unless requested.\u001b[39;00m\n",
      "File \u001b[0;32m~/opt/anaconda3/lib/python3.9/urllib/request.py:214\u001b[0m, in \u001b[0;36murlopen\u001b[0;34m(url, data, timeout, cafile, capath, cadefault, context)\u001b[0m\n\u001b[1;32m    212\u001b[0m \u001b[39melse\u001b[39;00m:\n\u001b[1;32m    213\u001b[0m     opener \u001b[39m=\u001b[39m _opener\n\u001b[0;32m--> 214\u001b[0m \u001b[39mreturn\u001b[39;00m opener\u001b[39m.\u001b[39;49mopen(url, data, timeout)\n",
      "File \u001b[0;32m~/opt/anaconda3/lib/python3.9/urllib/request.py:523\u001b[0m, in \u001b[0;36mOpenerDirector.open\u001b[0;34m(self, fullurl, data, timeout)\u001b[0m\n\u001b[1;32m    521\u001b[0m \u001b[39mfor\u001b[39;00m processor \u001b[39min\u001b[39;00m \u001b[39mself\u001b[39m\u001b[39m.\u001b[39mprocess_response\u001b[39m.\u001b[39mget(protocol, []):\n\u001b[1;32m    522\u001b[0m     meth \u001b[39m=\u001b[39m \u001b[39mgetattr\u001b[39m(processor, meth_name)\n\u001b[0;32m--> 523\u001b[0m     response \u001b[39m=\u001b[39m meth(req, response)\n\u001b[1;32m    525\u001b[0m \u001b[39mreturn\u001b[39;00m response\n",
      "File \u001b[0;32m~/opt/anaconda3/lib/python3.9/urllib/request.py:632\u001b[0m, in \u001b[0;36mHTTPErrorProcessor.http_response\u001b[0;34m(self, request, response)\u001b[0m\n\u001b[1;32m    629\u001b[0m \u001b[39m# According to RFC 2616, \"2xx\" code indicates that the client's\u001b[39;00m\n\u001b[1;32m    630\u001b[0m \u001b[39m# request was successfully received, understood, and accepted.\u001b[39;00m\n\u001b[1;32m    631\u001b[0m \u001b[39mif\u001b[39;00m \u001b[39mnot\u001b[39;00m (\u001b[39m200\u001b[39m \u001b[39m<\u001b[39m\u001b[39m=\u001b[39m code \u001b[39m<\u001b[39m \u001b[39m300\u001b[39m):\n\u001b[0;32m--> 632\u001b[0m     response \u001b[39m=\u001b[39m \u001b[39mself\u001b[39;49m\u001b[39m.\u001b[39;49mparent\u001b[39m.\u001b[39;49merror(\n\u001b[1;32m    633\u001b[0m         \u001b[39m'\u001b[39;49m\u001b[39mhttp\u001b[39;49m\u001b[39m'\u001b[39;49m, request, response, code, msg, hdrs)\n\u001b[1;32m    635\u001b[0m \u001b[39mreturn\u001b[39;00m response\n",
      "File \u001b[0;32m~/opt/anaconda3/lib/python3.9/urllib/request.py:561\u001b[0m, in \u001b[0;36mOpenerDirector.error\u001b[0;34m(self, proto, *args)\u001b[0m\n\u001b[1;32m    559\u001b[0m \u001b[39mif\u001b[39;00m http_err:\n\u001b[1;32m    560\u001b[0m     args \u001b[39m=\u001b[39m (\u001b[39mdict\u001b[39m, \u001b[39m'\u001b[39m\u001b[39mdefault\u001b[39m\u001b[39m'\u001b[39m, \u001b[39m'\u001b[39m\u001b[39mhttp_error_default\u001b[39m\u001b[39m'\u001b[39m) \u001b[39m+\u001b[39m orig_args\n\u001b[0;32m--> 561\u001b[0m     \u001b[39mreturn\u001b[39;00m \u001b[39mself\u001b[39;49m\u001b[39m.\u001b[39;49m_call_chain(\u001b[39m*\u001b[39;49margs)\n",
      "File \u001b[0;32m~/opt/anaconda3/lib/python3.9/urllib/request.py:494\u001b[0m, in \u001b[0;36mOpenerDirector._call_chain\u001b[0;34m(self, chain, kind, meth_name, *args)\u001b[0m\n\u001b[1;32m    492\u001b[0m \u001b[39mfor\u001b[39;00m handler \u001b[39min\u001b[39;00m handlers:\n\u001b[1;32m    493\u001b[0m     func \u001b[39m=\u001b[39m \u001b[39mgetattr\u001b[39m(handler, meth_name)\n\u001b[0;32m--> 494\u001b[0m     result \u001b[39m=\u001b[39m func(\u001b[39m*\u001b[39;49margs)\n\u001b[1;32m    495\u001b[0m     \u001b[39mif\u001b[39;00m result \u001b[39mis\u001b[39;00m \u001b[39mnot\u001b[39;00m \u001b[39mNone\u001b[39;00m:\n\u001b[1;32m    496\u001b[0m         \u001b[39mreturn\u001b[39;00m result\n",
      "File \u001b[0;32m~/opt/anaconda3/lib/python3.9/urllib/request.py:641\u001b[0m, in \u001b[0;36mHTTPDefaultErrorHandler.http_error_default\u001b[0;34m(self, req, fp, code, msg, hdrs)\u001b[0m\n\u001b[1;32m    640\u001b[0m \u001b[39mdef\u001b[39;00m \u001b[39mhttp_error_default\u001b[39m(\u001b[39mself\u001b[39m, req, fp, code, msg, hdrs):\n\u001b[0;32m--> 641\u001b[0m     \u001b[39mraise\u001b[39;00m HTTPError(req\u001b[39m.\u001b[39mfull_url, code, msg, hdrs, fp)\n",
      "\u001b[0;31mHTTPError\u001b[0m: HTTP Error 503: Service Temporarily Unavailable"
     ]
    }
   ],
   "source": [
    "# URl of resturant and coffee in Melbourne (2002-2020)\n",
    "URL_rest_coffee = \"https://data.melbourne.vic.gov.au/api/views/xt2y-tnn9/rows.csv?accessType=DOWNLOAD\"\n",
    "\n",
    "# generate output location and filename\n",
    "output = f\"{output_dir}restaruant_coffee.csv\"\n",
    "# download\n",
    "urlretrieve(f'{URL_rest_coffee}', output) \n",
    "\n"
   ]
  },
  {
   "cell_type": "markdown",
   "id": "65557676",
   "metadata": {},
   "source": [
    "Census Data"
   ]
  },
  {
   "cell_type": "code",
   "execution_count": null,
   "id": "000b8dc5",
   "metadata": {},
   "outputs": [
    {
     "data": {
      "text/plain": [
       "('../data/raw/census_2021.zip', <http.client.HTTPMessage at 0x7f5aa10d6f70>)"
      ]
     },
     "execution_count": 11,
     "metadata": {},
     "output_type": "execute_result"
    }
   ],
   "source": [
    "#URL for Census data in Victoria 2021\n",
    "URL_census_2021 = 'https://www.abs.gov.au/census/find-census-data/datapacks/download/2021_GCP_all_for_VIC_short-header.zip'\n",
    "filename = f'{output_dir}census_2021.zip'\n",
    "\n",
    "# download the zip file\n",
    "urlretrieve(URL_census_2021, filename) \n"
   ]
  },
  {
   "cell_type": "code",
   "execution_count": null,
   "id": "0785c236",
   "metadata": {},
   "outputs": [],
   "source": [
    "census2021 = zipfile.ZipFile(f'{output_dir}census_2021.zip')\n",
    " \n",
    "for file in census2021.namelist():\n",
    "    if file.startswith(\"2021 Census GCP All Geographies for VIC/POA/\"):\n",
    "        census2021.extract(file, f'{output_dir}/POA')\n"
   ]
  },
  {
   "cell_type": "markdown",
   "id": "789b10cd",
   "metadata": {},
   "source": [
    "Quarter Rental data 2020-2022"
   ]
  },
  {
   "cell_type": "code",
   "execution_count": null,
   "id": "d9446ccc",
   "metadata": {},
   "outputs": [
    {
     "data": {
      "text/plain": [
       "('../data/raw/rental.csv', <http.client.HTTPMessage at 0x7f5aa03fb160>)"
      ]
     },
     "execution_count": 21,
     "metadata": {},
     "output_type": "execute_result"
    }
   ],
   "source": [
    "# URl of rental data (2002-2020)\n",
    "URL_rental = \"https://www.dffh.vic.gov.au/moving-annual-rents-suburb-june-quarter-2022-excel\"\n",
    "\n",
    "# generate output location and filename\n",
    "output = f\"{output_dir}rental.csv\"\n",
    "# download\n",
    "urlretrieve(f'{URL_rental}', output) \n"
   ]
  },
  {
   "cell_type": "markdown",
   "id": "58599d39",
   "metadata": {},
   "source": [
    "Shopping centres"
   ]
  },
  {
   "cell_type": "code",
   "execution_count": null,
   "id": "c276085e",
   "metadata": {},
   "outputs": [
    {
     "data": {
      "text/plain": [
       "('../data/raw/shopping.csv', <http.client.HTTPMessage at 0x7fd3115d7100>)"
      ]
     },
     "execution_count": 7,
     "metadata": {},
     "output_type": "execute_result"
    }
   ],
   "source": [
    "# URl of 2020. shopping centres\n",
    "URL_shopping = \" \"\n",
    "\n",
    "# generate output location and filename\n",
    "output = f\"{output_dir}shopping.csv\"\n",
    "# download\n",
    "urlretrieve(f'{URL_shopping}', output) "
   ]
  },
  {
   "cell_type": "markdown",
   "id": "ac60930b",
   "metadata": {},
   "source": [
    "Parks"
   ]
  },
  {
   "cell_type": "code",
   "execution_count": null,
   "id": "4f1545e3",
   "metadata": {},
   "outputs": [],
   "source": [
    "# URl of zip of Parks and Open spaces\n",
    "url_p = \"https://opendata.arcgis.com/api/v3/datasets/\"\n",
    "URL_park_zip = f\"{url_p}e5dc06c9b6474b1eb6f2d51d149bc54c_14/downloads/data?format=shp&spatialRefId=3157&where=1%3D1\"\n",
    "\n",
    "# generate output location and filename\n",
    "output = f\"{output_dir}park.zip\"\n",
    "# download\n",
    "urlretrieve(f'{URL_park_zip}', output) \n",
    "\n",
    "with zipfile.ZipFile(output, 'r') as zip_ref:\n",
    "    zip_ref.extractall('../data/raw/park/')"
   ]
  }
 ],
 "metadata": {
  "kernelspec": {
   "display_name": "Python 3.9.12 ('base')",
   "language": "python",
   "name": "python3"
  },
  "language_info": {
   "codemirror_mode": {
    "name": "ipython",
    "version": 3
   },
   "file_extension": ".py",
   "mimetype": "text/x-python",
   "name": "python",
   "nbconvert_exporter": "python",
   "pygments_lexer": "ipython3",
   "version": "3.9.12"
  },
  "vscode": {
   "interpreter": {
    "hash": "16ba01c6dc83e74a81594ca9f568b8be03ffe318c420d81a059c196fad4add22"
   }
  }
 },
 "nbformat": 4,
 "nbformat_minor": 5
}
