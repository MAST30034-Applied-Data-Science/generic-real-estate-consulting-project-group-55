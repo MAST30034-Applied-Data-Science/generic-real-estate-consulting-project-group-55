{
 "cells": [
  {
   "cell_type": "markdown",
   "id": "b260a046",
   "metadata": {},
   "source": [
    "# External Data Downloader"
   ]
  },
  {
   "cell_type": "markdown",
   "id": "56e813f6",
   "metadata": {},
   "source": [
    "This notebook helps to download all needed the external data sets."
   ]
  },
  {
   "cell_type": "code",
   "execution_count": 2,
   "id": "202c10e2",
   "metadata": {},
   "outputs": [],
   "source": [
    "import os\n",
    "import urllib\n",
    "from urllib.request import urlretrieve\n",
    "import zipfile"
   ]
  },
  {
   "cell_type": "code",
   "execution_count": 3,
   "id": "0b2974a2",
   "metadata": {},
   "outputs": [],
   "source": [
    "# Set the working directory\n",
    "output_dir = f\"../data/raw/\""
   ]
  },
  {
   "cell_type": "markdown",
   "id": "3bd0e995",
   "metadata": {},
   "source": [
    "### 1 - School Location"
   ]
  },
  {
   "cell_type": "code",
   "execution_count": 4,
   "id": "aa551ae2",
   "metadata": {},
   "outputs": [
    {
     "data": {
      "text/plain": [
       "('../data/raw/school_location_18_19.csv',\n",
       " <http.client.HTTPMessage at 0x1e8c1094910>)"
      ]
     },
     "execution_count": 4,
     "metadata": {},
     "output_type": "execute_result"
    }
   ],
   "source": [
    "# URL for the school data\n",
    "URL_school = \"http://www.education.vic.gov.au/Documents/about/research/datavic/\"\n",
    "\n",
    "# 2018-2019 school data\n",
    "URL_school_18_19 = f\"{URL_school}dv279-schoollocations2019\"\n",
    "\n",
    "# Generate output location and filename\n",
    "output = f\"{output_dir}school_location_18_19.csv\"\n",
    "\n",
    "# Urlretrieve the file\n",
    "urlretrieve(f'{URL_school_18_19}.csv', output) "
   ]
  },
  {
   "cell_type": "code",
   "execution_count": 5,
   "id": "0d0bf957",
   "metadata": {},
   "outputs": [
    {
     "data": {
      "text/plain": [
       "('../data/raw/school_location_20.csv',\n",
       " <http.client.HTTPMessage at 0x1e8c0d6efe0>)"
      ]
     },
     "execution_count": 5,
     "metadata": {},
     "output_type": "execute_result"
    }
   ],
   "source": [
    "# 2020 school data\n",
    "URL_school_20 = f\"{URL_school}dv296-schoollocations2020\"\n",
    "\n",
    "# generate output location and filename\n",
    "output = f\"{output_dir}school_location_20.csv\"\n",
    "\n",
    "# Urlretrieve the file\n",
    "urlretrieve(f'{URL_school_20}.csv', output) "
   ]
  },
  {
   "cell_type": "code",
   "execution_count": 6,
   "id": "674a17d1",
   "metadata": {},
   "outputs": [
    {
     "data": {
      "text/plain": [
       "('../data/raw/school_location_21.csv',\n",
       " <http.client.HTTPMessage at 0x1e8c0d6e1d0>)"
      ]
     },
     "execution_count": 6,
     "metadata": {},
     "output_type": "execute_result"
    }
   ],
   "source": [
    "# 2021 school data\n",
    "URL_school_21 = f\"{URL_school}dv309_schoollocations2021\"\n",
    "\n",
    "# Generate output location and filename\n",
    "output = f\"{output_dir}school_location_21.csv\"\n",
    "\n",
    "# Urlretrieve the file\n",
    "urlretrieve(f'{URL_school_21}.csv', output) "
   ]
  },
  {
   "cell_type": "code",
   "execution_count": 7,
   "id": "dd3dbc31",
   "metadata": {},
   "outputs": [
    {
     "data": {
      "text/plain": [
       "('../data/raw/school_location_22.csv',\n",
       " <http.client.HTTPMessage at 0x1e8c0d6e0e0>)"
      ]
     },
     "execution_count": 7,
     "metadata": {},
     "output_type": "execute_result"
    }
   ],
   "source": [
    "# 2022 school data\n",
    "URL_school_22 = f\"{URL_school}dv331_schoollocations2022\"\n",
    "\n",
    "# Generate output location and filename\n",
    "output = f\"{output_dir}school_location_22.csv\"\n",
    "\n",
    "# download\n",
    "urlretrieve(f'{URL_school_22}.csv', output) "
   ]
  },
  {
   "cell_type": "markdown",
   "id": "684eaad0",
   "metadata": {},
   "source": [
    "### 2 - Hospital Location"
   ]
  },
  {
   "cell_type": "code",
   "execution_count": 8,
   "id": "ca3fecc8",
   "metadata": {},
   "outputs": [
    {
     "data": {
      "text/plain": [
       "('../data/raw/hospital_location.csv',\n",
       " <http.client.HTTPMessage at 0x1e8c0ad83a0>)"
      ]
     },
     "execution_count": 8,
     "metadata": {},
     "output_type": "execute_result"
    }
   ],
   "source": [
    "# URL\n",
    "URL_hospital = \"https://www.healthcollect.vic.gov.au/HospitalLists/ExportList.aspx?List=MainHospitalList\"\n",
    "\n",
    "# Generate output location and filename\n",
    "output = f\"{output_dir}hospital_location.csv\"\n",
    "\n",
    "# Urlretrieve the file\n",
    "urlretrieve(f'{URL_hospital}', output) "
   ]
  },
  {
   "cell_type": "markdown",
   "id": "56e3306d",
   "metadata": {},
   "source": [
    "### 3 - Crime statistics"
   ]
  },
  {
   "cell_type": "code",
   "execution_count": 9,
   "id": "2712c3c3",
   "metadata": {},
   "outputs": [
    {
     "data": {
      "text/plain": [
       "('../data/raw/crime_statistics_2012to2021.xlsx',\n",
       " <http.client.HTTPMessage at 0x1e8c0ad8520>)"
      ]
     },
     "execution_count": 9,
     "metadata": {},
     "output_type": "execute_result"
    }
   ],
   "source": [
    "# 2012-2021 Crime data\n",
    "URL_crime_2012to2021 = \"https://files.crimestatistics.vic.gov.au/2022-03/Data_Tables_LGA_Criminal_Incidents_Year_Ending_December_2021\"\n",
    "\n",
    "# Generate output location and filename\n",
    "output = f\"{output_dir}crime_statistics_2012to2021.xlsx\"\n",
    "\n",
    "# Download\n",
    "urlretrieve(f'{URL_crime_2012to2021}.xlsx', output) "
   ]
  },
  {
   "cell_type": "code",
   "execution_count": 10,
   "id": "da7d382d",
   "metadata": {},
   "outputs": [
    {
     "data": {
      "text/plain": [
       "('../data/raw/crime_statistics_2022.xlsx',\n",
       " <http.client.HTTPMessage at 0x1e8c0d6cc10>)"
      ]
     },
     "execution_count": 10,
     "metadata": {},
     "output_type": "execute_result"
    }
   ],
   "source": [
    "# 2022 Crime data\n",
    "URL_crime_2022 = \"https://files.crimestatistics.vic.gov.au/2022-06/Data_Tables_LGA_Criminal_Incidents_Year_Ending_March_2022\"\n",
    "\n",
    "# Generate output location and filename\n",
    "output = f\"{output_dir}crime_statistics_2022.xlsx\"\n",
    "\n",
    "# Download\n",
    "urlretrieve(f'{URL_crime_2022}.xlsx', output) "
   ]
  },
  {
   "cell_type": "markdown",
   "id": "174e98e4",
   "metadata": {},
   "source": [
    "### 4 - Population data"
   ]
  },
  {
   "cell_type": "code",
   "execution_count": 11,
   "id": "855867e6",
   "metadata": {},
   "outputs": [
    {
     "data": {
      "text/plain": [
       "('../data/raw/population.xlsx', <http.client.HTTPMessage at 0x1e8c0d6e680>)"
      ]
     },
     "execution_count": 11,
     "metadata": {},
     "output_type": "execute_result"
    }
   ],
   "source": [
    "# URL of data of population\n",
    "URL_population = \"https://www.abs.gov.au/statistics/people/population/regional-population/2021/32180DS0001_2001-21\"\n",
    "\n",
    "# Generate output location and filename\n",
    "output = f\"{output_dir}population.xlsx\"\n",
    "\n",
    "# Urlretrieve the file\n",
    "urlretrieve(f'{URL_population}.xlsx', output) "
   ]
  },
  {
   "cell_type": "markdown",
   "id": "1ed2c5fc",
   "metadata": {},
   "source": [
    "### 5 - Train station"
   ]
  },
  {
   "cell_type": "code",
   "execution_count": 12,
   "id": "d99db6ac",
   "metadata": {},
   "outputs": [
    {
     "data": {
      "text/plain": [
       "('../data/raw/train_station_18to19.xlsx',\n",
       " <http.client.HTTPMessage at 0x1e8c10ca920>)"
      ]
     },
     "execution_count": 12,
     "metadata": {},
     "output_type": "execute_result"
    }
   ],
   "source": [
    "# URL\n",
    "URL_train = \"https://vicroadsopendatastorehouse.vicroads.vic.gov.au/opendata/Public_Transport/Patronage/\"\n",
    "\n",
    "# 2018-2019 train data\n",
    "URL_train_18_19 = f\"{URL_train}Annual%20regional%20train%20station%20entries%202018-19\"\n",
    "\n",
    "# Generate output location and filename\n",
    "output = f\"{output_dir}train_station_18to19.xlsx\"\n",
    "\n",
    "# urllib request\n",
    "opener=urllib.request.build_opener()\n",
    "opener.addheaders=[('User-Agent','Mozilla/5.0 (Windows NT 6.1; WOW64) AppleWebKit/537.36 \\\n",
    "    (KHTML, like Gecko) Chrome/36.0.1941.0 Safari/537.36')]\n",
    "urllib.request.install_opener(opener)\n",
    "\n",
    "# Urlretrieve the file\n",
    "urllib.request.urlretrieve(f'{URL_train_18_19}.xlsx', output)"
   ]
  },
  {
   "cell_type": "code",
   "execution_count": 13,
   "id": "33534b18",
   "metadata": {},
   "outputs": [
    {
     "data": {
      "text/plain": [
       "('../data/raw/train_station_19to20.xlsx',\n",
       " <http.client.HTTPMessage at 0x1e8c0d6d6c0>)"
      ]
     },
     "execution_count": 13,
     "metadata": {},
     "output_type": "execute_result"
    }
   ],
   "source": [
    "# 2019-2020 train data\n",
    "URL_train_19_20 = f\"{URL_train}Annual%20regional%20train%20station%20entries%202019-20\"\n",
    "\n",
    "# Generate output location and filename\n",
    "output = f\"{output_dir}train_station_19to20.xlsx\"\n",
    "\n",
    "# urllib request\n",
    "opener=urllib.request.build_opener()\n",
    "opener.addheaders=[('User-Agent','Mozilla/5.0 (Windows NT 6.1; WOW64) AppleWebKit/537.36 \\\n",
    "    (KHTML, like Gecko) Chrome/36.0.1941.0 Safari/537.36')]\n",
    "urllib.request.install_opener(opener)\n",
    "\n",
    "# Urlretrieve the file\n",
    "urllib.request.urlretrieve(f'{URL_train_19_20}.xlsx', output)\n"
   ]
  },
  {
   "cell_type": "code",
   "execution_count": 14,
   "id": "5de3321a",
   "metadata": {},
   "outputs": [
    {
     "data": {
      "text/plain": [
       "('../data/raw/train_station_20to21.xlsx',\n",
       " <http.client.HTTPMessage at 0x1e8c0fda590>)"
      ]
     },
     "execution_count": 14,
     "metadata": {},
     "output_type": "execute_result"
    }
   ],
   "source": [
    "# 2020-2021 train data\n",
    "URL_train_20_21 = f\"{URL_train}Annual%20regional%20train%20station%20entries%202020-21\"\n",
    "\n",
    "# Generate output location and filename\n",
    "output = f\"{output_dir}train_station_20to21.xlsx\"\n",
    "\n",
    "# urllib request\n",
    "opener=urllib.request.build_opener()\n",
    "opener.addheaders=[('User-Agent','Mozilla/5.0 (Windows NT 6.1; WOW64) AppleWebKit/537.36 \\\n",
    "    (KHTML, like Gecko) Chrome/36.0.1941.0 Safari/537.36')]\n",
    "urllib.request.install_opener(opener)\n",
    "\n",
    "# Urlretrieve the file\n",
    "urllib.request.urlretrieve(f'{URL_train_20_21}.xlsx', output)"
   ]
  },
  {
   "cell_type": "markdown",
   "id": "1af7835e",
   "metadata": {},
   "source": [
    "### 6 - Restaurant and Coffee information in Melbourne"
   ]
  },
  {
   "cell_type": "code",
   "execution_count": 15,
   "id": "d979c56a",
   "metadata": {},
   "outputs": [
    {
     "data": {
      "text/plain": [
       "('../data/raw/restaruant_coffee.csv',\n",
       " <http.client.HTTPMessage at 0x1e8c0786b00>)"
      ]
     },
     "execution_count": 15,
     "metadata": {},
     "output_type": "execute_result"
    }
   ],
   "source": [
    "# URl of resturant and coffee in Melbourne (2002-2020)\n",
    "URL_rest_coffee = \"https://data.melbourne.vic.gov.au/api/views/xt2y-tnn9/rows.csv?accessType=DOWNLOAD\"\n",
    "\n",
    "# Generate output location and filename\n",
    "output = f\"{output_dir}restaruant_coffee.csv\"\n",
    "\n",
    "# Urlretrieve the file\n",
    "urlretrieve(f'{URL_rest_coffee}', output) "
   ]
  },
  {
   "cell_type": "markdown",
   "id": "65557676",
   "metadata": {},
   "source": [
    "### 7 - Census Data"
   ]
  },
  {
   "cell_type": "code",
   "execution_count": 16,
   "id": "000b8dc5",
   "metadata": {},
   "outputs": [
    {
     "data": {
      "text/plain": [
       "('../data/raw/census_2021.zip', <http.client.HTTPMessage at 0x1e8c0f6d300>)"
      ]
     },
     "execution_count": 16,
     "metadata": {},
     "output_type": "execute_result"
    }
   ],
   "source": [
    "# URL for Census data in Victoria 2021\n",
    "URL_census_2021 = 'https://www.abs.gov.au/census/find-census-data/datapacks/download/2021_GCP_all_for_VIC_short-header.zip'\n",
    "filename = f'{output_dir}census_2021.zip'\n",
    "\n",
    "# Download the zip file\n",
    "urlretrieve(URL_census_2021, filename) "
   ]
  },
  {
   "cell_type": "code",
   "execution_count": 17,
   "id": "0785c236",
   "metadata": {},
   "outputs": [],
   "source": [
    "census2021 = zipfile.ZipFile(f'{output_dir}census_2021.zip')\n",
    "\n",
    "for file in census2021.namelist():\n",
    "    if file.startswith(\"2021 Census GCP All Geographies for VIC/POA/\"):\n",
    "        census2021.extract(file, f'{output_dir}/POA')"
   ]
  },
  {
   "cell_type": "markdown",
   "id": "789b10cd",
   "metadata": {},
   "source": [
    "### 8 - Quarter Rental data"
   ]
  },
  {
   "cell_type": "code",
   "execution_count": 18,
   "id": "d9446ccc",
   "metadata": {},
   "outputs": [
    {
     "data": {
      "text/plain": [
       "('../data/raw/rental.xlsx', <http.client.HTTPMessage at 0x1e8c0f6c700>)"
      ]
     },
     "execution_count": 18,
     "metadata": {},
     "output_type": "execute_result"
    }
   ],
   "source": [
    "# URl of rental data (2002-2020)\n",
    "URL_rental = \"https://www.dffh.vic.gov.au/moving-annual-rents-suburb-june-quarter-2022-excel\"\n",
    "\n",
    "# Generate output location and filename\n",
    "output = f\"{output_dir}rental.xlsx\"\n",
    "\n",
    "# Urlretrieve the file\n",
    "urlretrieve(f'{URL_rental}', output) "
   ]
  },
  {
   "cell_type": "markdown",
   "id": "ac60930b",
   "metadata": {},
   "source": [
    "### 9 - Parks"
   ]
  },
  {
   "cell_type": "code",
   "execution_count": 19,
   "id": "4f1545e3",
   "metadata": {},
   "outputs": [],
   "source": [
    "# URl of Parks\n",
    "URL_park = 'https://datashare.maps.vic.gov.au/search?q=uuid%3D51d86fdf-8a29-5e09-904f-855319faf2d8'\n",
    "\n",
    "# generate output location and filename\n",
    "output = f\"{output_dir}park.xlsx\"\n",
    "\n",
    "# download\n",
    "urllib.request.urlretrieve(f'{URL_park}.xlsx', output)"
   ]
  }
 ],
 "metadata": {
  "kernelspec": {
   "display_name": "Python 3.8.10 64-bit",
   "language": "python",
   "name": "python3"
  },
  "language_info": {
   "codemirror_mode": {
    "name": "ipython",
    "version": 3
   },
   "file_extension": ".py",
   "mimetype": "text/x-python",
   "name": "python",
   "nbconvert_exporter": "python",
   "pygments_lexer": "ipython3",
   "version": "3.8.10"
  },
  "vscode": {
   "interpreter": {
    "hash": "916dbcbb3f70747c44a77c7bcd40155683ae19c65e1c03b4aa3499c5328201f1"
   }
  }
 },
 "nbformat": 4,
 "nbformat_minor": 5
}
