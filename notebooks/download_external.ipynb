{
 "cells": [
  {
   "cell_type": "code",
   "execution_count": 2,
   "id": "202c10e2",
   "metadata": {},
   "outputs": [],
   "source": [
    "import os\n",
    "import urllib\n",
    "from urllib.request import urlretrieve\n",
    "import zipfile"
   ]
  },
  {
   "cell_type": "code",
   "execution_count": 3,
   "id": "0b2974a2",
   "metadata": {},
   "outputs": [],
   "source": [
    "output_dir = f\"../data/raw/\""
   ]
  },
  {
   "cell_type": "markdown",
   "id": "3bd0e995",
   "metadata": {},
   "source": [
    "<font size=5>School Location"
   ]
  },
  {
   "cell_type": "code",
   "execution_count": 4,
   "id": "9e687118",
   "metadata": {},
   "outputs": [],
   "source": [
    "URL_school = \"http://www.education.vic.gov.au/Documents/about/research/datavic/\""
   ]
  },
  {
   "cell_type": "code",
   "execution_count": 5,
   "id": "aa551ae2",
   "metadata": {},
   "outputs": [
    {
     "data": {
      "text/plain": [
       "('../data/raw/school_location_18_19.csv',\n",
       " <http.client.HTTPMessage at 0x7f9eb67ee970>)"
      ]
     },
     "execution_count": 5,
     "metadata": {},
     "output_type": "execute_result"
    }
   ],
   "source": [
    "# URl of school for 2018-2019\n",
    "\n",
    "URL_school_18_19 = f\"{URL_school}dv279-schoollocations2019\"\n",
    "\n",
    "# generate output location and filename\n",
    "output = f\"{output_dir}school_location_18_19.csv\"\n",
    "# download\n",
    "urlretrieve(f'{URL_school_18_19}.csv', output) "
   ]
  },
  {
   "cell_type": "code",
   "execution_count": 6,
   "id": "0d0bf957",
   "metadata": {},
   "outputs": [
    {
     "data": {
      "text/plain": [
       "('../data/raw/school_location_20.csv',\n",
       " <http.client.HTTPMessage at 0x7f9eb72100a0>)"
      ]
     },
     "execution_count": 6,
     "metadata": {},
     "output_type": "execute_result"
    }
   ],
   "source": [
    "# URl of school for 2020\n",
    "URL_school_20 = f\"{URL_school}dv296-schoollocations2020\"\n",
    "\n",
    "# generate output location and filename\n",
    "output = f\"{output_dir}school_location_20.csv\"\n",
    "# download\n",
    "urlretrieve(f'{URL_school_20}.csv', output) "
   ]
  },
  {
   "cell_type": "code",
   "execution_count": 7,
   "id": "674a17d1",
   "metadata": {},
   "outputs": [
    {
     "data": {
      "text/plain": [
       "('../data/raw/school_location_21.csv',\n",
       " <http.client.HTTPMessage at 0x7f9eb73605e0>)"
      ]
     },
     "execution_count": 7,
     "metadata": {},
     "output_type": "execute_result"
    }
   ],
   "source": [
    "# URl of school for 2021\n",
    "URL_school_21 = f\"{URL_school}dv309_schoollocations2021\"\n",
    "\n",
    "# generate output location and filename\n",
    "output = f\"{output_dir}school_location_21.csv\"\n",
    "# download\n",
    "urlretrieve(f'{URL_school_21}.csv', output) "
   ]
  },
  {
   "cell_type": "code",
   "execution_count": 8,
   "id": "dd3dbc31",
   "metadata": {},
   "outputs": [
    {
     "data": {
      "text/plain": [
       "('../data/raw/school_location_22.csv',\n",
       " <http.client.HTTPMessage at 0x7f9eb72101c0>)"
      ]
     },
     "execution_count": 8,
     "metadata": {},
     "output_type": "execute_result"
    }
   ],
   "source": [
    "# URl of school for 2022\n",
    "URL_school_22 = f\"{URL_school}dv331_schoollocations2022\"\n",
    "\n",
    "# generate output location and filename\n",
    "output = f\"{output_dir}school_location_22.csv\"\n",
    "# download\n",
    "urlretrieve(f'{URL_school_22}.csv', output) "
   ]
  },
  {
   "cell_type": "markdown",
   "id": "684eaad0",
   "metadata": {},
   "source": [
    "<font size=5>Hospital Location"
   ]
  },
  {
   "cell_type": "code",
   "execution_count": 9,
   "id": "ca3fecc8",
   "metadata": {},
   "outputs": [
    {
     "data": {
      "text/plain": [
       "('../data/raw/hospital_location.csv',\n",
       " <http.client.HTTPMessage at 0x7f9eb6ac6ca0>)"
      ]
     },
     "execution_count": 9,
     "metadata": {},
     "output_type": "execute_result"
    }
   ],
   "source": [
    "# URl of hospital location\n",
    "URL_hospital = \"https://www.healthcollect.vic.gov.au/HospitalLists/ExportList.aspx?List=MainHospitalList\"\n",
    "\n",
    "# generate output location and filename\n",
    "output = f\"{output_dir}hospital_location.csv\"\n",
    "# download\n",
    "urlretrieve(f'{URL_hospital}', output) "
   ]
  },
  {
   "cell_type": "markdown",
   "id": "56e3306d",
   "metadata": {},
   "source": [
    "Download Crime statistics"
   ]
  },
  {
   "cell_type": "code",
   "execution_count": 18,
   "id": "2712c3c3",
   "metadata": {},
   "outputs": [
    {
     "data": {
      "text/plain": [
       "('../data/raw/crime_statistics_2012to2021.xlsx',\n",
       " <http.client.HTTPMessage at 0x7f602dcc3070>)"
      ]
     },
     "execution_count": 18,
     "metadata": {},
     "output_type": "execute_result"
    }
   ],
   "source": [
    "# URl of Crime 2012-2021\n",
    "URL_crime_2012to2021 = \"https://files.crimestatistics.vic.gov.au/2022-03/Data_Tables_LGA_Criminal_Incidents_Year_Ending_December_2021\"\n",
    "\n",
    "# generate output location and filename\n",
    "output = f\"{output_dir}crime_statistics_2012to2021.xlsx\"\n",
    "# download\n",
    "urlretrieve(f'{URL_crime_2012to2021}.xlsx', output) "
   ]
  },
  {
   "cell_type": "code",
   "execution_count": 19,
   "id": "da7d382d",
   "metadata": {},
   "outputs": [
    {
     "data": {
      "text/plain": [
       "('../data/raw/crime_statistics_2022.xlsx',\n",
       " <http.client.HTTPMessage at 0x7f601b53d760>)"
      ]
     },
     "execution_count": 19,
     "metadata": {},
     "output_type": "execute_result"
    }
   ],
   "source": [
    "# URl of Crime 2022\n",
    "URL_crime_2022 = \"https://files.crimestatistics.vic.gov.au/2022-06/Data_Tables_LGA_Criminal_Incidents_Year_Ending_March_2022\"\n",
    "\n",
    "# generate output location and filename\n",
    "output = f\"{output_dir}crime_statistics_2022.xlsx\"\n",
    "# download\n",
    "urlretrieve(f'{URL_crime_2022}.xlsx', output) "
   ]
  },
  {
   "cell_type": "markdown",
   "id": "174e98e4",
   "metadata": {},
   "source": [
    "Download population data"
   ]
  },
  {
   "cell_type": "code",
   "execution_count": 3,
   "id": "855867e6",
   "metadata": {},
   "outputs": [
    {
     "data": {
      "text/plain": [
       "('../data/raw/population.xlsx', <http.client.HTTPMessage at 0x7fc1e9330df0>)"
      ]
     },
     "execution_count": 3,
     "metadata": {},
     "output_type": "execute_result"
    }
   ],
   "source": [
    "# URl of data of population\n",
    "URL_population = \"https://www.abs.gov.au/statistics/people/population/regional-population/2021/32180DS0001_2001-21\"\n",
    "\n",
    "# generate output location and filename\n",
    "output = f\"{output_dir}population.xlsx\"\n",
    "# download\n",
    "urlretrieve(f'{URL_population}.xlsx', output) "
   ]
  },
  {
   "cell_type": "markdown",
   "id": "ab166220",
   "metadata": {},
   "source": [
    "Download population_map zip file"
   ]
  },
  {
   "cell_type": "code",
   "execution_count": 21,
   "id": "c62d9bc6",
   "metadata": {},
   "outputs": [],
   "source": [
    "# URL of taxi shape file\n",
    "URL_population_zip = 'https://www.abs.gov.au/statistics/people/population/regional-population-age-and-sex/2021/ERP_Age_Sex_SA2_2021_gpkg.zip'\n",
    "filename = '../data/population_map/population_map.zip'\n",
    "\n",
    "# download the zip file\n",
    "urlretrieve(URL_population_zip, filename) \n",
    "\n",
    "# open zip in taxi_zones file\n",
    "with zipfile.ZipFile(filename, 'r') as zip_ref:\n",
    "    zip_ref.extractall('../data/population_map/')"
   ]
  },
  {
   "cell_type": "markdown",
   "id": "1ed2c5fc",
   "metadata": {},
   "source": [
    "Download train station"
   ]
  },
  {
   "cell_type": "code",
   "execution_count": 4,
   "id": "c1db0a93",
   "metadata": {},
   "outputs": [],
   "source": [
    "URL_train = \"https://vicroadsopendatastorehouse.vicroads.vic.gov.au/opendata/Public_Transport/Patronage/\""
   ]
  },
  {
   "cell_type": "code",
   "execution_count": 12,
   "id": "d99db6ac",
   "metadata": {},
   "outputs": [
    {
     "data": {
      "text/plain": [
       "('../data/raw/train_station_18to19.xlsx',\n",
       " <http.client.HTTPMessage at 0x7fa8e00c08e0>)"
      ]
     },
     "execution_count": 12,
     "metadata": {},
     "output_type": "execute_result"
    }
   ],
   "source": [
    "# URl of train station for 2018-2019\n",
    "URL_train_18_19 = f\"{URL_train}Annual%20regional%20train%20station%20entries%202018-19\"\n",
    "\n",
    "# generate output location and filename\n",
    "output = f\"{output_dir}train_station_18to19.xlsx\"\n",
    "\n",
    "opener=urllib.request.build_opener()\n",
    "opener.addheaders=[('User-Agent','Mozilla/5.0 (Windows NT 6.1; WOW64) AppleWebKit/537.36 \\\n",
    "    (KHTML, like Gecko) Chrome/36.0.1941.0 Safari/537.36')]\n",
    "urllib.request.install_opener(opener)\n",
    "\n",
    "# download\n",
    "urllib.request.urlretrieve(f'{URL_train_18_19}.xlsx', output)\n",
    "\n"
   ]
  },
  {
   "cell_type": "code",
   "execution_count": 13,
   "id": "33534b18",
   "metadata": {},
   "outputs": [
    {
     "data": {
      "text/plain": [
       "('../data/raw/train_station_19to20.xlsx',\n",
       " <http.client.HTTPMessage at 0x7fa8cbf46220>)"
      ]
     },
     "execution_count": 13,
     "metadata": {},
     "output_type": "execute_result"
    }
   ],
   "source": [
    "# URl of train station for 2019-2020\n",
    "URL_train_19_20 = f\"{URL_train}Annual%20regional%20train%20station%20entries%202019-20\"\n",
    "\n",
    "# generate output location and filename\n",
    "output = f\"{output_dir}train_station_19to20.xlsx\"\n",
    "\n",
    "opener=urllib.request.build_opener()\n",
    "opener.addheaders=[('User-Agent','Mozilla/5.0 (Windows NT 6.1; WOW64) AppleWebKit/537.36 \\\n",
    "    (KHTML, like Gecko) Chrome/36.0.1941.0 Safari/537.36')]\n",
    "urllib.request.install_opener(opener)\n",
    "\n",
    "# download\n",
    "urllib.request.urlretrieve(f'{URL_train_19_20}.xlsx', output)\n"
   ]
  },
  {
   "cell_type": "code",
   "execution_count": 14,
   "id": "5de3321a",
   "metadata": {},
   "outputs": [
    {
     "data": {
      "text/plain": [
       "('../data/raw/train_station_20to21.xlsx',\n",
       " <http.client.HTTPMessage at 0x7fa8cbf46700>)"
      ]
     },
     "execution_count": 14,
     "metadata": {},
     "output_type": "execute_result"
    }
   ],
   "source": [
    "# URl of train station for 2020-2021\n",
    "URL_train_20_21 = f\"{URL_train}Annual%20regional%20train%20station%20entries%202020-21\"\n",
    "\n",
    "# generate output location and filename\n",
    "output = f\"{output_dir}train_station_20to21.xlsx\"\n",
    "\n",
    "opener=urllib.request.build_opener()\n",
    "opener.addheaders=[('User-Agent','Mozilla/5.0 (Windows NT 6.1; WOW64) AppleWebKit/537.36 \\\n",
    "    (KHTML, like Gecko) Chrome/36.0.1941.0 Safari/537.36')]\n",
    "urllib.request.install_opener(opener)\n",
    "\n",
    "# download\n",
    "urllib.request.urlretrieve(f'{URL_train_20_21}.xlsx', output)"
   ]
  },
  {
   "cell_type": "markdown",
   "id": "1af7835e",
   "metadata": {},
   "source": [
    "Restaurant and Coffee' information in Melbourne"
   ]
  },
  {
   "cell_type": "code",
   "execution_count": 6,
   "id": "d979c56a",
   "metadata": {},
   "outputs": [
    {
     "data": {
      "text/plain": [
       "('../data/raw/restaruant_coffee.csv',\n",
       " <http.client.HTTPMessage at 0x7f5aa3782670>)"
      ]
     },
     "execution_count": 6,
     "metadata": {},
     "output_type": "execute_result"
    }
   ],
   "source": [
    "# URl of resturant and coffee in Melbourne (2002-2020)\n",
    "URL_rest_coffee = \"https://data.melbourne.vic.gov.au/api/views/xt2y-tnn9/rows.csv?accessType=DOWNLOAD\"\n",
    "\n",
    "# generate output location and filename\n",
    "output = f\"{output_dir}restaruant_coffee.csv\"\n",
    "# download\n",
    "urlretrieve(f'{URL_rest_coffee}', output) \n",
    "\n"
   ]
  },
  {
   "cell_type": "markdown",
   "id": "65557676",
   "metadata": {},
   "source": [
    "Census Data"
   ]
  },
  {
   "cell_type": "code",
   "execution_count": 11,
   "id": "000b8dc5",
   "metadata": {},
   "outputs": [
    {
     "data": {
      "text/plain": [
       "('../data/raw/census_2021.zip', <http.client.HTTPMessage at 0x7f5aa10d6f70>)"
      ]
     },
     "execution_count": 11,
     "metadata": {},
     "output_type": "execute_result"
    }
   ],
   "source": [
    "#URL for Census data in Victoria 2021\n",
    "URL_census_2021 = 'https://www.abs.gov.au/census/find-census-data/datapacks/download/2021_GCP_all_for_VIC_short-header.zip'\n",
    "filename = f'{output_dir}census_2021.zip'\n",
    "\n",
    "# download the zip file\n",
    "urlretrieve(URL_census_2021, filename) \n"
   ]
  },
  {
   "cell_type": "code",
   "execution_count": 20,
   "id": "0785c236",
   "metadata": {},
   "outputs": [],
   "source": [
    "census2021 = zipfile.ZipFile(f'{output_dir}census_2021.zip')\n",
    " \n",
    "for file in census2021.namelist():\n",
    "    if file.startswith(\"2021 Census GCP All Geographies for VIC/POA/\"):\n",
    "        census2021.extract(file, f'{output_dir}/POA')\n"
   ]
  },
  {
   "cell_type": "markdown",
   "id": "789b10cd",
   "metadata": {},
   "source": [
    "Quarter Rental data 2020-2022"
   ]
  },
  {
   "cell_type": "code",
   "execution_count": 21,
   "id": "d9446ccc",
   "metadata": {},
   "outputs": [
    {
     "data": {
      "text/plain": [
       "('../data/raw/rental.csv', <http.client.HTTPMessage at 0x7f5aa03fb160>)"
      ]
     },
     "execution_count": 21,
     "metadata": {},
     "output_type": "execute_result"
    }
   ],
   "source": [
    "# URl of rental data (2002-2020)\n",
    "URL_rental = \"https://www.dffh.vic.gov.au/moving-annual-rents-suburb-june-quarter-2022-excel\"\n",
    "\n",
    "# generate output location and filename\n",
    "output = f\"{output_dir}rental.csv\"\n",
    "# download\n",
    "urlretrieve(f'{URL_rental}', output) \n"
   ]
  },
  {
   "cell_type": "markdown",
   "id": "587831a8",
   "metadata": {},
   "source": [
    "<font size=5>Parks Location"
   ]
  },
  {
   "cell_type": "code",
   "execution_count": 10,
   "id": "9fa1ec9c",
   "metadata": {},
   "outputs": [],
   "source": [
    "import urllib.request\n",
    "import zipfile\n",
    "\n",
    "filename='../data/raw/park.zip'\n",
    "urllib.request.urlretrieve(\"https://opendata.arcgis.com/api/v3/datasets/e5dc06c9b6474b1eb6f2d51d149bc54c_14/downloads/data?format=shp&spatialRefId=3157&where=1%3D1\", filename)\n",
    "\n",
    "# unzip the file\n",
    "with zipfile.ZipFile(filename,'r') as zip_ref:\n",
    "    zip_ref.extractall(\"../data/raw/\")"
   ]
  },
  {
   "cell_type": "code",
   "execution_count": null,
   "id": "ffdc31ab",
   "metadata": {},
   "outputs": [],
   "source": [
    "import geopandas as gpd\n",
    "df_geo = gpd.read_file(\"../data/raw/Parks_and_Open_Space.shp\") \n",
    "df_geo.to_csv('../data/curated/park.csv')"
   ]
  },
  {
   "cell_type": "code",
   "execution_count": null,
   "id": "29b1af87",
   "metadata": {},
   "outputs": [],
   "source": []
  }
 ],
 "metadata": {
  "kernelspec": {
   "display_name": "Python 3.9.12 ('base')",
   "language": "python",
   "name": "python3"
  },
  "language_info": {
   "codemirror_mode": {
    "name": "ipython",
    "version": 3
   },
   "file_extension": ".py",
   "mimetype": "text/x-python",
   "name": "python",
   "nbconvert_exporter": "python",
   "pygments_lexer": "ipython3",
   "version": "3.9.12"
  },
  "vscode": {
   "interpreter": {
    "hash": "16ba01c6dc83e74a81594ca9f568b8be03ffe318c420d81a059c196fad4add22"
   }
  }
 },
 "nbformat": 4,
 "nbformat_minor": 5
}
