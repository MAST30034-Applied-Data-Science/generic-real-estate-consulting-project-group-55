{
 "cells": [
  {
   "cell_type": "code",
   "execution_count": 1,
   "id": "57b1f3a1",
   "metadata": {},
   "outputs": [],
   "source": [
    "import os\n",
    "from urllib.request import urlretrieve\n",
    "import zipfile"
   ]
  },
  {
   "cell_type": "code",
   "execution_count": 5,
   "id": "6ff0b850",
   "metadata": {},
   "outputs": [
    {
     "data": {
      "text/plain": [
       "('../data/raw/school_location_18_19.csv',\n",
       " <http.client.HTTPMessage at 0x7f7ef13142e0>)"
      ]
     },
     "execution_count": 5,
     "metadata": {},
     "output_type": "execute_result"
    }
   ],
   "source": [
    "# URl of taxi zone\n",
    "URL_school_18_19 = \"http://www.education.vic.gov.au/Documents/about/research/datavic/dv279-schoollocations2019\"\n",
    "\n",
    "# generate output location and filename\n",
    "output_dir = f\"../data/raw/school_location_18_19.csv\"\n",
    "# download\n",
    "urlretrieve(f'{URL_school_18_19}.csv', output_dir) "
   ]
  },
  {
   "cell_type": "code",
   "execution_count": null,
   "id": "7fda902f",
   "metadata": {},
   "outputs": [],
   "source": [
    "# URl of taxi zone\n",
    "URL_school_20 = \"https://www.education.vic.gov.au/Documents/about/research/datavic/dv296-schoollocations2020\"\n",
    "\n",
    "# generate output location and filename\n",
    "output_dir = f\"../data/raw/school_location_20.csv\"\n",
    "# download\n",
    "urlretrieve(f'{URL_school_20}.csv', output_dir) "
   ]
  },
  {
   "cell_type": "code",
   "execution_count": null,
   "id": "6737b7f7",
   "metadata": {},
   "outputs": [],
   "source": [
    "# URl of taxi zone\n",
    "URL_school_21 = \"https://www.education.vic.gov.au/Documents/about/research/datavic/dv309_schoollocations2021\"\n",
    "\n",
    "# generate output location and filename\n",
    "output_dir = f\"../data/raw/school_location_21.csv\"\n",
    "# download\n",
    "urlretrieve(f'{URL_school_18_19}.csv', output_dir) "
   ]
  },
  {
   "cell_type": "code",
   "execution_count": null,
   "id": "dd00730d",
   "metadata": {},
   "outputs": [],
   "source": [
    "# URl of taxi zone\n",
    "URL_school_22 = \"http://www.education.vic.gov.au/Documents/about/research/datavic/dv279-schoollocations2019\"\n",
    "\n",
    "# generate output location and filename\n",
    "output_dir = f\"../data/raw/school_location_18_19.csv\"\n",
    "# download\n",
    "urlretrieve(f'{URL_school_18_19}.csv', output_dir) "
   ]
  }
 ],
 "metadata": {
  "kernelspec": {
   "display_name": "Python 3 (ipykernel)",
   "language": "python",
   "name": "python3"
  },
  "language_info": {
   "codemirror_mode": {
    "name": "ipython",
    "version": 3
   },
   "file_extension": ".py",
   "mimetype": "text/x-python",
   "name": "python",
   "nbconvert_exporter": "python",
   "pygments_lexer": "ipython3",
   "version": "3.9.7"
  }
 },
 "nbformat": 4,
 "nbformat_minor": 5
}
