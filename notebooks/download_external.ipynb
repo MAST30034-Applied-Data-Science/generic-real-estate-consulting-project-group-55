{
 "cells": [
  {
   "cell_type": "code",
   "execution_count": 2,
   "id": "202c10e2",
   "metadata": {},
   "outputs": [],
   "source": [
    "import os\n",
    "import urllib\n",
    "from urllib.request import urlretrieve\n",
    "import zipfile"
   ]
  },
  {
   "cell_type": "code",
   "execution_count": 3,
   "id": "0b2974a2",
   "metadata": {},
   "outputs": [],
   "source": [
    "output_dir = f\"../data/raw/\""
   ]
  },
  {
   "cell_type": "markdown",
   "id": "3bd0e995",
   "metadata": {},
   "source": [
    "<font size=5>School Location"
   ]
  },
  {
   "cell_type": "code",
   "execution_count": 3,
   "id": "9e687118",
   "metadata": {},
   "outputs": [],
   "source": [
    "URL_school = \"http://www.education.vic.gov.au/Documents/about/research/datavic/\""
   ]
  },
  {
   "cell_type": "code",
   "execution_count": 4,
   "id": "aa551ae2",
   "metadata": {},
   "outputs": [
    {
     "data": {
      "text/plain": [
       "('../data/raw/school_location_18_19.csv',\n",
       " <http.client.HTTPMessage at 0x1b1715f6730>)"
      ]
     },
     "execution_count": 4,
     "metadata": {},
     "output_type": "execute_result"
    }
   ],
   "source": [
    "# URl of school for 2018-2019\n",
    "\n",
    "URL_school_18_19 = f\"{URL_school}dv279-schoollocations2019\"\n",
    "\n",
    "# generate output location and filename\n",
    "output = f\"{output_dir}school_location_18_19.csv\"\n",
    "# download\n",
    "urlretrieve(f'{URL_school_18_19}.csv', output) "
   ]
  },
  {
   "cell_type": "code",
   "execution_count": 5,
   "id": "0d0bf957",
   "metadata": {},
   "outputs": [
    {
     "data": {
      "text/plain": [
       "('../data/raw/school_location_20.csv',\n",
       " <http.client.HTTPMessage at 0x1b1715f6e80>)"
      ]
     },
     "execution_count": 5,
     "metadata": {},
     "output_type": "execute_result"
    }
   ],
   "source": [
    "# URl of school for 2020\n",
    "URL_school_20 = f\"{URL_school}dv296-schoollocations2020\"\n",
    "\n",
    "# generate output location and filename\n",
    "output = f\"{output_dir}school_location_20.csv\"\n",
    "# download\n",
    "urlretrieve(f'{URL_school_20}.csv', output) "
   ]
  },
  {
   "cell_type": "code",
   "execution_count": 6,
   "id": "674a17d1",
   "metadata": {},
   "outputs": [
    {
     "data": {
      "text/plain": [
       "('../data/raw/school_location_21.csv',\n",
       " <http.client.HTTPMessage at 0x1b1715f6400>)"
      ]
     },
     "execution_count": 6,
     "metadata": {},
     "output_type": "execute_result"
    }
   ],
   "source": [
    "# URl of school for 2021\n",
    "URL_school_21 = f\"{URL_school}dv309_schoollocations2021\"\n",
    "\n",
    "# generate output location and filename\n",
    "output = f\"{output_dir}school_location_21.csv\"\n",
    "# download\n",
    "urlretrieve(f'{URL_school_21}.csv', output) "
   ]
  },
  {
   "cell_type": "code",
   "execution_count": 7,
   "id": "dd3dbc31",
   "metadata": {},
   "outputs": [
    {
     "data": {
      "text/plain": [
       "('../data/raw/school_location_22.csv',\n",
       " <http.client.HTTPMessage at 0x1b1715f6bb0>)"
      ]
     },
     "execution_count": 7,
     "metadata": {},
     "output_type": "execute_result"
    }
   ],
   "source": [
    "# URl of school for 2022\n",
    "URL_school_22 = f\"{URL_school}dv331_schoollocations2022\"\n",
    "\n",
    "# generate output location and filename\n",
    "output = f\"{output_dir}school_location_22.csv\"\n",
    "# download\n",
    "urlretrieve(f'{URL_school_22}.csv', output) "
   ]
  },
  {
   "cell_type": "markdown",
   "id": "684eaad0",
   "metadata": {},
   "source": [
    "<font size=5>Hospital Location"
   ]
  },
  {
   "cell_type": "code",
   "execution_count": 8,
   "id": "ca3fecc8",
   "metadata": {},
   "outputs": [
    {
     "data": {
      "text/plain": [
       "('../data/raw/hospital_location.csv',\n",
       " <http.client.HTTPMessage at 0x1b1715f68b0>)"
      ]
     },
     "execution_count": 8,
     "metadata": {},
     "output_type": "execute_result"
    }
   ],
   "source": [
    "# URl of hospital location\n",
    "URL_hospital = \"https://www.healthcollect.vic.gov.au/HospitalLists/ExportList.aspx?List=MainHospitalList\"\n",
    "\n",
    "# generate output location and filename\n",
    "output = f\"{output_dir}hospital_location.csv\"\n",
    "# download\n",
    "urlretrieve(f'{URL_hospital}', output) "
   ]
  },
  {
   "cell_type": "markdown",
   "id": "56e3306d",
   "metadata": {},
   "source": [
    "Download Crime statistics"
   ]
  },
  {
   "cell_type": "code",
   "execution_count": 9,
   "id": "2712c3c3",
   "metadata": {},
   "outputs": [
    {
     "data": {
      "text/plain": [
       "('../data/raw/crime_statistics_2012to2021.xlsx',\n",
       " <http.client.HTTPMessage at 0x1b1715f6d60>)"
      ]
     },
     "execution_count": 9,
     "metadata": {},
     "output_type": "execute_result"
    }
   ],
   "source": [
    "# URl of Crime 2012-2021\n",
    "URL_crime_2012to2021 = \"https://files.crimestatistics.vic.gov.au/2022-03/Data_Tables_LGA_Criminal_Incidents_Year_Ending_December_2021\"\n",
    "\n",
    "# generate output location and filename\n",
    "output = f\"{output_dir}crime_statistics_2012to2021.xlsx\"\n",
    "# download\n",
    "urlretrieve(f'{URL_crime_2012to2021}.xlsx', output) "
   ]
  },
  {
   "cell_type": "code",
   "execution_count": 10,
   "id": "da7d382d",
   "metadata": {},
   "outputs": [
    {
     "data": {
      "text/plain": [
       "('../data/raw/crime_statistics_2022.xlsx',\n",
       " <http.client.HTTPMessage at 0x1b1715f6d00>)"
      ]
     },
     "execution_count": 10,
     "metadata": {},
     "output_type": "execute_result"
    }
   ],
   "source": [
    "# URl of Crime 2022\n",
    "URL_crime_2022 = \"https://files.crimestatistics.vic.gov.au/2022-06/Data_Tables_LGA_Criminal_Incidents_Year_Ending_March_2022\"\n",
    "\n",
    "# generate output location and filename\n",
    "output = f\"{output_dir}crime_statistics_2022.xlsx\"\n",
    "# download\n",
    "urlretrieve(f'{URL_crime_2022}.xlsx', output) "
   ]
  },
  {
   "cell_type": "markdown",
   "id": "174e98e4",
   "metadata": {},
   "source": [
    "Download population data"
   ]
  },
  {
   "cell_type": "code",
   "execution_count": 11,
   "id": "855867e6",
   "metadata": {},
   "outputs": [
    {
     "data": {
      "text/plain": [
       "('../data/raw/population.xlsx', <http.client.HTTPMessage at 0x1b1715f63d0>)"
      ]
     },
     "execution_count": 11,
     "metadata": {},
     "output_type": "execute_result"
    }
   ],
   "source": [
    "# URl of data of population\n",
    "URL_population = \"https://www.abs.gov.au/statistics/people/population/regional-population-age-and-sex/2021/32350DS0005_2001-21\"\n",
    "\n",
    "# generate output location and filename\n",
    "output = f\"{output_dir}population.xlsx\"\n",
    "# download\n",
    "urlretrieve(f'{URL_population}.xlsx', output) "
   ]
  },
  {
   "cell_type": "markdown",
   "id": "ab166220",
   "metadata": {},
   "source": [
    "Download population_map zip file"
   ]
  },
  {
   "cell_type": "code",
   "execution_count": 12,
   "id": "c62d9bc6",
   "metadata": {},
   "outputs": [],
   "source": [
    "# URL of taxi shape file\n",
    "URL_population_zip = 'https://www.abs.gov.au/statistics/people/population/regional-population-age-and-sex/2021/ERP_Age_Sex_SA2_2021_gpkg.zip'\n",
    "filename = '../data/population_map/population_map.zip'\n",
    "\n",
    "# download the zip file\n",
    "urlretrieve(URL_population_zip, filename) \n",
    "\n",
    "# open zip in taxi_zones file\n",
    "with zipfile.ZipFile(filename, 'r') as zip_ref:\n",
    "    zip_ref.extractall('../data/population_map/')"
   ]
  },
  {
   "cell_type": "markdown",
   "id": "1ed2c5fc",
   "metadata": {},
   "source": [
    "Download train station"
   ]
  },
  {
   "cell_type": "code",
   "execution_count": 13,
   "id": "c1db0a93",
   "metadata": {},
   "outputs": [],
   "source": [
    "URL_train = \"https://vicroadsopendatastorehouse.vicroads.vic.gov.au/opendata/Public_Transport/Patronage/\""
   ]
  },
  {
   "cell_type": "code",
   "execution_count": 14,
   "id": "d99db6ac",
   "metadata": {},
   "outputs": [
    {
     "data": {
      "text/plain": [
       "('../data/raw/train_station_18to19.xlsx',\n",
       " <http.client.HTTPMessage at 0x1b170d95370>)"
      ]
     },
     "execution_count": 14,
     "metadata": {},
     "output_type": "execute_result"
    }
   ],
   "source": [
    "# URl of train station for 2018-2019\n",
    "URL_train_18_19 = f\"{URL_train}Annual%20regional%20train%20station%20entries%202018-19\"\n",
    "\n",
    "# generate output location and filename\n",
    "output = f\"{output_dir}train_station_18to19.xlsx\"\n",
    "\n",
    "opener=urllib.request.build_opener()\n",
    "opener.addheaders=[('User-Agent','Mozilla/5.0 (Windows NT 6.1; WOW64) AppleWebKit/537.36 \\\n",
    "    (KHTML, like Gecko) Chrome/36.0.1941.0 Safari/537.36')]\n",
    "urllib.request.install_opener(opener)\n",
    "\n",
    "# download\n",
    "urllib.request.urlretrieve(f'{URL_train_18_19}.xlsx', output)\n",
    "\n"
   ]
  },
  {
   "cell_type": "code",
   "execution_count": 15,
   "id": "33534b18",
   "metadata": {},
   "outputs": [
    {
     "data": {
      "text/plain": [
       "('../data/raw/train_station_19to20.xlsx',\n",
       " <http.client.HTTPMessage at 0x1b170d95580>)"
      ]
     },
     "execution_count": 15,
     "metadata": {},
     "output_type": "execute_result"
    }
   ],
   "source": [
    "# URl of train station for 2019-2020\n",
    "URL_train_19_20 = f\"{URL_train}Annual%20regional%20train%20station%20entries%202019-20\"\n",
    "\n",
    "# generate output location and filename\n",
    "output = f\"{output_dir}train_station_19to20.xlsx\"\n",
    "\n",
    "opener=urllib.request.build_opener()\n",
    "opener.addheaders=[('User-Agent','Mozilla/5.0 (Windows NT 6.1; WOW64) AppleWebKit/537.36 \\\n",
    "    (KHTML, like Gecko) Chrome/36.0.1941.0 Safari/537.36')]\n",
    "urllib.request.install_opener(opener)\n",
    "\n",
    "# download\n",
    "urllib.request.urlretrieve(f'{URL_train_19_20}.xlsx', output)\n"
   ]
  },
  {
   "cell_type": "code",
   "execution_count": 16,
   "id": "5de3321a",
   "metadata": {},
   "outputs": [
    {
     "data": {
      "text/plain": [
       "('../data/raw/train_station_20to21.xlsx',\n",
       " <http.client.HTTPMessage at 0x1b170d95880>)"
      ]
     },
     "execution_count": 16,
     "metadata": {},
     "output_type": "execute_result"
    }
   ],
   "source": [
    "# URl of train station for 2020-2021\n",
    "URL_train_20_21 = f\"{URL_train}Annual%20regional%20train%20station%20entries%202020-21\"\n",
    "\n",
    "# generate output location and filename\n",
    "output = f\"{output_dir}train_station_20to21.xlsx\"\n",
    "\n",
    "opener=urllib.request.build_opener()\n",
    "opener.addheaders=[('User-Agent','Mozilla/5.0 (Windows NT 6.1; WOW64) AppleWebKit/537.36 \\\n",
    "    (KHTML, like Gecko) Chrome/36.0.1941.0 Safari/537.36')]\n",
    "urllib.request.install_opener(opener)\n",
    "\n",
    "# download\n",
    "urllib.request.urlretrieve(f'{URL_train_20_21}.xlsx', output)"
   ]
  },
  {
   "cell_type": "markdown",
   "id": "1af7835e",
   "metadata": {},
   "source": [
    "Restaurant and Coffee' information in Melbourne"
   ]
  },
  {
   "cell_type": "code",
   "execution_count": 17,
   "id": "d979c56a",
   "metadata": {},
   "outputs": [
    {
     "data": {
      "text/plain": [
       "('../data/raw/restaruant_coffee.csv',\n",
       " <http.client.HTTPMessage at 0x1b170d954c0>)"
      ]
     },
     "execution_count": 17,
     "metadata": {},
     "output_type": "execute_result"
    }
   ],
   "source": [
    "# URl of resturant and coffee in Melbourne (2002-2020)\n",
    "URL_rest_coffee = \"https://data.melbourne.vic.gov.au/api/views/xt2y-tnn9/rows.csv?accessType=DOWNLOAD\"\n",
    "\n",
    "# generate output location and filename\n",
    "output = f\"{output_dir}restaruant_coffee.csv\"\n",
    "# download\n",
    "urlretrieve(f'{URL_rest_coffee}', output) \n",
    "\n"
   ]
  },
  {
   "cell_type": "markdown",
   "id": "65557676",
   "metadata": {},
   "source": [
    "Census Data"
   ]
  },
  {
   "cell_type": "code",
   "execution_count": 4,
   "id": "000b8dc5",
   "metadata": {},
   "outputs": [
    {
     "data": {
      "text/plain": [
       "('../data/raw/census_2021.zip', <http.client.HTTPMessage at 0x7f8fa102eca0>)"
      ]
     },
     "execution_count": 4,
     "metadata": {},
     "output_type": "execute_result"
    }
   ],
   "source": [
    "#URL for Census data in Victoria 2021\n",
    "URL_census_2021 = 'https://www.abs.gov.au/census/find-census-data/datapacks/download/2021_GCP_all_for_VIC_short-header.zip'\n",
    "filename = f'{output_dir}census_2021.zip'\n",
    "\n",
    "# download the zip file\n",
    "urlretrieve(URL_census_2021, filename) \n"
   ]
  },
  {
   "cell_type": "code",
   "execution_count": 6,
   "id": "0785c236",
   "metadata": {},
   "outputs": [
    {
     "ename": "KeyError",
     "evalue": "\"There is no item named '2021Census_G01_VIC_POA.csv' in the archive\"",
     "output_type": "error",
     "traceback": [
      "\u001b[0;31m---------------------------------------------------------------------------\u001b[0m",
      "\u001b[0;31mKeyError\u001b[0m                                  Traceback (most recent call last)",
      "\u001b[1;32m/home/jnniu/Group55/generic-real-estate-consulting-project-group-55/notebooks/download_external.ipynb Cell 27\u001b[0m in \u001b[0;36m<cell line: 3>\u001b[0;34m()\u001b[0m\n\u001b[1;32m      <a href='vscode-notebook-cell://wsl%2Bubuntu/home/jnniu/Group55/generic-real-estate-consulting-project-group-55/notebooks/download_external.ipynb#X35sdnNjb2RlLXJlbW90ZQ%3D%3D?line=4'>5</a>\u001b[0m \u001b[39mfor\u001b[39;00m i \u001b[39min\u001b[39;00m \u001b[39mrange\u001b[39m(\u001b[39m1\u001b[39m,\u001b[39m43\u001b[39m):\n\u001b[1;32m      <a href='vscode-notebook-cell://wsl%2Bubuntu/home/jnniu/Group55/generic-real-estate-consulting-project-group-55/notebooks/download_external.ipynb#X35sdnNjb2RlLXJlbW90ZQ%3D%3D?line=5'>6</a>\u001b[0m     j \u001b[39m=\u001b[39m \u001b[39mstr\u001b[39m(i)\u001b[39m.\u001b[39mzfill(\u001b[39m2\u001b[39m)\n\u001b[0;32m----> <a href='vscode-notebook-cell://wsl%2Bubuntu/home/jnniu/Group55/generic-real-estate-consulting-project-group-55/notebooks/download_external.ipynb#X35sdnNjb2RlLXJlbW90ZQ%3D%3D?line=6'>7</a>\u001b[0m     census2021\u001b[39m.\u001b[39;49mextract(\u001b[39mf\u001b[39;49m\u001b[39m'\u001b[39;49m\u001b[39m2021Census_G\u001b[39;49m\u001b[39m{\u001b[39;49;00mj\u001b[39m}\u001b[39;49;00m\u001b[39m_VIC_POA.csv\u001b[39;49m\u001b[39m'\u001b[39;49m, \u001b[39mf\u001b[39;49m\u001b[39m'\u001b[39;49m\u001b[39m{\u001b[39;49;00moutput_dir\u001b[39m}\u001b[39;49;00m\u001b[39m/POA\u001b[39;49m\u001b[39m'\u001b[39;49m)\n\u001b[1;32m      <a href='vscode-notebook-cell://wsl%2Bubuntu/home/jnniu/Group55/generic-real-estate-consulting-project-group-55/notebooks/download_external.ipynb#X35sdnNjb2RlLXJlbW90ZQ%3D%3D?line=7'>8</a>\u001b[0m     j \u001b[39m+\u001b[39m\u001b[39m=\u001b[39m \u001b[39m1\u001b[39m\n",
      "File \u001b[0;32m~/miniconda3/envs/group55/lib/python3.8/zipfile.py:1630\u001b[0m, in \u001b[0;36mZipFile.extract\u001b[0;34m(self, member, path, pwd)\u001b[0m\n\u001b[1;32m   1627\u001b[0m \u001b[39melse\u001b[39;00m:\n\u001b[1;32m   1628\u001b[0m     path \u001b[39m=\u001b[39m os\u001b[39m.\u001b[39mfspath(path)\n\u001b[0;32m-> 1630\u001b[0m \u001b[39mreturn\u001b[39;00m \u001b[39mself\u001b[39;49m\u001b[39m.\u001b[39;49m_extract_member(member, path, pwd)\n",
      "File \u001b[0;32m~/miniconda3/envs/group55/lib/python3.8/zipfile.py:1669\u001b[0m, in \u001b[0;36mZipFile._extract_member\u001b[0;34m(self, member, targetpath, pwd)\u001b[0m\n\u001b[1;32m   1665\u001b[0m \u001b[39m\"\"\"Extract the ZipInfo object 'member' to a physical\u001b[39;00m\n\u001b[1;32m   1666\u001b[0m \u001b[39m   file on the path targetpath.\u001b[39;00m\n\u001b[1;32m   1667\u001b[0m \u001b[39m\"\"\"\u001b[39;00m\n\u001b[1;32m   1668\u001b[0m \u001b[39mif\u001b[39;00m \u001b[39mnot\u001b[39;00m \u001b[39misinstance\u001b[39m(member, ZipInfo):\n\u001b[0;32m-> 1669\u001b[0m     member \u001b[39m=\u001b[39m \u001b[39mself\u001b[39;49m\u001b[39m.\u001b[39;49mgetinfo(member)\n\u001b[1;32m   1671\u001b[0m \u001b[39m# build the destination pathname, replacing\u001b[39;00m\n\u001b[1;32m   1672\u001b[0m \u001b[39m# forward slashes to platform specific separators.\u001b[39;00m\n\u001b[1;32m   1673\u001b[0m arcname \u001b[39m=\u001b[39m member\u001b[39m.\u001b[39mfilename\u001b[39m.\u001b[39mreplace(\u001b[39m'\u001b[39m\u001b[39m/\u001b[39m\u001b[39m'\u001b[39m, os\u001b[39m.\u001b[39mpath\u001b[39m.\u001b[39msep)\n",
      "File \u001b[0;32m~/miniconda3/envs/group55/lib/python3.8/zipfile.py:1441\u001b[0m, in \u001b[0;36mZipFile.getinfo\u001b[0;34m(self, name)\u001b[0m\n\u001b[1;32m   1439\u001b[0m info \u001b[39m=\u001b[39m \u001b[39mself\u001b[39m\u001b[39m.\u001b[39mNameToInfo\u001b[39m.\u001b[39mget(name)\n\u001b[1;32m   1440\u001b[0m \u001b[39mif\u001b[39;00m info \u001b[39mis\u001b[39;00m \u001b[39mNone\u001b[39;00m:\n\u001b[0;32m-> 1441\u001b[0m     \u001b[39mraise\u001b[39;00m \u001b[39mKeyError\u001b[39;00m(\n\u001b[1;32m   1442\u001b[0m         \u001b[39m'\u001b[39m\u001b[39mThere is no item named \u001b[39m\u001b[39m%r\u001b[39;00m\u001b[39m in the archive\u001b[39m\u001b[39m'\u001b[39m \u001b[39m%\u001b[39m name)\n\u001b[1;32m   1444\u001b[0m \u001b[39mreturn\u001b[39;00m info\n",
      "\u001b[0;31mKeyError\u001b[0m: \"There is no item named '2021Census_G01_VIC_POA.csv' in the archive\""
     ]
    }
   ],
   "source": [
    "census2021 = zipfile.ZipFile(f'{output_dir}census_2021.zip')\n",
    " \n",
    "for file in census2021.namelist():\n",
    "    if file.startswith(\"2021 Census GCP All Geographies for VIC/POA/\"):\n",
    "        census2021.extract(f'2021Census_G{j}_VIC_POA.csv', f'{output_dir}/POA')\n"
   ]
  },
  {
   "cell_type": "markdown",
   "id": "789b10cd",
   "metadata": {},
   "source": [
    "Quarter Rental data 2020-2022"
   ]
  },
  {
   "cell_type": "code",
   "execution_count": 20,
   "id": "d9446ccc",
   "metadata": {},
   "outputs": [
    {
     "data": {
      "text/plain": [
       "('../data/raw/rental.csv', <http.client.HTTPMessage at 0x1b1715f6490>)"
      ]
     },
     "execution_count": 20,
     "metadata": {},
     "output_type": "execute_result"
    }
   ],
   "source": [
    "# URl of rental data (2002-2020)\n",
    "URL_rental = \"https://www.dffh.vic.gov.au/moving-annual-rents-suburb-june-quarter-2022-excel\"\n",
    "\n",
    "# generate output location and filename\n",
    "output = f\"{output_dir}rental.csv\"\n",
    "# download\n",
    "urlretrieve(f'{URL_rental}', output) \n"
   ]
  }
 ],
 "metadata": {
  "kernelspec": {
   "display_name": "Python 3.8.13 ('group55': conda)",
   "language": "python",
   "name": "python3"
  },
  "language_info": {
   "codemirror_mode": {
    "name": "ipython",
    "version": 3
   },
   "file_extension": ".py",
   "mimetype": "text/x-python",
   "name": "python",
   "nbconvert_exporter": "python",
   "pygments_lexer": "ipython3",
   "version": "3.8.13"
  },
  "vscode": {
   "interpreter": {
    "hash": "01565cdae83eab34070454284fb32efcb2a9d911033d96507891961ca605f636"
   }
  }
 },
 "nbformat": 4,
 "nbformat_minor": 5
}
