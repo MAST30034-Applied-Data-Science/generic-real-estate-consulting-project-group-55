{
 "cells": [
  {
   "cell_type": "code",
   "execution_count": 1,
   "id": "202c10e2",
   "metadata": {},
   "outputs": [],
   "source": [
    "import os\n",
    "from urllib.request import urlretrieve"
   ]
  },
  {
   "cell_type": "code",
   "execution_count": 5,
   "id": "aa551ae2",
   "metadata": {},
   "outputs": [
    {
     "data": {
      "text/plain": [
       "('../data/raw/school_location_18_19.csv',\n",
       " <http.client.HTTPMessage at 0x7f7ef13142e0>)"
      ]
     },
     "execution_count": 5,
     "metadata": {},
     "output_type": "execute_result"
    }
   ],
   "source": [
    "# URl of school\n",
    "URL_school_18_19 = \"http://www.education.vic.gov.au/Documents/about/research/datavic/dv279-schoollocations2019\"\n",
    "\n",
    "# generate output location and filename\n",
    "output_dir = f\"../data/raw/school_location_18_19.csv\"\n",
    "# download\n",
    "urlretrieve(f'{URL_school_18_19}.csv', output_dir) "
   ]
  },
  {
   "cell_type": "code",
   "execution_count": 6,
   "id": "0d0bf957",
   "metadata": {},
   "outputs": [
    {
     "data": {
      "text/plain": [
       "('../data/raw/school_location_20.csv',\n",
       " <http.client.HTTPMessage at 0x7f7ef12a7c70>)"
      ]
     },
     "execution_count": 6,
     "metadata": {},
     "output_type": "execute_result"
    }
   ],
   "source": [
    "# URl of school\n",
    "URL_school_20 = \"https://www.education.vic.gov.au/Documents/about/research/datavic/dv296-schoollocations2020\"\n",
    "\n",
    "# generate output location and filename\n",
    "output_dir = f\"../data/raw/school_location_20.csv\"\n",
    "# download\n",
    "urlretrieve(f'{URL_school_20}.csv', output_dir) "
   ]
  },
  {
   "cell_type": "code",
   "execution_count": 7,
   "id": "674a17d1",
   "metadata": {},
   "outputs": [
    {
     "data": {
      "text/plain": [
       "('../data/raw/school_location_21.csv',\n",
       " <http.client.HTTPMessage at 0x7f7ef12c96d0>)"
      ]
     },
     "execution_count": 7,
     "metadata": {},
     "output_type": "execute_result"
    }
   ],
   "source": [
    "# URl of school\n",
    "URL_school_21 = \"https://www.education.vic.gov.au/Documents/about/research/datavic/dv309_schoollocations2021\"\n",
    "\n",
    "# generate output location and filename\n",
    "output_dir = f\"../data/raw/school_location_21.csv\"\n",
    "# download\n",
    "urlretrieve(f'{URL_school_21}.csv', output_dir) "
   ]
  },
  {
   "cell_type": "code",
   "execution_count": 8,
   "id": "dd3dbc31",
   "metadata": {},
   "outputs": [
    {
     "data": {
      "text/plain": [
       "('../data/raw/school_location_22.csv',\n",
       " <http.client.HTTPMessage at 0x7f7ef13149a0>)"
      ]
     },
     "execution_count": 8,
     "metadata": {},
     "output_type": "execute_result"
    }
   ],
   "source": [
    "# URl of school\n",
    "URL_school_22 = \"https://www.education.vic.gov.au/Documents/about/research/datavic/dv331_schoollocations2022\"\n",
    "\n",
    "# generate output location and filename\n",
    "output_dir = f\"../data/raw/school_location_22.csv\"\n",
    "# download\n",
    "urlretrieve(f'{URL_school_22}.csv', output_dir) "
   ]
  },
  {
   "cell_type": "code",
   "execution_count": null,
   "id": "ca3fecc8",
   "metadata": {},
   "outputs": [],
   "source": []
  }
 ],
 "metadata": {
  "kernelspec": {
   "display_name": "Python 3 (ipykernel)",
   "language": "python",
   "name": "python3"
  },
  "language_info": {
   "codemirror_mode": {
    "name": "ipython",
    "version": 3
   },
   "file_extension": ".py",
   "mimetype": "text/x-python",
   "name": "python",
   "nbconvert_exporter": "python",
   "pygments_lexer": "ipython3",
   "version": "3.9.7"
  }
 },
 "nbformat": 4,
 "nbformat_minor": 5
}
