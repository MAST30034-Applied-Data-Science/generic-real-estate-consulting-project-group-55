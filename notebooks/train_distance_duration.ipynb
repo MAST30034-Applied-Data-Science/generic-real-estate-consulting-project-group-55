{
 "cells": [
  {
   "cell_type": "code",
   "execution_count": 1,
   "id": "bfe26a63",
   "metadata": {},
   "outputs": [],
   "source": [
    "import openrouteservice as ors\n",
    "import folium\n",
    "from pandas import DataFrame\n",
    "import pandas as pd\n",
    "import math\n",
    "import time\n",
    "client = ors.Client(key='5b3ce3597851110001cf624810e5a7e429d84b94aeb7b72d3e5faa4b')\n",
    "\n",
    "\n",
    "#Please note that due to the daily limit of the website and the limit of the number of reads per minute, it is recommended to read only ten rental data at a time\n",
    "rent = pd.read_csv(\"../rent_data/renew(15)\")\n",
    "rent = rent[1200:].reset_index(drop=True)\n",
    "train = pd.read_excel(\"../data/raw/train_station_20to21.xlsx\")"
   ]
  },
  {
   "cell_type": "code",
   "execution_count": 2,
   "id": "47076b4b",
   "metadata": {},
   "outputs": [],
   "source": [
    "\"\"\"\n",
    "function: calculate coordinates' distance\n",
    "param datas : durations, distances\n",
    "\"\"\"\n",
    "def cal_distance(coordinates, client):\n",
    "    matrix = client.distance_matrix(\n",
    "    locations=coordinates,\n",
    "    profile='driving-car',\n",
    "    metrics=['distance', 'duration'],\n",
    "    validate=False,\n",
    "    )\n",
    "    time.sleep(2.5)\n",
    "    return matrix['durations'], matrix['distances']\n",
    "# the unit of distance is m, the unit of durations is seconds"
   ]
  },
  {
   "cell_type": "code",
   "execution_count": 139,
   "id": "df3ea184",
   "metadata": {},
   "outputs": [],
   "source": [
    "def get_summary(rent, train):\n",
    "    coordinates = []\n",
    "    r_coor = []\n",
    "    summary = []\n",
    "    for j in range(len(train)):\n",
    "        coordinates.append([train[\"Stop_long\"][j], train[\"Stop_lat\"][j]])\n",
    "    for i in range(len(rent)):\n",
    "        r_coor.append([rent[\"longitude\"][i], rent[\"latitude\"][i]])\n",
    "    for k in range(len(r_coor)):\n",
    "        coor = []\n",
    "        coor.append(r_coor[k])\n",
    "        for m in range(len(coordinates)):\n",
    "            if ((coordinates[m][0]-0.3) <= r_coor[k][0] <= (coordinates[m][0] + 0.3)) & ((coordinates[m][1]-0.3) <= r_coor[k][1] <= (coordinates[m][1] + 0.3)):\n",
    "                coor.append(coordinates[m])\n",
    "        summary.append(coor)\n",
    "    return summary"
   ]
  },
  {
   "cell_type": "code",
   "execution_count": 249,
   "id": "d1c5b104",
   "metadata": {},
   "outputs": [],
   "source": [
    "\"\"\"\n",
    "function: Find the nearest site to rent \n",
    "param datas : rent_address, stop_name, min_distance, min_duration\n",
    "\"\"\"\n",
    "def get_coordinates(rent, train):\n",
    "    rent_address = []\n",
    "    stop_name = []\n",
    "    min_distance = []\n",
    "    min_duration = []\n",
    "    summary = get_summary(rent, train)\n",
    "    new_sum = []\n",
    "    for l in range(len(summary)):\n",
    "        if len(summary[l]) != 1:\n",
    "            new_sum.append(summary[l])\n",
    "        else:\n",
    "            rent_address.append(rent['listingSlug'][l])\n",
    "            stop_name.append(\"NULL\")\n",
    "            min_distance.append(\"NULL\")\n",
    "            min_duration.append(\"NULL\")\n",
    "    for i in range(len(new_sum)):\n",
    "        distances = []\n",
    "        durations = []\n",
    "        matrix = cal_distance(new_sum[i], client)\n",
    "        distances = distances + matrix[1][0][1:]\n",
    "        durations = durations + matrix[0][0][1:]\n",
    "        index = distances.index(min(distances))\n",
    "        rent_address.append(rent['listingSlug'][summary.index(new_sum[i])])\n",
    "        stop_index = train[train['Stop_long'] == new_sum[i][index+1][0]].index.tolist()[0]\n",
    "        stop_name.append(train['Stop_name'][stop_index])\n",
    "        min_distance.append(distances[index])\n",
    "        min_duration.append(durations[index])\n",
    "    return rent_address, stop_name, min_distance, min_duration"
   ]
  },
  {
   "cell_type": "code",
   "execution_count": 277,
   "id": "839ef6a1",
   "metadata": {},
   "outputs": [],
   "source": [
    "\"\"\"\n",
    "function: put the required columns into a dataframe\n",
    "param datas: dataframe\n",
    "\"\"\"\n",
    "def data_frame(rent, train):\n",
    "    #get dataframe\n",
    "    data = {'rent_address': get_coordinates(rent, train)[0], 'stop_name': get_coordinates(rent, train)[1], 'min_distance': get_coordinates(rent, train)[2], 'min_duration': get_coordinates(rent, train)[3]}\n",
    "    df = DataFrame(data)\n",
    "    return df\n",
    "\n",
    "df = data_frame(rent, train)\n",
    "df.to_csv(\"/home/ads/generic-real-estate-consulting-project-group-55/data/raw/train distance and duration/distances_durations(12).csv\", index=False)"
   ]
  },
  {
   "cell_type": "code",
   "execution_count": 18,
   "id": "7c64aeb8",
   "metadata": {},
   "outputs": [],
   "source": [
    "old = pd.read_csv(\"/home/ads/generic-real-estate-consulting-project-group-55/data/raw/train distance and duration/distances_durations(0).csv\", index_col=0)\n",
    "new = pd.read_csv(\"/home/ads/generic-real-estate-consulting-project-group-55/data/raw/train distance and duration/distances_durations(1).csv\", index_col=0)"
   ]
  },
  {
   "cell_type": "code",
   "execution_count": 19,
   "id": "a928df28",
   "metadata": {},
   "outputs": [],
   "source": [
    "renew = pd.concat([old, new])\n",
    "new2 = pd.read_csv(\"/home/ads/generic-real-estate-consulting-project-group-55/data/raw/train distance and duration/distances_durations(2).csv\", index_col=0)\n",
    "renew2 = pd.concat([renew, new2])\n",
    "new3 = pd.read_csv(\"/home/ads/generic-real-estate-consulting-project-group-55/data/raw/train distance and duration/distances_durations(3).csv\", index_col=0)\n",
    "renew3 = pd.concat([renew2, new3])\n",
    "new4 = pd.read_csv(\"/home/ads/generic-real-estate-consulting-project-group-55/data/raw/train distance and duration/distances_durations(4).csv\", index_col=0)\n",
    "renew4 = pd.concat([renew3, new4])\n",
    "new5 = pd.read_csv(\"/home/ads/generic-real-estate-consulting-project-group-55/data/raw/train distance and duration/distances_durations(5).csv\", index_col=0)\n",
    "renew5 = pd.concat([renew4, new5])\n",
    "new6 = pd.read_csv(\"/home/ads/generic-real-estate-consulting-project-group-55/data/raw/train distance and duration/distances_durations(6).csv\", index_col=0)\n",
    "renew6 = pd.concat([renew5, new6])\n",
    "new7 = pd.read_csv(\"/home/ads/generic-real-estate-consulting-project-group-55/data/raw/train distance and duration/distances_durations(7).csv\", index_col=0)\n",
    "renew7 = pd.concat([renew6, new7])\n",
    "new8 = pd.read_csv(\"/home/ads/generic-real-estate-consulting-project-group-55/data/raw/train distance and duration/distances_durations(8).csv\", index_col=0)\n",
    "renew8 = pd.concat([renew7, new8])\n",
    "new9 = pd.read_csv(\"/home/ads/generic-real-estate-consulting-project-group-55/data/raw/train distance and duration/distances_durations(9).csv\", index_col=0)\n",
    "renew9 = pd.concat([renew8, new9])\n",
    "new10 = pd.read_csv(\"/home/ads/generic-real-estate-consulting-project-group-55/data/raw/train distance and duration/distances_durations(10).csv\", index_col=0)\n",
    "renew10 = pd.concat([renew9, new10])\n",
    "new11 = pd.read_csv(\"/home/ads/generic-real-estate-consulting-project-group-55/data/raw/train distance and duration/distances_durations(11).csv\", index_col=0)\n",
    "renew11 = pd.concat([renew10, new11])\n",
    "new12 = pd.read_csv(\"/home/ads/generic-real-estate-consulting-project-group-55/data/raw/train distance and duration/distances_durations(12).csv\", index_col=0)\n",
    "renew12 = pd.concat([renew11, new12]).reset_index()\n",
    "\n"
   ]
  },
  {
   "cell_type": "code",
   "execution_count": 20,
   "id": "a0d4e2d5",
   "metadata": {},
   "outputs": [],
   "source": [
    "renew15 = pd.read_csv(\"/home/ads/generic-real-estate-consulting-project-group-55/rent_data/renew(15).csv\")\n",
    "rent_c = pd.read_csv(\"/home/ads/generic-real-estate-consulting-project-group-55/rent_data/rent_cleaned.csv\")\n",
    "outliers = list(set(renew15.reset_index()['listingSlug'])^set(rent_c['listingSlug']))"
   ]
  },
  {
   "cell_type": "code",
   "execution_count": 28,
   "id": "25777df8",
   "metadata": {},
   "outputs": [
    {
     "data": {
      "text/plain": [
       "'33-blackburn-road-mooroolbark-vic-3138-16039819'"
      ]
     },
     "execution_count": 28,
     "metadata": {},
     "output_type": "execute_result"
    }
   ],
   "source": [
    "outliers[0]"
   ]
  },
  {
   "cell_type": "code",
   "execution_count": 42,
   "id": "0f4b5932",
   "metadata": {},
   "outputs": [
    {
     "data": {
      "text/plain": [
       "[900.0]"
      ]
     },
     "execution_count": 42,
     "metadata": {},
     "output_type": "execute_result"
    }
   ],
   "source": [
    "rent_c[rent_c['listingSlug'] == '9-15-rankins-lane-melbourne-vic-3000-16076773']['price'].tolist()"
   ]
  },
  {
   "cell_type": "code",
   "execution_count": 25,
   "id": "88e458b3",
   "metadata": {},
   "outputs": [
    {
     "data": {
      "text/plain": [
       "['4-21-rosebank-avenue-ringwood-north-vic-3134-16089933',\n",
       " '26-yolanda-street-bonshaw-vic-3352-15313845',\n",
       " '9-96-oban-road-ringwood-north-vic-3134-16070551',\n",
       " '33-blackburn-road-mooroolbark-vic-3138-16039819',\n",
       " '701-101-therry-st-melbourne-vic-3000-16069017',\n",
       " '705-148-wells-street-south-melbourne-vic-3205-16088385',\n",
       " '99-grange-road-toorak-vic-3142-16076958',\n",
       " '2-21-rosebank-avenue-ringwood-north-vic-3134-16089919',\n",
       " '11-1062-1064-burke-road-balwyn-north-vic-3104-15337867',\n",
       " '101-1377-burke-road-kew-east-vic-3102-12909786',\n",
       " '34-stott-street-box-hill-south-vic-3128-13133669',\n",
       " '3-89-surrey-road-blackburn-north-vic-3130-16068104',\n",
       " '18-viewpoint-road-balwyn-north-vic-3104-16077031',\n",
       " '3-ajana-street-balwyn-north-vic-3104-16063499',\n",
       " '136-richardson-street-albert-park-vic-3206-16082666',\n",
       " '48-craig-hill-drive-wheelers-hill-vic-3150-16075671',\n",
       " '9-9-11-adamson-street-brighton-vic-3186-16071478',\n",
       " '228-la-trobe-st-melbourne-vic-3000-16054137',\n",
       " '26-fellows-street-mitcham-vic-3132-15099580',\n",
       " '39-belmont-avenue-upwey-vic-3158-16061627',\n",
       " '2-48-station-street-burwood-vic-3125-16077011',\n",
       " '713-32-bray-street-south-yarra-vic-3141-16082306',\n",
       " '6-naila-court-cranbourne-north-vic-3977-16042045',\n",
       " '2-28-milton-street-canterbury-vic-3126-15364268',\n",
       " '816-101-therry-st-melbourne-vic-3000-16068338',\n",
       " '3-21-rosebank-avenue-ringwood-north-vic-3134-16089894',\n",
       " '2-37-paxton-street-malvern-east-vic-3145-16085687',\n",
       " '1-15-union-road-surrey-hills-vic-3127-16073535',\n",
       " '20-ellesmere-road-burwood-east-vic-3151-14720826',\n",
       " '18e-481-st-kilda-road-melbourne-vic-3004-16073449',\n",
       " '22-falcon-street-armstrong-creek-vic-3217-16068482',\n",
       " '29-melview-drive-ringwood-north-vic-3134-16052408',\n",
       " '4-allaware-avenue-croydon-vic-3136-15141770',\n",
       " '7-gillyweed-avenue-clyde-north-vic-3978-14601307',\n",
       " '14-1517-malvern-road-glen-iris-vic-3146-16074097',\n",
       " '1204-14-16-the-esplanade-st-kilda-vic-3182-16090888',\n",
       " '7-165-power-street-hawthorn-vic-3122-16078252',\n",
       " '3-6-creswick-street-glen-iris-vic-3146-16065631',\n",
       " '9-ruyton-street-camberwell-vic-3124-15797618',\n",
       " '5401-464-collins-street-melbourne-vic-3000-16063884',\n",
       " '2-42-hopetoun-avenue-canterbury-vic-3126-16076732',\n",
       " '1-20-kent-avenue-brighton-vic-3186-16069407',\n",
       " '15-railway-avenue-ringwood-east-vic-3135-16086656',\n",
       " '21-iona-avenue-toorak-vic-3142-16065186',\n",
       " '103-56-harp-road-kew-vic-3101-16054693',\n",
       " '2401-14-16-the-esplanade-st-kilda-vic-3182-16072629',\n",
       " '5-hillcrest-road-beveridge-vic-3753-16068159',\n",
       " '60-poplar-avenue-shepparton-vic-3630-16080936',\n",
       " '24-montalto-avenue-toorak-vic-3142-16063542',\n",
       " '6-2-vine-street-blackburn-vic-3130-16070145',\n",
       " '2409-105-clarendon-street-southbank-vic-3006-16065583',\n",
       " '4-132-mitcham-road-donvale-vic-3111-16079428',\n",
       " '1-21-rosebank-avenue-ringwood-north-vic-3134-16089852',\n",
       " '8-union-street-windsor-vic-3181-12040015',\n",
       " '805-81-queens-road-melbourne-vic-3004-16067649',\n",
       " '2-melville-avenue-newtown-vic-3220-16090991',\n",
       " '15-foundry-circuit-beveridge-vic-3753-14484858',\n",
       " '4-829-high-street-kew-east-vic-3102-16049165',\n",
       " '9-744-orrong-road-toorak-vic-3142-15923220',\n",
       " '10-24-rose-street-box-hill-vic-3128-16088120',\n",
       " '41-chadstone-road-malvern-east-vic-3145-16074988',\n",
       " '13-brenda-court-nunawading-vic-3131-16083837',\n",
       " '12-126-wattle-valley-road-camberwell-vic-3124-15138321',\n",
       " '7-nevada-street-balwyn-north-vic-3104-16055843',\n",
       " '2-16-jenner-street-blackburn-south-vic-3130-16071370',\n",
       " '2-peter-street-doncaster-east-vic-3109-16076246',\n",
       " '1-235-burwood-highway-burwood-east-vic-3151-15110932',\n",
       " '8-merry-street-ringwood-east-vic-3135-16064353',\n",
       " '9-braemar-street-mont-albert-north-vic-3129-16076030',\n",
       " '34-bellevue-avenue-doncaster-east-vic-3109-16064963',\n",
       " '3-9-eddy-street-camberwell-vic-3124-13411639',\n",
       " '27-fellows-street-weir-views-vic-3338-15148214',\n",
       " '6-51-ruskin-street-elwood-vic-3184-16088690',\n",
       " '208-20-queen-street-blackburn-vic-3130-16067059',\n",
       " '2-6-stanhope-grove-camberwell-vic-3124-16071144',\n",
       " '29-loudon-road-burwood-vic-3125-16062062',\n",
       " '557-swanston-street-carlton-vic-3053-16010438',\n",
       " '8-2-victor-road-glen-iris-vic-3146-14736582']"
      ]
     },
     "execution_count": 25,
     "metadata": {},
     "output_type": "execute_result"
    }
   ],
   "source": [
    "list(set(renew15.reset_index()['listingSlug'])-set(rent_c['listingSlug']))"
   ]
  },
  {
   "cell_type": "code",
   "execution_count": 44,
   "id": "e425da95",
   "metadata": {},
   "outputs": [],
   "source": [
    "new_data = renew12\n",
    "for i in range(len(outliers)):\n",
    "    for j in range(len(renew12)):\n",
    "        if renew12['rent_address'][j] == outliers[i]:\n",
    "            new_data = new_data.drop(j)\n",
    "new_data= new_data.reset_index()\n",
    "postcode = []\n",
    "for i in range(len(new_data)):\n",
    "    postcode.append(new_data['rent_address'][i][-13:-9])\n",
    "new_data['postcode'] = postcode\n",
    "price =[]\n",
    "for rent in new_data['rent_address']:\n",
    "    price.append(rent_c[rent_c['listingSlug'] == rent]['price'].tolist()[0])\n",
    "new_data['price'] = price\n",
    "new_data = new_data.sort_values(by=[\"postcode\"],ascending=True).drop(columns=['index']).reset_index(drop=True)\n"
   ]
  },
  {
   "cell_type": "code",
   "execution_count": 46,
   "id": "202a126e",
   "metadata": {},
   "outputs": [],
   "source": [
    "new_data.to_csv(\"/home/ads/generic-real-estate-consulting-project-group-55/data/raw/train distance and duration/train_distance_duration.csv\")"
   ]
  }
 ],
 "metadata": {
  "kernelspec": {
   "display_name": "Python 3.8.10 64-bit",
   "language": "python",
   "name": "python3"
  },
  "language_info": {
   "codemirror_mode": {
    "name": "ipython",
    "version": 3
   },
   "file_extension": ".py",
   "mimetype": "text/x-python",
   "name": "python",
   "nbconvert_exporter": "python",
   "pygments_lexer": "ipython3",
   "version": "3.8.10"
  },
  "vscode": {
   "interpreter": {
    "hash": "916dbcbb3f70747c44a77c7bcd40155683ae19c65e1c03b4aa3499c5328201f1"
   }
  }
 },
 "nbformat": 4,
 "nbformat_minor": 5
}
