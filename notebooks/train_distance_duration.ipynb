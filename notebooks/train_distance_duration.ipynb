{
 "cells": [
  {
   "cell_type": "code",
   "execution_count": 276,
   "id": "bfe26a63",
   "metadata": {},
   "outputs": [],
   "source": [
    "import openrouteservice as ors\n",
    "import folium\n",
    "from pandas import DataFrame\n",
    "import pandas as pd\n",
    "import math\n",
    "import time\n",
    "client = ors.Client(key='5b3ce3597851110001cf624810e5a7e429d84b94aeb7b72d3e5faa4b')\n",
    "\n",
    "\n",
    "#Please note that due to the daily limit of the website and the limit of the number of reads per minute, it is recommended to read only ten rental data at a time\n",
    "rent = pd.read_csv(\"../rent_data/renew(15)\")\n",
    "rent = rent[1200:].reset_index(drop=True)\n",
    "train = pd.read_excel(\"../data/raw/train_station_20to21.xlsx\")"
   ]
  },
  {
   "cell_type": "code",
   "execution_count": 2,
   "id": "47076b4b",
   "metadata": {},
   "outputs": [],
   "source": [
    "\"\"\"\n",
    "function: calculate coordinates' distance\n",
    "param datas : durations, distances\n",
    "\"\"\"\n",
    "def cal_distance(coordinates, client):\n",
    "    matrix = client.distance_matrix(\n",
    "    locations=coordinates,\n",
    "    profile='driving-car',\n",
    "    metrics=['distance', 'duration'],\n",
    "    validate=False,\n",
    "    )\n",
    "    time.sleep(2.5)\n",
    "    return matrix['durations'], matrix['distances']\n",
    "# the unit of distance is m, the unit of durations is seconds"
   ]
  },
  {
   "cell_type": "code",
   "execution_count": 139,
   "id": "df3ea184",
   "metadata": {},
   "outputs": [],
   "source": [
    "def get_summary(rent, train):\n",
    "    coordinates = []\n",
    "    r_coor = []\n",
    "    summary = []\n",
    "    for j in range(len(train)):\n",
    "        coordinates.append([train[\"Stop_long\"][j], train[\"Stop_lat\"][j]])\n",
    "    for i in range(len(rent)):\n",
    "        r_coor.append([rent[\"longitude\"][i], rent[\"latitude\"][i]])\n",
    "    for k in range(len(r_coor)):\n",
    "        coor = []\n",
    "        coor.append(r_coor[k])\n",
    "        for m in range(len(coordinates)):\n",
    "            if ((coordinates[m][0]-0.3) <= r_coor[k][0] <= (coordinates[m][0] + 0.3)) & ((coordinates[m][1]-0.3) <= r_coor[k][1] <= (coordinates[m][1] + 0.3)):\n",
    "                coor.append(coordinates[m])\n",
    "        summary.append(coor)\n",
    "    return summary"
   ]
  },
  {
   "cell_type": "code",
   "execution_count": 249,
   "id": "d1c5b104",
   "metadata": {},
   "outputs": [],
   "source": [
    "\"\"\"\n",
    "function: Find the nearest site to rent \n",
    "param datas : rent_address, stop_name, min_distance, min_duration\n",
    "\"\"\"\n",
    "def get_coordinates(rent, train):\n",
    "    rent_address = []\n",
    "    stop_name = []\n",
    "    min_distance = []\n",
    "    min_duration = []\n",
    "    summary = get_summary(rent, train)\n",
    "    new_sum = []\n",
    "    for l in range(len(summary)):\n",
    "        if len(summary[l]) != 1:\n",
    "            new_sum.append(summary[l])\n",
    "        else:\n",
    "            rent_address.append(rent['listingSlug'][l])\n",
    "            stop_name.append(\"NULL\")\n",
    "            min_distance.append(\"NULL\")\n",
    "            min_duration.append(\"NULL\")\n",
    "    for i in range(len(new_sum)):\n",
    "        distances = []\n",
    "        durations = []\n",
    "        matrix = cal_distance(new_sum[i], client)\n",
    "        distances = distances + matrix[1][0][1:]\n",
    "        durations = durations + matrix[0][0][1:]\n",
    "        index = distances.index(min(distances))\n",
    "        rent_address.append(rent['listingSlug'][summary.index(new_sum[i])])\n",
    "        stop_index = train[train['Stop_long'] == new_sum[i][index+1][0]].index.tolist()[0]\n",
    "        stop_name.append(train['Stop_name'][stop_index])\n",
    "        min_distance.append(distances[index])\n",
    "        min_duration.append(durations[index])\n",
    "    return rent_address, stop_name, min_distance, min_duration"
   ]
  },
  {
   "cell_type": "code",
   "execution_count": 277,
   "id": "839ef6a1",
   "metadata": {},
   "outputs": [],
   "source": [
    "\"\"\"\n",
    "function: put the required columns into a dataframe\n",
    "param datas: dataframe\n",
    "\"\"\"\n",
    "def data_frame(rent, train):\n",
    "    #get dataframe\n",
    "    data = {'rent_address': get_coordinates(rent, train)[0], 'stop_name': get_coordinates(rent, train)[1], 'min_distance': get_coordinates(rent, train)[2], 'min_duration': get_coordinates(rent, train)[3]}\n",
    "    df = DataFrame(data)\n",
    "    return df\n",
    "\n",
    "df = data_frame(rent, train)\n",
    "df.to_csv(\"/home/ads/generic-real-estate-consulting-project-group-55/data/raw/train distance and duration/distances_durations(12).csv\", index=False)"
   ]
  },
  {
   "cell_type": "code",
   "execution_count": 278,
   "id": "7c64aeb8",
   "metadata": {},
   "outputs": [],
   "source": [
    "old = pd.read_csv(\"/home/ads/generic-real-estate-consulting-project-group-55/data/raw/train distance and duration/distances_durations(0).csv\", index_col=0)\n",
    "new = pd.read_csv(\"/home/ads/generic-real-estate-consulting-project-group-55/data/raw/train distance and duration/distances_durations(1).csv\", index_col=0)"
   ]
  },
  {
   "cell_type": "code",
   "execution_count": 279,
   "id": "a928df28",
   "metadata": {},
   "outputs": [],
   "source": [
    "renew = pd.concat([old, new])\n",
    "new2 = pd.read_csv(\"/home/ads/generic-real-estate-consulting-project-group-55/data/raw/train distance and duration/distances_durations(2).csv\", index_col=0)\n",
    "renew2 = pd.concat([renew, new2])\n",
    "new3 = pd.read_csv(\"/home/ads/generic-real-estate-consulting-project-group-55/data/raw/train distance and duration/distances_durations(3).csv\", index_col=0)\n",
    "renew3 = pd.concat([renew2, new3])\n",
    "new4 = pd.read_csv(\"/home/ads/generic-real-estate-consulting-project-group-55/data/raw/train distance and duration/distances_durations(4).csv\", index_col=0)\n",
    "renew4 = pd.concat([renew3, new4])\n",
    "new5 = pd.read_csv(\"/home/ads/generic-real-estate-consulting-project-group-55/data/raw/train distance and duration/distances_durations(5).csv\", index_col=0)\n",
    "renew5 = pd.concat([renew4, new5])\n",
    "new6 = pd.read_csv(\"/home/ads/generic-real-estate-consulting-project-group-55/data/raw/train distance and duration/distances_durations(6).csv\", index_col=0)\n",
    "renew6 = pd.concat([renew5, new6])\n",
    "new7 = pd.read_csv(\"/home/ads/generic-real-estate-consulting-project-group-55/data/raw/train distance and duration/distances_durations(7).csv\", index_col=0)\n",
    "renew7 = pd.concat([renew6, new7])\n",
    "new8 = pd.read_csv(\"/home/ads/generic-real-estate-consulting-project-group-55/data/raw/train distance and duration/distances_durations(8).csv\", index_col=0)\n",
    "renew8 = pd.concat([renew7, new8])\n",
    "new9 = pd.read_csv(\"/home/ads/generic-real-estate-consulting-project-group-55/data/raw/train distance and duration/distances_durations(9).csv\", index_col=0)\n",
    "renew9 = pd.concat([renew8, new9])\n",
    "new10 = pd.read_csv(\"/home/ads/generic-real-estate-consulting-project-group-55/data/raw/train distance and duration/distances_durations(10).csv\", index_col=0)\n",
    "renew10 = pd.concat([renew9, new10])\n",
    "new11 = pd.read_csv(\"/home/ads/generic-real-estate-consulting-project-group-55/data/raw/train distance and duration/distances_durations(11).csv\", index_col=0)\n",
    "renew11 = pd.concat([renew10, new11])\n",
    "new12 = pd.read_csv(\"/home/ads/generic-real-estate-consulting-project-group-55/data/raw/train distance and duration/distances_durations(12).csv\", index_col=0)\n",
    "renew12 = pd.concat([renew11, new12]).reset_index()\n",
    "\n"
   ]
  },
  {
   "cell_type": "code",
   "execution_count": 112,
   "id": "a0d4e2d5",
   "metadata": {},
   "outputs": [],
   "source": [
    "renew15 = pd.read_csv(\"/home/ads/generic-real-estate-consulting-project-group-55/rent_data/renew(15).csv\")\n",
    "rent_c = pd.read_csv(\"/home/ads/generic-real-estate-consulting-project-group-55/rent_data/rent_cleaned.csv\")\n",
    "outliers = list(set(renew15.reset_index()['listingSlug'])^set(rent_c['listingSlug']))"
   ]
  },
  {
   "cell_type": "code",
   "execution_count": 120,
   "id": "e425da95",
   "metadata": {},
   "outputs": [],
   "source": [
    "new_data = renew12\n",
    "for i in range(len(outliers)):\n",
    "    for j in range(len(renew12)):\n",
    "        if renew12['rent_address'][j] == outliers[i]:\n",
    "            new_data = new_data.drop(j)\n",
    "new_data= new_data.reset_index()\n",
    "postcode = []\n",
    "for i in range(len(new_data)):\n",
    "    postcode.append(new_data['rent_address'][i][-13:-9])\n",
    "new_data['postcode'] = postcode\n",
    "new_data = new_data.sort_values(by=[\"postcode\"],ascending=True).reset_index(drop=True)\n"
   ]
  },
  {
   "cell_type": "code",
   "execution_count": 122,
   "id": "202a126e",
   "metadata": {},
   "outputs": [],
   "source": [
    "new_data.to_csv(\"/home/ads/generic-real-estate-consulting-project-group-55/data/raw/train distance and duration/distances_durations(final).csv\")"
   ]
  }
 ],
 "metadata": {
  "kernelspec": {
   "display_name": "Python 3.8.10 64-bit",
   "language": "python",
   "name": "python3"
  },
  "language_info": {
   "codemirror_mode": {
    "name": "ipython",
    "version": 3
   },
   "file_extension": ".py",
   "mimetype": "text/x-python",
   "name": "python",
   "nbconvert_exporter": "python",
   "pygments_lexer": "ipython3",
   "version": "3.8.10"
  },
  "vscode": {
   "interpreter": {
    "hash": "916dbcbb3f70747c44a77c7bcd40155683ae19c65e1c03b4aa3499c5328201f1"
   }
  }
 },
 "nbformat": 4,
 "nbformat_minor": 5
}
