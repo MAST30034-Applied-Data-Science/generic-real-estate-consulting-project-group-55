{
 "cells": [
  {
   "cell_type": "markdown",
   "id": "b260a046",
   "metadata": {},
   "source": [
    "# External Data Downloader"
   ]
  },
  {
   "cell_type": "markdown",
   "id": "56e813f6",
   "metadata": {},
   "source": [
    "This notebook helps to download all needed the external data sets."
   ]
  },
  {
   "cell_type": "code",
   "execution_count": 10,
   "id": "202c10e2",
   "metadata": {},
   "outputs": [],
   "source": [
    "import os\n",
    "import urllib\n",
    "from urllib.request import urlretrieve\n",
    "import zipfile\n",
    "import requests\n",
    "import tempfile"
   ]
  },
  {
   "cell_type": "code",
   "execution_count": 11,
   "id": "0b2974a2",
   "metadata": {},
   "outputs": [],
   "source": [
    "# Set the working directory\n",
    "output_dir = f\"../data/raw/\""
   ]
  },
  {
   "cell_type": "markdown",
   "id": "3bd0e995",
   "metadata": {},
   "source": [
    "### 1 - School Location"
   ]
  },
  {
   "cell_type": "code",
   "execution_count": 4,
   "id": "aa551ae2",
   "metadata": {},
   "outputs": [
    {
     "data": {
      "text/plain": [
       "('../data/raw/school_location_18_19.csv',\n",
       " <http.client.HTTPMessage at 0x1e8c1094910>)"
      ]
     },
     "execution_count": 4,
     "metadata": {},
     "output_type": "execute_result"
    }
   ],
   "source": [
    "# URL for the school data\n",
    "URL_school = \"http://www.education.vic.gov.au/Documents/about/research/datavic/\"\n",
    "\n",
    "# 2018-2019 school data\n",
    "URL_school_18_19 = f\"{URL_school}dv279-schoollocations2019\"\n",
    "\n",
    "# Generate output location and filename\n",
    "output = f\"{output_dir}school_location_18_19.csv\"\n",
    "\n",
    "# Urlretrieve the file\n",
    "urlretrieve(f'{URL_school_18_19}.csv', output) "
   ]
  },
  {
   "cell_type": "code",
   "execution_count": 5,
   "id": "0d0bf957",
   "metadata": {},
   "outputs": [
    {
     "data": {
      "text/plain": [
       "('../data/raw/school_location_20.csv',\n",
       " <http.client.HTTPMessage at 0x1e8c0d6efe0>)"
      ]
     },
     "execution_count": 5,
     "metadata": {},
     "output_type": "execute_result"
    }
   ],
   "source": [
    "# 2020 school data\n",
    "URL_school_20 = f\"{URL_school}dv296-schoollocations2020\"\n",
    "\n",
    "# generate output location and filename\n",
    "output = f\"{output_dir}school_location_20.csv\"\n",
    "\n",
    "# Urlretrieve the file\n",
    "urlretrieve(f'{URL_school_20}.csv', output) "
   ]
  },
  {
   "cell_type": "code",
   "execution_count": 6,
   "id": "674a17d1",
   "metadata": {},
   "outputs": [
    {
     "data": {
      "text/plain": [
       "('../data/raw/school_location_21.csv',\n",
       " <http.client.HTTPMessage at 0x1e8c0d6e1d0>)"
      ]
     },
     "execution_count": 6,
     "metadata": {},
     "output_type": "execute_result"
    }
   ],
   "source": [
    "# 2021 school data\n",
    "URL_school_21 = f\"{URL_school}dv309_schoollocations2021\"\n",
    "\n",
    "# Generate output location and filename\n",
    "output = f\"{output_dir}school_location_21.csv\"\n",
    "\n",
    "# Urlretrieve the file\n",
    "urlretrieve(f'{URL_school_21}.csv', output) "
   ]
  },
  {
   "cell_type": "code",
   "execution_count": 7,
   "id": "dd3dbc31",
   "metadata": {},
   "outputs": [
    {
     "data": {
      "text/plain": [
       "('../data/raw/school_location_22.csv',\n",
       " <http.client.HTTPMessage at 0x1e8c0d6e0e0>)"
      ]
     },
     "execution_count": 7,
     "metadata": {},
     "output_type": "execute_result"
    }
   ],
   "source": [
    "# 2022 school data\n",
    "URL_school_22 = f\"{URL_school}dv331_schoollocations2022\"\n",
    "\n",
    "# Generate output location and filename\n",
    "output = f\"{output_dir}school_location_22.csv\"\n",
    "\n",
    "# download\n",
    "urlretrieve(f'{URL_school_22}.csv', output) "
   ]
  },
  {
   "cell_type": "markdown",
   "id": "684eaad0",
   "metadata": {},
   "source": [
    "### 2 - Hospital Location"
   ]
  },
  {
   "cell_type": "code",
   "execution_count": 8,
   "id": "ca3fecc8",
   "metadata": {},
   "outputs": [
    {
     "data": {
      "text/plain": [
       "('../data/raw/hospital_location.csv',\n",
       " <http.client.HTTPMessage at 0x1e8c0ad83a0>)"
      ]
     },
     "execution_count": 8,
     "metadata": {},
     "output_type": "execute_result"
    }
   ],
   "source": [
    "# URL\n",
    "URL_hospital = \"https://www.healthcollect.vic.gov.au/HospitalLists/ExportList.aspx?List=MainHospitalList\"\n",
    "\n",
    "# Generate output location and filename\n",
    "output = f\"{output_dir}hospital_location.csv\"\n",
    "\n",
    "# Urlretrieve the file\n",
    "urlretrieve(f'{URL_hospital}', output) "
   ]
  },
  {
   "cell_type": "markdown",
   "id": "56e3306d",
   "metadata": {},
   "source": [
    "### 3 - Crime statistics"
   ]
  },
  {
   "cell_type": "code",
   "execution_count": 9,
   "id": "2712c3c3",
   "metadata": {},
   "outputs": [
    {
     "data": {
      "text/plain": [
       "('../data/raw/crime_statistics_2012to2021.xlsx',\n",
       " <http.client.HTTPMessage at 0x1e8c0ad8520>)"
      ]
     },
     "execution_count": 9,
     "metadata": {},
     "output_type": "execute_result"
    }
   ],
   "source": [
    "# 2012-2021 Crime data\n",
    "URL_crime_2012to2021 = \"https://files.crimestatistics.vic.gov.au/2022-03/Data_Tables_LGA_Criminal_Incidents_Year_Ending_December_2021\"\n",
    "\n",
    "# Generate output location and filename\n",
    "output = f\"{output_dir}crime_statistics_2012to2021.xlsx\"\n",
    "\n",
    "# Download\n",
    "urlretrieve(f'{URL_crime_2012to2021}.xlsx', output) "
   ]
  },
  {
   "cell_type": "code",
   "execution_count": 10,
   "id": "da7d382d",
   "metadata": {},
   "outputs": [
    {
     "data": {
      "text/plain": [
       "('../data/raw/crime_statistics_2022.xlsx',\n",
       " <http.client.HTTPMessage at 0x1e8c0d6cc10>)"
      ]
     },
     "execution_count": 10,
     "metadata": {},
     "output_type": "execute_result"
    }
   ],
   "source": [
    "# 2022 Crime data\n",
    "URL_crime_2022 = \"https://files.crimestatistics.vic.gov.au/2022-06/Data_Tables_LGA_Criminal_Incidents_Year_Ending_March_2022\"\n",
    "\n",
    "# Generate output location and filename\n",
    "output = f\"{output_dir}crime_statistics_2022.xlsx\"\n",
    "\n",
    "# Download\n",
    "urlretrieve(f'{URL_crime_2022}.xlsx', output) "
   ]
  },
  {
   "cell_type": "markdown",
   "id": "174e98e4",
   "metadata": {},
   "source": [
    "### 4 - Population data"
   ]
  },
  {
   "cell_type": "code",
   "execution_count": 11,
   "id": "855867e6",
   "metadata": {},
   "outputs": [
    {
     "data": {
      "text/plain": [
       "('../data/raw/population.xlsx', <http.client.HTTPMessage at 0x1e8c0d6e680>)"
      ]
     },
     "execution_count": 11,
     "metadata": {},
     "output_type": "execute_result"
    }
   ],
   "source": [
    "# URL of data of population\n",
    "URL_population = \"https://www.abs.gov.au/statistics/people/population/regional-population/2021/32180DS0001_2001-21\"\n",
    "\n",
    "# Generate output location and filename\n",
    "output = f\"{output_dir}population.xlsx\"\n",
    "\n",
    "# Urlretrieve the file\n",
    "urlretrieve(f'{URL_population}.xlsx', output) "
   ]
  },
  {
   "cell_type": "markdown",
   "id": "1ed2c5fc",
   "metadata": {},
   "source": [
    "### 5 - Train station"
   ]
  },
  {
   "cell_type": "code",
   "execution_count": 12,
   "id": "d99db6ac",
   "metadata": {},
   "outputs": [
    {
     "data": {
      "text/plain": [
       "('../data/raw/train_station_18to19.xlsx',\n",
       " <http.client.HTTPMessage at 0x1e8c10ca920>)"
      ]
     },
     "execution_count": 12,
     "metadata": {},
     "output_type": "execute_result"
    }
   ],
   "source": [
    "# URL\n",
    "URL_train = \"https://vicroadsopendatastorehouse.vicroads.vic.gov.au/opendata/Public_Transport/Patronage/\"\n",
    "\n",
    "# 2018-2019 train data\n",
    "URL_train_18_19 = f\"{URL_train}Annual%20regional%20train%20station%20entries%202018-19\"\n",
    "\n",
    "# Generate output location and filename\n",
    "output = f\"{output_dir}train_station_18to19.xlsx\"\n",
    "\n",
    "# urllib request\n",
    "opener=urllib.request.build_opener()\n",
    "opener.addheaders=[('User-Agent','Mozilla/5.0 (Windows NT 6.1; WOW64) AppleWebKit/537.36 \\\n",
    "    (KHTML, like Gecko) Chrome/36.0.1941.0 Safari/537.36')]\n",
    "urllib.request.install_opener(opener)\n",
    "\n",
    "# Urlretrieve the file\n",
    "urllib.request.urlretrieve(f'{URL_train_18_19}.xlsx', output)"
   ]
  },
  {
   "cell_type": "code",
   "execution_count": 13,
   "id": "33534b18",
   "metadata": {},
   "outputs": [
    {
     "data": {
      "text/plain": [
       "('../data/raw/train_station_19to20.xlsx',\n",
       " <http.client.HTTPMessage at 0x1e8c0d6d6c0>)"
      ]
     },
     "execution_count": 13,
     "metadata": {},
     "output_type": "execute_result"
    }
   ],
   "source": [
    "# 2019-2020 train data\n",
    "URL_train_19_20 = f\"{URL_train}Annual%20regional%20train%20station%20entries%202019-20\"\n",
    "\n",
    "# Generate output location and filename\n",
    "output = f\"{output_dir}train_station_19to20.xlsx\"\n",
    "\n",
    "# urllib request\n",
    "opener=urllib.request.build_opener()\n",
    "opener.addheaders=[('User-Agent','Mozilla/5.0 (Windows NT 6.1; WOW64) AppleWebKit/537.36 \\\n",
    "    (KHTML, like Gecko) Chrome/36.0.1941.0 Safari/537.36')]\n",
    "urllib.request.install_opener(opener)\n",
    "\n",
    "# Urlretrieve the file\n",
    "urllib.request.urlretrieve(f'{URL_train_19_20}.xlsx', output)\n"
   ]
  },
  {
   "cell_type": "code",
   "execution_count": 14,
   "id": "5de3321a",
   "metadata": {},
   "outputs": [
    {
     "data": {
      "text/plain": [
       "('../data/raw/train_station_20to21.xlsx',\n",
       " <http.client.HTTPMessage at 0x1e8c0fda590>)"
      ]
     },
     "execution_count": 14,
     "metadata": {},
     "output_type": "execute_result"
    }
   ],
   "source": [
    "# 2020-2021 train data\n",
    "URL_train_20_21 = f\"{URL_train}Annual%20regional%20train%20station%20entries%202020-21\"\n",
    "\n",
    "# Generate output location and filename\n",
    "output = f\"{output_dir}train_station_20to21.xlsx\"\n",
    "\n",
    "# urllib request\n",
    "opener=urllib.request.build_opener()\n",
    "opener.addheaders=[('User-Agent','Mozilla/5.0 (Windows NT 6.1; WOW64) AppleWebKit/537.36 \\\n",
    "    (KHTML, like Gecko) Chrome/36.0.1941.0 Safari/537.36')]\n",
    "urllib.request.install_opener(opener)\n",
    "\n",
    "# Urlretrieve the file\n",
    "urllib.request.urlretrieve(f'{URL_train_20_21}.xlsx', output)"
   ]
  },
  {
   "cell_type": "markdown",
   "id": "1af7835e",
   "metadata": {},
   "source": [
    "### 6 - Restaurant and Coffee information in Melbourne"
   ]
  },
  {
   "cell_type": "code",
   "execution_count": 15,
   "id": "d979c56a",
   "metadata": {},
   "outputs": [
    {
     "data": {
      "text/plain": [
       "('../data/raw/restaruant_coffee.csv',\n",
       " <http.client.HTTPMessage at 0x1e8c0786b00>)"
      ]
     },
     "execution_count": 15,
     "metadata": {},
     "output_type": "execute_result"
    }
   ],
   "source": [
    "# URl of resturant and coffee in Melbourne (2002-2020)\n",
    "URL_rest_coffee = \"https://data.melbourne.vic.gov.au/api/views/xt2y-tnn9/rows.csv?accessType=DOWNLOAD\"\n",
    "\n",
    "# Generate output location and filename\n",
    "output = f\"{output_dir}restaruant_coffee.csv\"\n",
    "\n",
    "# Urlretrieve the file\n",
    "urlretrieve(f'{URL_rest_coffee}', output) "
   ]
  },
  {
   "cell_type": "markdown",
   "id": "65557676",
   "metadata": {},
   "source": [
    "### 7 - Census Data"
   ]
  },
  {
   "cell_type": "code",
   "execution_count": 7,
   "id": "000b8dc5",
   "metadata": {},
   "outputs": [
    {
     "data": {
      "text/plain": [
       "('../data/raw/census_2021.zip', <http.client.HTTPMessage at 0x7fa2e8fda100>)"
      ]
     },
     "execution_count": 7,
     "metadata": {},
     "output_type": "execute_result"
    }
   ],
   "source": [
    "# URL for Census data in Victoria 2021\n",
    "URL_census_2021 = 'https://www.abs.gov.au/census/find-census-data/datapacks/download/2021_GCP_all_for_VIC_short-header.zip'\n",
    "filename = f'{output_dir}census_2021.zip'\n",
    "\n",
    "# Download the zip file\n",
    "urlretrieve(URL_census_2021, filename) "
   ]
  },
  {
   "cell_type": "code",
   "execution_count": 8,
   "id": "0785c236",
   "metadata": {},
   "outputs": [],
   "source": [
    "census2021 = zipfile.ZipFile(f'{output_dir}census_2021.zip')\n",
    "\n",
    "for file in census2021.namelist():\n",
    "    if file.startswith(\"2021 Census GCP All Geographies for VIC/POA/\"):\n",
    "        census2021.extract(file, f'{output_dir}/POA')"
   ]
  },
  {
   "cell_type": "markdown",
   "id": "789b10cd",
   "metadata": {},
   "source": [
    "### 8 - Quarter Rental data"
   ]
  },
  {
   "cell_type": "code",
   "execution_count": 18,
   "id": "d9446ccc",
   "metadata": {},
   "outputs": [
    {
     "data": {
      "text/plain": [
       "('../data/raw/rental.xlsx', <http.client.HTTPMessage at 0x1e8c0f6c700>)"
      ]
     },
     "execution_count": 18,
     "metadata": {},
     "output_type": "execute_result"
    }
   ],
   "source": [
    "# URl of rental data (2002-2020)\n",
    "URL_rental = \"https://www.dffh.vic.gov.au/moving-annual-rents-suburb-june-quarter-2022-excel\"\n",
    "\n",
    "# Generate output location and filename\n",
    "output = f\"{output_dir}rental.xlsx\"\n",
    "\n",
    "# Urlretrieve the file\n",
    "urlretrieve(f'{URL_rental}', output) "
   ]
  },
  {
   "cell_type": "markdown",
   "id": "ac60930b",
   "metadata": {},
   "source": [
    "### 9 - Parks"
   ]
  },
  {
   "cell_type": "code",
   "execution_count": 19,
   "id": "4f1545e3",
   "metadata": {},
   "outputs": [],
   "source": [
    "def get_data():\n",
    "    url = \"https://s3-ap-southeast-2.amazonaws.com/cl-isd-prd-datashare-s3-delivery/Order_AEHQI8.zip\"\n",
    "    response = requests.get(url)\n",
    "    return url, response.content\n",
    " \n",
    " \n",
    "if __name__ == '__main__':\n",
    "    url, data = get_data()\n",
    " \n",
    "    _tmp_file = tempfile.TemporaryFile()\n",
    "    print(_tmp_file)\n",
    " \n",
    "    _tmp_file.write(data)\n",
    "    # _tmp_file.seek(0)\n",
    " \n",
    "    zf = zipfile.ZipFile(_tmp_file, mode='r')\n",
    "    for names in zf.namelist():\n",
    "        f = zf.extract(names, '/home/ads/generic-real-estate-consulting-project-group-55/data/raw')\n",
    "        print(f)\n",
    " \n",
    "    zf.close()"
   ]
  },
  {
   "cell_type": "markdown",
   "id": "a6f5399e",
   "metadata": {},
   "source": [
    "### 10 - Yearly Income"
   ]
  },
  {
   "cell_type": "code",
   "execution_count": 13,
   "id": "b96b449b",
   "metadata": {},
   "outputs": [
    {
     "ename": "HTTPError",
     "evalue": "HTTP Error 404: Not Found",
     "output_type": "error",
     "traceback": [
      "\u001b[0;31m---------------------------------------------------------------------------\u001b[0m",
      "\u001b[0;31mHTTPError\u001b[0m                                 Traceback (most recent call last)",
      "\u001b[0;32m/var/folders/vb/kjwyk4kn79s81t6y46g8crxw0000gn/T/ipykernel_27871/2911605510.py\u001b[0m in \u001b[0;36m<module>\u001b[0;34m\u001b[0m\n\u001b[1;32m      6\u001b[0m \u001b[0;34m\u001b[0m\u001b[0m\n\u001b[1;32m      7\u001b[0m \u001b[0;31m# Urlretrieve the file\u001b[0m\u001b[0;34m\u001b[0m\u001b[0;34m\u001b[0m\u001b[0m\n\u001b[0;32m----> 8\u001b[0;31m \u001b[0murlretrieve\u001b[0m\u001b[0;34m(\u001b[0m\u001b[0;34mf'{URL_yearly_income}'\u001b[0m\u001b[0;34m,\u001b[0m \u001b[0moutput\u001b[0m\u001b[0;34m)\u001b[0m\u001b[0;34m\u001b[0m\u001b[0;34m\u001b[0m\u001b[0m\n\u001b[0m",
      "\u001b[0;32m~/opt/anaconda3/lib/python3.9/urllib/request.py\u001b[0m in \u001b[0;36murlretrieve\u001b[0;34m(url, filename, reporthook, data)\u001b[0m\n\u001b[1;32m    237\u001b[0m     \u001b[0murl_type\u001b[0m\u001b[0;34m,\u001b[0m \u001b[0mpath\u001b[0m \u001b[0;34m=\u001b[0m \u001b[0m_splittype\u001b[0m\u001b[0;34m(\u001b[0m\u001b[0murl\u001b[0m\u001b[0;34m)\u001b[0m\u001b[0;34m\u001b[0m\u001b[0;34m\u001b[0m\u001b[0m\n\u001b[1;32m    238\u001b[0m \u001b[0;34m\u001b[0m\u001b[0m\n\u001b[0;32m--> 239\u001b[0;31m     \u001b[0;32mwith\u001b[0m \u001b[0mcontextlib\u001b[0m\u001b[0;34m.\u001b[0m\u001b[0mclosing\u001b[0m\u001b[0;34m(\u001b[0m\u001b[0murlopen\u001b[0m\u001b[0;34m(\u001b[0m\u001b[0murl\u001b[0m\u001b[0;34m,\u001b[0m \u001b[0mdata\u001b[0m\u001b[0;34m)\u001b[0m\u001b[0;34m)\u001b[0m \u001b[0;32mas\u001b[0m \u001b[0mfp\u001b[0m\u001b[0;34m:\u001b[0m\u001b[0;34m\u001b[0m\u001b[0;34m\u001b[0m\u001b[0m\n\u001b[0m\u001b[1;32m    240\u001b[0m         \u001b[0mheaders\u001b[0m \u001b[0;34m=\u001b[0m \u001b[0mfp\u001b[0m\u001b[0;34m.\u001b[0m\u001b[0minfo\u001b[0m\u001b[0;34m(\u001b[0m\u001b[0;34m)\u001b[0m\u001b[0;34m\u001b[0m\u001b[0;34m\u001b[0m\u001b[0m\n\u001b[1;32m    241\u001b[0m \u001b[0;34m\u001b[0m\u001b[0m\n",
      "\u001b[0;32m~/opt/anaconda3/lib/python3.9/urllib/request.py\u001b[0m in \u001b[0;36murlopen\u001b[0;34m(url, data, timeout, cafile, capath, cadefault, context)\u001b[0m\n\u001b[1;32m    212\u001b[0m     \u001b[0;32melse\u001b[0m\u001b[0;34m:\u001b[0m\u001b[0;34m\u001b[0m\u001b[0;34m\u001b[0m\u001b[0m\n\u001b[1;32m    213\u001b[0m         \u001b[0mopener\u001b[0m \u001b[0;34m=\u001b[0m \u001b[0m_opener\u001b[0m\u001b[0;34m\u001b[0m\u001b[0;34m\u001b[0m\u001b[0m\n\u001b[0;32m--> 214\u001b[0;31m     \u001b[0;32mreturn\u001b[0m \u001b[0mopener\u001b[0m\u001b[0;34m.\u001b[0m\u001b[0mopen\u001b[0m\u001b[0;34m(\u001b[0m\u001b[0murl\u001b[0m\u001b[0;34m,\u001b[0m \u001b[0mdata\u001b[0m\u001b[0;34m,\u001b[0m \u001b[0mtimeout\u001b[0m\u001b[0;34m)\u001b[0m\u001b[0;34m\u001b[0m\u001b[0;34m\u001b[0m\u001b[0m\n\u001b[0m\u001b[1;32m    215\u001b[0m \u001b[0;34m\u001b[0m\u001b[0m\n\u001b[1;32m    216\u001b[0m \u001b[0;32mdef\u001b[0m \u001b[0minstall_opener\u001b[0m\u001b[0;34m(\u001b[0m\u001b[0mopener\u001b[0m\u001b[0;34m)\u001b[0m\u001b[0;34m:\u001b[0m\u001b[0;34m\u001b[0m\u001b[0;34m\u001b[0m\u001b[0m\n",
      "\u001b[0;32m~/opt/anaconda3/lib/python3.9/urllib/request.py\u001b[0m in \u001b[0;36mopen\u001b[0;34m(self, fullurl, data, timeout)\u001b[0m\n\u001b[1;32m    521\u001b[0m         \u001b[0;32mfor\u001b[0m \u001b[0mprocessor\u001b[0m \u001b[0;32min\u001b[0m \u001b[0mself\u001b[0m\u001b[0;34m.\u001b[0m\u001b[0mprocess_response\u001b[0m\u001b[0;34m.\u001b[0m\u001b[0mget\u001b[0m\u001b[0;34m(\u001b[0m\u001b[0mprotocol\u001b[0m\u001b[0;34m,\u001b[0m \u001b[0;34m[\u001b[0m\u001b[0;34m]\u001b[0m\u001b[0;34m)\u001b[0m\u001b[0;34m:\u001b[0m\u001b[0;34m\u001b[0m\u001b[0;34m\u001b[0m\u001b[0m\n\u001b[1;32m    522\u001b[0m             \u001b[0mmeth\u001b[0m \u001b[0;34m=\u001b[0m \u001b[0mgetattr\u001b[0m\u001b[0;34m(\u001b[0m\u001b[0mprocessor\u001b[0m\u001b[0;34m,\u001b[0m \u001b[0mmeth_name\u001b[0m\u001b[0;34m)\u001b[0m\u001b[0;34m\u001b[0m\u001b[0;34m\u001b[0m\u001b[0m\n\u001b[0;32m--> 523\u001b[0;31m             \u001b[0mresponse\u001b[0m \u001b[0;34m=\u001b[0m \u001b[0mmeth\u001b[0m\u001b[0;34m(\u001b[0m\u001b[0mreq\u001b[0m\u001b[0;34m,\u001b[0m \u001b[0mresponse\u001b[0m\u001b[0;34m)\u001b[0m\u001b[0;34m\u001b[0m\u001b[0;34m\u001b[0m\u001b[0m\n\u001b[0m\u001b[1;32m    524\u001b[0m \u001b[0;34m\u001b[0m\u001b[0m\n\u001b[1;32m    525\u001b[0m         \u001b[0;32mreturn\u001b[0m \u001b[0mresponse\u001b[0m\u001b[0;34m\u001b[0m\u001b[0;34m\u001b[0m\u001b[0m\n",
      "\u001b[0;32m~/opt/anaconda3/lib/python3.9/urllib/request.py\u001b[0m in \u001b[0;36mhttp_response\u001b[0;34m(self, request, response)\u001b[0m\n\u001b[1;32m    630\u001b[0m         \u001b[0;31m# request was successfully received, understood, and accepted.\u001b[0m\u001b[0;34m\u001b[0m\u001b[0;34m\u001b[0m\u001b[0m\n\u001b[1;32m    631\u001b[0m         \u001b[0;32mif\u001b[0m \u001b[0;32mnot\u001b[0m \u001b[0;34m(\u001b[0m\u001b[0;36m200\u001b[0m \u001b[0;34m<=\u001b[0m \u001b[0mcode\u001b[0m \u001b[0;34m<\u001b[0m \u001b[0;36m300\u001b[0m\u001b[0;34m)\u001b[0m\u001b[0;34m:\u001b[0m\u001b[0;34m\u001b[0m\u001b[0;34m\u001b[0m\u001b[0m\n\u001b[0;32m--> 632\u001b[0;31m             response = self.parent.error(\n\u001b[0m\u001b[1;32m    633\u001b[0m                 'http', request, response, code, msg, hdrs)\n\u001b[1;32m    634\u001b[0m \u001b[0;34m\u001b[0m\u001b[0m\n",
      "\u001b[0;32m~/opt/anaconda3/lib/python3.9/urllib/request.py\u001b[0m in \u001b[0;36merror\u001b[0;34m(self, proto, *args)\u001b[0m\n\u001b[1;32m    559\u001b[0m         \u001b[0;32mif\u001b[0m \u001b[0mhttp_err\u001b[0m\u001b[0;34m:\u001b[0m\u001b[0;34m\u001b[0m\u001b[0;34m\u001b[0m\u001b[0m\n\u001b[1;32m    560\u001b[0m             \u001b[0margs\u001b[0m \u001b[0;34m=\u001b[0m \u001b[0;34m(\u001b[0m\u001b[0mdict\u001b[0m\u001b[0;34m,\u001b[0m \u001b[0;34m'default'\u001b[0m\u001b[0;34m,\u001b[0m \u001b[0;34m'http_error_default'\u001b[0m\u001b[0;34m)\u001b[0m \u001b[0;34m+\u001b[0m \u001b[0morig_args\u001b[0m\u001b[0;34m\u001b[0m\u001b[0;34m\u001b[0m\u001b[0m\n\u001b[0;32m--> 561\u001b[0;31m             \u001b[0;32mreturn\u001b[0m \u001b[0mself\u001b[0m\u001b[0;34m.\u001b[0m\u001b[0m_call_chain\u001b[0m\u001b[0;34m(\u001b[0m\u001b[0;34m*\u001b[0m\u001b[0margs\u001b[0m\u001b[0;34m)\u001b[0m\u001b[0;34m\u001b[0m\u001b[0;34m\u001b[0m\u001b[0m\n\u001b[0m\u001b[1;32m    562\u001b[0m \u001b[0;34m\u001b[0m\u001b[0m\n\u001b[1;32m    563\u001b[0m \u001b[0;31m# XXX probably also want an abstract factory that knows when it makes\u001b[0m\u001b[0;34m\u001b[0m\u001b[0;34m\u001b[0m\u001b[0m\n",
      "\u001b[0;32m~/opt/anaconda3/lib/python3.9/urllib/request.py\u001b[0m in \u001b[0;36m_call_chain\u001b[0;34m(self, chain, kind, meth_name, *args)\u001b[0m\n\u001b[1;32m    492\u001b[0m         \u001b[0;32mfor\u001b[0m \u001b[0mhandler\u001b[0m \u001b[0;32min\u001b[0m \u001b[0mhandlers\u001b[0m\u001b[0;34m:\u001b[0m\u001b[0;34m\u001b[0m\u001b[0;34m\u001b[0m\u001b[0m\n\u001b[1;32m    493\u001b[0m             \u001b[0mfunc\u001b[0m \u001b[0;34m=\u001b[0m \u001b[0mgetattr\u001b[0m\u001b[0;34m(\u001b[0m\u001b[0mhandler\u001b[0m\u001b[0;34m,\u001b[0m \u001b[0mmeth_name\u001b[0m\u001b[0;34m)\u001b[0m\u001b[0;34m\u001b[0m\u001b[0;34m\u001b[0m\u001b[0m\n\u001b[0;32m--> 494\u001b[0;31m             \u001b[0mresult\u001b[0m \u001b[0;34m=\u001b[0m \u001b[0mfunc\u001b[0m\u001b[0;34m(\u001b[0m\u001b[0;34m*\u001b[0m\u001b[0margs\u001b[0m\u001b[0;34m)\u001b[0m\u001b[0;34m\u001b[0m\u001b[0;34m\u001b[0m\u001b[0m\n\u001b[0m\u001b[1;32m    495\u001b[0m             \u001b[0;32mif\u001b[0m \u001b[0mresult\u001b[0m \u001b[0;32mis\u001b[0m \u001b[0;32mnot\u001b[0m \u001b[0;32mNone\u001b[0m\u001b[0;34m:\u001b[0m\u001b[0;34m\u001b[0m\u001b[0;34m\u001b[0m\u001b[0m\n\u001b[1;32m    496\u001b[0m                 \u001b[0;32mreturn\u001b[0m \u001b[0mresult\u001b[0m\u001b[0;34m\u001b[0m\u001b[0;34m\u001b[0m\u001b[0m\n",
      "\u001b[0;32m~/opt/anaconda3/lib/python3.9/urllib/request.py\u001b[0m in \u001b[0;36mhttp_error_default\u001b[0;34m(self, req, fp, code, msg, hdrs)\u001b[0m\n\u001b[1;32m    639\u001b[0m \u001b[0;32mclass\u001b[0m \u001b[0mHTTPDefaultErrorHandler\u001b[0m\u001b[0;34m(\u001b[0m\u001b[0mBaseHandler\u001b[0m\u001b[0;34m)\u001b[0m\u001b[0;34m:\u001b[0m\u001b[0;34m\u001b[0m\u001b[0;34m\u001b[0m\u001b[0m\n\u001b[1;32m    640\u001b[0m     \u001b[0;32mdef\u001b[0m \u001b[0mhttp_error_default\u001b[0m\u001b[0;34m(\u001b[0m\u001b[0mself\u001b[0m\u001b[0;34m,\u001b[0m \u001b[0mreq\u001b[0m\u001b[0;34m,\u001b[0m \u001b[0mfp\u001b[0m\u001b[0;34m,\u001b[0m \u001b[0mcode\u001b[0m\u001b[0;34m,\u001b[0m \u001b[0mmsg\u001b[0m\u001b[0;34m,\u001b[0m \u001b[0mhdrs\u001b[0m\u001b[0;34m)\u001b[0m\u001b[0;34m:\u001b[0m\u001b[0;34m\u001b[0m\u001b[0;34m\u001b[0m\u001b[0m\n\u001b[0;32m--> 641\u001b[0;31m         \u001b[0;32mraise\u001b[0m \u001b[0mHTTPError\u001b[0m\u001b[0;34m(\u001b[0m\u001b[0mreq\u001b[0m\u001b[0;34m.\u001b[0m\u001b[0mfull_url\u001b[0m\u001b[0;34m,\u001b[0m \u001b[0mcode\u001b[0m\u001b[0;34m,\u001b[0m \u001b[0mmsg\u001b[0m\u001b[0;34m,\u001b[0m \u001b[0mhdrs\u001b[0m\u001b[0;34m,\u001b[0m \u001b[0mfp\u001b[0m\u001b[0;34m)\u001b[0m\u001b[0;34m\u001b[0m\u001b[0;34m\u001b[0m\u001b[0m\n\u001b[0m\u001b[1;32m    642\u001b[0m \u001b[0;34m\u001b[0m\u001b[0m\n\u001b[1;32m    643\u001b[0m \u001b[0;32mclass\u001b[0m \u001b[0mHTTPRedirectHandler\u001b[0m\u001b[0;34m(\u001b[0m\u001b[0mBaseHandler\u001b[0m\u001b[0;34m)\u001b[0m\u001b[0;34m:\u001b[0m\u001b[0;34m\u001b[0m\u001b[0;34m\u001b[0m\u001b[0m\n",
      "\u001b[0;31mHTTPError\u001b[0m: HTTP Error 404: Not Found"
     ]
    }
   ],
   "source": [
    "# URl of yearly income in AUS (2014-2019)\n",
    "URL_yearly_income = 'https://www.abs.gov.au/statistics/labour/earnings-and-working-conditions/personal-income-australia/2014-15-2018-19/6524055002_DO001'\n",
    "\n",
    "# Generate output location and filename\n",
    "output = f\"{output_dir}Total_income.xlsx\"\n",
    "\n",
    "# Urlretrieve the file\n",
    "urlretrieve(f'{URL_yearly_income}', output) "
   ]
  },
  {
   "cell_type": "code",
   "execution_count": null,
   "id": "b2af0b38",
   "metadata": {},
   "outputs": [],
   "source": []
  }
 ],
 "metadata": {
  "kernelspec": {
   "display_name": "Python 3 (ipykernel)",
   "language": "python",
   "name": "python3"
  },
  "language_info": {
   "codemirror_mode": {
    "name": "ipython",
    "version": 3
   },
   "file_extension": ".py",
   "mimetype": "text/x-python",
   "name": "python",
   "nbconvert_exporter": "python",
   "pygments_lexer": "ipython3",
   "version": "3.9.7"
  },
  "vscode": {
   "interpreter": {
    "hash": "916dbcbb3f70747c44a77c7bcd40155683ae19c65e1c03b4aa3499c5328201f1"
   }
  }
 },
 "nbformat": 4,
 "nbformat_minor": 5
}
