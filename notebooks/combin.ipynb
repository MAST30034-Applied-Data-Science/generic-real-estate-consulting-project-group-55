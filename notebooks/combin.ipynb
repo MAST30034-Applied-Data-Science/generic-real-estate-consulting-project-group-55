{
 "cells": [
  {
   "cell_type": "code",
   "execution_count": 1,
   "metadata": {},
   "outputs": [],
   "source": [
    "import pandas as pd\n",
    "import os\n",
    "import operator"
   ]
  },
  {
   "cell_type": "code",
   "execution_count": 2,
   "metadata": {},
   "outputs": [],
   "source": [
    "cur_dir = \"../curated/\""
   ]
  },
  {
   "cell_type": "code",
   "execution_count": 3,
   "metadata": {},
   "outputs": [],
   "source": [
    "sch1 = pd.read_csv(\"../data//curated/distances_durations_school21(1-20).csv\")\n",
    "sch2 = pd.read_csv(\"../data/curated/distances_durations_school21(20-39).csv\")\n",
    "sch3 = pd.read_csv(\"../data/curated/distances_durations_school21(40-59).csv\")\n",
    "sch4 = pd.read_csv(\"../data/curated/distances_durations_school21(60-79).csv\")\n",
    "sch5 = pd.read_csv(\"../data/curated/distances_durations_school21(80-119).csv\")\n",
    "sch6 = pd.read_csv(\"../data/curated/distances_durations_school21(120-149).csv\")\n",
    "sch7 = pd.read_csv(\"../data/curated/distances_durations_school21(150-199).csv\")\n",
    "sch8 = pd.read_csv(\"../data/curated/distances_durations_school21(200-249).csv\")\n",
    "sch9 = pd.read_csv(\"../data/curated/distances_durations_school21(250-349).csv\")\n",
    "sch10 = pd.read_csv(\"../data/curated/distances_durations_school21(350-469).csv\")\n",
    "sch11 = pd.read_csv(\"../data/curated/distances_durations_school21(470-519).csv\")\n",
    "sch12 = pd.read_csv(\"../data/curated/distances_durations_school21(520-599).csv\")\n",
    "sch13 = pd.read_csv(\"../data/curated/distances_durations_school21(600-699).csv\")\n",
    "sch14 = pd.read_csv(\"../data/curated/distances_durations_school21(700-819).csv\")\n",
    "sch15 = pd.read_csv(\"../data/curated/distances_durations_school21(820-939).csv\")\n",
    "sch16 = pd.read_csv(\"../data/curated/distances_durations_school21(940-1059).csv\")\n",
    "sch17 = pd.read_csv(\"../data/curated/distances_durations_school21(1060-1179).csv\")\n",
    "sch18 = pd.read_csv(\"../data/curated/distances_durations_school21(1180-).csv\")\n"
   ]
  },
  {
   "cell_type": "code",
   "execution_count": 4,
   "metadata": {},
   "outputs": [],
   "source": [
    "school_dis21_dir = '../data/curated/school_distance_21.csv' "
   ]
  },
  {
   "cell_type": "code",
   "execution_count": 5,
   "metadata": {},
   "outputs": [],
   "source": [
    "df = pd.concat([sch1,sch2])\n",
    "df = pd.concat([df, sch3])\n",
    "df = pd.concat([df, sch4])\n",
    "df = pd.concat([df, sch5])\n",
    "df = pd.concat([df, sch6])\n",
    "df = pd.concat([df, sch7])\n",
    "df = pd.concat([df, sch8])\n",
    "df = pd.concat([df, sch9])\n",
    "df = pd.concat([df, sch10])\n",
    "df = pd.concat([df, sch11])\n",
    "df = pd.concat([df, sch12])\n",
    "df = pd.concat([df, sch13])\n",
    "df = pd.concat([df, sch14])\n",
    "df = pd.concat([df, sch15])\n",
    "df = pd.concat([df, sch16])\n",
    "df = pd.concat([df, sch17])\n",
    "df = pd.concat([df, sch18])\n",
    "\n",
    "df.to_csv(school_dis21_dir)"
   ]
  },
  {
   "cell_type": "code",
   "execution_count": 8,
   "metadata": {},
   "outputs": [
    {
     "data": {
      "text/plain": [
       "['distances_durations_mall(120-239).csv',\n",
       " 'distances_durations_mall(240-359).csv',\n",
       " 'distances_durations_mall(1080-1199).csv',\n",
       " 'distances_durations_mall(600-719).csv',\n",
       " 'distances_durations_mall(-119).csv',\n",
       " 'distances_durations_mall(840-959).csv',\n",
       " 'distances_durations_mall(960-1079).csv',\n",
       " 'distances_durations_mall(480-599).csv',\n",
       " 'distances_durations_mall(720-839).csv',\n",
       " 'distances_durations_mall(360-479).csv',\n",
       " 'distances_durations_mall(1200-).csv']"
      ]
     },
     "execution_count": 8,
     "metadata": {},
     "output_type": "execute_result"
    }
   ],
   "source": [
    " os.listdir(\"../data/curated/mall_distance\")"
   ]
  },
  {
   "cell_type": "code",
   "execution_count": 11,
   "metadata": {},
   "outputs": [],
   "source": [
    "mall_list = [x for x in os.listdir(\"../data/curated/mall_distance\")]\n",
    "\n",
    "df = pd.DataFrame()\n",
    "for csv_file in mall_list:\n",
    "    mall_df = pd.read_csv(f\"../data/curated/mall_distance/{csv_file}\")\n",
    "    df_data = pd.DataFrame(mall_df)\n",
    "    df = pd.concat([df,df_data])\n",
    "df.to_csv('../data/curated/mall_distance.csv',index = True)"
   ]
  }
 ],
 "metadata": {
  "kernelspec": {
   "display_name": "Python 3.8.13 ('group55': conda)",
   "language": "python",
   "name": "python3"
  },
  "language_info": {
   "codemirror_mode": {
    "name": "ipython",
    "version": 3
   },
   "file_extension": ".py",
   "mimetype": "text/x-python",
   "name": "python",
   "nbconvert_exporter": "python",
   "pygments_lexer": "ipython3",
   "version": "3.8.13"
  },
  "orig_nbformat": 4,
  "vscode": {
   "interpreter": {
    "hash": "01565cdae83eab34070454284fb32efcb2a9d911033d96507891961ca605f636"
   }
  }
 },
 "nbformat": 4,
 "nbformat_minor": 2
}
