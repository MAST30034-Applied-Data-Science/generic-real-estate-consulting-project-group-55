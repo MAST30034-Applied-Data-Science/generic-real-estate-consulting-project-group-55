{
 "cells": [
  {
   "cell_type": "code",
   "execution_count": 1,
   "metadata": {},
   "outputs": [],
   "source": [
    "import pandas as pd "
   ]
  },
  {
   "cell_type": "code",
   "execution_count": null,
   "metadata": {},
   "outputs": [],
   "source": [
    "# please note old is the data from the last code run, new is data from this code run\n",
    "old = pd.read_csv(\"/home/ads/generic-real-estate-consulting-project-group-55/rent_data/rent_time2022-09-12\", index_col=0)\n",
    "new = pd.read_csv(\"/home/ads/generic-real-estate-consulting-project-group-55/rent_data/rent_time2022-09-13\", index_col=0)"
   ]
  },
  {
   "cell_type": "code",
   "execution_count": null,
   "metadata": {},
   "outputs": [],
   "source": [
    "def renew_data(old, new):\n",
    "    \"\"\"\n",
    "    function: merge and drop pulication\n",
    "    para: new data\n",
    "    \"\"\"\n",
    "    renew = pd.concat([old, new])\n",
    "    renew = renew.reset_index(drop = True).drop_duplicates(subset = ['listingSlug'])\n",
    "    return renew\n",
    "renew_data(old, new).to_csv(\"/home/ads/generic-real-estate-consulting-project-group-55/ceshi/renew(15).csv\")"
   ]
  }
 ],
 "metadata": {
  "kernelspec": {
   "display_name": "Python 3.8.10 64-bit",
   "language": "python",
   "name": "python3"
  },
  "language_info": {
   "codemirror_mode": {
    "name": "ipython",
    "version": 3
   },
   "file_extension": ".py",
   "mimetype": "text/x-python",
   "name": "python",
   "nbconvert_exporter": "python",
   "pygments_lexer": "ipython3",
   "version": "3.8.10"
  },
  "orig_nbformat": 4,
  "vscode": {
   "interpreter": {
    "hash": "916dbcbb3f70747c44a77c7bcd40155683ae19c65e1c03b4aa3499c5328201f1"
   }
  }
 },
 "nbformat": 4,
 "nbformat_minor": 2
}
