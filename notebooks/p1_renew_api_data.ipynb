{
 "cells": [
  {
   "cell_type": "markdown",
   "metadata": {},
   "source": [
    "# Renew API data\n",
    "\n",
    "This notebook combines all data from domain and remove the duplicates."
   ]
  },
  {
   "cell_type": "code",
   "execution_count": 1,
   "metadata": {},
   "outputs": [],
   "source": [
    "import pandas as pd "
   ]
  },
  {
   "cell_type": "code",
   "execution_count": null,
   "metadata": {},
   "outputs": [],
   "source": [
    "# please note old is the data from the last code run, new is data from this code run\n",
    "old = pd.read_csv(\"../rent_data/rent_time2022-09-12\", index_col=0)\n",
    "new = pd.read_csv(\"../rent_data/rent_time2022-09-13\", index_col=0)"
   ]
  },
  {
   "cell_type": "code",
   "execution_count": null,
   "metadata": {},
   "outputs": [],
   "source": [
    "def renew_data(old, new):\n",
    "    \"\"\"\n",
    "    function: merge and drop pulication\n",
    "    para: new data\n",
    "    \"\"\"\n",
    "    renew = pd.concat([old, new])\n",
    "    renew = renew.reset_index(drop = True).drop_duplicates(subset = ['listingSlug'])\n",
    "    return renew\n",
    "renew_data(old, new).to_csv(\"../rent_data/renew(15).csv\")"
   ]
  }
 ],
 "metadata": {
  "kernelspec": {
   "display_name": "Python 3.10.7 64-bit",
   "language": "python",
   "name": "python3"
  },
  "language_info": {
   "codemirror_mode": {
    "name": "ipython",
    "version": 3
   },
   "file_extension": ".py",
   "mimetype": "text/x-python",
   "name": "python",
   "nbconvert_exporter": "python",
   "pygments_lexer": "ipython3",
   "version": "3.10.7"
  },
  "orig_nbformat": 4,
  "vscode": {
   "interpreter": {
    "hash": "369f2c481f4da34e4445cda3fffd2e751bd1c4d706f27375911949ba6bb62e1c"
   }
  }
 },
 "nbformat": 4,
 "nbformat_minor": 2
}
