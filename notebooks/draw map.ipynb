{
 "cells": [
  {
   "cell_type": "code",
   "execution_count": 1,
   "metadata": {},
   "outputs": [],
   "source": [
    "import openrouteservice as ors\n",
    "import folium\n",
    "from pandas import DataFrame\n",
    "import pandas as pd\n",
    "import xlrd"
   ]
  },
  {
   "cell_type": "code",
   "execution_count": 2,
   "metadata": {},
   "outputs": [],
   "source": [
    "rent = pd.read_csv(\"/home/ads/generic-real-estate-consulting-project-group-55/rent_data/renew(15)\", index_col=0)\n",
    "train = pd.read_excel(\"/home/ads/generic-real-estate-consulting-project-group-55/data/raw/train_station_20to21.xlsx\", index_col=0)\n",
    "distance_duration = pd.read_csv(\"/home/ads/generic-real-estate-consulting-project-group-55/data/raw/distances_durations(19)\", index_col=0).reset_index()\n",
    "client = ors.Client(key='5b3ce3597851110001cf6248d3629fc815a24f0582ed2410062c812f')"
   ]
  },
  {
   "cell_type": "markdown",
   "metadata": {},
   "source": [
    "##### function: Draw a map based on the data obtained by comparing the house with the station\n",
    "##### para: map"
   ]
  },
  {
   "cell_type": "code",
   "execution_count": 4,
   "metadata": {},
   "outputs": [],
   "source": [
    "def coordinates(rent, train, distance_duration):\n",
    "    get_data = distance_duration.loc[0]\n",
    "    coordinates = [[float(rent[rent['listingSlug'] ==  get_data['rent_address']]['longitude']), float(rent[rent['listingSlug'] ==  get_data['rent_address']]['latitude'])], \\\n",
    "    [float(train[train['Stop_name'] == get_data['stop_name']]['Stop_long']), float(train[train['Stop_name'] == get_data['stop_name']]['Stop_lat'])]]\n",
    "    #When drawing, first latitude and then longitude, when calculating distance, first longitude and then latitude\n",
    "    coordinates2 = [[float(rent[rent['listingSlug'] ==  get_data['rent_address']]['latitude']), float(rent[rent['listingSlug'] ==  get_data['rent_address']]['longitude'])], \\\n",
    "    [float(train[train['Stop_name'] == get_data['stop_name']]['Stop_lat']), float(train[train['Stop_name'] == get_data['stop_name']]['Stop_long'])]]\n",
    "    map = folium.Map(location=coordinates2[0], tiles='cartodbpositron', zoom_start=13)\n",
    "    route = client.directions(\n",
    "        coordinates=coordinates,\n",
    "        profile='driving-car',\n",
    "        format='geojson',\n",
    "        validate=False,\n",
    "        )\n",
    "    folium.PolyLine(locations=[list(reversed(coord)) for coord in route['features'][0]['geometry']['coordinates']]).add_to(map)\n",
    "    folium.Marker(\n",
    "    location=coordinates2[0],\n",
    "    popup=\"Rent\",\n",
    "    icon=folium.Icon(color=\"green\"),\n",
    "    ).add_to(map)\n",
    "    folium.Marker(\n",
    "    location=coordinates2[1],\n",
    "    popup=\"train\",\n",
    "    icon=folium.Icon(color=\"red\", icon=\"info-sign\"),\n",
    "    ).add_to(map)\n",
    "    return map\n",
    "    \n"
   ]
  },
  {
   "cell_type": "code",
   "execution_count": 5,
   "metadata": {},
   "outputs": [
    {
     "data": {
      "text/html": [
       "<div style=\"width:100%;\"><div style=\"position:relative;width:100%;height:0;padding-bottom:60%;\"><span style=\"color:#565656\">Make this Notebook Trusted to load map: File -> Trust Notebook</span><iframe srcdoc=\"&lt;!DOCTYPE html&gt;\n",
       "&lt;head&gt;    \n",
       "    &lt;meta http-equiv=&quot;content-type&quot; content=&quot;text/html; charset=UTF-8&quot; /&gt;\n",
       "    \n",
       "        &lt;script&gt;\n",
       "            L_NO_TOUCH = false;\n",
       "            L_DISABLE_3D = false;\n",
       "        &lt;/script&gt;\n",
       "    \n",
       "    &lt;style&gt;html, body {width: 100%;height: 100%;margin: 0;padding: 0;}&lt;/style&gt;\n",
       "    &lt;style&gt;#map {position:absolute;top:0;bottom:0;right:0;left:0;}&lt;/style&gt;\n",
       "    &lt;script src=&quot;https://cdn.jsdelivr.net/npm/leaflet@1.6.0/dist/leaflet.js&quot;&gt;&lt;/script&gt;\n",
       "    &lt;script src=&quot;https://code.jquery.com/jquery-1.12.4.min.js&quot;&gt;&lt;/script&gt;\n",
       "    &lt;script src=&quot;https://maxcdn.bootstrapcdn.com/bootstrap/3.2.0/js/bootstrap.min.js&quot;&gt;&lt;/script&gt;\n",
       "    &lt;script src=&quot;https://cdnjs.cloudflare.com/ajax/libs/Leaflet.awesome-markers/2.0.2/leaflet.awesome-markers.js&quot;&gt;&lt;/script&gt;\n",
       "    &lt;link rel=&quot;stylesheet&quot; href=&quot;https://cdn.jsdelivr.net/npm/leaflet@1.6.0/dist/leaflet.css&quot;/&gt;\n",
       "    &lt;link rel=&quot;stylesheet&quot; href=&quot;https://maxcdn.bootstrapcdn.com/bootstrap/3.2.0/css/bootstrap.min.css&quot;/&gt;\n",
       "    &lt;link rel=&quot;stylesheet&quot; href=&quot;https://maxcdn.bootstrapcdn.com/bootstrap/3.2.0/css/bootstrap-theme.min.css&quot;/&gt;\n",
       "    &lt;link rel=&quot;stylesheet&quot; href=&quot;https://maxcdn.bootstrapcdn.com/font-awesome/4.6.3/css/font-awesome.min.css&quot;/&gt;\n",
       "    &lt;link rel=&quot;stylesheet&quot; href=&quot;https://cdnjs.cloudflare.com/ajax/libs/Leaflet.awesome-markers/2.0.2/leaflet.awesome-markers.css&quot;/&gt;\n",
       "    &lt;link rel=&quot;stylesheet&quot; href=&quot;https://cdn.jsdelivr.net/gh/python-visualization/folium/folium/templates/leaflet.awesome.rotate.min.css&quot;/&gt;\n",
       "    \n",
       "            &lt;meta name=&quot;viewport&quot; content=&quot;width=device-width,\n",
       "                initial-scale=1.0, maximum-scale=1.0, user-scalable=no&quot; /&gt;\n",
       "            &lt;style&gt;\n",
       "                #map_7138cd6688b796d210d6164710431753 {\n",
       "                    position: relative;\n",
       "                    width: 100.0%;\n",
       "                    height: 100.0%;\n",
       "                    left: 0.0%;\n",
       "                    top: 0.0%;\n",
       "                }\n",
       "            &lt;/style&gt;\n",
       "        \n",
       "&lt;/head&gt;\n",
       "&lt;body&gt;    \n",
       "    \n",
       "            &lt;div class=&quot;folium-map&quot; id=&quot;map_7138cd6688b796d210d6164710431753&quot; &gt;&lt;/div&gt;\n",
       "        \n",
       "&lt;/body&gt;\n",
       "&lt;script&gt;    \n",
       "    \n",
       "            var map_7138cd6688b796d210d6164710431753 = L.map(\n",
       "                &quot;map_7138cd6688b796d210d6164710431753&quot;,\n",
       "                {\n",
       "                    center: [-37.82578, 145.006],\n",
       "                    crs: L.CRS.EPSG3857,\n",
       "                    zoom: 13,\n",
       "                    zoomControl: true,\n",
       "                    preferCanvas: false,\n",
       "                }\n",
       "            );\n",
       "\n",
       "            \n",
       "\n",
       "        \n",
       "    \n",
       "            var tile_layer_d7879557620df628ffd0b928efc22084 = L.tileLayer(\n",
       "                &quot;https://cartodb-basemaps-{s}.global.ssl.fastly.net/light_all/{z}/{x}/{y}.png&quot;,\n",
       "                {&quot;attribution&quot;: &quot;\\u0026copy; \\u003ca href=\\&quot;http://www.openstreetmap.org/copyright\\&quot;\\u003eOpenStreetMap\\u003c/a\\u003e contributors \\u0026copy; \\u003ca href=\\&quot;http://cartodb.com/attributions\\&quot;\\u003eCartoDB\\u003c/a\\u003e, CartoDB \\u003ca href =\\&quot;http://cartodb.com/attributions\\&quot;\\u003eattributions\\u003c/a\\u003e&quot;, &quot;detectRetina&quot;: false, &quot;maxNativeZoom&quot;: 18, &quot;maxZoom&quot;: 18, &quot;minZoom&quot;: 0, &quot;noWrap&quot;: false, &quot;opacity&quot;: 1, &quot;subdomains&quot;: &quot;abc&quot;, &quot;tms&quot;: false}\n",
       "            ).addTo(map_7138cd6688b796d210d6164710431753);\n",
       "        \n",
       "    \n",
       "            var poly_line_2c16092de45e3b1b1ab6ec5a13e336f9 = L.polyline(\n",
       "                [[-37.825821, 145.006359], [-37.826119, 145.006304], [-37.826203, 145.007101], [-37.826304, 145.007083], [-37.8266, 145.007032], [-37.826657, 145.007023], [-37.826672, 145.007021], [-37.826675, 145.007044], [-37.826677, 145.007067], [-37.826692, 145.00707], [-37.826776, 145.007085], [-37.827255, 145.00701], [-37.827985, 145.006879], [-37.828621, 145.00676], [-37.828792, 145.006724], [-37.829112, 145.006618], [-37.829186, 145.006601], [-37.829217, 145.006595], [-37.829291, 145.006584], [-37.829369, 145.006569], [-37.829867, 145.006449], [-37.829943, 145.00643], [-37.830023, 145.006466], [-37.830159, 145.006448], [-37.830244, 145.006431], [-37.830282, 145.006629], [-37.83031, 145.006856], [-37.830351, 145.007006], [-37.830413, 145.007604], [-37.830558, 145.008833], [-37.830619, 145.009361], [-37.830651, 145.009627], [-37.830651, 145.009804], [-37.830646, 145.009879], [-37.830589, 145.009977], [-37.830493, 145.010227], [-37.830464, 145.010307], [-37.830414, 145.010453], [-37.830382, 145.010551], [-37.830514, 145.010519], [-37.830573, 145.010509], [-37.830605, 145.010503], [-37.831093, 145.010417], [-37.831135, 145.010408], [-37.831167, 145.010397], [-37.831247, 145.010351], [-37.831282, 145.010329], [-37.831312, 145.010305], [-37.831394, 145.010216], [-37.831459, 145.010104], [-37.831477, 145.010066], [-37.831494, 145.010025], [-37.831505, 145.009988], [-37.831523, 145.009919], [-37.83153, 145.009883], [-37.831529, 145.009651], [-37.831398, 145.008961], [-37.831351, 145.008702], [-37.83132, 145.008527], [-37.831261, 145.008218], [-37.831254, 145.008184], [-37.831062, 145.007256], [-37.830891, 145.006196], [-37.830844, 145.005691], [-37.830845, 145.005208], [-37.830857, 145.004857], [-37.830947, 145.004471], [-37.831004, 145.004223], [-37.831187, 145.003785], [-37.831431, 145.003365], [-37.83179, 145.00285], [-37.832313, 145.002037], [-37.832516, 145.001668], [-37.832686, 145.001325], [-37.832808, 145.001076], [-37.833079, 145.000475], [-37.833276, 144.999935], [-37.833658, 144.99871], [-37.833822, 144.998085], [-37.833875, 144.997817], [-37.833925, 144.99729], [-37.833915, 144.996775], [-37.833885, 144.996509], [-37.833769, 144.995925], [-37.833127, 144.993751], [-37.83288, 144.992632], [-37.832801, 144.992337], [-37.83271, 144.992082], [-37.832588, 144.991813], [-37.832412, 144.991483], [-37.832102, 144.991042], [-37.83108, 144.989895], [-37.830937, 144.98976], [-37.830358, 144.989165], [-37.829634, 144.98847], [-37.828814, 144.987797], [-37.82847, 144.987531], [-37.828009, 144.987173], [-37.827855, 144.987044], [-37.827546, 144.986755], [-37.827457, 144.98666], [-37.827312, 144.986493], [-37.82705, 144.986129], [-37.826775, 144.98561], [-37.826571, 144.985055], [-37.826413, 144.984405], [-37.826389, 144.984301], [-37.826321, 144.983912], [-37.826212, 144.983131], [-37.825919, 144.980392], [-37.825357, 144.974229], [-37.825288, 144.973276], [-37.825247, 144.972146], [-37.825249, 144.971276], [-37.82527, 144.970875], [-37.825316, 144.970532], [-37.825485, 144.969686], [-37.825935, 144.968127], [-37.825989, 144.96794], [-37.82649, 144.966243], [-37.826556, 144.965964], [-37.826752, 144.9651], [-37.826862, 144.964656], [-37.827009, 144.964131], [-37.827265, 144.963393], [-37.827609, 144.96221], [-37.828042, 144.960754], [-37.828221, 144.960027], [-37.828354, 144.959288], [-37.828429, 144.958505], [-37.828442, 144.958105], [-37.828423, 144.957436], [-37.828372, 144.956858], [-37.828327, 144.956542], [-37.828115, 144.955438], [-37.827792, 144.954], [-37.82753, 144.952827], [-37.827494, 144.952315], [-37.826965, 144.949126], [-37.826887, 144.948626], [-37.826798, 144.948116], [-37.826756, 144.947874], [-37.826698, 144.94777], [-37.826668, 144.947719], [-37.826595, 144.947611], [-37.826495, 144.947508], [-37.826439, 144.947465], [-37.826389, 144.947436], [-37.826344, 144.947415], [-37.826295, 144.947397], [-37.826251, 144.947384], [-37.826156, 144.947379], [-37.825945, 144.947396], [-37.825832, 144.947506], [-37.825809, 144.947529], [-37.825778, 144.947562], [-37.825753, 144.947589], [-37.825691, 144.947656], [-37.825587, 144.947753], [-37.825541, 144.947788], [-37.825431, 144.94787], [-37.825363, 144.947918], [-37.825286, 144.947952], [-37.825269, 144.94796], [-37.825218, 144.947982], [-37.825094, 144.948026], [-37.824943, 144.948072], [-37.824736, 144.948101], [-37.82468, 144.948102], [-37.824635, 144.948101], [-37.824537, 144.948095], [-37.824497, 144.94809], [-37.82442, 144.948075], [-37.823992, 144.947969], [-37.823935, 144.947955], [-37.823776, 144.94792], [-37.823635, 144.947806], [-37.823564, 144.947776], [-37.823299, 144.947706], [-37.822748, 144.947562], [-37.822702, 144.947548], [-37.822557, 144.947486], [-37.82249, 144.947494], [-37.822404, 144.947506], [-37.822406, 144.947539], [-37.822404, 144.947564], [-37.822386, 144.947628], [-37.822357, 144.947666], [-37.822271, 144.947686], [-37.821157, 144.947399], [-37.821088, 144.947382], [-37.821045, 144.947373], [-37.821015, 144.947369], [-37.820976, 144.947359], [-37.820963, 144.947396], [-37.820947, 144.947437], [-37.820925, 144.947493], [-37.820898, 144.947568], [-37.820643, 144.948494], [-37.820611, 144.948604], [-37.820579, 144.948584], [-37.820439, 144.948522], [-37.820309, 144.948501], [-37.820155, 144.948499], [-37.819767, 144.948487], [-37.818623, 144.948451], [-37.818605, 144.948451], [-37.81853, 144.948448], [-37.818428, 144.948457], [-37.818406, 144.948533], [-37.818372, 144.948645], [-37.818185, 144.9493], [-37.818174, 144.949337], [-37.818123, 144.949526], [-37.817937, 144.950141], [-37.817899, 144.950268], [-37.817834, 144.950506], [-37.817915, 144.950566], [-37.818147, 144.950753], [-37.818543, 144.951046]],\n",
       "                {&quot;bubblingMouseEvents&quot;: true, &quot;color&quot;: &quot;#3388ff&quot;, &quot;dashArray&quot;: null, &quot;dashOffset&quot;: null, &quot;fill&quot;: false, &quot;fillColor&quot;: &quot;#3388ff&quot;, &quot;fillOpacity&quot;: 0.2, &quot;fillRule&quot;: &quot;evenodd&quot;, &quot;lineCap&quot;: &quot;round&quot;, &quot;lineJoin&quot;: &quot;round&quot;, &quot;noClip&quot;: false, &quot;opacity&quot;: 1.0, &quot;smoothFactor&quot;: 1.0, &quot;stroke&quot;: true, &quot;weight&quot;: 3}\n",
       "            ).addTo(map_7138cd6688b796d210d6164710431753);\n",
       "        \n",
       "    \n",
       "            var marker_40c3ce4959a989814ca8957a7b7a5a61 = L.marker(\n",
       "                [-37.82578, 145.006],\n",
       "                {}\n",
       "            ).addTo(map_7138cd6688b796d210d6164710431753);\n",
       "        \n",
       "    \n",
       "            var icon_bba9de5da594b45241b745752d1029ad = L.AwesomeMarkers.icon(\n",
       "                {&quot;extraClasses&quot;: &quot;fa-rotate-0&quot;, &quot;icon&quot;: &quot;info-sign&quot;, &quot;iconColor&quot;: &quot;white&quot;, &quot;markerColor&quot;: &quot;green&quot;, &quot;prefix&quot;: &quot;glyphicon&quot;}\n",
       "            );\n",
       "            marker_40c3ce4959a989814ca8957a7b7a5a61.setIcon(icon_bba9de5da594b45241b745752d1029ad);\n",
       "        \n",
       "    \n",
       "        var popup_e4321aed3534a56ed9058e97a246d26a = L.popup({&quot;maxWidth&quot;: &quot;100%&quot;});\n",
       "\n",
       "        \n",
       "            var html_50012e02777ffc007e63bc0600db6a83 = $(`&lt;div id=&quot;html_50012e02777ffc007e63bc0600db6a83&quot; style=&quot;width: 100.0%; height: 100.0%;&quot;&gt;Rent&lt;/div&gt;`)[0];\n",
       "            popup_e4321aed3534a56ed9058e97a246d26a.setContent(html_50012e02777ffc007e63bc0600db6a83);\n",
       "        \n",
       "\n",
       "        marker_40c3ce4959a989814ca8957a7b7a5a61.bindPopup(popup_e4321aed3534a56ed9058e97a246d26a)\n",
       "        ;\n",
       "\n",
       "        \n",
       "    \n",
       "    \n",
       "            var marker_c04325a14c359b9771e8e7914ea1835a = L.marker(\n",
       "                [-37.818245, 144.951691],\n",
       "                {}\n",
       "            ).addTo(map_7138cd6688b796d210d6164710431753);\n",
       "        \n",
       "    \n",
       "            var icon_d438b0c7e410b159d78e751cba332293 = L.AwesomeMarkers.icon(\n",
       "                {&quot;extraClasses&quot;: &quot;fa-rotate-0&quot;, &quot;icon&quot;: &quot;info-sign&quot;, &quot;iconColor&quot;: &quot;white&quot;, &quot;markerColor&quot;: &quot;red&quot;, &quot;prefix&quot;: &quot;glyphicon&quot;}\n",
       "            );\n",
       "            marker_c04325a14c359b9771e8e7914ea1835a.setIcon(icon_d438b0c7e410b159d78e751cba332293);\n",
       "        \n",
       "    \n",
       "        var popup_052656c490638af265d1b24af25be7f1 = L.popup({&quot;maxWidth&quot;: &quot;100%&quot;});\n",
       "\n",
       "        \n",
       "            var html_75d5f8390680ec9740889988ef4daca1 = $(`&lt;div id=&quot;html_75d5f8390680ec9740889988ef4daca1&quot; style=&quot;width: 100.0%; height: 100.0%;&quot;&gt;train&lt;/div&gt;`)[0];\n",
       "            popup_052656c490638af265d1b24af25be7f1.setContent(html_75d5f8390680ec9740889988ef4daca1);\n",
       "        \n",
       "\n",
       "        marker_c04325a14c359b9771e8e7914ea1835a.bindPopup(popup_052656c490638af265d1b24af25be7f1)\n",
       "        ;\n",
       "\n",
       "        \n",
       "    \n",
       "&lt;/script&gt;\" style=\"position:absolute;width:100%;height:100%;left:0;top:0;border:none !important;\" allowfullscreen webkitallowfullscreen mozallowfullscreen></iframe></div></div>"
      ],
      "text/plain": [
       "<folium.folium.Map at 0x7f9478797700>"
      ]
     },
     "execution_count": 5,
     "metadata": {},
     "output_type": "execute_result"
    }
   ],
   "source": [
    "coordinates(rent, train, distance_duration)"
   ]
  },
  {
   "cell_type": "code",
   "execution_count": 6,
   "metadata": {},
   "outputs": [],
   "source": [
    "coordinates(rent, train, distance_duration).save('/home/ads/generic-real-estate-consulting-project-group-55/data/raw/compare_map.html')"
   ]
  }
 ],
 "metadata": {
  "kernelspec": {
   "display_name": "Python 3.8.10 64-bit",
   "language": "python",
   "name": "python3"
  },
  "language_info": {
   "codemirror_mode": {
    "name": "ipython",
    "version": 3
   },
   "file_extension": ".py",
   "mimetype": "text/x-python",
   "name": "python",
   "nbconvert_exporter": "python",
   "pygments_lexer": "ipython3",
   "version": "3.8.10"
  },
  "orig_nbformat": 4,
  "vscode": {
   "interpreter": {
    "hash": "916dbcbb3f70747c44a77c7bcd40155683ae19c65e1c03b4aa3499c5328201f1"
   }
  }
 },
 "nbformat": 4,
 "nbformat_minor": 2
}
