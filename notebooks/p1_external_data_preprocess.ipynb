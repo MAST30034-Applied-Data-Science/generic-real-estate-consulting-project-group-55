{
 "cells": [
  {
   "cell_type": "markdown",
   "metadata": {},
   "source": [
    "# External Data Preprocessing"
   ]
  },
  {
   "cell_type": "code",
   "execution_count": 9,
   "metadata": {},
   "outputs": [],
   "source": [
    "import pandas as pd\n",
    "import geopandas as gpd"
   ]
  },
  {
   "cell_type": "markdown",
   "metadata": {},
   "source": [
    "### 1 - School Location"
   ]
  },
  {
   "cell_type": "code",
   "execution_count": 10,
   "metadata": {},
   "outputs": [],
   "source": [
    "school_df_1819 = pd.read_csv('../data/raw/school_location_18_19.csv',encoding='cp1252')\n",
    "school_df_20 = pd.read_csv('../data/raw/school_location_20.csv')\n",
    "school_df_21 = pd.read_csv('../data/raw/school_location_21.csv',encoding='cp1252')"
   ]
  },
  {
   "cell_type": "code",
   "execution_count": 11,
   "metadata": {},
   "outputs": [],
   "source": [
    "# select features\n",
    "\n",
    "school_df_1819 = school_df_1819[['Education_Sector','School_Name','School_Type','Address_Line_1','Address_Town','Address_Postcode','LGA_Name','X','Y']]\n",
    "school_df_20 = school_df_20[['Education_Sector','School_Name','School_Type','Address_Line_1','Address_Town','Address_Postcode','LGA_Name','X','Y']]\n",
    "school_df_21 = school_df_21[['Education_Sector','School_Name','School_Type','Address_Line_1','Address_Town','Address_Postcode','LGA_Name','X','Y']]"
   ]
  },
  {
   "cell_type": "code",
   "execution_count": 12,
   "metadata": {},
   "outputs": [
    {
     "data": {
      "text/plain": [
       "Education_Sector    0\n",
       "School_Name         0\n",
       "School_Type         0\n",
       "Address_Line_1      0\n",
       "Address_Town        0\n",
       "Address_Postcode    0\n",
       "LGA_Name            0\n",
       "X                   0\n",
       "Y                   0\n",
       "dtype: int64"
      ]
     },
     "execution_count": 12,
     "metadata": {},
     "output_type": "execute_result"
    }
   ],
   "source": [
    "school_df_1819.isnull().sum().sort_values(ascending=False)"
   ]
  },
  {
   "cell_type": "code",
   "execution_count": 13,
   "metadata": {},
   "outputs": [
    {
     "data": {
      "text/plain": [
       "Education_Sector    0\n",
       "School_Name         0\n",
       "School_Type         0\n",
       "Address_Line_1      0\n",
       "Address_Town        0\n",
       "Address_Postcode    0\n",
       "LGA_Name            0\n",
       "X                   0\n",
       "Y                   0\n",
       "dtype: int64"
      ]
     },
     "execution_count": 13,
     "metadata": {},
     "output_type": "execute_result"
    }
   ],
   "source": [
    "school_df_20.isnull().sum().sort_values(ascending=False)"
   ]
  },
  {
   "cell_type": "code",
   "execution_count": 14,
   "metadata": {},
   "outputs": [
    {
     "data": {
      "text/plain": [
       "Education_Sector    0\n",
       "School_Name         0\n",
       "School_Type         0\n",
       "Address_Line_1      0\n",
       "Address_Town        0\n",
       "Address_Postcode    0\n",
       "LGA_Name            0\n",
       "X                   0\n",
       "Y                   0\n",
       "dtype: int64"
      ]
     },
     "execution_count": 14,
     "metadata": {},
     "output_type": "execute_result"
    }
   ],
   "source": [
    "school_df_21.isnull().sum().sort_values(ascending=False)"
   ]
  },
  {
   "cell_type": "code",
   "execution_count": 15,
   "metadata": {},
   "outputs": [],
   "source": [
    "# save csv\n",
    "\n",
    "school_df_1819.to_csv('../data/curated/school_df_1819_preprocessed.csv')\n",
    "school_df_20.to_csv('../data/curated/school_df_20_preprocessed.csv')\n",
    "school_df_21.to_csv('../data/curated/school_df_21_preprocessed.csv')"
   ]
  },
  {
   "cell_type": "markdown",
   "metadata": {},
   "source": [
    "### 3 - Population Data"
   ]
  },
  {
   "cell_type": "code",
   "execution_count": 16,
   "metadata": {},
   "outputs": [],
   "source": [
    "population_df=pd.read_excel('../data/raw/population.xlsx',sheet_name='Table 1')\n",
    "population = population_df.loc[8:2461]\n",
    "pop_drop = population.dropna(axis='columns',how = 'all')\n",
    "pop_drop.to_csv('../data/raw/population_2.csv', encoding='utf-8')"
   ]
  }
 ],
 "metadata": {
  "kernelspec": {
   "display_name": "Python 3.10.7 64-bit",
   "language": "python",
   "name": "python3"
  },
  "language_info": {
   "codemirror_mode": {
    "name": "ipython",
    "version": 3
   },
   "file_extension": ".py",
   "mimetype": "text/x-python",
   "name": "python",
   "nbconvert_exporter": "python",
   "pygments_lexer": "ipython3",
   "version": "3.10.7"
  },
  "vscode": {
   "interpreter": {
    "hash": "369f2c481f4da34e4445cda3fffd2e751bd1c4d706f27375911949ba6bb62e1c"
   }
  }
 },
 "nbformat": 4,
 "nbformat_minor": 2
}
