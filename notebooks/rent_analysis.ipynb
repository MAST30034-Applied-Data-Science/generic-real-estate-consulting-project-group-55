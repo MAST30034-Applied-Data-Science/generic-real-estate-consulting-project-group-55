{
 "cells": [
  {
   "cell_type": "markdown",
   "metadata": {},
   "source": [
    "# Analysis of rent"
   ]
  },
  {
   "cell_type": "code",
   "execution_count": 150,
   "metadata": {},
   "outputs": [
    {
     "data": {
      "text/html": [
       "<div>\n",
       "<style scoped>\n",
       "    .dataframe tbody tr th:only-of-type {\n",
       "        vertical-align: middle;\n",
       "    }\n",
       "\n",
       "    .dataframe tbody tr th {\n",
       "        vertical-align: top;\n",
       "    }\n",
       "\n",
       "    .dataframe thead th {\n",
       "        text-align: right;\n",
       "    }\n",
       "</style>\n",
       "<table border=\"1\" class=\"dataframe\">\n",
       "  <thead>\n",
       "    <tr style=\"text-align: right;\">\n",
       "      <th></th>\n",
       "      <th>Unnamed: 0</th>\n",
       "      <th>price</th>\n",
       "      <th>state</th>\n",
       "      <th>propertyType</th>\n",
       "      <th>bathrooms</th>\n",
       "      <th>bedrooms</th>\n",
       "      <th>carspaces</th>\n",
       "      <th>region</th>\n",
       "      <th>suburb</th>\n",
       "      <th>postcode</th>\n",
       "      <th>dateListed</th>\n",
       "      <th>listingSlug</th>\n",
       "      <th>latitude</th>\n",
       "      <th>longitude</th>\n",
       "    </tr>\n",
       "  </thead>\n",
       "  <tbody>\n",
       "    <tr>\n",
       "      <th>0</th>\n",
       "      <td>0</td>\n",
       "      <td>240.0</td>\n",
       "      <td>VIC</td>\n",
       "      <td>ApartmentUnitFlat</td>\n",
       "      <td>1.0</td>\n",
       "      <td>1.0</td>\n",
       "      <td>1</td>\n",
       "      <td>Melbourne Region</td>\n",
       "      <td>ELWOOD</td>\n",
       "      <td>3184</td>\n",
       "      <td>2022-09-12T17:48:43</td>\n",
       "      <td>7-23-bendigo-avenue-elwood-vic-3184-16085426</td>\n",
       "      <td>-37.885467</td>\n",
       "      <td>144.983170</td>\n",
       "    </tr>\n",
       "    <tr>\n",
       "      <th>1</th>\n",
       "      <td>1</td>\n",
       "      <td>690.0</td>\n",
       "      <td>VIC</td>\n",
       "      <td>Duplex</td>\n",
       "      <td>2.0</td>\n",
       "      <td>3.0</td>\n",
       "      <td>2</td>\n",
       "      <td>Melbourne Region</td>\n",
       "      <td>CAULFIELD SOUTH</td>\n",
       "      <td>3162</td>\n",
       "      <td>2022-09-12T17:36:10</td>\n",
       "      <td>1-12-omar-street-caulfield-south-vic-3162-1608...</td>\n",
       "      <td>-37.890450</td>\n",
       "      <td>145.019791</td>\n",
       "    </tr>\n",
       "    <tr>\n",
       "      <th>2</th>\n",
       "      <td>2</td>\n",
       "      <td>385.0</td>\n",
       "      <td>VIC</td>\n",
       "      <td>ApartmentUnitFlat</td>\n",
       "      <td>1.0</td>\n",
       "      <td>1.0</td>\n",
       "      <td>0</td>\n",
       "      <td>Melbourne Region</td>\n",
       "      <td>SOUTHBANK</td>\n",
       "      <td>3006</td>\n",
       "      <td>2022-09-12T17:32:37</td>\n",
       "      <td>602-250-city-road-southbank-vic-3006-16085393</td>\n",
       "      <td>-37.825733</td>\n",
       "      <td>144.959671</td>\n",
       "    </tr>\n",
       "    <tr>\n",
       "      <th>3</th>\n",
       "      <td>3</td>\n",
       "      <td>585.0</td>\n",
       "      <td>VIC</td>\n",
       "      <td>House</td>\n",
       "      <td>2.0</td>\n",
       "      <td>4.0</td>\n",
       "      <td>2</td>\n",
       "      <td>Melbourne Region</td>\n",
       "      <td>DROMANA</td>\n",
       "      <td>3936</td>\n",
       "      <td>2022-09-12T17:21:09</td>\n",
       "      <td>26-william-street-dromana-vic-3936-16085361</td>\n",
       "      <td>-38.330800</td>\n",
       "      <td>144.973984</td>\n",
       "    </tr>\n",
       "    <tr>\n",
       "      <th>4</th>\n",
       "      <td>4</td>\n",
       "      <td>450.0</td>\n",
       "      <td>VIC</td>\n",
       "      <td>ApartmentUnitFlat</td>\n",
       "      <td>1.0</td>\n",
       "      <td>2.0</td>\n",
       "      <td>2</td>\n",
       "      <td>Melbourne Region</td>\n",
       "      <td>MONTMORENCY</td>\n",
       "      <td>3094</td>\n",
       "      <td>2022-09-12T17:18:52</td>\n",
       "      <td>2-14-binns-street-montmorency-vic-3094-16085351</td>\n",
       "      <td>-37.716026</td>\n",
       "      <td>145.122162</td>\n",
       "    </tr>\n",
       "    <tr>\n",
       "      <th>...</th>\n",
       "      <td>...</td>\n",
       "      <td>...</td>\n",
       "      <td>...</td>\n",
       "      <td>...</td>\n",
       "      <td>...</td>\n",
       "      <td>...</td>\n",
       "      <td>...</td>\n",
       "      <td>...</td>\n",
       "      <td>...</td>\n",
       "      <td>...</td>\n",
       "      <td>...</td>\n",
       "      <td>...</td>\n",
       "      <td>...</td>\n",
       "      <td>...</td>\n",
       "    </tr>\n",
       "    <tr>\n",
       "      <th>1293</th>\n",
       "      <td>2071</td>\n",
       "      <td>1000.0</td>\n",
       "      <td>VIC</td>\n",
       "      <td>Townhouse</td>\n",
       "      <td>3.0</td>\n",
       "      <td>3.0</td>\n",
       "      <td>3</td>\n",
       "      <td>Eastern Suburbs</td>\n",
       "      <td>MONT ALBERT</td>\n",
       "      <td>3127</td>\n",
       "      <td>2022-08-22T15:57:33</td>\n",
       "      <td>1-803-whitehorse-road-mont-albert-vic-3127-160...</td>\n",
       "      <td>-37.816353</td>\n",
       "      <td>145.111465</td>\n",
       "    </tr>\n",
       "    <tr>\n",
       "      <th>1294</th>\n",
       "      <td>2072</td>\n",
       "      <td>430.0</td>\n",
       "      <td>VIC</td>\n",
       "      <td>House</td>\n",
       "      <td>1.0</td>\n",
       "      <td>2.0</td>\n",
       "      <td>1</td>\n",
       "      <td>Melbourne Region</td>\n",
       "      <td>BRUNSWICK WEST</td>\n",
       "      <td>3055</td>\n",
       "      <td>2022-08-22T15:51:11</td>\n",
       "      <td>715-5-olive-york-way-brunswick-west-vic-3055-1...</td>\n",
       "      <td>-37.758736</td>\n",
       "      <td>144.939041</td>\n",
       "    </tr>\n",
       "    <tr>\n",
       "      <th>1295</th>\n",
       "      <td>2073</td>\n",
       "      <td>440.0</td>\n",
       "      <td>VIC</td>\n",
       "      <td>House</td>\n",
       "      <td>2.0</td>\n",
       "      <td>4.0</td>\n",
       "      <td>2</td>\n",
       "      <td>Melbourne Region</td>\n",
       "      <td>DEANSIDE</td>\n",
       "      <td>3336</td>\n",
       "      <td>2022-08-22T15:45:02</td>\n",
       "      <td>19-amreli-st-deanside-vic-3336-15176030</td>\n",
       "      <td>-37.738228</td>\n",
       "      <td>144.703522</td>\n",
       "    </tr>\n",
       "    <tr>\n",
       "      <th>1296</th>\n",
       "      <td>2074</td>\n",
       "      <td>680.0</td>\n",
       "      <td>VIC</td>\n",
       "      <td>Townhouse</td>\n",
       "      <td>2.0</td>\n",
       "      <td>2.0</td>\n",
       "      <td>2</td>\n",
       "      <td>Melbourne Region</td>\n",
       "      <td>BLACK ROCK</td>\n",
       "      <td>3193</td>\n",
       "      <td>2022-08-22T15:18:16</td>\n",
       "      <td>4-31-bayview-crescent-black-rock-vic-3193-1605...</td>\n",
       "      <td>-37.968330</td>\n",
       "      <td>145.016400</td>\n",
       "    </tr>\n",
       "    <tr>\n",
       "      <th>1297</th>\n",
       "      <td>2075</td>\n",
       "      <td>400.0</td>\n",
       "      <td>VIC</td>\n",
       "      <td>ApartmentUnitFlat</td>\n",
       "      <td>1.0</td>\n",
       "      <td>2.0</td>\n",
       "      <td>1</td>\n",
       "      <td>Eastern Suburbs</td>\n",
       "      <td>DEEPDENE</td>\n",
       "      <td>3103</td>\n",
       "      <td>2022-08-22T15:01:47</td>\n",
       "      <td>15-31-barnsbury-road-deepdene-vic-3103-16051009</td>\n",
       "      <td>-37.811897</td>\n",
       "      <td>145.064957</td>\n",
       "    </tr>\n",
       "  </tbody>\n",
       "</table>\n",
       "<p>1298 rows × 14 columns</p>\n",
       "</div>"
      ],
      "text/plain": [
       "      Unnamed: 0   price state       propertyType  bathrooms  bedrooms  \\\n",
       "0              0   240.0   VIC  ApartmentUnitFlat        1.0       1.0   \n",
       "1              1   690.0   VIC             Duplex        2.0       3.0   \n",
       "2              2   385.0   VIC  ApartmentUnitFlat        1.0       1.0   \n",
       "3              3   585.0   VIC              House        2.0       4.0   \n",
       "4              4   450.0   VIC  ApartmentUnitFlat        1.0       2.0   \n",
       "...          ...     ...   ...                ...        ...       ...   \n",
       "1293        2071  1000.0   VIC          Townhouse        3.0       3.0   \n",
       "1294        2072   430.0   VIC              House        1.0       2.0   \n",
       "1295        2073   440.0   VIC              House        2.0       4.0   \n",
       "1296        2074   680.0   VIC          Townhouse        2.0       2.0   \n",
       "1297        2075   400.0   VIC  ApartmentUnitFlat        1.0       2.0   \n",
       "\n",
       "      carspaces            region           suburb  postcode  \\\n",
       "0             1  Melbourne Region           ELWOOD      3184   \n",
       "1             2  Melbourne Region  CAULFIELD SOUTH      3162   \n",
       "2             0  Melbourne Region        SOUTHBANK      3006   \n",
       "3             2  Melbourne Region          DROMANA      3936   \n",
       "4             2  Melbourne Region      MONTMORENCY      3094   \n",
       "...         ...               ...              ...       ...   \n",
       "1293          3   Eastern Suburbs      MONT ALBERT      3127   \n",
       "1294          1  Melbourne Region   BRUNSWICK WEST      3055   \n",
       "1295          2  Melbourne Region         DEANSIDE      3336   \n",
       "1296          2  Melbourne Region       BLACK ROCK      3193   \n",
       "1297          1   Eastern Suburbs         DEEPDENE      3103   \n",
       "\n",
       "               dateListed                                        listingSlug  \\\n",
       "0     2022-09-12T17:48:43       7-23-bendigo-avenue-elwood-vic-3184-16085426   \n",
       "1     2022-09-12T17:36:10  1-12-omar-street-caulfield-south-vic-3162-1608...   \n",
       "2     2022-09-12T17:32:37      602-250-city-road-southbank-vic-3006-16085393   \n",
       "3     2022-09-12T17:21:09        26-william-street-dromana-vic-3936-16085361   \n",
       "4     2022-09-12T17:18:52    2-14-binns-street-montmorency-vic-3094-16085351   \n",
       "...                   ...                                                ...   \n",
       "1293  2022-08-22T15:57:33  1-803-whitehorse-road-mont-albert-vic-3127-160...   \n",
       "1294  2022-08-22T15:51:11  715-5-olive-york-way-brunswick-west-vic-3055-1...   \n",
       "1295  2022-08-22T15:45:02            19-amreli-st-deanside-vic-3336-15176030   \n",
       "1296  2022-08-22T15:18:16  4-31-bayview-crescent-black-rock-vic-3193-1605...   \n",
       "1297  2022-08-22T15:01:47    15-31-barnsbury-road-deepdene-vic-3103-16051009   \n",
       "\n",
       "       latitude   longitude  \n",
       "0    -37.885467  144.983170  \n",
       "1    -37.890450  145.019791  \n",
       "2    -37.825733  144.959671  \n",
       "3    -38.330800  144.973984  \n",
       "4    -37.716026  145.122162  \n",
       "...         ...         ...  \n",
       "1293 -37.816353  145.111465  \n",
       "1294 -37.758736  144.939041  \n",
       "1295 -37.738228  144.703522  \n",
       "1296 -37.968330  145.016400  \n",
       "1297 -37.811897  145.064957  \n",
       "\n",
       "[1298 rows x 14 columns]"
      ]
     },
     "execution_count": 150,
     "metadata": {},
     "output_type": "execute_result"
    }
   ],
   "source": [
    "import pandas as pd\n",
    "\n",
    "# Read data\n",
    "rent = pd.read_csv(\"../rent_data/renew(final).csv\")\n",
    "\n",
    "# See data\n",
    "rent"
   ]
  },
  {
   "cell_type": "markdown",
   "metadata": {},
   "source": [
    "### Data Pre-processing"
   ]
  },
  {
   "cell_type": "code",
   "execution_count": 151,
   "metadata": {},
   "outputs": [
    {
     "data": {
      "text/plain": [
       "1298"
      ]
     },
     "execution_count": 151,
     "metadata": {},
     "output_type": "execute_result"
    }
   ],
   "source": [
    "# initial number of rows\n",
    "df_initial = rent.shape[0]\n",
    "df_initial"
   ]
  },
  {
   "cell_type": "code",
   "execution_count": 152,
   "metadata": {},
   "outputs": [
    {
     "data": {
      "text/plain": [
       "Unnamed: 0      0\n",
       "price           7\n",
       "state           0\n",
       "propertyType    0\n",
       "bathrooms       0\n",
       "bedrooms        0\n",
       "carspaces       0\n",
       "region          0\n",
       "suburb          0\n",
       "postcode        0\n",
       "dateListed      0\n",
       "listingSlug     0\n",
       "latitude        0\n",
       "longitude       0\n",
       "dtype: int64"
      ]
     },
     "execution_count": 152,
     "metadata": {},
     "output_type": "execute_result"
    }
   ],
   "source": [
    "# Drop rows with missing values\n",
    "rent.isnull().sum()"
   ]
  },
  {
   "cell_type": "code",
   "execution_count": 153,
   "metadata": {},
   "outputs": [
    {
     "data": {
      "text/plain": [
       "1291"
      ]
     },
     "execution_count": 153,
     "metadata": {},
     "output_type": "execute_result"
    }
   ],
   "source": [
    "# remove rows with missing values\n",
    "rent = rent.dropna().reset_index(drop=True)\n",
    "\n",
    "# check number of rows after removing missing values\n",
    "rent.shape[0]"
   ]
  },
  {
   "cell_type": "code",
   "execution_count": 154,
   "metadata": {},
   "outputs": [
    {
     "data": {
      "text/plain": [
       "1287"
      ]
     },
     "execution_count": 154,
     "metadata": {},
     "output_type": "execute_result"
    }
   ],
   "source": [
    "# Check whether the data is positive or not\n",
    "rent = rent[rent.price > 0]\n",
    "rent = rent[rent.bedrooms > 0]\n",
    "rent = rent[rent.bathrooms > 0]\n",
    "rent = rent[rent.carspaces >= 0]\n",
    "rent.shape[0]"
   ]
  },
  {
   "cell_type": "code",
   "execution_count": 155,
   "metadata": {},
   "outputs": [
    {
     "data": {
      "text/html": [
       "<div>\n",
       "<style scoped>\n",
       "    .dataframe tbody tr th:only-of-type {\n",
       "        vertical-align: middle;\n",
       "    }\n",
       "\n",
       "    .dataframe tbody tr th {\n",
       "        vertical-align: top;\n",
       "    }\n",
       "\n",
       "    .dataframe thead th {\n",
       "        text-align: right;\n",
       "    }\n",
       "</style>\n",
       "<table border=\"1\" class=\"dataframe\">\n",
       "  <thead>\n",
       "    <tr style=\"text-align: right;\">\n",
       "      <th></th>\n",
       "      <th>Unnamed: 0</th>\n",
       "      <th>price</th>\n",
       "      <th>state</th>\n",
       "      <th>propertyType</th>\n",
       "      <th>bathrooms</th>\n",
       "      <th>bedrooms</th>\n",
       "      <th>carspaces</th>\n",
       "      <th>region</th>\n",
       "      <th>suburb</th>\n",
       "      <th>postcode</th>\n",
       "      <th>dateListed</th>\n",
       "      <th>listingSlug</th>\n",
       "      <th>latitude</th>\n",
       "      <th>longitude</th>\n",
       "    </tr>\n",
       "  </thead>\n",
       "  <tbody>\n",
       "    <tr>\n",
       "      <th>0</th>\n",
       "      <td>0</td>\n",
       "      <td>240.0</td>\n",
       "      <td>VIC</td>\n",
       "      <td>ApartmentUnitFlat</td>\n",
       "      <td>1</td>\n",
       "      <td>1</td>\n",
       "      <td>1</td>\n",
       "      <td>Melbourne Region</td>\n",
       "      <td>ELWOOD</td>\n",
       "      <td>3184</td>\n",
       "      <td>2022-09-12T17:48:43</td>\n",
       "      <td>7-23-bendigo-avenue-elwood-vic-3184-16085426</td>\n",
       "      <td>-37.885467</td>\n",
       "      <td>144.983170</td>\n",
       "    </tr>\n",
       "    <tr>\n",
       "      <th>1</th>\n",
       "      <td>1</td>\n",
       "      <td>690.0</td>\n",
       "      <td>VIC</td>\n",
       "      <td>Duplex</td>\n",
       "      <td>2</td>\n",
       "      <td>3</td>\n",
       "      <td>2</td>\n",
       "      <td>Melbourne Region</td>\n",
       "      <td>CAULFIELD SOUTH</td>\n",
       "      <td>3162</td>\n",
       "      <td>2022-09-12T17:36:10</td>\n",
       "      <td>1-12-omar-street-caulfield-south-vic-3162-1608...</td>\n",
       "      <td>-37.890450</td>\n",
       "      <td>145.019791</td>\n",
       "    </tr>\n",
       "    <tr>\n",
       "      <th>2</th>\n",
       "      <td>2</td>\n",
       "      <td>385.0</td>\n",
       "      <td>VIC</td>\n",
       "      <td>ApartmentUnitFlat</td>\n",
       "      <td>1</td>\n",
       "      <td>1</td>\n",
       "      <td>0</td>\n",
       "      <td>Melbourne Region</td>\n",
       "      <td>SOUTHBANK</td>\n",
       "      <td>3006</td>\n",
       "      <td>2022-09-12T17:32:37</td>\n",
       "      <td>602-250-city-road-southbank-vic-3006-16085393</td>\n",
       "      <td>-37.825733</td>\n",
       "      <td>144.959671</td>\n",
       "    </tr>\n",
       "    <tr>\n",
       "      <th>3</th>\n",
       "      <td>3</td>\n",
       "      <td>585.0</td>\n",
       "      <td>VIC</td>\n",
       "      <td>House</td>\n",
       "      <td>2</td>\n",
       "      <td>4</td>\n",
       "      <td>2</td>\n",
       "      <td>Melbourne Region</td>\n",
       "      <td>DROMANA</td>\n",
       "      <td>3936</td>\n",
       "      <td>2022-09-12T17:21:09</td>\n",
       "      <td>26-william-street-dromana-vic-3936-16085361</td>\n",
       "      <td>-38.330800</td>\n",
       "      <td>144.973984</td>\n",
       "    </tr>\n",
       "    <tr>\n",
       "      <th>4</th>\n",
       "      <td>4</td>\n",
       "      <td>450.0</td>\n",
       "      <td>VIC</td>\n",
       "      <td>ApartmentUnitFlat</td>\n",
       "      <td>1</td>\n",
       "      <td>2</td>\n",
       "      <td>2</td>\n",
       "      <td>Melbourne Region</td>\n",
       "      <td>MONTMORENCY</td>\n",
       "      <td>3094</td>\n",
       "      <td>2022-09-12T17:18:52</td>\n",
       "      <td>2-14-binns-street-montmorency-vic-3094-16085351</td>\n",
       "      <td>-37.716026</td>\n",
       "      <td>145.122162</td>\n",
       "    </tr>\n",
       "  </tbody>\n",
       "</table>\n",
       "</div>"
      ],
      "text/plain": [
       "   Unnamed: 0  price state       propertyType  bathrooms  bedrooms  carspaces  \\\n",
       "0           0  240.0   VIC  ApartmentUnitFlat          1         1          1   \n",
       "1           1  690.0   VIC             Duplex          2         3          2   \n",
       "2           2  385.0   VIC  ApartmentUnitFlat          1         1          0   \n",
       "3           3  585.0   VIC              House          2         4          2   \n",
       "4           4  450.0   VIC  ApartmentUnitFlat          1         2          2   \n",
       "\n",
       "             region           suburb  postcode           dateListed  \\\n",
       "0  Melbourne Region           ELWOOD      3184  2022-09-12T17:48:43   \n",
       "1  Melbourne Region  CAULFIELD SOUTH      3162  2022-09-12T17:36:10   \n",
       "2  Melbourne Region        SOUTHBANK      3006  2022-09-12T17:32:37   \n",
       "3  Melbourne Region          DROMANA      3936  2022-09-12T17:21:09   \n",
       "4  Melbourne Region      MONTMORENCY      3094  2022-09-12T17:18:52   \n",
       "\n",
       "                                         listingSlug   latitude   longitude  \n",
       "0       7-23-bendigo-avenue-elwood-vic-3184-16085426 -37.885467  144.983170  \n",
       "1  1-12-omar-street-caulfield-south-vic-3162-1608... -37.890450  145.019791  \n",
       "2      602-250-city-road-southbank-vic-3006-16085393 -37.825733  144.959671  \n",
       "3        26-william-street-dromana-vic-3936-16085361 -38.330800  144.973984  \n",
       "4    2-14-binns-street-montmorency-vic-3094-16085351 -37.716026  145.122162  "
      ]
     },
     "execution_count": 155,
     "metadata": {},
     "output_type": "execute_result"
    }
   ],
   "source": [
    "# change the number of bathrooms and bedrooms to int\n",
    "rent.bathrooms = rent.bathrooms.astype(int)\n",
    "rent.bedrooms = rent.bedrooms.astype(int)\n",
    "\n",
    "# check\n",
    "rent.head()"
   ]
  },
  {
   "cell_type": "code",
   "execution_count": 156,
   "metadata": {},
   "outputs": [
    {
     "data": {
      "text/plain": [
       "1220"
      ]
     },
     "execution_count": 156,
     "metadata": {},
     "output_type": "execute_result"
    }
   ],
   "source": [
    "# drop the row with high price\n",
    "rent = rent[rent.price < 2000]\n",
    "\n",
    "# check\n",
    "rent.shape[0]"
   ]
  },
  {
   "cell_type": "code",
   "execution_count": 157,
   "metadata": {},
   "outputs": [],
   "source": [
    "# save the data as csv\n",
    "rent.to_csv(\"../rent_data/rent_cleaned.csv\", index=False)"
   ]
  },
  {
   "cell_type": "code",
   "execution_count": 158,
   "metadata": {},
   "outputs": [],
   "source": [
    "# select only the columns we need\n",
    "cols = [\"price\", \"bedrooms\", \"bathrooms\", \"carspaces\", \"postcode\", \"propertyType\"]"
   ]
  },
  {
   "cell_type": "markdown",
   "metadata": {},
   "source": [
    "### Correlation"
   ]
  },
  {
   "cell_type": "code",
   "execution_count": 159,
   "metadata": {},
   "outputs": [
    {
     "data": {
      "image/png": "[encoded data removed]",
      "text/plain": [
       "<Figure size 640x480 with 2 Axes>"
      ]
     },
     "metadata": {},
     "output_type": "display_data"
    }
   ],
   "source": [
    "import matplotlib.pyplot as plt\n",
    "import seaborn as sns\n",
    "\n",
    "# Plot the data to see the correlation\n",
    "pcm = sns.heatmap(rent[cols].corr(), annot=True, cmap=\"YlGnBu\")\n",
    "plt.title(\"Correlation between variables\")\n",
    "plt.show()"
   ]
  },
  {
   "cell_type": "markdown",
   "metadata": {},
   "source": [
    "### 1 - The influence of number of bedrooms"
   ]
  },
  {
   "cell_type": "code",
   "execution_count": 160,
   "metadata": {},
   "outputs": [],
   "source": [
    "# get the different data with different number of bedrooms\n",
    "rent_1bedroom = rent[rent.bedrooms == 1]\n",
    "rent_2bedroom = rent[rent.bedrooms == 2]\n",
    "rent_3bedroom = rent[rent.bedrooms == 3]\n",
    "rent_4bedroom = rent[rent.bedrooms == 4]\n",
    "rent_5bedroom = rent[rent.bedrooms == 5]\n",
    "rent_6bedroom = rent[rent.bedrooms == 6]\n",
    "rent_7bedroom = rent[rent.bedrooms == 7]"
   ]
  },
  {
   "cell_type": "code",
   "execution_count": 161,
   "metadata": {},
   "outputs": [
    {
     "name": "stdout",
     "output_type": "stream",
     "text": [
      "266\n",
      "553\n",
      "283\n",
      "103\n",
      "11\n",
      "3\n",
      "1\n"
     ]
    }
   ],
   "source": [
    "# check the number of rows\n",
    "print(rent_1bedroom.shape[0])\n",
    "print(rent_2bedroom.shape[0])\n",
    "print(rent_3bedroom.shape[0])\n",
    "print(rent_4bedroom.shape[0])\n",
    "print(rent_5bedroom.shape[0])\n",
    "print(rent_6bedroom.shape[0])\n",
    "print(rent_7bedroom.shape[0])"
   ]
  },
  {
   "cell_type": "code",
   "execution_count": 162,
   "metadata": {},
   "outputs": [
    {
     "data": {
      "image/png": "[encoded data removed]",
      "text/plain": [
       "<Figure size 640x480 with 1 Axes>"
      ]
     },
     "metadata": {},
     "output_type": "display_data"
    }
   ],
   "source": [
    "# plot the different bedrooms data\n",
    "import matplotlib.pyplot as plt\n",
    "\n",
    "bedrooms = [1, 2, 3, 4, 5, 6, 7]\n",
    "bedrooms_shape = [rent_1bedroom.shape[0], rent_2bedroom.shape[0], rent_3bedroom.shape[0], \n",
    "                  rent_4bedroom.shape[0], rent_5bedroom.shape[0], rent_6bedroom.shape[0], \n",
    "                  rent_7bedroom.shape[0]]\n",
    "\n",
    "plt.bar(bedrooms, bedrooms_shape)\n",
    "plt.xlabel(\"Number of bedrooms\")\n",
    "plt.ylabel(\"Number of rows\")\n",
    "plt.title(\"Number of rows with different number of bedrooms\")\n",
    "plt.show()"
   ]
  },
  {
   "cell_type": "code",
   "execution_count": 163,
   "metadata": {},
   "outputs": [
    {
     "data": {
      "text/plain": [
       "[396.33458646616543,\n",
       " 527.493670886076,\n",
       " 727.8445229681979,\n",
       " 921.8932038834952,\n",
       " 939.5454545454545,\n",
       " 1433.3333333333333,\n",
       " 1400.0]"
      ]
     },
     "execution_count": 163,
     "metadata": {},
     "output_type": "execute_result"
    }
   ],
   "source": [
    "# get the mean price of different number of bedrooms\n",
    "mean1 = rent_1bedroom[\"price\"].mean()\n",
    "mean2 = rent_2bedroom[\"price\"].mean()\n",
    "mean3 = rent_3bedroom[\"price\"].mean()\n",
    "mean4 = rent_4bedroom[\"price\"].mean()\n",
    "mean5 = rent_5bedroom[\"price\"].mean()\n",
    "mean6 = rent_6bedroom[\"price\"].mean()\n",
    "mean7 = rent_7bedroom[\"price\"].mean()\n",
    "\n",
    "# create a list of mean price\n",
    "mean_list = [mean1, mean2, mean3, mean4, mean5, mean6, mean7]\n",
    "mean_list"
   ]
  },
  {
   "cell_type": "code",
   "execution_count": 164,
   "metadata": {},
   "outputs": [
    {
     "data": {
      "image/png": "[encoded data removed]",
      "text/plain": [
       "<Figure size 640x480 with 1 Axes>"
      ]
     },
     "metadata": {},
     "output_type": "display_data"
    }
   ],
   "source": [
    "# plot the mean price of different number of bedrooms\n",
    "plt.plot(bedrooms, mean_list)\n",
    "plt.xlabel(\"Number of bedrooms\")\n",
    "plt.ylabel(\"Mean price\")\n",
    "plt.title(\"Mean price of different number of bedrooms\")\n",
    "plt.show()"
   ]
  }
 ],
 "metadata": {
  "kernelspec": {
   "display_name": "Python 3.10.7 64-bit",
   "language": "python",
   "name": "python3"
  },
  "language_info": {
   "codemirror_mode": {
    "name": "ipython",
    "version": 3
   },
   "file_extension": ".py",
   "mimetype": "text/x-python",
   "name": "python",
   "nbconvert_exporter": "python",
   "pygments_lexer": "ipython3",
   "version": "3.10.7"
  },
  "orig_nbformat": 4,
  "vscode": {
   "interpreter": {
    "hash": "369f2c481f4da34e4445cda3fffd2e751bd1c4d706f27375911949ba6bb62e1c"
   }
  }
 },
 "nbformat": 4,
 "nbformat_minor": 2
}
