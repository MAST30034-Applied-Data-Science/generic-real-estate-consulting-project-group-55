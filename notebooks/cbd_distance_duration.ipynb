{
 "cells": [
  {
   "cell_type": "code",
   "execution_count": 1,
   "id": "bfe26a63",
   "metadata": {},
   "outputs": [],
   "source": [
    "import openrouteservice as ors\n",
    "import folium\n",
    "from pandas import DataFrame\n",
    "import pandas as pd\n",
    "import math\n",
    "import time\n",
    "import re\n",
    "import shapefile\n",
    "import os\n",
    "key = os.environ.get('key')\n",
    "client = ors.Client(key= key)\n",
    "\n",
    "\n",
    "#Please note that due to the daily limit of the website and the limit of the number of reads per minute, it is recommended to read only ten rental data at a time\n",
    "rent = pd.read_csv(\"../rent_data/rent_cleaned.csv\")\n",
    "rent = rent[1150:].reset_index(drop=True)\n"
   ]
  },
  {
   "cell_type": "code",
   "execution_count": 25,
   "id": "47076b4b",
   "metadata": {},
   "outputs": [],
   "source": [
    "def cal_distance(coordinates, client):\n",
    "    \"\"\"\n",
    "    function: calculate coordinates' distance\n",
    "    param datas : durations, distances\n",
    "    \"\"\"\n",
    "    matrix = client.distance_matrix(\n",
    "    locations=coordinates,\n",
    "    profile='driving-car',\n",
    "    metrics=['distance', 'duration'],\n",
    "    validate=False,\n",
    "    )\n",
    "    # api cannot read more than forty times per minute\n",
    "    time.sleep(2.5)\n",
    "    return matrix['durations'], matrix['distances']\n",
    "# the unit of distance is m, the unit of durations is seconds"
   ]
  },
  {
   "cell_type": "code",
   "execution_count": 70,
   "id": "964b9dba",
   "metadata": {},
   "outputs": [],
   "source": [
    "summary = []\n",
    "# CBD only have one corrdinate\n",
    "for i in range(len(rent)):\n",
    "    r_coor = []\n",
    "    r_coor.append([rent[\"longitude\"][i], rent[\"latitude\"][i]])\n",
    "    r_coor.append([144.946457, -37.840935])\n",
    "    summary.append(r_coor)"
   ]
  },
  {
   "cell_type": "code",
   "execution_count": 27,
   "id": "d1c5b104",
   "metadata": {},
   "outputs": [],
   "source": [
    "def get_coordinates(summary):\n",
    "    \"\"\"\n",
    "    function: Find the distances and durations that rach rental house drive to cbd\n",
    "    param datas : rent_address, min_distance, min_duration\n",
    "    \"\"\"\n",
    "    rent_address = []\n",
    "    min_distance = []\n",
    "    min_duration = []\n",
    "    for i in range(len(summary)):\n",
    "        distances = []\n",
    "        durations = []\n",
    "        matrix = cal_distance(summary[i], client)\n",
    "        distances = distances + matrix[1][0][1:]\n",
    "        durations = durations + matrix[0][0][1:]\n",
    "        index = distances.index(min(distances))\n",
    "        rent_address.append(rent['listingSlug'][summary.index(summary[i])])\n",
    "        min_distance.append(distances[index])\n",
    "        min_duration.append(durations[index])\n",
    "    return rent_address, min_distance, min_duration"
   ]
  },
  {
   "cell_type": "code",
   "execution_count": 71,
   "id": "839ef6a1",
   "metadata": {},
   "outputs": [],
   "source": [
    "# -- coding: utf-8 --\n",
    "def data_frame(summary):\n",
    "    \"\"\"\n",
    "    function: put the required columns into a dataframe\n",
    "    param datas: dataframe\n",
    "    \"\"\"\n",
    "    #get dataframe\n",
    "    data = {'rent_address': get_coordinates(summary)[0], 'min_distance': get_coordinates(summary)[1], 'min_duration': get_coordinates(summary)[2]}\n",
    "    df = DataFrame(data)\n",
    "    return df\n",
    "\n",
    "df = data_frame(summary)\n",
    "df.to_csv(\"../data/raw/cbd distance and duration/cbd_distances_durations(8).csv\", index=False)"
   ]
  },
  {
   "cell_type": "code",
   "execution_count": 2,
   "id": "7c64aeb8",
   "metadata": {},
   "outputs": [],
   "source": [
    "# merge data\n",
    "old = pd.read_csv(\"../data/raw/cbd distance and duration/cbd_distances_durations(0).csv\", index_col=0)\n",
    "new = pd.read_csv(\"../data/raw/cbd distance and duration/cbd_distances_durations(1).csv\", index_col=0)"
   ]
  },
  {
   "cell_type": "code",
   "execution_count": 3,
   "id": "a928df28",
   "metadata": {},
   "outputs": [],
   "source": [
    "renew = pd.concat([old, new])\n",
    "new2 = pd.read_csv(\"../data/raw/cbd distance and duration/cbd_distances_durations(2).csv\", index_col=0)\n",
    "renew2 = pd.concat([renew, new2])\n",
    "new3 = pd.read_csv(\"../data/raw/cbd distance and duration/cbd_distances_durations(3).csv\", index_col=0)\n",
    "renew3 = pd.concat([renew2, new3])\n",
    "new4 = pd.read_csv(\"../data/raw/cbd distance and duration/cbd_distances_durations(4).csv\", index_col=0)\n",
    "renew4 = pd.concat([renew3, new4])\n",
    "new5 = pd.read_csv(\"../data/raw/cbd distance and duration/cbd_distances_durations(5).csv\", index_col=0)\n",
    "renew5 = pd.concat([renew4, new5])\n",
    "new6 = pd.read_csv(\"../data/raw/cbd distance and duration/cbd_distances_durations(6).csv\", index_col=0)\n",
    "renew6 = pd.concat([renew5, new6])\n",
    "new7 = pd.read_csv(\"../data/raw/cbd distance and duration/cbd_distances_durations(7).csv\", index_col=0)\n",
    "renew7 = pd.concat([renew6, new7])\n",
    "new8 = pd.read_csv(\"../data/raw/cbd distance and duration/cbd_distances_durations(8).csv\", index_col=0)\n",
    "renew8 = pd.concat([renew7, new8]).reset_index()"
   ]
  },
  {
   "cell_type": "code",
   "execution_count": 4,
   "id": "a6cb3147",
   "metadata": {},
   "outputs": [],
   "source": [
    "# add rantal house's postcode and price\n",
    "rent = pd.read_csv(\"../rent_data/rent_cleaned.csv\")\n",
    "new_data = renew8\n",
    "postcode = []\n",
    "for i in range(len(new_data)):\n",
    "    postcode.append(new_data['rent_address'][i][-13:-9])\n",
    "new_data['postcode'] = postcode\n",
    "price =[]\n",
    "for rent_a in new_data['rent_address']:\n",
    "    price.append(rent[rent['listingSlug'] == rent_a]['price'].tolist()[0])\n",
    "new_data['price'] = price\n",
    "new_data = new_data.sort_values(by=[\"postcode\"],ascending=True).reset_index(drop=True)"
   ]
  },
  {
   "cell_type": "code",
   "execution_count": 6,
   "id": "202a126e",
   "metadata": {},
   "outputs": [],
   "source": [
    "new_data.to_csv(\"../data/curated/cbd_distances_durations(final).csv\")"
   ]
  }
 ],
 "metadata": {
  "kernelspec": {
   "display_name": "Python 3.9.7 64-bit",
   "language": "python",
   "name": "python3"
  },
  "language_info": {
   "codemirror_mode": {
    "name": "ipython",
    "version": 3
   },
   "file_extension": ".py",
   "mimetype": "text/x-python",
   "name": "python",
   "nbconvert_exporter": "python",
   "pygments_lexer": "ipython3",
   "version": "3.9.7"
  },
  "vscode": {
   "interpreter": {
    "hash": "c347c8f9a7ef94e4c9e03b4513be7835ed18f45b99a2a817fb579f408b867b16"
   }
  }
 },
 "nbformat": 4,
 "nbformat_minor": 5
}
