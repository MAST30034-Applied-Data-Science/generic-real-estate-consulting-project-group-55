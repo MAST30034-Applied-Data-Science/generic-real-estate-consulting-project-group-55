{
 "cells": [
  {
   "cell_type": "markdown",
   "id": "6f71f44d",
   "metadata": {},
   "source": [
    "# The distance and duration between train station and rental house"
   ]
  },
  {
   "cell_type": "code",
   "execution_count": 3,
   "id": "bfe26a63",
   "metadata": {},
   "outputs": [],
   "source": [
    "import openrouteservice as ors\n",
    "import folium\n",
    "from pandas import DataFrame\n",
    "import pandas as pd\n",
    "import math\n",
    "import time\n",
    "import os"
   ]
  },
  {
   "cell_type": "code",
   "execution_count": null,
   "id": "3d781b13",
   "metadata": {},
   "outputs": [],
   "source": [
    "key = os.environ.get('key')\n",
    "client = ors.Client(key= key)\n",
    "\n",
    "#Please note that due to the daily limit of the website and the limit of the number of reads per minute, it is recommended to read only ten rental data at a time\n",
    "rent = pd.read_csv(\"../rent_data/rent_cleaned.csv\")\n",
    "rent = rent[1200:].reset_index(drop=True)\n",
    "train = pd.read_excel(\"../data/raw/train_station_20to21.xlsx\")"
   ]
  },
  {
   "cell_type": "code",
   "execution_count": 250,
   "id": "47076b4b",
   "metadata": {},
   "outputs": [],
   "source": [
    "def cal_distance(coordinates, client):\n",
    "    \"\"\"\n",
    "    function: calculate coordinates' distance\n",
    "    param datas : durations, distances\n",
    "    \"\"\"\n",
    "    matrix = client.distance_matrix(\n",
    "    locations=coordinates,\n",
    "    profile='driving-car',\n",
    "    metrics=['distance', 'duration'],\n",
    "    validate=False,\n",
    "    )\n",
    "    # api cannot read more than forty times per minute\n",
    "    time.sleep(2.5)\n",
    "    return matrix['durations'], matrix['distances']\n",
    "# the unit of distance is m, the unit of durations is seconds"
   ]
  },
  {
   "cell_type": "code",
   "execution_count": 251,
   "id": "df3ea184",
   "metadata": {},
   "outputs": [],
   "source": [
    "def get_summary(rent, train):\n",
    "    \"\"\"\n",
    "    function: Get a list of each rent and the trains closest to the rent\n",
    "    paras: summary(list)\n",
    "    \"\"\"\n",
    "    coordinates = []\n",
    "    r_coor = []\n",
    "    summary = []\n",
    "    # train coordinates\n",
    "    for j in range(len(train)):\n",
    "        coordinates.append([train[\"Stop_long\"][j], train[\"Stop_lat\"][j]])\n",
    "    # rental house coordinates\n",
    "    for i in range(len(rent)):\n",
    "        r_coor.append([rent[\"longitude\"][i], rent[\"latitude\"][i]])\n",
    "    # the set that one rental house's coordinates and the coordinates of the train that differs from the latitude and longitude of the rental house's coordinates by no more than 0.3\n",
    "    for k in range(len(r_coor)):\n",
    "        coor = []\n",
    "        coor.append(r_coor[k])\n",
    "        for m in range(len(coordinates)):\n",
    "            if ((coordinates[m][0]-0.3) <= r_coor[k][0] <= (coordinates[m][0] + 0.3)) & ((coordinates[m][1]-0.3) <= r_coor[k][1] <= (coordinates[m][1] + 0.3)):\n",
    "                coor.append(coordinates[m])\n",
    "        summary.append(coor)\n",
    "    return summary"
   ]
  },
  {
   "cell_type": "code",
   "execution_count": 252,
   "id": "d1c5b104",
   "metadata": {},
   "outputs": [],
   "source": [
    "def get_coordinates(rent, train):\n",
    "    \"\"\"\n",
    "    function: Find the nearest site to rent \n",
    "    param datas : rent_address, stop_name, min_distance, min_duration\n",
    "    \"\"\"\n",
    "    rent_address = []\n",
    "    stop_name = []\n",
    "    min_distance = []\n",
    "    min_duration = []\n",
    "    summary = get_summary(rent, train)\n",
    "    new_sum = []\n",
    "    # Pick out rental houses that do not have a corresponding train\n",
    "    for l in range(len(summary)):\n",
    "        if len(summary[l]) != 1:\n",
    "            new_sum.append(summary[l])\n",
    "        else:\n",
    "            rent_address.append(rent['listingSlug'][l])\n",
    "            stop_name.append(\"NULL\")\n",
    "            min_distance.append(\"NULL\")\n",
    "            min_duration.append(\"NULL\")\n",
    "    for i in range(len(new_sum)):\n",
    "        distances = []\n",
    "        durations = []\n",
    "        # calculate distances and durations\n",
    "        matrix = cal_distance(new_sum[i], client)\n",
    "        distances = distances + matrix[1][0][1:]\n",
    "        durations = durations + matrix[0][0][1:]\n",
    "        index = distances.index(min(distances))\n",
    "        rent_address.append(rent['listingSlug'][summary.index(new_sum[i])])\n",
    "        stop_index = train[train['Stop_long'] == new_sum[i][index+1][0]].index.tolist()[0]\n",
    "        stop_name.append(train['Stop_name'][stop_index])\n",
    "        min_distance.append(distances[index])\n",
    "        min_duration.append(durations[index])\n",
    "    return rent_address, stop_name, min_distance, min_duration"
   ]
  },
  {
   "cell_type": "code",
   "execution_count": 253,
   "id": "839ef6a1",
   "metadata": {},
   "outputs": [],
   "source": [
    "def data_frame(rent, train):\n",
    "    \"\"\"\n",
    "    function: put the required columns into a dataframe\n",
    "    param datas: dataframe\n",
    "    \"\"\"\n",
    "    #get dataframe\n",
    "    data = {'rent_address': get_coordinates(rent, train)[0], 'stop_name': get_coordinates(rent, train)[1], 'min_distance': get_coordinates(rent, train)[2], 'min_duration': get_coordinates(rent, train)[3]}\n",
    "    df = DataFrame(data)\n",
    "    return df\n",
    "\n",
    "df = data_frame(rent, train)\n",
    "df.to_csv(\"../data/raw/train distance and duration/distances_durations(12).csv\", index=False)"
   ]
  },
  {
   "cell_type": "code",
   "execution_count": 5,
   "id": "7c64aeb8",
   "metadata": {},
   "outputs": [],
   "source": [
    "# merge data\n",
    "old = pd.read_csv(\"../data/raw/train distance and duration/distances_durations(0).csv\", index_col=0)\n",
    "new = pd.read_csv(\"../data/raw/train distance and duration/distances_durations(1).csv\", index_col=0)"
   ]
  },
  {
   "cell_type": "code",
   "execution_count": 6,
   "id": "a928df28",
   "metadata": {},
   "outputs": [],
   "source": [
    "renew = pd.concat([old, new])\n",
    "new2 = pd.read_csv(\"../data/raw/train distance and duration/distances_durations(2).csv\", index_col=0)\n",
    "renew2 = pd.concat([renew, new2])\n",
    "new3 = pd.read_csv(\"../data/raw/train distance and duration/distances_durations(3).csv\", index_col=0)\n",
    "renew3 = pd.concat([renew2, new3])\n",
    "new4 = pd.read_csv(\"../data/raw/train distance and duration/distances_durations(4).csv\", index_col=0)\n",
    "renew4 = pd.concat([renew3, new4])\n",
    "new5 = pd.read_csv(\"../data/raw/train distance and duration/distances_durations(5).csv\", index_col=0)\n",
    "renew5 = pd.concat([renew4, new5])\n",
    "new6 = pd.read_csv(\"../data/raw/train distance and duration/distances_durations(6).csv\", index_col=0)\n",
    "renew6 = pd.concat([renew5, new6])\n",
    "new7 = pd.read_csv(\"../data/raw/train distance and duration/distances_durations(7).csv\", index_col=0)\n",
    "renew7 = pd.concat([renew6, new7])\n",
    "new8 = pd.read_csv(\"../data/raw/train distance and duration/distances_durations(8).csv\", index_col=0)\n",
    "renew8 = pd.concat([renew7, new8])\n",
    "new9 = pd.read_csv(\"../data/raw/train distance and duration/distances_durations(9).csv\", index_col=0)\n",
    "renew9 = pd.concat([renew8, new9])\n",
    "new10 = pd.read_csv(\"../data/raw/train distance and duration/distances_durations(10).csv\", index_col=0)\n",
    "renew10 = pd.concat([renew9, new10])\n",
    "new11 = pd.read_csv(\"../data/raw/train distance and duration/distances_durations(11).csv\", index_col=0)\n",
    "renew11 = pd.concat([renew10, new11])\n",
    "new12 = pd.read_csv(\"../data/raw/train distance and duration/distances_durations(12).csv\", index_col=0)\n",
    "renew12 = pd.concat([renew11, new12]).reset_index()"
   ]
  },
  {
   "cell_type": "code",
   "execution_count": null,
   "id": "b39ffd91",
   "metadata": {},
   "outputs": [],
   "source": [
    "# add rantal house's postcode and price\n",
    "rent = pd.read_csv(\"../rent_data/rent_cleaned.csv\")\n",
    "new_data = renew12\n",
    "postcode = []\n",
    "for i in range(len(new_data)):\n",
    "    postcode.append(new_data['rent_address'][i][-13:-9])\n",
    "new_data['postcode'] = postcode\n",
    "price =[]\n",
    "for rent_a in new_data['rent_address']:\n",
    "    price.append(rent[rent['listingSlug'] == rent_a]['price'].tolist()[0])\n",
    "new_data['price'] = price\n",
    "new_data = new_data.sort_values(by=[\"postcode\"],ascending=True).reset_index(drop=True)"
   ]
  },
  {
   "cell_type": "code",
   "execution_count": 337,
   "id": "1003b0b9",
   "metadata": {},
   "outputs": [],
   "source": [
    "new_data.to_csv(\"../data/curated/train_distance_duration.csv\")"
   ]
  }
 ],
 "metadata": {
  "kernelspec": {
   "display_name": "Python 3.10.7 64-bit",
   "language": "python",
   "name": "python3"
  },
  "language_info": {
   "codemirror_mode": {
    "name": "ipython",
    "version": 3
   },
   "file_extension": ".py",
   "mimetype": "text/x-python",
   "name": "python",
   "nbconvert_exporter": "python",
   "pygments_lexer": "ipython3",
   "version": "3.10.7"
  },
  "vscode": {
   "interpreter": {
    "hash": "369f2c481f4da34e4445cda3fffd2e751bd1c4d706f27375911949ba6bb62e1c"
   }
  }
 },
 "nbformat": 4,
 "nbformat_minor": 5
}
