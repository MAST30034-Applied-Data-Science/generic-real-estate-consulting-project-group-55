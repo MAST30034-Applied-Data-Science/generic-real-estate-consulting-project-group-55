{
 "cells": [
  {
   "cell_type": "code",
   "execution_count": 22,
   "id": "bfe26a63",
   "metadata": {},
   "outputs": [],
   "source": [
    "import openrouteservice as ors\n",
    "import folium\n",
    "from pandas import DataFrame\n",
    "import pandas as pd\n",
    "import math\n",
    "import time\n",
    "client = ors.Client(key='5b3ce3597851110001cf624843576f20f285415aa5b989742b7fec2f')\n",
    "\n",
    "\n",
    "#Please note that due to the daily limit of the website and the limit of the number of reads per minute, it is recommended to read only ten rental data at a time\n",
    "rent = pd.read_csv(\"../rent_data/renew(15)\")\n",
    "rent = rent[1190:].reset_index(drop=True)\n",
    "train = pd.read_excel(\"../data/raw/train_station_20to21.xlsx\")"
   ]
  },
  {
   "cell_type": "code",
   "execution_count": 2,
   "id": "47076b4b",
   "metadata": {},
   "outputs": [],
   "source": [
    "\"\"\"\n",
    "function: calculate coordinates' distance\n",
    "param datas : durations, distances\n",
    "\"\"\"\n",
    "def cal_distance(coordinates, client):\n",
    "    matrix = client.distance_matrix(\n",
    "    locations=coordinates,\n",
    "    profile='driving-car',\n",
    "    metrics=['distance', 'duration'],\n",
    "    validate=False,\n",
    "    )\n",
    "    time.sleep(2.5)\n",
    "    return matrix['durations'], matrix['distances']\n",
    "# the unit of distance is m, the unit of durations is seconds"
   ]
  },
  {
   "cell_type": "code",
   "execution_count": 4,
   "id": "df3ea184",
   "metadata": {},
   "outputs": [],
   "source": [
    "def get_summary(rent, train):\n",
    "    coordinates = []\n",
    "    r_coor = []\n",
    "    summary = []\n",
    "    for j in range(len(train)):\n",
    "        coordinates.append([train[\"Stop_long\"][j], train[\"Stop_lat\"][j]])\n",
    "    for i in range(len(rent)):\n",
    "        r_coor.append([rent[\"longitude\"][i], rent[\"latitude\"][i]])\n",
    "    for k in range(len(r_coor)):\n",
    "        coor = []\n",
    "        coor.append(r_coor[k])\n",
    "        for m in range(len(coordinates)):\n",
    "            if ((coordinates[m][0]-0.1) <= r_coor[k][0] <= (coordinates[m][0] + 0.1)) & ((coordinates[m][1]-0.1) <= r_coor[k][1] <= (coordinates[m][1] + 0.1)):\n",
    "                coor.append(coordinates[j])\n",
    "        summary.append(coor)\n",
    "    return summary"
   ]
  },
  {
   "cell_type": "code",
   "execution_count": 5,
   "id": "d1c5b104",
   "metadata": {},
   "outputs": [],
   "source": [
    "\"\"\"\n",
    "function: Find the nearest site to rent \n",
    "param datas : rent_address, stop_name, min_distance, min_duration\n",
    "\"\"\"\n",
    "def get_coordinates(rent, train):\n",
    "    rent_address = []\n",
    "    stop_name = []\n",
    "    min_distance = []\n",
    "    min_duration = []\n",
    "    summary = get_summary(rent, train)\n",
    "    new_sum = []\n",
    "    for l in range(len(summary)):\n",
    "        if len(summary[l]) != 1:\n",
    "            new_sum.append(summary[l])\n",
    "        else:\n",
    "            rent_address.append(rent['listingSlug'][l])\n",
    "            stop_name.append(\"NULL\")\n",
    "            min_distance.append(\"NULL\")\n",
    "            min_duration.append(\"NULL\")\n",
    "    for i in range(len(new_sum)):\n",
    "        distances = []\n",
    "        durations = []\n",
    "        matrix = cal_distance(new_sum[i], client)\n",
    "        distances = distances + matrix[1][0][1:]\n",
    "        durations = durations + matrix[0][0][1:]\n",
    "        index = distances.index(min(distances))\n",
    "        rent_address.append(rent['listingSlug'][summary.index(new_sum[i])])\n",
    "        stop_name.append(train['Stop_name'][index])\n",
    "        min_distance.append(distances[index])\n",
    "        min_duration.append(durations[index])\n",
    "    return rent_address, stop_name, min_distance, min_duration"
   ]
  },
  {
   "cell_type": "code",
   "execution_count": 23,
   "id": "839ef6a1",
   "metadata": {},
   "outputs": [],
   "source": [
    "\"\"\"\n",
    "function: put the required columns into a dataframe\n",
    "param datas: dataframe\n",
    "\"\"\"\n",
    "def data_frame(rent, train):\n",
    "    #get dataframe\n",
    "    data = {'rent_address': get_coordinates(rent, train)[0], 'stop_name': get_coordinates(rent, train)[1], 'min_distance': get_coordinates(rent, train)[2], 'min_duration': get_coordinates(rent, train)[3]}\n",
    "    df = DataFrame(data)\n",
    "    return df\n",
    "\n",
    "df = data_frame(rent, train)\n",
    "df.to_csv(\"/home/ads/generic-real-estate-consulting-project-group-55/data/raw/train distance and duration/distances_durations(9).csv\", index=False)"
   ]
  },
  {
   "cell_type": "code",
   "execution_count": 24,
   "id": "7c64aeb8",
   "metadata": {},
   "outputs": [],
   "source": [
    "old = pd.read_csv(\"/home/ads/generic-real-estate-consulting-project-group-55/data/raw/train distance and duration/distances_durations(0).csv\", index_col=0)\n",
    "new = pd.read_csv(\"/home/ads/generic-real-estate-consulting-project-group-55/data/raw/train distance and duration/distances_durations(1).csv\", index_col=0)"
   ]
  },
  {
   "cell_type": "code",
   "execution_count": 73,
   "id": "a928df28",
   "metadata": {},
   "outputs": [],
   "source": [
    "renew = pd.concat([old, new])\n",
    "new2 = pd.read_csv(\"/home/ads/generic-real-estate-consulting-project-group-55/data/raw/train distance and duration/distances_durations(2).csv\", index_col=0)\n",
    "renew2 = pd.concat([renew, new2])\n",
    "new3 = pd.read_csv(\"/home/ads/generic-real-estate-consulting-project-group-55/data/raw/train distance and duration/distances_durations(3).csv\", index_col=0)\n",
    "renew3 = pd.concat([renew2, new3])\n",
    "new4 = pd.read_csv(\"/home/ads/generic-real-estate-consulting-project-group-55/data/raw/train distance and duration/distances_durations(4).csv\", index_col=0)\n",
    "renew4 = pd.concat([renew3, new4])\n",
    "new5 = pd.read_csv(\"/home/ads/generic-real-estate-consulting-project-group-55/data/raw/train distance and duration/distances_durations(5).csv\", index_col=0)\n",
    "renew5 = pd.concat([renew4, new5])\n",
    "new6 = pd.read_csv(\"/home/ads/generic-real-estate-consulting-project-group-55/data/raw/train distance and duration/distances_durations(6).csv\", index_col=0)\n",
    "renew6 = pd.concat([renew5, new6])\n",
    "new7 = pd.read_csv(\"/home/ads/generic-real-estate-consulting-project-group-55/data/raw/train distance and duration/distances_durations(7).csv\", index_col=0)\n",
    "renew7 = pd.concat([renew6, new7])\n",
    "new8 = pd.read_csv(\"/home/ads/generic-real-estate-consulting-project-group-55/data/raw/train distance and duration/distances_durations(8).csv\", index_col=0)\n",
    "renew8 = pd.concat([renew7, new8])\n",
    "new9 = pd.read_csv(\"/home/ads/generic-real-estate-consulting-project-group-55/data/raw/train distance and duration/distances_durations(9).csv\", index_col=0)\n",
    "renew9 = pd.concat([renew8, new9])"
   ]
  },
  {
   "cell_type": "code",
   "execution_count": 74,
   "id": "9093b226",
   "metadata": {},
   "outputs": [],
   "source": [
    "rent = pd.read_csv(\"/home/ads/generic-real-estate-consulting-project-group-55/ceshi/renew(15).csv\",index_col = 0)\n",
    "outliers = rent['listingSlug'][rent['price']> 2000]"
   ]
  },
  {
   "cell_type": "code",
   "execution_count": 75,
   "id": "887cd5a1",
   "metadata": {},
   "outputs": [],
   "source": [
    "renew9 = renew9.drop(index= outliers )\n",
    "renew9.reset_index()"
   ]
  },
  {
   "cell_type": "code",
   "execution_count": 78,
   "id": "202a126e",
   "metadata": {},
   "outputs": [],
   "source": [
    "renew9.to_csv(\"/home/ads/generic-real-estate-consulting-project-group-55/data/raw/train distance and duration/distances_durations(final).csv\")"
   ]
  },
  {
   "cell_type": "code",
   "execution_count": 56,
   "id": "506cf03e",
   "metadata": {},
   "outputs": [
    {
     "data": {
      "text/plain": [
       "58           13-brenda-court-nunawading-vic-3131-16083837\n",
       "104     136-richardson-street-albert-park-vic-3206-160...\n",
       "115       2-28-milton-street-canterbury-vic-3126-15364268\n",
       "121          9-ruyton-street-camberwell-vic-3124-15797618\n",
       "219          4-132-mitcham-road-donvale-vic-3111-16079428\n",
       "                              ...                        \n",
       "1223     34-stott-street-box-hill-south-vic-3128-13133669\n",
       "1228         10-24-rose-street-box-hill-vic-3128-16088120\n",
       "1231           9-744-orrong-road-toorak-vic-3142-15923220\n",
       "2020          8-2-victor-road-glen-iris-vic-3146-14736582\n",
       "2066       101-1377-burke-road-kew-east-vic-3102-12909786\n",
       "Name: listingSlug, Length: 67, dtype: object"
      ]
     },
     "execution_count": 56,
     "metadata": {},
     "output_type": "execute_result"
    }
   ],
   "source": [
    "rent = pd.read_csv(\"/home/ads/generic-real-estate-consulting-project-group-55/ceshi/renew(15).csv\",index_col = 0)\n",
    "a = rent['listingSlug'][rent['price']> 2000]\n",
    "a"
   ]
  }
 ],
 "metadata": {
  "kernelspec": {
   "display_name": "Python 3.8.10 64-bit",
   "language": "python",
   "name": "python3"
  },
  "language_info": {
   "codemirror_mode": {
    "name": "ipython",
    "version": 3
   },
   "file_extension": ".py",
   "mimetype": "text/x-python",
   "name": "python",
   "nbconvert_exporter": "python",
   "pygments_lexer": "ipython3",
   "version": "3.8.10"
  },
  "vscode": {
   "interpreter": {
    "hash": "916dbcbb3f70747c44a77c7bcd40155683ae19c65e1c03b4aa3499c5328201f1"
   }
  }
 },
 "nbformat": 4,
 "nbformat_minor": 5
}
