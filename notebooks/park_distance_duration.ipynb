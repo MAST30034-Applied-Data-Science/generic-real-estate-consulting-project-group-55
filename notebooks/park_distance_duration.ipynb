{
 "cells": [
  {
   "cell_type": "code",
   "execution_count": 80,
   "id": "bfe26a63",
   "metadata": {},
   "outputs": [],
   "source": [
    "import openrouteservice as ors\n",
    "import folium\n",
    "from pandas import DataFrame\n",
    "import pandas as pd\n",
    "import math\n",
    "import time\n",
    "import re\n",
    "import shapefile\n",
    "import os\n",
    "key = os.environ.get('key')\n",
    "client = ors.Client(key= key)\n",
    "#client = ors.Client(key='5b3ce3597851110001cf62480f2e0047228f425292712f3d6a0044d3')\n",
    "\n",
    "#Please note that due to the daily limit of the website and the limit of the number of reads per minute, it is recommended to read only ten rental data at a time\n",
    "rent = pd.read_csv(\"../rent_data/rent_cleaned.csv\")\n",
    "rent = rent[1200:].reset_index(drop=True)\n",
    "park = shapefile.Reader(\"../data/raw/ll_gda2020/esrishape/whole_of_dataset/victoria/CROWNLAND/PARKRES.dbf\")\n",
    "shapes = park.shapes()\n",
    "records = park.records()\n"
   ]
  },
  {
   "cell_type": "code",
   "execution_count": 2,
   "id": "0f021805",
   "metadata": {},
   "outputs": [],
   "source": [
    "def get_centerpoint(lis):\n",
    "    \"\"\"\n",
    "    program: calculate center point of park\n",
    "    paras: longtitude, latutude\n",
    "    \"\"\"\n",
    "    area = 0.0\n",
    "    latitude,longtitude = 0.0,0.0\n",
    " \n",
    "    a = len(lis)\n",
    "    for i in range(a):\n",
    "        lat = float(lis[i][1]) #weidu\n",
    "        lng = float(lis[i][0]) #jingdu\n",
    " \n",
    "        if i == 0:\n",
    "            lat1 = float(lis[-1][1])\n",
    "            lng1 = float(lis[-1][0])\n",
    " \n",
    "        else:\n",
    "            lat1 = float(lis[i-1][1])\n",
    "            lng1 = float(lis[i-1][0])\n",
    " \n",
    "        fg = (lat*lng1 - lng*lat1)/2.0\n",
    " \n",
    "        area += fg\n",
    "        latitude += fg*(lat+lat1)/3.0\n",
    "        longtitude += fg*(lng+lng1)/3.0\n",
    " \n",
    "    latitude = latitude/area\n",
    "    longtitude = longtitude/area\n",
    " \n",
    "    return longtitude, latitude"
   ]
  },
  {
   "cell_type": "code",
   "execution_count": 3,
   "id": "ed309c43",
   "metadata": {},
   "outputs": [],
   "source": [
    "def get_each_park_geo(shapes):\n",
    "    \"\"\"\n",
    "    program: get each park longitude and latitude\n",
    "    para: coordinates list\n",
    "    \"\"\"\n",
    "    coordinates = []\n",
    "    for i in range(len(shapes)):\n",
    "        coordinates.append(get_centerpoint(shapes[i].points))\n",
    "    return coordinates\n",
    "park_c = get_each_park_geo(shapes)"
   ]
  },
  {
   "cell_type": "code",
   "execution_count": 4,
   "id": "47076b4b",
   "metadata": {},
   "outputs": [],
   "source": [
    "def cal_distance(coordinates, client):\n",
    "    \"\"\"\n",
    "    function: calculate coordinates' distance\n",
    "    param datas : durations, distances\n",
    "    \"\"\"\n",
    "    matrix = client.distance_matrix(\n",
    "    locations=coordinates,\n",
    "    profile='driving-car',\n",
    "    metrics=['distance', 'duration'],\n",
    "    validate=False,\n",
    "    )\n",
    "    time.sleep(2.5)\n",
    "    return matrix['durations'], matrix['distances']\n",
    "# the unit of distance is m, the unit of durations is seconds"
   ]
  },
  {
   "cell_type": "code",
   "execution_count": 78,
   "id": "df3ea184",
   "metadata": {},
   "outputs": [],
   "source": [
    "def get_summary(rent, park_c):\n",
    "    \"\"\"\n",
    "    function: Get a list of each rent and the trains closest to the rent\n",
    "    paras: summary(list)\n",
    "    \"\"\"\n",
    "    r_coor = []\n",
    "    summary = []\n",
    "    for i in range(len(rent)):\n",
    "        r_coor.append([rent[\"longitude\"][i], rent[\"latitude\"][i]])\n",
    "    for k in range(len(r_coor)):\n",
    "        coor = []\n",
    "        coor.append(r_coor[k])\n",
    "        for m in range(len(park_c)):\n",
    "            if ((park_c[m][0]-0.05) <= r_coor[k][0] <= (park_c[m][0] + 0.05)) & ((park_c[m][1]-0.05) <= r_coor[k][1] <= (park_c[m][1] + 0.05)):\n",
    "                coor.append(park_c[m])\n",
    "                # Due to the limitation of openroute, a calculation can only contain up to 59 data, so it needs to be further reduced\n",
    "                if len(coor) >= 59:\n",
    "                    new_coor =[coor[0]]\n",
    "                    for n in range(1,len(coor)):\n",
    "                        if ((coor[n][0]-0.03) <= coor[0][0] <= (coor[n][0] + 0.03)) & ((coor[n][1]-0.03) <= coor[0][1] <= (coor[n][1] + 0.03)):\n",
    "                            new_coor.append(coor[n])\n",
    "                    coor = new_coor\n",
    "        summary.append(coor)\n",
    "    return summary"
   ]
  },
  {
   "cell_type": "code",
   "execution_count": 6,
   "id": "518a15b2",
   "metadata": {},
   "outputs": [],
   "source": [
    "park_name = []\n",
    "for i in range(len(records)):\n",
    "    park_name.append(records[i][1])"
   ]
  },
  {
   "cell_type": "code",
   "execution_count": 7,
   "id": "ea00e4d6",
   "metadata": {},
   "outputs": [],
   "source": [
    "# get a dataframe to convenient later calculate\n",
    "park_df = pd.DataFrame(columns = ['park_name', 'coordinates'])\n",
    "park_df['coordinates'] = park_c\n",
    "park_df['park_name'] = park_name"
   ]
  },
  {
   "cell_type": "code",
   "execution_count": 8,
   "id": "d1c5b104",
   "metadata": {},
   "outputs": [],
   "source": [
    "def get_coordinates(rent, park_c):\n",
    "    \"\"\"\n",
    "    function: Find the nearest park to rent \n",
    "    param datas : rent_address, park_name, min_distance, min_duration\n",
    "    \"\"\"\n",
    "    rent_address = []\n",
    "    park_name = []\n",
    "    min_distance = []\n",
    "    min_duration = []\n",
    "    summary = get_summary(rent, park_c)\n",
    "    new_sum = []\n",
    "    for l in range(len(summary)):\n",
    "        if len(summary[l]) != 1:\n",
    "            new_sum.append(summary[l])\n",
    "        else:\n",
    "            rent_address.append(rent['listingSlug'][l])\n",
    "            park_name.append(\"NULL\")\n",
    "            min_distance.append(\"NULL\")\n",
    "            min_duration.append(\"NULL\")\n",
    "    for i in range(len(new_sum)):\n",
    "        distances = []\n",
    "        durations = []\n",
    "        matrix = cal_distance(new_sum[i], client)\n",
    "        distances = distances + matrix[1][0][1:]\n",
    "        durations = durations + matrix[0][0][1:]\n",
    "        index = distances.index(min(distances))\n",
    "        rent_address.append(rent['listingSlug'][summary.index(new_sum[i])])\n",
    "        park_index = park_df[park_df['coordinates'] == new_sum[i][index+1]].index.tolist()[0]\n",
    "        park_name.append(park_df['park_name'][park_index])\n",
    "        min_distance.append(distances[index])\n",
    "        min_duration.append(durations[index])\n",
    "    return rent_address, park_name, min_distance, min_duration"
   ]
  },
  {
   "cell_type": "code",
   "execution_count": 81,
   "id": "839ef6a1",
   "metadata": {},
   "outputs": [],
   "source": [
    "# -- coding: utf-8 --\n",
    "def data_frame(rent, park):\n",
    "    \"\"\"\n",
    "    function: put the required columns into a dataframe\n",
    "    param datas: dataframe\n",
    "    \"\"\"\n",
    "    #get dataframe\n",
    "    data = {'rent_address': get_coordinates(rent, park_c)[0], 'stop_name': get_coordinates(rent, park_c)[1], 'min_distance': get_coordinates(rent, park_c)[2], 'min_duration': get_coordinates(rent, park_c)[3]}\n",
    "    df = DataFrame(data)\n",
    "    return df\n",
    "\n",
    "df = data_frame(rent, park)\n",
    "df.to_csv(\"/home/ads/generic-real-estate-consulting-project-group-55/data/raw/park distance and duration/park_distances_durations(12).csv\", index=False)"
   ]
  },
  {
   "cell_type": "code",
   "execution_count": 82,
   "id": "7c64aeb8",
   "metadata": {},
   "outputs": [],
   "source": [
    "# merge data\n",
    "old = pd.read_csv(\"/home/ads/generic-real-estate-consulting-project-group-55/data/raw/park distance and duration/park_distances_durations(0).csv\", index_col=0)\n",
    "new = pd.read_csv(\"/home/ads/generic-real-estate-consulting-project-group-55/data/raw/park distance and duration/park_distances_durations(1).csv\", index_col=0)"
   ]
  },
  {
   "cell_type": "code",
   "execution_count": 83,
   "id": "a928df28",
   "metadata": {},
   "outputs": [],
   "source": [
    "renew = pd.concat([old, new])\n",
    "new2 = pd.read_csv(\"/home/ads/generic-real-estate-consulting-project-group-55/data/raw/park distance and duration/park_distances_durations(2).csv\", index_col=0)\n",
    "renew2 = pd.concat([renew, new2])\n",
    "new3 = pd.read_csv(\"/home/ads/generic-real-estate-consulting-project-group-55/data/raw/park distance and duration/park_distances_durations(3).csv\", index_col=0)\n",
    "renew3 = pd.concat([renew2, new3])\n",
    "new4 = pd.read_csv(\"/home/ads/generic-real-estate-consulting-project-group-55/data/raw/park distance and duration/park_distances_durations(4).csv\", index_col=0)\n",
    "renew4 = pd.concat([renew3, new4])\n",
    "new5 = pd.read_csv(\"/home/ads/generic-real-estate-consulting-project-group-55/data/raw/park distance and duration/park_distances_durations(5).csv\", index_col=0)\n",
    "renew5 = pd.concat([renew4, new5])\n",
    "new6 = pd.read_csv(\"/home/ads/generic-real-estate-consulting-project-group-55/data/raw/park distance and duration/park_distances_durations(6).csv\", index_col=0)\n",
    "renew6 = pd.concat([renew5, new6])\n",
    "new7 = pd.read_csv(\"/home/ads/generic-real-estate-consulting-project-group-55/data/raw/park distance and duration/park_distances_durations(7).csv\", index_col=0)\n",
    "renew7 = pd.concat([renew6, new7])\n",
    "new8 = pd.read_csv(\"/home/ads/generic-real-estate-consulting-project-group-55/data/raw/park distance and duration/park_distances_durations(8).csv\", index_col=0)\n",
    "renew8 = pd.concat([renew7, new8])\n",
    "new9 = pd.read_csv(\"/home/ads/generic-real-estate-consulting-project-group-55/data/raw/park distance and duration/park_distances_durations(9).csv\", index_col=0)\n",
    "renew9 = pd.concat([renew8, new9])\n",
    "new10 = pd.read_csv(\"/home/ads/generic-real-estate-consulting-project-group-55/data/raw/park distance and duration/park_distances_durations(10).csv\", index_col=0)\n",
    "renew10 = pd.concat([renew9, new10])\n",
    "new11 = pd.read_csv(\"/home/ads/generic-real-estate-consulting-project-group-55/data/raw/park distance and duration/park_distances_durations(11).csv\", index_col=0)\n",
    "renew11 = pd.concat([renew10, new11])\n",
    "new12 = pd.read_csv(\"/home/ads/generic-real-estate-consulting-project-group-55/data/raw/park distance and duration/park_distances_durations(12).csv\", index_col=0)\n",
    "renew12 = pd.concat([renew11, new12]).reset_index()"
   ]
  },
  {
   "cell_type": "code",
   "execution_count": 87,
   "id": "202a126e",
   "metadata": {},
   "outputs": [],
   "source": [
    "renew12.to_csv(\"../data/curated/park_distances_durations(final).csv\")"
   ]
  }
 ],
 "metadata": {
  "kernelspec": {
   "display_name": "Python 3.8.10 64-bit",
   "language": "python",
   "name": "python3"
  },
  "language_info": {
   "codemirror_mode": {
    "name": "ipython",
    "version": 3
   },
   "file_extension": ".py",
   "mimetype": "text/x-python",
   "name": "python",
   "nbconvert_exporter": "python",
   "pygments_lexer": "ipython3",
   "version": "3.8.10"
  },
  "vscode": {
   "interpreter": {
    "hash": "916dbcbb3f70747c44a77c7bcd40155683ae19c65e1c03b4aa3499c5328201f1"
   }
  }
 },
 "nbformat": 4,
 "nbformat_minor": 5
}
